{
 "cells": [
  {
   "cell_type": "code",
   "execution_count": 41,
   "metadata": {},
   "outputs": [
    {
     "name": "stdout",
     "output_type": "stream",
     "text": [
      "Requirement already satisfied: pybktree in /anaconda3/lib/python3.7/site-packages (1.1)\r\n"
     ]
    }
   ],
   "source": [
    "!pip install pybktree"
   ]
  },
  {
   "cell_type": "code",
   "execution_count": 42,
   "metadata": {},
   "outputs": [
    {
     "name": "stdout",
     "output_type": "stream",
     "text": [
      "Requirement already satisfied: imagehash in /anaconda3/lib/python3.7/site-packages (4.1.0)\r\n",
      "Requirement already satisfied: six in /anaconda3/lib/python3.7/site-packages (from imagehash) (1.12.0)\r\n",
      "Requirement already satisfied: PyWavelets in /anaconda3/lib/python3.7/site-packages (from imagehash) (1.0.3)\r\n",
      "Requirement already satisfied: numpy in /anaconda3/lib/python3.7/site-packages (from imagehash) (1.16.4)\r\n",
      "Requirement already satisfied: pillow in /anaconda3/lib/python3.7/site-packages (from imagehash) (6.1.0)\r\n",
      "Requirement already satisfied: scipy in /anaconda3/lib/python3.7/site-packages (from imagehash) (1.3.0)\r\n"
     ]
    }
   ],
   "source": [
    "!pip install imagehash"
   ]
  },
  {
   "cell_type": "code",
   "execution_count": 44,
   "metadata": {},
   "outputs": [],
   "source": [
    "import glob\n",
    "from PIL import Image\n",
    "import imagehash\n",
    "import collections\n",
    "import pybktree"
   ]
  },
  {
   "cell_type": "code",
   "execution_count": 45,
   "metadata": {},
   "outputs": [],
   "source": [
    "hash_dict = {}\n",
    "def signed_int(h):\n",
    "    x = int(h, 16)\n",
    "    if x > 0x7FFFFFFFFFFFFFFF:\n",
    "        x -= 0x10000000000000000\n",
    "    return x\n",
    "\n",
    "for imgName in glob.glob('TrainImages/*.jpg'):\n",
    "    hash_dict[imgName.split('.')[0]] = signed_int(str(imagehash.whash(Image.open(imgName))))"
   ]
  },
  {
   "cell_type": "code",
   "execution_count": 47,
   "metadata": {},
   "outputs": [
    {
     "name": "stdout",
     "output_type": "stream",
     "text": [
      "Image Name: TestImages/TestImg10.jpg\n",
      " Matched Images: \n",
      "\n",
      "\n",
      "Image Name: TestImages/TestImg6.jpg\n",
      " Matched Images: \n",
      "\n",
      "\n",
      "Image Name: TestImages/TestImg7.jpg\n",
      " Matched Images: \n",
      "Item(bits=-19148888231910912, id='TrainImages/TestImg2')\n",
      ", \n",
      "\n",
      "\n",
      "Image Name: TestImages/TestImg8.jpg\n",
      " Matched Images: \n",
      "\n",
      "\n",
      "Image Name: TestImages/TsetImg9.jpg\n",
      " Matched Images: \n",
      "Item(bits=6358023004353412376, id='TrainImages/TestImg3')\n",
      ", \n",
      "\n",
      "\n"
     ]
    }
   ],
   "source": [
    "Item = collections.namedtuple('Item', 'bits id')\n",
    "def image_distance(img1, img2):\n",
    "    return pybktree.hamming_distance(img1.bits, img2.bits)\n",
    "\n",
    "imgBkTree = pybktree.BKTree(image_distance, [])\n",
    "for imgKey in list(hash_dict.keys()):\n",
    "    imgBkTree.add(Item(hash_dict[imgKey], imgKey))\n",
    "\n",
    "for findImgName in glob.glob('TestImages/*.jpg'):\n",
    "    findHash = signed_int(str(imagehash.whash(Image.open(findImgName))))\n",
    "    matchesLst = imgBkTree.find(Item(findHash, findImgName.split('.')[0]), 20)\n",
    "    print(\"Image Name:\", findImgName)\n",
    "    print(\" Matched Images: \")\n",
    "    for imgItem in matchesLst:\n",
    "        print(imgItem[1])\n",
    "        print(\", \")\n",
    "    print(\"\\n\")"
   ]
  },
  {
   "cell_type": "code",
   "execution_count": null,
   "metadata": {},
   "outputs": [],
   "source": []
  }
 ],
 "metadata": {
  "kernelspec": {
   "display_name": "Python 3",
   "language": "python",
   "name": "python3"
  },
  "language_info": {
   "codemirror_mode": {
    "name": "ipython",
    "version": 3
   },
   "file_extension": ".py",
   "mimetype": "text/x-python",
   "name": "python",
   "nbconvert_exporter": "python",
   "pygments_lexer": "ipython3",
   "version": "3.7.3"
  }
 },
 "nbformat": 4,
 "nbformat_minor": 2
}
