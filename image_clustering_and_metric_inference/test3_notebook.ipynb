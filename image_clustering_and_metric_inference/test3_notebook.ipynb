{
 "metadata": {
  "language_info": {
   "codemirror_mode": {
    "name": "ipython",
    "version": 3
   },
   "file_extension": ".py",
   "mimetype": "text/x-python",
   "name": "python",
   "nbconvert_exporter": "python",
   "pygments_lexer": "ipython3",
   "version": "3.7.6-final"
  },
  "orig_nbformat": 2,
  "kernelspec": {
   "name": "python3",
   "display_name": "Python 3"
  }
 },
 "nbformat": 4,
 "nbformat_minor": 2,
 "cells": [
  {
   "cell_type": "code",
   "execution_count": 1,
   "metadata": {},
   "outputs": [],
   "source": [
    "from PIL import Image\n",
    "import imagehash\n",
    "import os\n",
    "import uuid"
   ]
  },
  {
   "source": [
    "---\n",
    "# Setup and Search\n",
    "\n",
    "This portion imports the images from the directory into a dictionary, which in turn maps an image name to a tuple of hashes. \n",
    "\n",
    "Then, it compares each image to every other image in the dictionary, and searches for images which result in a nonlinear hash difference below the specified threshold D. "
   ],
   "cell_type": "markdown",
   "metadata": {}
  },
  {
   "cell_type": "code",
   "execution_count": 9,
   "metadata": {},
   "outputs": [],
   "source": [
    "\n",
    "def is_image(filename):\n",
    "    f = filename.lower()\n",
    "    return f.endswith(\".png\") or f.endswith(\".jpg\") or \\\n",
    "        f.endswith(\".jpeg\") or f.endswith(\".bmp\") or \\\n",
    "        f.endswith(\".gif\") or '.jpg' in f or  f.endswith(\".svg\")\n",
    "\n",
    "path = r\"C:\\Users\\xiao\\Desktop\\phash\\french museum\"\n",
    "hash_dict = {\n",
    "    img.split(path)[0] : (imagehash.whash(Image.open(img), 16), imagehash.colorhash(Image.open(img)))\n",
    "    for img in os.listdir('.') if is_image(img)\n",
    "}"
   ]
  },
  {
   "cell_type": "code",
   "execution_count": null,
   "metadata": {},
   "outputs": [],
   "source": [
    "# Constants\n",
    "D = 3\n",
    "cons = 3 / (6 ** 0.5)\n",
    "total_close = 0\n",
    "min_coords_list = []\n",
    "\n",
    "for h1 in hash_dict:\n",
    "    for h2 in hash_dict:\n",
    "        if not h1 == h2 and not (h2 , h1) in min_coords_list:\n",
    "            whash_diff = 2 * ((hash_dict[h1][0] - hash_dict[h2][0]) ** 2)\n",
    "            colorhash_diff = cons * ((hash_dict[h1][1] - hash_dict[h2][1]) ** 0.5)\n",
    "            if (whash_diff + colorhash_diff < D):\n",
    "                min_coords_list.append((h1, h2))\n",
    "                total_close += 1"
   ]
  },
  {
   "cell_type": "code",
   "execution_count": null,
   "metadata": {},
   "outputs": [],
   "source": [
    "print(min_coords_list)\n",
    "print(total_close)"
   ]
  },
  {
   "source": [
    "---\n",
    "# Testing \n"
   ],
   "cell_type": "markdown",
   "metadata": {}
  },
  {
   "cell_type": "code",
   "execution_count": 11,
   "metadata": {},
   "outputs": [
    {
     "output_type": "stream",
     "name": "stdout",
     "text": [
      "14\n30\n"
     ]
    }
   ],
   "source": [
    "\n",
    "first = Image.open(\"lpdp_80007-11.jpg\")\n",
    "second = Image.open(\"lpdp_46998-2.jpg\")\n",
    "third = Image.open(\"lpdp_80007-12.jpg\")\n",
    "\n",
    "print(imagehash.phash(first) - imagehash.phash(third))\n",
    "print(imagehash.phash(first) - imagehash.phash(second))"
   ]
  },
  {
   "cell_type": "code",
   "execution_count": null,
   "metadata": {},
   "outputs": [],
   "source": []
  }
 ]
}