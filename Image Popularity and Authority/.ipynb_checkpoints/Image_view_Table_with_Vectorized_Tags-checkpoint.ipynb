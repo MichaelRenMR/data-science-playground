{
 "cells": [
  {
   "cell_type": "markdown",
   "metadata": {
    "id": "AxFkRxiLG_bo"
   },
   "source": [
    "# Setup"
   ]
  },
  {
   "cell_type": "code",
   "execution_count": 1,
   "metadata": {
    "id": "c2BiNXle5zFe"
   },
   "outputs": [],
   "source": [
    "import pandas as pd\n",
    "import numpy as np"
   ]
  },
  {
   "cell_type": "markdown",
   "metadata": {
    "id": "pl5oTzHP5zFj"
   },
   "source": [
    "I realize the following algorithm has great space to be improved and be more elegant by using some consice operations. So please feel free to edit it. "
   ]
  },
  {
   "cell_type": "markdown",
   "metadata": {
    "id": "J8EVmvbl5zFk"
   },
   "source": [
    "# Load Image View Table"
   ]
  },
  {
   "cell_type": "code",
   "execution_count": 2,
   "metadata": {
    "colab": {
     "base_uri": "https://localhost:8080/"
    },
    "id": "8cnzpDyG5zFl",
    "outputId": "1618c9bd-8e1b-4eef-8c1b-3b4d86c81743"
   },
   "outputs": [
    {
     "data": {
      "text/html": [
       "<div>\n",
       "<style scoped>\n",
       "    .dataframe tbody tr th:only-of-type {\n",
       "        vertical-align: middle;\n",
       "    }\n",
       "\n",
       "    .dataframe tbody tr th {\n",
       "        vertical-align: top;\n",
       "    }\n",
       "\n",
       "    .dataframe thead th {\n",
       "        text-align: right;\n",
       "    }\n",
       "</style>\n",
       "<table border=\"1\" class=\"dataframe\">\n",
       "  <thead>\n",
       "    <tr style=\"text-align: right;\">\n",
       "      <th></th>\n",
       "      <th>identifier</th>\n",
       "      <th>provider</th>\n",
       "      <th>title</th>\n",
       "      <th>meta_data</th>\n",
       "      <th>tags</th>\n",
       "      <th>standardized_popularity</th>\n",
       "    </tr>\n",
       "  </thead>\n",
       "  <tbody>\n",
       "    <tr>\n",
       "      <td>0</td>\n",
       "      <td>0000d3d2-f84e-4a36-8b19-054f9a9a6435</td>\n",
       "      <td>flickr</td>\n",
       "      <td>OKScotland - 13th May 2010</td>\n",
       "      <td>{\"views\": \"0\", \"pub_date\": \"1273786159\", \"date...</td>\n",
       "      <td>[{\"name\": \"okscotland\", \"provider\": \"flickr\"}]</td>\n",
       "      <td>0.0</td>\n",
       "    </tr>\n",
       "    <tr>\n",
       "      <td>1</td>\n",
       "      <td>00008a09-c647-401c-942b-a6aeeeb80133</td>\n",
       "      <td>behance</td>\n",
       "      <td>Mikel Lovina Sportsfest 2013</td>\n",
       "      <td>{\"set\": \"https://www.behance.net/gallery/11169...</td>\n",
       "      <td>[{\"name\": \"sportsfest\", \"provider\": \"behance\"}...</td>\n",
       "      <td>NaN</td>\n",
       "    </tr>\n",
       "    <tr>\n",
       "      <td>2</td>\n",
       "      <td>000060a3-2a1e-4b61-9446-a6e71fdbddaa</td>\n",
       "      <td>behance</td>\n",
       "      <td>Sports, video-editing, motion graphics and ani...</td>\n",
       "      <td>{\"set\": \"https://www.behance.net/gallery/99524...</td>\n",
       "      <td>[{\"name\": \"agency\", \"provider\": \"behance\"}, {\"...</td>\n",
       "      <td>NaN</td>\n",
       "    </tr>\n",
       "    <tr>\n",
       "      <td>3</td>\n",
       "      <td>00003203-eaaf-49ee-a417-7fe5f1356a54</td>\n",
       "      <td>behance</td>\n",
       "      <td>in summer sunlight</td>\n",
       "      <td>{\"set\": \"https://www.behance.net/gallery/97320...</td>\n",
       "      <td>[{\"name\": \"Nature\", \"provider\": \"behance\"}, {\"...</td>\n",
       "      <td>NaN</td>\n",
       "    </tr>\n",
       "    <tr>\n",
       "      <td>4</td>\n",
       "      <td>0000402f-a571-4607-9f6a-5e818fec3edd</td>\n",
       "      <td>behance</td>\n",
       "      <td>Drawings</td>\n",
       "      <td>{\"set\": \"https://www.behance.net/gallery/36764...</td>\n",
       "      <td>[{\"name\": \"handmade\", \"provider\": \"behance\"}, ...</td>\n",
       "      <td>NaN</td>\n",
       "    </tr>\n",
       "  </tbody>\n",
       "</table>\n",
       "</div>"
      ],
      "text/plain": [
       "                             identifier provider  \\\n",
       "0  0000d3d2-f84e-4a36-8b19-054f9a9a6435   flickr   \n",
       "1  00008a09-c647-401c-942b-a6aeeeb80133  behance   \n",
       "2  000060a3-2a1e-4b61-9446-a6e71fdbddaa  behance   \n",
       "3  00003203-eaaf-49ee-a417-7fe5f1356a54  behance   \n",
       "4  0000402f-a571-4607-9f6a-5e818fec3edd  behance   \n",
       "\n",
       "                                               title  \\\n",
       "0                         OKScotland - 13th May 2010   \n",
       "1                       Mikel Lovina Sportsfest 2013   \n",
       "2  Sports, video-editing, motion graphics and ani...   \n",
       "3                                 in summer sunlight   \n",
       "4                                           Drawings   \n",
       "\n",
       "                                           meta_data  \\\n",
       "0  {\"views\": \"0\", \"pub_date\": \"1273786159\", \"date...   \n",
       "1  {\"set\": \"https://www.behance.net/gallery/11169...   \n",
       "2  {\"set\": \"https://www.behance.net/gallery/99524...   \n",
       "3  {\"set\": \"https://www.behance.net/gallery/97320...   \n",
       "4  {\"set\": \"https://www.behance.net/gallery/36764...   \n",
       "\n",
       "                                                tags  standardized_popularity  \n",
       "0     [{\"name\": \"okscotland\", \"provider\": \"flickr\"}]                      0.0  \n",
       "1  [{\"name\": \"sportsfest\", \"provider\": \"behance\"}...                      NaN  \n",
       "2  [{\"name\": \"agency\", \"provider\": \"behance\"}, {\"...                      NaN  \n",
       "3  [{\"name\": \"Nature\", \"provider\": \"behance\"}, {\"...                      NaN  \n",
       "4  [{\"name\": \"handmade\", \"provider\": \"behance\"}, ...                      NaN  "
      ]
     },
     "execution_count": 2,
     "metadata": {},
     "output_type": "execute_result"
    }
   ],
   "source": [
    "image_view = pd.read_csv(\"image view.txt\", delimiter=\"\\t\", names=[\"identifier\", \"provider\", \"title\", \"meta_data\", \"tags\", \"standardized_popularity\"])\n",
    "image_view.head()"
   ]
  },
  {
   "cell_type": "markdown",
   "metadata": {
    "id": "W6nMh8ly5zFp"
   },
   "source": [
    "# Extract JSON objects"
   ]
  },
  {
   "cell_type": "markdown",
   "metadata": {
    "id": "bSaoD4Rq5zFp"
   },
   "source": [
    "First examine how many different keys we have in tags:"
   ]
  },
  {
   "cell_type": "code",
   "execution_count": 3,
   "metadata": {
    "colab": {
     "base_uri": "https://localhost:8080/"
    },
    "id": "8EsoH2Ep5zFq",
    "outputId": "3aa4abb8-c8b8-451e-d341-a0954c7dd61d"
   },
   "outputs": [
    {
     "data": {
      "text/plain": [
       "0          [{\"name\": \"okscotland\", \"provider\": \"flickr\"}]\n",
       "1       [{\"name\": \"sportsfest\", \"provider\": \"behance\"}...\n",
       "2       [{\"name\": \"agency\", \"provider\": \"behance\"}, {\"...\n",
       "3       [{\"name\": \"Nature\", \"provider\": \"behance\"}, {\"...\n",
       "4       [{\"name\": \"handmade\", \"provider\": \"behance\"}, ...\n",
       "                              ...                        \n",
       "4324    [{\"name\": \"on\", \"provider\": \"flickr\"}, {\"name\"...\n",
       "4325    [{\"name\": \"1018\", \"provider\": \"flickr\"}, {\"nam...\n",
       "4326    [{\"name\": \"2019\", \"provider\": \"flickr\"}, {\"nam...\n",
       "4327    [{\"name\": \"allsoulschurch\", \"provider\": \"flick...\n",
       "4328             [{\"name\": \"2019\", \"provider\": \"flickr\"}]\n",
       "Name: tags, Length: 4329, dtype: object"
      ]
     },
     "execution_count": 3,
     "metadata": {},
     "output_type": "execute_result"
    }
   ],
   "source": [
    "tags = image_view[\"tags\"]\n",
    "tags"
   ]
  },
  {
   "cell_type": "code",
   "execution_count": 4,
   "metadata": {
    "id": "Bce-K2P25zFt"
   },
   "outputs": [],
   "source": [
    "diff_tags_keys = []"
   ]
  },
  {
   "cell_type": "code",
   "execution_count": 5,
   "metadata": {
    "id": "iJSeosax5zFv"
   },
   "outputs": [],
   "source": [
    "def find_diff_json_keys(lst):\n",
    "    for n in pd.read_json(lst).columns:\n",
    "        if n not in diff_tags_keys:\n",
    "            diff_tags_keys.append(n)"
   ]
  },
  {
   "cell_type": "code",
   "execution_count": 6,
   "metadata": {
    "colab": {
     "base_uri": "https://localhost:8080/"
    },
    "id": "7icxIFUI5zFx",
    "outputId": "5e33b704-ea36-47a8-bd80-c29fd27891b8"
   },
   "outputs": [
    {
     "data": {
      "text/plain": [
       "['name', 'provider', 'accuracy']"
      ]
     },
     "execution_count": 6,
     "metadata": {},
     "output_type": "execute_result"
    }
   ],
   "source": [
    "tags.apply(find_diff_json_keys)\n",
    "diff_tags_keys"
   ]
  },
  {
   "cell_type": "markdown",
   "metadata": {
    "id": "oW3-swU75zF1"
   },
   "source": [
    "Since we have already had a provider column, we will only extract name and accuracy from tags."
   ]
  },
  {
   "cell_type": "code",
   "execution_count": 7,
   "metadata": {
    "id": "rFbwferu5zF2"
   },
   "outputs": [],
   "source": [
    "def tags_extract(lst):\n",
    "    \n",
    "    json_tbl = pd.read_json(lst)\n",
    "    if \"name\" in json_tbl.columns:\n",
    "        name_lst = list(json_tbl[\"name\"])\n",
    "        name_col.append(name_lst)\n",
    "    else:\n",
    "        name_col.append(None)\n",
    "        \n",
    "    if \"accuracy\" in json_tbl.columns:\n",
    "        accuracy_lst = list(json_tbl[\"accuracy\"])\n",
    "        accuracy_col.append(accuracy_lst)\n",
    "    else:\n",
    "        accuracy_col.append(None)\n",
    "    "
   ]
  },
  {
   "cell_type": "code",
   "execution_count": 8,
   "metadata": {
    "colab": {
     "base_uri": "https://localhost:8080/"
    },
    "id": "ahTofhYQ5zF4",
    "outputId": "b8ff9d56-05d6-4b89-c1ab-4c325f0f87b9"
   },
   "outputs": [
    {
     "data": {
      "text/html": [
       "<div>\n",
       "<style scoped>\n",
       "    .dataframe tbody tr th:only-of-type {\n",
       "        vertical-align: middle;\n",
       "    }\n",
       "\n",
       "    .dataframe tbody tr th {\n",
       "        vertical-align: top;\n",
       "    }\n",
       "\n",
       "    .dataframe thead th {\n",
       "        text-align: right;\n",
       "    }\n",
       "</style>\n",
       "<table border=\"1\" class=\"dataframe\">\n",
       "  <thead>\n",
       "    <tr style=\"text-align: right;\">\n",
       "      <th></th>\n",
       "      <th>identifier</th>\n",
       "      <th>provider</th>\n",
       "      <th>title</th>\n",
       "      <th>meta_data</th>\n",
       "      <th>tags</th>\n",
       "      <th>standardized_popularity</th>\n",
       "      <th>name</th>\n",
       "      <th>accuracy</th>\n",
       "    </tr>\n",
       "  </thead>\n",
       "  <tbody>\n",
       "    <tr>\n",
       "      <td>0</td>\n",
       "      <td>0000d3d2-f84e-4a36-8b19-054f9a9a6435</td>\n",
       "      <td>flickr</td>\n",
       "      <td>OKScotland - 13th May 2010</td>\n",
       "      <td>{\"views\": \"0\", \"pub_date\": \"1273786159\", \"date...</td>\n",
       "      <td>[{\"name\": \"okscotland\", \"provider\": \"flickr\"}]</td>\n",
       "      <td>0.000000</td>\n",
       "      <td>[okscotland]</td>\n",
       "      <td>None</td>\n",
       "    </tr>\n",
       "    <tr>\n",
       "      <td>1</td>\n",
       "      <td>00008a09-c647-401c-942b-a6aeeeb80133</td>\n",
       "      <td>behance</td>\n",
       "      <td>Mikel Lovina Sportsfest 2013</td>\n",
       "      <td>{\"set\": \"https://www.behance.net/gallery/11169...</td>\n",
       "      <td>[{\"name\": \"sportsfest\", \"provider\": \"behance\"}...</td>\n",
       "      <td>NaN</td>\n",
       "      <td>[sportsfest, shirt, isolated, sleeve, casual, ...</td>\n",
       "      <td>[nan, 0.9973600000000001, 0.9889200000000001, ...</td>\n",
       "    </tr>\n",
       "    <tr>\n",
       "      <td>2</td>\n",
       "      <td>000060a3-2a1e-4b61-9446-a6e71fdbddaa</td>\n",
       "      <td>behance</td>\n",
       "      <td>Sports, video-editing, motion graphics and ani...</td>\n",
       "      <td>{\"set\": \"https://www.behance.net/gallery/99524...</td>\n",
       "      <td>[{\"name\": \"agency\", \"provider\": \"behance\"}, {\"...</td>\n",
       "      <td>NaN</td>\n",
       "      <td>[agency, catalogues, brochures, graphics, cost...</td>\n",
       "      <td>[nan, nan, nan, nan, nan, nan, nan, nan, nan, ...</td>\n",
       "    </tr>\n",
       "    <tr>\n",
       "      <td>3</td>\n",
       "      <td>00003203-eaaf-49ee-a417-7fe5f1356a54</td>\n",
       "      <td>behance</td>\n",
       "      <td>in summer sunlight</td>\n",
       "      <td>{\"set\": \"https://www.behance.net/gallery/97320...</td>\n",
       "      <td>[{\"name\": \"Nature\", \"provider\": \"behance\"}, {\"...</td>\n",
       "      <td>NaN</td>\n",
       "      <td>[Nature, olive grove, Tuscany, sunlight, Lands...</td>\n",
       "      <td>[nan, nan, nan, nan, nan, nan, nan, nan, nan, ...</td>\n",
       "    </tr>\n",
       "    <tr>\n",
       "      <td>4</td>\n",
       "      <td>0000402f-a571-4607-9f6a-5e818fec3edd</td>\n",
       "      <td>behance</td>\n",
       "      <td>Drawings</td>\n",
       "      <td>{\"set\": \"https://www.behance.net/gallery/36764...</td>\n",
       "      <td>[{\"name\": \"handmade\", \"provider\": \"behance\"}, ...</td>\n",
       "      <td>NaN</td>\n",
       "      <td>[handmade, creative, +Drawing+, black, art, fa...</td>\n",
       "      <td>None</td>\n",
       "    </tr>\n",
       "    <tr>\n",
       "      <td>...</td>\n",
       "      <td>...</td>\n",
       "      <td>...</td>\n",
       "      <td>...</td>\n",
       "      <td>...</td>\n",
       "      <td>...</td>\n",
       "      <td>...</td>\n",
       "      <td>...</td>\n",
       "      <td>...</td>\n",
       "    </tr>\n",
       "    <tr>\n",
       "      <td>4324</td>\n",
       "      <td>00005f45-402f-4cd5-93ae-789f65462ec7</td>\n",
       "      <td>flickr</td>\n",
       "      <td>IMG_9884</td>\n",
       "      <td>{\"views\": \"0\", \"pub_date\": \"1571405226\", \"date...</td>\n",
       "      <td>[{\"name\": \"on\", \"provider\": \"flickr\"}, {\"name\"...</td>\n",
       "      <td>0.000000</td>\n",
       "      <td>[on, ontario, porthope, porthopeontario]</td>\n",
       "      <td>None</td>\n",
       "    </tr>\n",
       "    <tr>\n",
       "      <td>4325</td>\n",
       "      <td>0000387b-6c09-42a3-893f-12997e820f72</td>\n",
       "      <td>flickr</td>\n",
       "      <td>DSC02647</td>\n",
       "      <td>{\"views\": \"29\", \"pub_date\": \"1541607835\", \"dat...</td>\n",
       "      <td>[{\"name\": \"1018\", \"provider\": \"flickr\"}, {\"nam...</td>\n",
       "      <td>0.395666</td>\n",
       "      <td>[1018, 1018mm, a6300, alkjhgfds33, anita, chen...</td>\n",
       "      <td>None</td>\n",
       "    </tr>\n",
       "    <tr>\n",
       "      <td>4326</td>\n",
       "      <td>0000c695-7340-416b-9efc-188c83a82810</td>\n",
       "      <td>flickr</td>\n",
       "      <td>photo 1063 was taken at 10:38:29</td>\n",
       "      <td>{\"views\": \"71\", \"pub_date\": \"1574004547\", \"dat...</td>\n",
       "      <td>[{\"name\": \"2019\", \"provider\": \"flickr\"}, {\"nam...</td>\n",
       "      <td>0.615816</td>\n",
       "      <td>[2019, 595k, barrycornelius, oxonraces, radnag...</td>\n",
       "      <td>None</td>\n",
       "    </tr>\n",
       "    <tr>\n",
       "      <td>4327</td>\n",
       "      <td>000045ea-556a-42da-b7a1-7186637a6b6c</td>\n",
       "      <td>flickr</td>\n",
       "      <td>20091024-IMG_1285</td>\n",
       "      <td>{\"views\": \"72\", \"pub_date\": \"1256511956\", \"dat...</td>\n",
       "      <td>[{\"name\": \"allsoulschurch\", \"provider\": \"flick...</td>\n",
       "      <td>0.619120</td>\n",
       "      <td>[allsoulschurch, jenniferdorn, kenambrose, was...</td>\n",
       "      <td>None</td>\n",
       "    </tr>\n",
       "    <tr>\n",
       "      <td>4328</td>\n",
       "      <td>0000e658-2e32-4a98-917d-39fa483ea5ad</td>\n",
       "      <td>flickr</td>\n",
       "      <td>IMGP0970</td>\n",
       "      <td>{\"views\": \"16\", \"pub_date\": \"1567554741\", \"dat...</td>\n",
       "      <td>[{\"name\": \"2019\", \"provider\": \"flickr\"}]</td>\n",
       "      <td>0.265366</td>\n",
       "      <td>[2019]</td>\n",
       "      <td>None</td>\n",
       "    </tr>\n",
       "  </tbody>\n",
       "</table>\n",
       "<p>4329 rows × 8 columns</p>\n",
       "</div>"
      ],
      "text/plain": [
       "                                identifier provider  \\\n",
       "0     0000d3d2-f84e-4a36-8b19-054f9a9a6435   flickr   \n",
       "1     00008a09-c647-401c-942b-a6aeeeb80133  behance   \n",
       "2     000060a3-2a1e-4b61-9446-a6e71fdbddaa  behance   \n",
       "3     00003203-eaaf-49ee-a417-7fe5f1356a54  behance   \n",
       "4     0000402f-a571-4607-9f6a-5e818fec3edd  behance   \n",
       "...                                    ...      ...   \n",
       "4324  00005f45-402f-4cd5-93ae-789f65462ec7   flickr   \n",
       "4325  0000387b-6c09-42a3-893f-12997e820f72   flickr   \n",
       "4326  0000c695-7340-416b-9efc-188c83a82810   flickr   \n",
       "4327  000045ea-556a-42da-b7a1-7186637a6b6c   flickr   \n",
       "4328  0000e658-2e32-4a98-917d-39fa483ea5ad   flickr   \n",
       "\n",
       "                                                  title  \\\n",
       "0                            OKScotland - 13th May 2010   \n",
       "1                          Mikel Lovina Sportsfest 2013   \n",
       "2     Sports, video-editing, motion graphics and ani...   \n",
       "3                                    in summer sunlight   \n",
       "4                                              Drawings   \n",
       "...                                                 ...   \n",
       "4324                                           IMG_9884   \n",
       "4325                                           DSC02647   \n",
       "4326                   photo 1063 was taken at 10:38:29   \n",
       "4327                                  20091024-IMG_1285   \n",
       "4328                                           IMGP0970   \n",
       "\n",
       "                                              meta_data  \\\n",
       "0     {\"views\": \"0\", \"pub_date\": \"1273786159\", \"date...   \n",
       "1     {\"set\": \"https://www.behance.net/gallery/11169...   \n",
       "2     {\"set\": \"https://www.behance.net/gallery/99524...   \n",
       "3     {\"set\": \"https://www.behance.net/gallery/97320...   \n",
       "4     {\"set\": \"https://www.behance.net/gallery/36764...   \n",
       "...                                                 ...   \n",
       "4324  {\"views\": \"0\", \"pub_date\": \"1571405226\", \"date...   \n",
       "4325  {\"views\": \"29\", \"pub_date\": \"1541607835\", \"dat...   \n",
       "4326  {\"views\": \"71\", \"pub_date\": \"1574004547\", \"dat...   \n",
       "4327  {\"views\": \"72\", \"pub_date\": \"1256511956\", \"dat...   \n",
       "4328  {\"views\": \"16\", \"pub_date\": \"1567554741\", \"dat...   \n",
       "\n",
       "                                                   tags  \\\n",
       "0        [{\"name\": \"okscotland\", \"provider\": \"flickr\"}]   \n",
       "1     [{\"name\": \"sportsfest\", \"provider\": \"behance\"}...   \n",
       "2     [{\"name\": \"agency\", \"provider\": \"behance\"}, {\"...   \n",
       "3     [{\"name\": \"Nature\", \"provider\": \"behance\"}, {\"...   \n",
       "4     [{\"name\": \"handmade\", \"provider\": \"behance\"}, ...   \n",
       "...                                                 ...   \n",
       "4324  [{\"name\": \"on\", \"provider\": \"flickr\"}, {\"name\"...   \n",
       "4325  [{\"name\": \"1018\", \"provider\": \"flickr\"}, {\"nam...   \n",
       "4326  [{\"name\": \"2019\", \"provider\": \"flickr\"}, {\"nam...   \n",
       "4327  [{\"name\": \"allsoulschurch\", \"provider\": \"flick...   \n",
       "4328           [{\"name\": \"2019\", \"provider\": \"flickr\"}]   \n",
       "\n",
       "      standardized_popularity  \\\n",
       "0                    0.000000   \n",
       "1                         NaN   \n",
       "2                         NaN   \n",
       "3                         NaN   \n",
       "4                         NaN   \n",
       "...                       ...   \n",
       "4324                 0.000000   \n",
       "4325                 0.395666   \n",
       "4326                 0.615816   \n",
       "4327                 0.619120   \n",
       "4328                 0.265366   \n",
       "\n",
       "                                                   name  \\\n",
       "0                                          [okscotland]   \n",
       "1     [sportsfest, shirt, isolated, sleeve, casual, ...   \n",
       "2     [agency, catalogues, brochures, graphics, cost...   \n",
       "3     [Nature, olive grove, Tuscany, sunlight, Lands...   \n",
       "4     [handmade, creative, +Drawing+, black, art, fa...   \n",
       "...                                                 ...   \n",
       "4324           [on, ontario, porthope, porthopeontario]   \n",
       "4325  [1018, 1018mm, a6300, alkjhgfds33, anita, chen...   \n",
       "4326  [2019, 595k, barrycornelius, oxonraces, radnag...   \n",
       "4327  [allsoulschurch, jenniferdorn, kenambrose, was...   \n",
       "4328                                             [2019]   \n",
       "\n",
       "                                               accuracy  \n",
       "0                                                  None  \n",
       "1     [nan, 0.9973600000000001, 0.9889200000000001, ...  \n",
       "2     [nan, nan, nan, nan, nan, nan, nan, nan, nan, ...  \n",
       "3     [nan, nan, nan, nan, nan, nan, nan, nan, nan, ...  \n",
       "4                                                  None  \n",
       "...                                                 ...  \n",
       "4324                                               None  \n",
       "4325                                               None  \n",
       "4326                                               None  \n",
       "4327                                               None  \n",
       "4328                                               None  \n",
       "\n",
       "[4329 rows x 8 columns]"
      ]
     },
     "execution_count": 8,
     "metadata": {},
     "output_type": "execute_result"
    }
   ],
   "source": [
    "name_col = []\n",
    "accuracy_col = []\n",
    "tags.apply(tags_extract)\n",
    "image_view[\"name\"] = name_col\n",
    "image_view[\"accuracy\"] = accuracy_col\n",
    "image_view"
   ]
  },
  {
   "cell_type": "markdown",
   "metadata": {
    "id": "FjTrciI95zF7"
   },
   "source": [
    "As you may see in the accuracy column, we have None and nan. Generally, None happens when we have no accuracy data for the image. nan happens when a JSON object in the tags of the image has only name element and no accuracy element. I am not very clear with what accuracy really is. So I decide to leave it as this for now and not to do any imputation or null removal."
   ]
  },
  {
   "cell_type": "markdown",
   "metadata": {
    "id": "DqSdCdBd5zF8"
   },
   "source": [
    "The following code is try to print the first ith rows in a cleaner format"
   ]
  },
  {
   "cell_type": "code",
   "execution_count": 9,
   "metadata": {
    "colab": {
     "base_uri": "https://localhost:8080/"
    },
    "id": "_8mX5p_K5zF8",
    "outputId": "2b244660-37da-4846-f41e-6f86b88eb007"
   },
   "outputs": [
    {
     "name": "stdout",
     "output_type": "stream",
     "text": [
      "Row0 ['okscotland']\n",
      "\n",
      "\n",
      "Row1 ['sportsfest', 'shirt', 'isolated', 'sleeve', 'casual', 'fashion', 'illustration', 'cotton', 'wear', 'polo', 'design', 'vector', 'man', 'shop', 'apparel', 'template', 'garment', 'desktop', 'tee', 'shopping', 'no person']\n",
      "\n",
      "\n",
      "Row2 ['agency', 'catalogues', 'brochures', 'graphics', 'cost-effective', 'Sponsorship', 'screens', 'magazines', 'Leisure', 'Vehicle', 'cardiff', 'programmes', 'bridgend', 'large', 'monmouth', 'Agencies', 'consultancy', 'creative', 'video-editing', 'online', 'man', 'people', 'adult', 'desktop', 'person', 'business', 'young', 'portrait', 'one', 'woman', 'technology', 'isolated', 'face', 'girl', 'work', 'office', 'actor', 'human', 'beautiful', 'monochrome']\n",
      "\n",
      "\n",
      "Row3 ['Nature', 'olive grove', 'Tuscany', 'sunlight', 'Landscape', 'Evening', 'Italy', 'Wildflowers', 'Flowers', 'nature', 'flower', 'no person', 'summer', 'flora', 'leaf', 'outdoors', 'grass', 'sun', 'bright', 'rural', 'closeup', 'growth', 'fair weather', 'field', 'wild', 'garden', 'color', 'wood', 'season']\n",
      "\n",
      "\n",
      "Row4 ['handmade', 'creative', '+Drawing+', 'black', 'art', 'fancy', 'pencil', 'paper', 'graphite', 'lapiz', 'red', 'characters']\n",
      "\n",
      "\n",
      "Row5 ['timothy hunt']\n",
      "\n",
      "\n",
      "Row6 ['nature', 'woman', 'girl', 'fashion', 'model', 'sexy', 'beautiful', 'wood', 'tree', 'lady', 'outdoors', 'young', 'glamour', 'pretty', 'summer', 'hair', 'figure', 'people', 'desktop', 'portrait']\n",
      "\n",
      "\n",
      "Row7 ['logo', '3D', 'batman', 'QR Code', 'simple', 'symbol', 'illustration', 'image', 'vector', 'sign', 'business', 'design', 'shape', 'round', 'desktop', 'signalise', 'abstract', 'silhouette', 'light', 'dark', 'no person', 'competition', 'connection', 'control', 'achievement']\n",
      "\n",
      "\n",
      "Row8 ['adidas', 'mesh', 'material', 'shoes', 'color', 'footwear', 'summer', 'originals', 'forum mid', 'pattern', 'abstract', 'illustration', 'texture', 'design', 'seamless', 'wallpaper', 'art', 'floral', 'decoration', 'vector', 'flower', 'graphic', 'textile', 'scribble', 'retro', 'desktop', 'vintage', 'chalk out', 'paper']\n",
      "\n",
      "\n",
      "Row9 ['Ray Manta', 'danzayan', 'retouch', 'photomanipulation', 'atlantis', \"Danzay'Art\", 'creation', \"DZ'Art\", 'compositing']\n",
      "\n",
      "\n",
      "Row10 ['light', 'rainbow', 'no person', 'sun', 'sky', 'art', 'moon', 'fog', 'nature', 'sunset', 'bright', 'blur', 'light', 'dark', 'astronomy', 'insubstantial', 'landscape', 'spotlight', 'abstract', 'outdoors', 'fair weather']\n",
      "\n",
      "\n",
      "Row11 ['animacion', 'motion', 'modelado', 'cell anination', 'publicidad', 'desing']\n",
      "\n",
      "\n",
      "Row12 ['ilustracion', 'illustration', 'art', 'chalk out', 'print', 'painting', 'vintage', 'man', 'visuals', 'people', 'head', 'retro', 'symbol', 'old', 'design', 'face', 'graphic', 'artistic', 'portrait', 'woman', 'ancient']\n",
      "\n",
      "\n",
      "Row13 ['colors', 'woman', 'girl', 'purple', 'make-up', 'close-up', 'green', 'dark', 'music', 'desktop', 'people', 'illuminated', 'spotlight', 'no person', 'light', 'performance', 'danger', 'smoke', 'horizontal', 'shadow', 'conceptual', 'man', 'contemporary', 'business', 'indoors', 'art', 'silhouette']\n",
      "\n",
      "\n",
      "Row14 ['visual identity', 'marketing', 'stationary']\n",
      "\n",
      "\n",
      "Row15 ['mobile', 'banking', 'Bank', 'dashboard', 'Interface', 'PFM', 'finance', 'credit', 'UI', 'app', 'schredule', 'flat', 'template', 'ux', 'clean', 'template', 'navigation', 'World Wide Web', 'banner', 'menu (food)', 'stripe', 'page', 'layout', 'site', 'label', 'arrow', 'identity', 'internet', 'presentation', 'form', 'interface', 'login', 'no person', 'restaurant check', 'information']\n",
      "\n",
      "\n",
      "Row16 ['art t-shirts', 'Cool Shirts', 'ilya ioj tees', 'cool tees', 'ilya ioj', 'design tees', 't-shirts promo', 'art tees', 'rr t-shirts', 'citations tees', 'tees design', 't-shirts typeface', 'rr tees', 'Christmas', 'design', 'abstract', 'bright', 'symbol', 'illustration', 'shape', 'celebration', 'alphabet', 'art', 'color', 'image', 'shining', 'decoration', 'heart', 'desktop', 'love', 'typography', 'blur', 'party']\n",
      "\n",
      "\n",
      "Row17 ['woman', 'illustration', 'vector', 'people', 'sketch', 'man', 'no person', 'child', 'tree', 'graphic design', 'cute', 'nature', 'fun', 'winter', 'retro', 'Christmas', 'fashion', 'desktop', 'summer', 'adult']\n",
      "\n",
      "\n",
      "Row18 ['Layout', 'communication', 'modern', 'mini brochure', 'graphika', 'creative booklet', 'Catalogue', 'blue', 'Booklet', 'vintage style', 'design studio', 'creative', 'book', 'template', 'red', 'Brochure Template', 'dark', 'brochure', 'magazine', 'green', 'internet', 'business', 'no person', 'display', 'screen', 'computer', 'World Wide Web', 'information', 'education', 'facts', 'paper', 'laptop', 'technology', 'data', 'card', 'page', 'template', 'wood', 'diagram', 'table']\n",
      "\n",
      "\n",
      "Row19 ['fish', 'flower', 'Return', 'pen', 'illustration', 'art', 'desktop', 'nature', 'visuals', 'engraving', 'symbol', 'animal', 'old', 'retro', 'disjunct', 'etching', 'closeup', 'design', 'one', 'face', 'head', 'chalk out', 'vintage', 'monster']\n",
      "\n",
      "\n",
      "Row20 ['marvel', 'endgame', 'agency', 'official art', 'Marvel Studios', 'Poster Posse', 'Avengers', 'posters']\n",
      "\n",
      "\n",
      "Row21 ['nuclear', 'terminator', 'Game Art', 'atom bomb', 'art', 'hipoly', 'game', 'post apocalypse', 'harvester', 'lowpoly', 'robot', 'cyborg', 'android', 'futuristic', 'science', 'fiction', 'warrior', 'artificial', 'forthcoming', 'man', 'art', 'figure', 'illustration', 'character', 'show', 'weapon', 'people', 'machine', 'sculpture', 'gun']\n",
      "\n",
      "\n",
      "Row22 ['OBRA', 'yellow', 'Favio Posca', 'blue', 'tipografia', 'brush', 'painkiller', 'teatro', 'man', 'people', 'desktop', 'person', 'young', 'portrait', 'isolated', 'business', 'fashion', 'one', 'hair', 'adult', 'woman', 'fine-looking', 'face', 'fun', 'warning', 'paper', 'danger', 'hand']\n",
      "\n",
      "\n",
      "Row23 ['Audi', 'logo', 'q3', 'Experience', 'Porsche', 'corporate', 'identity', 'testdrive', 'no person', 'paper', 'template', 'banner', 'business', 'layout', 'graphic design', 'page', 'stripe', 'label', 'set', 'vector', 'World Wide Web', 'internet', 'facts', 'illustration', 'design', 'booklet', 'vectors', 'navigation']\n",
      "\n",
      "\n",
      "Row24 ['smoke', 'no person', 'monochrome', 'condensation', 'grinder', 'people', 'winter', 'vehicle', 'water', 'pollution', 'wind', 'landscape', 'energy', 'fog', 'art', 'calamity', 'travel', 'nature', 'steam', 'outdoors']\n",
      "\n",
      "\n",
      "Row25 ['kirplukstudio', 'pattern', 'wallpaper', 'konradkirpluk', 't-shirt', 'vector', 'digital', 'kirpluk', 'shaman', 'logo', 'desktop', 'illustration', 'design', 'symbol', 'art', 'vector', 'image', 'abstract', 'graphic', 'modern', 'business', 'shape', 'element', 'sign', 'pattern', 'style', 'no person', 'decoration', 'color', 'paper']\n",
      "\n",
      "\n",
      "Row26 ['pre-wedding', 'Love', 'sweet', 'couple', 'prewedding', 'Bridegroom', 'bride', 'wedding', 'taiwan', 'taipei', 'wedding', 'groom', 'bride', 'love', 'romance', 'engagement', 'woman', 'outdoors', 'marriage', 'nature', 'bridal', 'couple', 'kiss', 'summer', 'man', 'portrait', 'togetherness', 'girl', 'fashion', 'people']\n",
      "\n",
      "\n",
      "Row27 ['Silver Creek', 'Colorado', 'High School', 'volleyball', 'longmont', 'snowboard', 'camera', 'design', 'print', 'illustration', 'World Wide Web', 'internet', 'screen', 'business', 'vector', 'text', 'communication', 'graphic', 'desktop', 'display', 'symbol', 'computer', 'collage', 'bill', 'technology', 'design', 'modern', 'image', 'vectors']\n",
      "\n",
      "\n",
      "Row28 ['ad campaign', 'Dum Dum Pops', 'hand type', 'Spangler', 'box', 'cardboard', 'paper', 'gift', 'no person', 'shopping', 'container', 'business', 'isolated', 'merchandise', 'love', 'packet', 'pack', 'packaging', 'Christmas', 'carton', 'disjunct', 'money', 'birthday', 'illustration']\n",
      "\n",
      "\n",
      "Row29 ['fashion menswear', 'casting', 'camilla arthur', 'Male Models', 'Street casting', 'Los Angeles']\n",
      "\n",
      "\n",
      "Row30 ['integrated', 'launch', 'Snus', 'parliament', 'business', 'internet', 'technology', 'computer', 'desktop', 'text', 'people', 'World Wide Web', 'communication', 'man', 'data', 'facts', 'display']\n",
      "\n",
      "\n",
      "Row31 ['gentlemen', 'celebrate', 'Good', 'Irishman', 'Plume', 'Ireland', 'gentleman', 'green', 'win', 'match', 'hat', 'irish', 'Rugby', 'Italy', 'no person', 'Christmas', 'dark', 'celebration', 'illustration', 'vector', 'desktop', 'moon', 'space', 'art', 'silhouette', 'astronomy', 'abstract', 'winter', 'light', 'design', 'sky', 'decoration', 'science', 'nature']\n",
      "\n",
      "\n",
      "Row32 ['Ying yang', 'Love', 'Rotring', 'rapidograph', 'ink', 'line', 'flowers']\n",
      "\n",
      "\n",
      "Row33 ['u of c', 'room', 'indoors', 'people', 'adult', 'one', 'wear', 'business', 'woman', 'man', 'fashion', 'furniture', 'model', 'door', 'modern', 'contemporary', 'two', 'exhibition', 'family', 'luggage', 'portrait']\n",
      "\n",
      "\n",
      "Row34 ['virginia', 'elephant', 'Mural', 'Yoga', 'moon', 'Ganesh', 'ganesha', 'Richmond', 'Hindu', 'sanskrit', 'ashtanga', 'mysore', 'India', 'God', 'rva']\n",
      "\n",
      "\n",
      "Row35 ['Burlap Grain Sacks. French Accent Pillows', 'Tote Bags', 'french country', 'Vintage Grain Sack', 'French Style Tote Bags', 'Luxury Accent Pillows', 'home goods', 'Linen Bedding', 'Decorative Tea Towels', 'home textiles', 'decorative pillows', 'paper', 'no person', 'design', 'disjunct', 'page', 'sheet', 'retro', 'desktop', 'illustration', 'old', 'comfort', 'symbol', 'business', 'flag', 'leaf', 'antique', 'pillow', 'isolated', 'official', 'isolate']\n",
      "\n",
      "\n",
      "Row36 ['sunset', 'double exposure', 'portrait']\n",
      "\n",
      "\n",
      "Row37 ['article', 'Dating', 'internet dating', 'magazine', 'slimming', 'diet', 'portrait', 'pills', 'anti-wrinkle', 'editorial', 'no person', 'cream', 'chocolate', 'sweet', 'food', 'delicious', 'sugar', 'one', 'milk', 'coffee', 'cup', 'baking', 'icee', 'creamy', 'candy', 'people', 'indoors', 'Christmas', 'cake', 'stacks']\n",
      "\n",
      "\n",
      "Row38 ['wave', 'foil', 'projection', 'metallic', 'world', 'art', 'map', 'printmaking', 'peace', 'International', 'globe', 'Winkel Tripel']\n",
      "\n",
      "\n",
      "Row39 ['kemin', 'brochure', 'folder']\n",
      "\n",
      "\n",
      "Row40 ['login', 'psd', 'page', 'free', 'free download', 'login page', 'simple', 'clean']\n",
      "\n",
      "\n",
      "Row41 ['paperview', 'branding', 'logo', 'identity', 'Restaurant Branding', 'paper', 'document', 'no person', 'business', 'page', 'book', 'education', 'data', 'book bindings', 'writing', 'composition', 'laptop', 'facts', 'office', 'computer', 'text', 'notebook', 'devoid', 'research', 'write']\n",
      "\n",
      "\n",
      "Row42 ['animation', 'design', 'motion', 'art', 'stylized', 'motion graphics', '3D', 'Low Poly', 'branding']\n",
      "\n",
      "\n",
      "Row43 ['festival', 'design', 'publicidade', 'midia', 'app', 'Ilustração', 'campinas', 'engraved']\n",
      "\n",
      "\n",
      "Row44 ['thread on paper', 'circles', 'art', 'stitched', 'thread', 'paper', 'thread art', 'movements', 'red']\n",
      "\n",
      "\n",
      "Row45 ['Monday', 'Austin', 'badge', 'logo']\n",
      "\n",
      "\n",
      "Row46 ['concept art', 'CGI', 'art', 'Matte Painting']\n",
      "\n",
      "\n",
      "Row47 ['agriculture', 'countryside', 'cropland', 'daylight', 'farm', 'field', 'grass', 'grassland', 'hayfield', 'hayfield', 'hill', 'landscape', 'nature', 'no person', 'outdoors', 'rural', 'scenic', 'sky', 'summer', 'travel', 'tree']\n",
      "\n",
      "\n",
      "Row48 ['Castle Wall', 'Historic sites and artefacts', 'abandoned', 'ancient', 'architecture', 'brick', 'building', 'castle', 'construction', 'expression', 'exterior', 'fortification', 'fortress', 'Gothic', 'historic', 'house', 'no person', 'old', 'outdoors', 'stone', 'travel', 'wall']\n",
      "\n",
      "\n",
      "Row49 ['Mining', ' Mining', 'Park and Public Gardens', 'Quarrying', 'branch', 'branch', 'dawn', 'dawn', 'environment', 'fall', 'fall', 'guidance', 'guidance', 'landscape', 'leaf', 'light', 'light', 'nature', 'no person', 'outdoors', 'park', 'park', 'river', 'road', 'road', 'scenic', 'scenic', 'trail', 'trail', 'travel', 'travel', 'tree', 'water', 'water', 'wood']\n",
      "\n",
      "\n",
      "Row50 ['Cityscape', 'Photograph', 'view', 'administration', 'adult', 'cargo ship', 'group', 'group together', 'many', 'military', 'no person', 'people', 'print', 'railway', 'river', 'ship', 'suspension bridge', 'transportation system', 'vehicle', 'war', 'warship', 'water', 'watercraft']\n",
      "\n",
      "\n",
      "Row51 ['Apartamento con Encanto', 'Francia', 'Samou00ebns', '6 persona(s)', 'Casa Rural']\n",
      "\n",
      "\n",
      "Row52 ['logo', 'beroperasi', 'gear', 'linux', 'sistem', 'gear roda', 'cogwheels', 'pilihan', 'roda', 'roda-roda', 'cog', 'tetapan']\n",
      "\n",
      "\n",
      "Row53 ['Belforte del Chienti', 'Maison Typique', 'Italie', 'Gîte', '18 personne(s)']\n",
      "\n",
      "\n",
      "Row54 ['Appartement', '6 personne(s)', 'Les Deux Alpes', 'France', 'Location de vacances']\n",
      "\n",
      "\n",
      "Row55 ['Solanas (Sinnai)', '10 person(s)', 'Villa', 'Italy', 'Holiday lettings']\n",
      "\n",
      "\n",
      "Row56 ['Ceratitis divaricata Overview', 'Ceratitis divaricata']\n",
      "\n",
      "\n",
      "Row57 ['dawn', 'mountain peak', 'no person', 'stone', 'sunset', 'cloud', 'hike', 'outdoors', 'mountain', 'rock', 'scenic', 'storm', 'travel', 'dramatic', 'landscape', 'nature', 'park', 'sky', 'tourism', 'valley']\n",
      "\n",
      "\n",
      "Row58 ['Lido di Ostia rentals', 'Lido di Ostia', 'Lido di Ostia Holiday lettings', 'Latium (Lazio)']\n",
      "\n",
      "\n",
      "Row59 ['France', 'Maison de Charme', 'Location de vacances de Charme', 'Vitrac (Cantal)', '5 personne(s)']\n",
      "\n",
      "\n",
      "Row60 ['Villasimius', 'Ferienwohnung', 'Villa', '6 Person(en)', 'Italien']\n",
      "\n",
      "\n",
      "Row61 ['6 person(s)', 'Villa', 'Saint-Raphaël', 'Holiday lettings', 'France']\n",
      "\n",
      "\n",
      "Row62 ['wa', 'washington']\n",
      "\n",
      "\n",
      "Row63 ['june2015']\n",
      "\n",
      "\n",
      "Row64 ['Uplands', 'Minor Road', 'Alford', 'Burn', 'Hillside', 'fence', 'landscape', 'no person', 'grass', 'wood', 'nature', 'farm', 'sky', 'tree', 'field', 'travel', 'outdoors', 'agriculture', 'countryside', 'country', 'hill', 'rural', 'mountain', 'summer', 'pasture']\n",
      "\n",
      "\n",
      "Row65 ['Lowlands', 'Roads', ' Road transport', 'road', 'guidance', 'tree', 'landscape', 'asphalt', 'no person', 'nature', 'wood', 'grass', 'travel', 'outdoors', 'environment', 'rural', 'lane', 'park', 'curve', 'street', 'perspective', 'summer', 'sky']\n",
      "\n",
      "\n",
      "Row66 ['architecture', 'no person', 'building', 'travel', 'old', 'outdoors', 'home', 'house', 'religion', 'daylight', 'tree', 'church', 'castle', 'entrance', 'garden', 'gate', 'ancient', 'park', 'summer', 'city']\n",
      "\n",
      "\n",
      "Row67 ['Paths', ' Scrub', 'Heath', 'landscape', 'tree', 'nature', 'no person', 'sky', 'environment', 'grass', 'travel', 'outdoors', 'hayfield', 'scenic', 'field', 'calamity', 'wood', 'water', 'daylight', 'weather', 'flora', 'bush', 'park']\n",
      "\n",
      "\n",
      "Row68 ['no person', 'landscape', 'water', 'nature', 'travel', 'sky', 'outdoors', 'river', 'grass', 'seashore', 'summer', 'countryside', 'cropland', 'mountain', 'scenic', 'rural', 'sea', 'lake', 'hill', 'daylight']\n",
      "\n",
      "\n",
      "Row69 ['Roads', ' Road transport', 'landscape', 'sky', 'tree', 'nature', 'travel', 'outdoors', 'no person', 'fog', 'daylight', 'environment', 'agriculture', 'hill', 'road', 'field', 'scenic', 'grass', 'farm', 'weather', 'light', 'cloud']\n",
      "\n",
      "\n",
      "Row70 ['home', 'road', 'house', 'no person', 'building', 'tree', 'landscape', 'architecture', 'wood', 'travel', 'farm', 'bungalow', 'guidance', 'daylight', 'fence', 'environment', 'outdoors', 'street', 'sky', 'barn']\n",
      "\n",
      "\n",
      "Row71 ['railway', 'train', 'transportation system', 'locomotive', 'track', 'road', 'travel', 'vehicle', 'engine', 'guidance', 'daylight', 'no person', 'trip (journey)', 'line', 'outdoors', 'commuter', 'traffic', 'wagon', 'station', 'car']\n",
      "\n",
      "\n",
      "Row72 ['Überlingen', 'Vacation rental', 'Germany', 'House', '4 person(s)']\n",
      "\n",
      "\n",
      "Row73 ['谷仓改建住宅', '4 人', '法国', 'Cretteville', '乡间渡假别墅出租']\n",
      "\n",
      "\n",
      "Row74 ['Vacation rental', 'Aparthotel', 'Madonna di Campiglio', '6 person(s)', 'Italy']\n",
      "\n",
      "\n",
      "Row75 ['Monolocale', 'Case vacanze', '2 persona(e)', 'Roscoff', 'Francia']\n",
      "\n",
      "\n",
      "Row76 ['Appartement', 'Gallipoli', 'Vakantiewoningen', '6 personen', 'Italië']\n",
      "\n",
      "\n",
      "Row77 ['Appartement', 'Can Pastilla', '5 personne(s)', 'Espagne', 'Location de vacances']\n",
      "\n",
      "\n",
      "Row78 ['农舍改建住宅', '休闲渡假房屋出租', '22 人', '葡萄牙', 'Vila Franca']\n",
      "\n",
      "\n",
      "Row79 ['Luxury holiday letting', 'Argentina', 'Zelaya', 'Luxury Country House', '7 person(s)']\n",
      "\n",
      "\n",
      "Row80 ['休闲渡假房屋出租 Braunton', '出租 Braunton', '西南英格蘭', 'Braunton']\n",
      "\n",
      "\n",
      "Row81 ['Chorefton', '4 Person(en)', 'Apartment mit Charme', 'Griechenland', 'Ferienwohnung mit Charme']\n",
      "\n",
      "\n",
      "Row82 ['30 人', 'Morzine', '休闲渡假房屋出租', '木屋', '法国']\n",
      "\n",
      "\n",
      "Row83 ['France', '6 person(s)', \"Saint Lô d'Ourville\", 'Gîte - Self Catering', 'Stone-Built House']\n",
      "\n",
      "\n",
      "Row84 ['France', 'Propriano', 'Villa', 'Holiday lettings', '4 person(s)']\n",
      "\n",
      "\n",
      "Row85 ['Boliqueime', 'Agriturismo', 'Casa di Charme', '10 persona(e)', 'Portogallo']\n",
      "\n",
      "\n",
      "Row86 ['5 persona(e)', 'Casa vacanza di Charme', 'Piñeres de Aller', 'Casa di Charme', 'Spagna']\n",
      "\n",
      "\n",
      "Row87 ['5 persona(e)', 'Italia', 'Fattoria', 'Agriturismo', 'Puegnago sul Garda']\n",
      "\n",
      "\n",
      "Row88 ['Portugal', 'Faro', '4 personne(s)', 'Gîte', 'Maison de Campagne']\n",
      "\n",
      "\n",
      "Row89 ['Solanas (Sinnai)', '5 persona(e)', 'Italia', 'Case vacanze', 'Casa']\n",
      "\n",
      "\n",
      "Row90 ['Gréasque', '普罗旺斯 阿尔卑斯 蓝色海岸', '休闲渡假房屋出租 Gréasque', '出租 Gréasque']\n",
      "\n",
      "\n",
      "Row91 ['Calviac en Périgord', '6 person(s)', 'House', 'Gîte - Self Catering', 'France']\n",
      "\n",
      "\n",
      "Row92 ['Dalmacja', 'Slatine', 'Wynajem Slatine', 'Wynajem na wakacje Slatine']\n",
      "\n",
      "\n",
      "Row93 ['Genevilla', '6 personne(s)', 'Maison de Charme', 'Espagne', 'Gîte']\n",
      "\n",
      "\n",
      "Row94 ['Elena', 'Bulgaria', 'Habitaciones de huéspedes', 'Casa de Lujo', '20 persona(s)']\n",
      "\n",
      "\n",
      "Row95 ['France', 'Wildenstein', '6 person(s)', 'Gîte - Self Catering', 'Village House']\n",
      "\n",
      "\n",
      "Row96 ['Italia', 'Fattoria', 'Agriturismo', '6 persona(e)', 'Montemassi']\n",
      "\n",
      "\n",
      "Row97 ['Appartement', '6 personne(s)', 'O Grove', 'Espagne', 'Location de vacances']\n",
      "\n",
      "\n",
      "Row98 ['Canarie', 'Bungalow di Charme', 'Casa vacanza di Charme', 'Playa del Inglés', '4 persona(e)']\n",
      "\n",
      "\n",
      "Row99 ['Italia', '8 persona(s)', 'Alquiler de vacaciones', 'Casa de Piedra', 'Maiori']\n",
      "\n",
      "\n"
     ]
    }
   ],
   "source": [
    "rows_to_display = 100\n",
    "row_counter = 0\n",
    "\n",
    "for i in image_view[\"name\"]:\n",
    "    if row_counter >= rows_to_display:\n",
    "        break\n",
    "    print(\"Row\" + str(row_counter), i)\n",
    "    print(\"\\n\")\n",
    "    row_counter += 1"
   ]
  },
  {
   "cell_type": "code",
   "execution_count": 10,
   "metadata": {
    "colab": {
     "base_uri": "https://localhost:8080/"
    },
    "id": "raIRBcA75zF_",
    "outputId": "c2722b78-09e1-462c-de8f-37979a7156b8"
   },
   "outputs": [
    {
     "name": "stdout",
     "output_type": "stream",
     "text": [
      "Row0 None\n",
      "\n",
      "\n",
      "Row1 [nan, 0.9973600000000001, 0.9889200000000001, 0.9882000000000001, 0.98567, 0.98377, 0.9815, 0.9813900000000001, 0.9795300000000001, 0.9778600000000001, 0.9692200000000001, 0.96242, 0.95959, 0.9576600000000001, 0.9520700000000001, 0.9483600000000001, 0.9463300000000001, 0.94105, 0.9394, 0.93788, 0.9256900000000001]\n",
      "\n",
      "\n",
      "Row2 [nan, nan, nan, nan, nan, nan, nan, nan, nan, nan, nan, nan, nan, nan, nan, nan, nan, nan, nan, nan, 0.9690500000000001, 0.9572200000000001, 0.95691, 0.9538500000000001, 0.9388000000000001, 0.9316700000000001, 0.9175800000000001, 0.8968300000000001, 0.89495, 0.8901500000000001, 0.87699, 0.8615800000000001, 0.85113, 0.8369200000000001, 0.8263400000000001, 0.8172900000000001, 0.8132900000000001, 0.8095, 0.8061100000000001, 0.8060900000000001]\n",
      "\n",
      "\n",
      "Row3 [nan, nan, nan, nan, nan, nan, nan, nan, nan, 0.9927900000000001, 0.9899600000000001, 0.98228, 0.97889, 0.9683600000000001, 0.9585, 0.9476100000000001, 0.9464800000000001, 0.9350200000000001, 0.93376, 0.9334800000000001, 0.9198900000000001, 0.9191, 0.9185900000000001, 0.9179400000000001, 0.9151300000000001, 0.8993500000000001, 0.8982800000000001, 0.8860500000000001, 0.8698800000000001]\n",
      "\n",
      "\n",
      "Row4 None\n",
      "\n",
      "\n",
      "Row5 None\n",
      "\n",
      "\n",
      "Row6 [0.9795, 0.9738700000000001, 0.96947, 0.9633400000000001, 0.9474400000000001, 0.9315700000000001, 0.92293, 0.91932, 0.90566, 0.8851500000000001, 0.8821200000000001, 0.8776200000000001, 0.87375, 0.86743, 0.8661300000000001, 0.8598100000000001, 0.8527300000000001, 0.8495900000000001, 0.8489700000000001, 0.8361900000000001]\n",
      "\n",
      "\n",
      "Row7 [nan, nan, nan, nan, nan, 0.9780500000000001, 0.9479900000000001, 0.9400900000000001, 0.9007100000000001, 0.8975400000000001, 0.8937700000000001, 0.8927400000000001, 0.8791800000000001, 0.87916, 0.8673400000000001, 0.8214300000000001, 0.8171200000000001, 0.81279, 0.79307, 0.77446, 0.7690600000000001, 0.7676200000000001, 0.76634, 0.7636700000000001, 0.7594500000000001]\n",
      "\n",
      "\n",
      "Row8 [nan, nan, nan, nan, nan, nan, nan, nan, nan, 0.99204, 0.9843600000000001, 0.9810700000000001, 0.9801700000000001, 0.9794100000000001, 0.9786800000000001, 0.97738, 0.97606, 0.9715, 0.96496, 0.9637700000000001, 0.9634400000000001, 0.9623100000000001, 0.9603600000000001, 0.9582800000000001, 0.9573100000000001, 0.9529500000000001, 0.9401900000000001, 0.9388000000000001, 0.93537]\n",
      "\n",
      "\n",
      "Row9 None\n",
      "\n",
      "\n",
      "Row10 [nan, 0.98689, 0.9820800000000001, 0.97689, 0.9736100000000001, 0.9649500000000001, 0.9559500000000001, 0.94981, 0.9453400000000001, 0.9381800000000001, 0.9314700000000001, 0.9199600000000001, 0.91166, 0.9100400000000001, 0.9014700000000001, 0.89597, 0.8907900000000001, 0.88665, 0.8799, 0.8685600000000001, 0.8436300000000001]\n",
      "\n",
      "\n",
      "Row11 None\n",
      "\n",
      "\n",
      "Row12 [nan, 0.9894600000000001, 0.97828, 0.9538700000000001, 0.9376800000000001, 0.9170900000000001, 0.9144100000000001, 0.9083200000000001, 0.8874200000000001, 0.88419, 0.88309, 0.86775, 0.8591200000000001, 0.85672, 0.8518100000000001, 0.84323, 0.8228000000000001, 0.8213900000000001, 0.8025500000000001, 0.7871300000000001, 0.7709400000000001]\n",
      "\n",
      "\n",
      "Row13 [nan, nan, nan, nan, nan, nan, nan, 0.9916200000000001, 0.8897600000000001, 0.88046, 0.8759600000000001, 0.8751800000000001, 0.8395300000000001, 0.8233300000000001, 0.82298, 0.80408, 0.8021100000000001, 0.7961800000000001, 0.7744500000000001, 0.76114, 0.7595400000000001, 0.75234, 0.74138, 0.74036, 0.73758, 0.737, 0.7346400000000001]\n",
      "\n",
      "\n",
      "Row14 None\n",
      "\n",
      "\n",
      "Row15 [nan, nan, nan, nan, nan, nan, nan, nan, nan, nan, nan, nan, nan, nan, nan, 0.99631, 0.9944600000000001, 0.9915200000000001, 0.9910300000000001, 0.99065, 0.9866800000000001, 0.9852700000000001, 0.9829200000000001, 0.9548300000000001, 0.9526500000000001, 0.9517300000000001, 0.9491200000000001, 0.9298200000000001, 0.9269200000000001, 0.921, 0.9071600000000001, 0.9071400000000001, 0.90683, 0.90475, 0.87453]\n",
      "\n",
      "\n",
      "Row16 [nan, nan, nan, nan, nan, nan, nan, nan, nan, nan, nan, nan, nan, 0.96957, 0.9616800000000001, 0.9435300000000001, 0.9319600000000001, 0.9279900000000001, 0.9242500000000001, 0.9194200000000001, 0.9178100000000001, 0.90622, 0.9055300000000001, 0.8993500000000001, 0.8823300000000001, 0.8745400000000001, 0.87214, 0.8695200000000001, 0.8666400000000001, 0.8645400000000001, 0.85287, 0.8506, 0.8426800000000001]\n",
      "\n",
      "\n",
      "Row17 [0.9501200000000001, 0.94874, 0.94542, 0.92044, 0.90244, 0.9000100000000001, 0.8981800000000001, 0.88982, 0.8883900000000001, 0.8808600000000001, 0.8669800000000001, 0.8640100000000001, 0.84828, 0.8371000000000001, 0.8246100000000001, 0.8143400000000001, 0.8010900000000001, 0.79971, 0.7969900000000001, 0.7941800000000001]\n",
      "\n",
      "\n",
      "Row18 [nan, nan, nan, nan, nan, nan, nan, nan, nan, nan, nan, nan, nan, nan, nan, nan, nan, nan, nan, nan, 0.96345, 0.9557700000000001, 0.9478700000000001, 0.9174100000000001, 0.8996400000000001, 0.89717, 0.89041, 0.8735, 0.8732200000000001, 0.8608100000000001, 0.8583600000000001, 0.85287, 0.8518300000000001, 0.84001, 0.83384, 0.81932, 0.7799200000000001, 0.77002, 0.76222, 0.7536400000000001]\n",
      "\n",
      "\n",
      "Row19 [nan, nan, nan, nan, 0.9906400000000001, 0.9834700000000001, 0.97118, 0.96906, 0.95576, 0.9445300000000001, 0.9438200000000001, 0.9418300000000001, 0.92876, 0.9232300000000001, 0.9157900000000001, 0.9141, 0.9132500000000001, 0.90927, 0.9046500000000001, 0.9032600000000001, 0.8955700000000001, 0.88502, 0.8813000000000001, 0.8784400000000001]\n",
      "\n",
      "\n",
      "Row20 None\n",
      "\n",
      "\n",
      "Row21 [nan, nan, nan, nan, nan, nan, nan, nan, nan, nan, 0.9993200000000001, 0.9983000000000001, 0.99731, 0.9935300000000001, 0.9918, 0.9914000000000001, 0.9902200000000001, 0.9848700000000001, 0.9833700000000001, 0.9813700000000001, 0.97762, 0.96286, 0.9590400000000001, 0.9512, 0.94857, 0.9477700000000001, 0.94254, 0.93561, 0.9345700000000001, 0.9198100000000001]\n",
      "\n",
      "\n",
      "Row22 [nan, nan, nan, nan, nan, nan, nan, nan, 0.97535, 0.9633600000000001, 0.9313300000000001, 0.92351, 0.9093800000000001, 0.9039900000000001, 0.9030100000000001, 0.8848900000000001, 0.8669500000000001, 0.85299, 0.8529200000000001, 0.84852, 0.81042, 0.8023600000000001, 0.79822, 0.7868900000000001, 0.7741300000000001, 0.7707600000000001, 0.77066, 0.76605]\n",
      "\n",
      "\n",
      "Row23 [nan, nan, nan, nan, nan, nan, nan, nan, 0.9714800000000001, 0.9559500000000001, 0.95154, 0.9513900000000001, 0.92166, 0.9129, 0.9090800000000001, 0.9041800000000001, 0.9020900000000001, 0.8808100000000001, 0.8774700000000001, 0.8712500000000001, 0.8692300000000001, 0.83742, 0.8284100000000001, 0.82042, 0.8196500000000001, 0.8151900000000001, 0.8043800000000001, 0.7974]\n",
      "\n",
      "\n",
      "Row24 [0.99648, 0.9742500000000001, 0.9644900000000001, 0.9490900000000001, 0.9398400000000001, 0.9328000000000001, 0.9299200000000001, 0.9169100000000001, 0.91229, 0.9111300000000001, 0.90751, 0.90668, 0.8981, 0.89807, 0.88853, 0.8740800000000001, 0.8657600000000001, 0.85848, 0.8574600000000001, 0.8455800000000001]\n",
      "\n",
      "\n",
      "Row25 [nan, nan, nan, nan, nan, nan, nan, nan, nan, nan, 0.9652200000000001, 0.9643, 0.9624, 0.9617700000000001, 0.9366800000000001, 0.9301200000000001, 0.9246900000000001, 0.9099, 0.90583, 0.9053, 0.8973700000000001, 0.8902300000000001, 0.8877700000000001, 0.88668, 0.8842200000000001, 0.87221, 0.85496, 0.8450200000000001, 0.84028, 0.7948900000000001]\n",
      "\n",
      "\n",
      "Row26 [nan, nan, nan, nan, nan, nan, nan, nan, nan, nan, 0.9992200000000001, 0.9980500000000001, 0.9962900000000001, 0.9940300000000001, 0.994, 0.9867500000000001, 0.9838300000000001, 0.9819500000000001, 0.9796300000000001, 0.9718, 0.97047, 0.9620700000000001, 0.9472400000000001, 0.9462300000000001, 0.94491, 0.93864, 0.9355800000000001, 0.9304, 0.9289100000000001, 0.9277700000000001]\n",
      "\n",
      "\n",
      "Row27 [nan, nan, nan, nan, nan, nan, nan, nan, nan, 0.9731200000000001, 0.9595, 0.9592900000000001, 0.9582600000000001, 0.9547500000000001, 0.94996, 0.94786, 0.9260600000000001, 0.9249200000000001, 0.92373, 0.9229700000000001, 0.9194800000000001, 0.91822, 0.9058400000000001, 0.9023, 0.89829, 0.897, 0.8801300000000001, 0.8746, 0.87458]\n",
      "\n",
      "\n",
      "Row28 [nan, nan, nan, nan, 0.9935700000000001, 0.9702100000000001, 0.9631100000000001, 0.9616300000000001, 0.9612700000000001, 0.9601400000000001, 0.9416700000000001, 0.9379500000000001, 0.9328400000000001, 0.9244700000000001, 0.91393, 0.90497, 0.90456, 0.89748, 0.89307, 0.8902500000000001, 0.8595800000000001, 0.8543900000000001, 0.8523700000000001, 0.8490800000000001]\n",
      "\n",
      "\n",
      "Row29 None\n",
      "\n",
      "\n",
      "Row30 [nan, nan, nan, nan, 0.95203, 0.9280700000000001, 0.9027600000000001, 0.9001800000000001, 0.8928800000000001, 0.87394, 0.8674700000000001, 0.83955, 0.8281600000000001, 0.82101, 0.7094100000000001, 0.70418, 0.7010000000000001]\n",
      "\n",
      "\n",
      "Row31 [nan, nan, nan, nan, nan, nan, nan, nan, nan, nan, nan, nan, nan, nan, 0.9866400000000001, 0.9567100000000001, 0.9459400000000001, 0.9406800000000001, 0.9296900000000001, 0.9256900000000001, 0.9073500000000001, 0.90263, 0.8785900000000001, 0.8740500000000001, 0.86123, 0.8550700000000001, 0.8533600000000001, 0.8491000000000001, 0.8417100000000001, 0.83264, 0.8190400000000001, 0.8157700000000001, 0.8102800000000001, 0.79542]\n",
      "\n",
      "\n",
      "Row32 None\n",
      "\n",
      "\n",
      "Row33 [nan, 0.9841700000000001, 0.9830200000000001, 0.9808500000000001, 0.9593900000000001, 0.9426100000000001, 0.9381800000000001, 0.9294500000000001, 0.92739, 0.92117, 0.9174300000000001, 0.8929400000000001, 0.8739800000000001, 0.8739600000000001, 0.87102, 0.8610500000000001, 0.8350500000000001, 0.8305500000000001, 0.8292900000000001, 0.82911, 0.8284800000000001]\n",
      "\n",
      "\n",
      "Row34 None\n",
      "\n",
      "\n",
      "Row35 [nan, nan, nan, nan, nan, nan, nan, nan, nan, nan, nan, 0.9926, 0.97838, 0.9326500000000001, 0.8932800000000001, 0.88543, 0.8777400000000001, 0.8699500000000001, 0.8347800000000001, 0.8300500000000001, 0.80652, 0.80295, 0.7982, 0.7627900000000001, 0.7603700000000001, 0.751, 0.7451, 0.7427600000000001, 0.73472, 0.7232000000000001, 0.7228]\n",
      "\n",
      "\n",
      "Row36 None\n",
      "\n",
      "\n",
      "Row37 [nan, nan, nan, nan, nan, nan, nan, nan, nan, nan, 0.99416, 0.96611, 0.9406800000000001, 0.9290600000000001, 0.92339, 0.91524, 0.9106700000000001, 0.9087400000000001, 0.89268, 0.8762200000000001, 0.8711000000000001, 0.8599500000000001, 0.8577300000000001, 0.8348800000000001, 0.8346, 0.8342600000000001, 0.8247300000000001, 0.8183100000000001, 0.80752, 0.8063800000000001]\n",
      "\n",
      "\n",
      "Row38 None\n",
      "\n",
      "\n",
      "Row39 None\n",
      "\n",
      "\n",
      "Row40 None\n",
      "\n",
      "\n",
      "Row41 [nan, nan, nan, nan, nan, 0.9879300000000001, 0.98643, 0.9834800000000001, 0.9771900000000001, 0.9714600000000001, 0.9621000000000001, 0.9552200000000001, 0.94005, 0.9226200000000001, 0.9201, 0.9194, 0.9157200000000001, 0.8846900000000001, 0.8441900000000001, 0.8397600000000001, 0.8120600000000001, 0.79859, 0.78498, 0.7768, 0.76212]\n",
      "\n",
      "\n",
      "Row42 None\n",
      "\n",
      "\n",
      "Row43 None\n",
      "\n",
      "\n",
      "Row44 None\n",
      "\n",
      "\n",
      "Row45 None\n",
      "\n",
      "\n",
      "Row46 None\n",
      "\n",
      "\n",
      "Row47 [0.9806, 0.9423500000000001, 0.9789800000000001, 0.9355500000000001, 0.9621000000000001, 0.9753600000000001, 0.9702100000000001, 0.97047, 0.9456200000000001, 0.9456300000000001, 0.9577, 0.99738, 0.9751700000000001, 0.9871300000000001, 0.9656300000000001, 0.91117, 0.91866, 0.98145, 0.92212, 0.96384, 0.9577300000000001]\n",
      "\n",
      "\n",
      "Row48 [nan, nan, 0.8804900000000001, 0.9828300000000001, 0.9866100000000001, 0.98726, 0.9785900000000001, 0.9584900000000001, 0.94842, 0.92566, 0.91249, 0.8996200000000001, 0.9092500000000001, 0.94081, 0.9338200000000001, 0.8897400000000001, 0.93727, 0.9951500000000001, 0.8868800000000001, 0.9922700000000001, 0.93964, 0.99689]\n",
      "\n",
      "\n",
      "Row49 [nan, nan, nan, nan, 0.93425, 0.9342600000000001, 0.8982300000000001, 0.89824, 0.9515, 0.9195200000000001, 0.9195300000000001, 0.89231, 0.8923200000000001, 0.9912900000000001, 0.9694300000000001, 0.91444, 0.91446, 0.9857400000000001, 0.98045, 0.9580400000000001, 0.97591, 0.9759200000000001, 0.9262600000000001, 0.87738, 0.8773900000000001, 0.9296300000000001, 0.92964, 0.9083600000000001, 0.9083700000000001, 0.9487300000000001, 0.94874, 0.9958300000000001, 0.9776600000000001, 0.97767, 0.9919500000000001]\n",
      "\n",
      "\n",
      "Row50 [nan, nan, nan, 0.82208, 0.9439600000000001, 0.9349900000000001, 0.9590400000000001, 0.9549900000000001, 0.9850200000000001, 0.8966500000000001, 0.90934, 0.99853, 0.7387900000000001, 0.8298000000000001, 0.85916, 0.84926, 0.7437600000000001, 0.9837, 0.9922700000000001, 0.776, 0.90073, 0.7746400000000001, 0.9923400000000001]\n",
      "\n",
      "\n",
      "Row51 None\n",
      "\n",
      "\n",
      "Row52 None\n",
      "\n",
      "\n",
      "Row53 None\n",
      "\n",
      "\n",
      "Row54 None\n",
      "\n",
      "\n",
      "Row55 None\n",
      "\n",
      "\n",
      "Row56 None\n",
      "\n",
      "\n",
      "Row57 [0.7952600000000001, 0.83694, 0.97067, 0.8396300000000001, 0.90312, 0.8588100000000001, 0.8080400000000001, 0.9319400000000001, 0.9719500000000001, 0.9749800000000001, 0.90175, 0.79566, 0.96586, 0.8440500000000001, 0.9792700000000001, 0.9624300000000001, 0.7840900000000001, 0.96001, 0.7792300000000001, 0.86975]\n",
      "\n",
      "\n",
      "Row58 None\n",
      "\n",
      "\n",
      "Row59 None\n",
      "\n",
      "\n",
      "Row60 None\n",
      "\n",
      "\n",
      "Row61 None\n",
      "\n",
      "\n",
      "Row62 None\n",
      "\n",
      "\n",
      "Row63 None\n",
      "\n",
      "\n",
      "Row64 [nan, nan, nan, nan, nan, 0.99355, 0.99248, 0.9782700000000001, 0.9769100000000001, 0.9716, 0.9686400000000001, 0.9668, 0.9564900000000001, 0.9525300000000001, 0.95096, 0.94508, 0.9443100000000001, 0.9402400000000001, 0.9364500000000001, 0.93642, 0.93283, 0.9253100000000001, 0.92256, 0.9193500000000001, 0.87163]\n",
      "\n",
      "\n",
      "Row65 [nan, nan, nan, 0.9989800000000001, 0.9949300000000001, 0.9948100000000001, 0.9892400000000001, 0.98728, 0.9766300000000001, 0.9747600000000001, 0.96735, 0.9574900000000001, 0.95647, 0.9530900000000001, 0.9518400000000001, 0.9381, 0.9356500000000001, 0.92959, 0.92712, 0.92183, 0.92037, 0.9187200000000001, 0.9095200000000001]\n",
      "\n",
      "\n",
      "Row66 [0.9944600000000001, 0.98196, 0.9723800000000001, 0.9673200000000001, 0.9584, 0.9535600000000001, 0.9459700000000001, 0.9427800000000001, 0.9391800000000001, 0.9313500000000001, 0.92088, 0.9155200000000001, 0.908, 0.9071800000000001, 0.9044800000000001, 0.9021100000000001, 0.9000400000000001, 0.8980800000000001, 0.87621, 0.8760800000000001]\n",
      "\n",
      "\n",
      "Row67 [nan, nan, nan, 0.99643, 0.9840900000000001, 0.9793400000000001, 0.97538, 0.9679000000000001, 0.9667100000000001, 0.96135, 0.9509000000000001, 0.9456500000000001, 0.94044, 0.9228500000000001, 0.9204700000000001, 0.9189400000000001, 0.9182500000000001, 0.9071800000000001, 0.9042700000000001, 0.9017600000000001, 0.8982300000000001, 0.8967100000000001, 0.8955900000000001]\n",
      "\n",
      "\n",
      "Row68 [0.9916800000000001, 0.9890800000000001, 0.9876100000000001, 0.9789500000000001, 0.9722500000000001, 0.9668200000000001, 0.9663300000000001, 0.94193, 0.9372800000000001, 0.9161900000000001, 0.9153, 0.9039400000000001, 0.8911600000000001, 0.8874900000000001, 0.8836900000000001, 0.8775700000000001, 0.8746900000000001, 0.8629600000000001, 0.86031, 0.8595600000000001]\n",
      "\n",
      "\n",
      "Row69 [nan, nan, 0.9938800000000001, 0.9785900000000001, 0.97477, 0.9622100000000001, 0.95391, 0.9506100000000001, 0.9472400000000001, 0.9387400000000001, 0.9252500000000001, 0.9205800000000001, 0.9154800000000001, 0.9147700000000001, 0.91312, 0.9124700000000001, 0.9079, 0.90063, 0.8905900000000001, 0.88887, 0.8887900000000001, 0.8715400000000001]\n",
      "\n",
      "\n",
      "Row70 [0.9825200000000001, 0.9756400000000001, 0.9734, 0.9695800000000001, 0.9616, 0.9611700000000001, 0.9558000000000001, 0.9433100000000001, 0.9356500000000001, 0.9196000000000001, 0.90478, 0.90183, 0.9017600000000001, 0.89773, 0.88351, 0.87694, 0.8662000000000001, 0.86572, 0.8540200000000001, 0.85313]\n",
      "\n",
      "\n",
      "Row71 [0.9993700000000001, 0.9990700000000001, 0.99882, 0.9985800000000001, 0.9951200000000001, 0.98843, 0.9815200000000001, 0.98035, 0.97933, 0.9712100000000001, 0.96884, 0.9559000000000001, 0.9363, 0.9313400000000001, 0.9158000000000001, 0.91263, 0.9008600000000001, 0.8835400000000001, 0.87758, 0.8728100000000001]\n",
      "\n",
      "\n",
      "Row72 None\n",
      "\n",
      "\n",
      "Row73 None\n",
      "\n",
      "\n",
      "Row74 None\n",
      "\n",
      "\n",
      "Row75 None\n",
      "\n",
      "\n",
      "Row76 None\n",
      "\n",
      "\n",
      "Row77 None\n",
      "\n",
      "\n",
      "Row78 None\n",
      "\n",
      "\n",
      "Row79 None\n",
      "\n",
      "\n",
      "Row80 None\n",
      "\n",
      "\n",
      "Row81 None\n",
      "\n",
      "\n",
      "Row82 None\n",
      "\n",
      "\n",
      "Row83 None\n",
      "\n",
      "\n",
      "Row84 None\n",
      "\n",
      "\n",
      "Row85 None\n",
      "\n",
      "\n",
      "Row86 None\n",
      "\n",
      "\n",
      "Row87 None\n",
      "\n",
      "\n",
      "Row88 None\n",
      "\n",
      "\n",
      "Row89 None\n",
      "\n",
      "\n",
      "Row90 None\n",
      "\n",
      "\n",
      "Row91 None\n",
      "\n",
      "\n",
      "Row92 None\n",
      "\n",
      "\n",
      "Row93 None\n",
      "\n",
      "\n",
      "Row94 None\n",
      "\n",
      "\n",
      "Row95 None\n",
      "\n",
      "\n",
      "Row96 None\n",
      "\n",
      "\n",
      "Row97 None\n",
      "\n",
      "\n",
      "Row98 None\n",
      "\n",
      "\n",
      "Row99 None\n",
      "\n",
      "\n"
     ]
    }
   ],
   "source": [
    "rows_to_display = 100\n",
    "row_counter = 0\n",
    "\n",
    "for i in image_view[\"accuracy\"]:\n",
    "    if row_counter >= rows_to_display:\n",
    "        break\n",
    "    print(\"Row\" + str(row_counter), i)\n",
    "    print(\"\\n\")\n",
    "    row_counter += 1"
   ]
  },
  {
   "cell_type": "markdown",
   "metadata": {
    "id": "gBeg-G59fkp_"
   },
   "source": [
    "# Exploration on entries with valid standardized popularity"
   ]
  },
  {
   "cell_type": "markdown",
   "metadata": {
    "id": "btlWmChGi78a"
   },
   "source": [
    "Let's first see how many entries in our dataset have standardized popularity defined."
   ]
  },
  {
   "cell_type": "code",
   "execution_count": 11,
   "metadata": {
    "colab": {
     "base_uri": "https://localhost:8080/",
     "height": 980
    },
    "id": "tN0WPOtbfv-H",
    "outputId": "06f2acd7-c016-47d2-d6bd-640c70600b9e",
    "scrolled": true
   },
   "outputs": [
    {
     "data": {
      "text/html": [
       "<div>\n",
       "<style scoped>\n",
       "    .dataframe tbody tr th:only-of-type {\n",
       "        vertical-align: middle;\n",
       "    }\n",
       "\n",
       "    .dataframe tbody tr th {\n",
       "        vertical-align: top;\n",
       "    }\n",
       "\n",
       "    .dataframe thead th {\n",
       "        text-align: right;\n",
       "    }\n",
       "</style>\n",
       "<table border=\"1\" class=\"dataframe\">\n",
       "  <thead>\n",
       "    <tr style=\"text-align: right;\">\n",
       "      <th></th>\n",
       "      <th>identifier</th>\n",
       "      <th>provider</th>\n",
       "      <th>title</th>\n",
       "      <th>meta_data</th>\n",
       "      <th>tags</th>\n",
       "      <th>standardized_popularity</th>\n",
       "      <th>name</th>\n",
       "      <th>accuracy</th>\n",
       "    </tr>\n",
       "  </thead>\n",
       "  <tbody>\n",
       "    <tr>\n",
       "      <td>0</td>\n",
       "      <td>0000d3d2-f84e-4a36-8b19-054f9a9a6435</td>\n",
       "      <td>flickr</td>\n",
       "      <td>OKScotland - 13th May 2010</td>\n",
       "      <td>{\"views\": \"0\", \"pub_date\": \"1273786159\", \"date...</td>\n",
       "      <td>[{\"name\": \"okscotland\", \"provider\": \"flickr\"}]</td>\n",
       "      <td>0.000000</td>\n",
       "      <td>[okscotland]</td>\n",
       "      <td>None</td>\n",
       "    </tr>\n",
       "    <tr>\n",
       "      <td>1</td>\n",
       "      <td>00008a09-c647-401c-942b-a6aeeeb80133</td>\n",
       "      <td>behance</td>\n",
       "      <td>Mikel Lovina Sportsfest 2013</td>\n",
       "      <td>{\"set\": \"https://www.behance.net/gallery/11169...</td>\n",
       "      <td>[{\"name\": \"sportsfest\", \"provider\": \"behance\"}...</td>\n",
       "      <td>NaN</td>\n",
       "      <td>[sportsfest, shirt, isolated, sleeve, casual, ...</td>\n",
       "      <td>[nan, 0.9973600000000001, 0.9889200000000001, ...</td>\n",
       "    </tr>\n",
       "    <tr>\n",
       "      <td>2</td>\n",
       "      <td>000060a3-2a1e-4b61-9446-a6e71fdbddaa</td>\n",
       "      <td>behance</td>\n",
       "      <td>Sports, video-editing, motion graphics and ani...</td>\n",
       "      <td>{\"set\": \"https://www.behance.net/gallery/99524...</td>\n",
       "      <td>[{\"name\": \"agency\", \"provider\": \"behance\"}, {\"...</td>\n",
       "      <td>NaN</td>\n",
       "      <td>[agency, catalogues, brochures, graphics, cost...</td>\n",
       "      <td>[nan, nan, nan, nan, nan, nan, nan, nan, nan, ...</td>\n",
       "    </tr>\n",
       "    <tr>\n",
       "      <td>3</td>\n",
       "      <td>00003203-eaaf-49ee-a417-7fe5f1356a54</td>\n",
       "      <td>behance</td>\n",
       "      <td>in summer sunlight</td>\n",
       "      <td>{\"set\": \"https://www.behance.net/gallery/97320...</td>\n",
       "      <td>[{\"name\": \"Nature\", \"provider\": \"behance\"}, {\"...</td>\n",
       "      <td>NaN</td>\n",
       "      <td>[Nature, olive grove, Tuscany, sunlight, Lands...</td>\n",
       "      <td>[nan, nan, nan, nan, nan, nan, nan, nan, nan, ...</td>\n",
       "    </tr>\n",
       "    <tr>\n",
       "      <td>4</td>\n",
       "      <td>0000402f-a571-4607-9f6a-5e818fec3edd</td>\n",
       "      <td>behance</td>\n",
       "      <td>Drawings</td>\n",
       "      <td>{\"set\": \"https://www.behance.net/gallery/36764...</td>\n",
       "      <td>[{\"name\": \"handmade\", \"provider\": \"behance\"}, ...</td>\n",
       "      <td>NaN</td>\n",
       "      <td>[handmade, creative, +Drawing+, black, art, fa...</td>\n",
       "      <td>None</td>\n",
       "    </tr>\n",
       "    <tr>\n",
       "      <td>...</td>\n",
       "      <td>...</td>\n",
       "      <td>...</td>\n",
       "      <td>...</td>\n",
       "      <td>...</td>\n",
       "      <td>...</td>\n",
       "      <td>...</td>\n",
       "      <td>...</td>\n",
       "      <td>...</td>\n",
       "    </tr>\n",
       "    <tr>\n",
       "      <td>4324</td>\n",
       "      <td>00005f45-402f-4cd5-93ae-789f65462ec7</td>\n",
       "      <td>flickr</td>\n",
       "      <td>IMG_9884</td>\n",
       "      <td>{\"views\": \"0\", \"pub_date\": \"1571405226\", \"date...</td>\n",
       "      <td>[{\"name\": \"on\", \"provider\": \"flickr\"}, {\"name\"...</td>\n",
       "      <td>0.000000</td>\n",
       "      <td>[on, ontario, porthope, porthopeontario]</td>\n",
       "      <td>None</td>\n",
       "    </tr>\n",
       "    <tr>\n",
       "      <td>4325</td>\n",
       "      <td>0000387b-6c09-42a3-893f-12997e820f72</td>\n",
       "      <td>flickr</td>\n",
       "      <td>DSC02647</td>\n",
       "      <td>{\"views\": \"29\", \"pub_date\": \"1541607835\", \"dat...</td>\n",
       "      <td>[{\"name\": \"1018\", \"provider\": \"flickr\"}, {\"nam...</td>\n",
       "      <td>0.395666</td>\n",
       "      <td>[1018, 1018mm, a6300, alkjhgfds33, anita, chen...</td>\n",
       "      <td>None</td>\n",
       "    </tr>\n",
       "    <tr>\n",
       "      <td>4326</td>\n",
       "      <td>0000c695-7340-416b-9efc-188c83a82810</td>\n",
       "      <td>flickr</td>\n",
       "      <td>photo 1063 was taken at 10:38:29</td>\n",
       "      <td>{\"views\": \"71\", \"pub_date\": \"1574004547\", \"dat...</td>\n",
       "      <td>[{\"name\": \"2019\", \"provider\": \"flickr\"}, {\"nam...</td>\n",
       "      <td>0.615816</td>\n",
       "      <td>[2019, 595k, barrycornelius, oxonraces, radnag...</td>\n",
       "      <td>None</td>\n",
       "    </tr>\n",
       "    <tr>\n",
       "      <td>4327</td>\n",
       "      <td>000045ea-556a-42da-b7a1-7186637a6b6c</td>\n",
       "      <td>flickr</td>\n",
       "      <td>20091024-IMG_1285</td>\n",
       "      <td>{\"views\": \"72\", \"pub_date\": \"1256511956\", \"dat...</td>\n",
       "      <td>[{\"name\": \"allsoulschurch\", \"provider\": \"flick...</td>\n",
       "      <td>0.619120</td>\n",
       "      <td>[allsoulschurch, jenniferdorn, kenambrose, was...</td>\n",
       "      <td>None</td>\n",
       "    </tr>\n",
       "    <tr>\n",
       "      <td>4328</td>\n",
       "      <td>0000e658-2e32-4a98-917d-39fa483ea5ad</td>\n",
       "      <td>flickr</td>\n",
       "      <td>IMGP0970</td>\n",
       "      <td>{\"views\": \"16\", \"pub_date\": \"1567554741\", \"dat...</td>\n",
       "      <td>[{\"name\": \"2019\", \"provider\": \"flickr\"}]</td>\n",
       "      <td>0.265366</td>\n",
       "      <td>[2019]</td>\n",
       "      <td>None</td>\n",
       "    </tr>\n",
       "  </tbody>\n",
       "</table>\n",
       "<p>4329 rows × 8 columns</p>\n",
       "</div>"
      ],
      "text/plain": [
       "                                identifier provider  \\\n",
       "0     0000d3d2-f84e-4a36-8b19-054f9a9a6435   flickr   \n",
       "1     00008a09-c647-401c-942b-a6aeeeb80133  behance   \n",
       "2     000060a3-2a1e-4b61-9446-a6e71fdbddaa  behance   \n",
       "3     00003203-eaaf-49ee-a417-7fe5f1356a54  behance   \n",
       "4     0000402f-a571-4607-9f6a-5e818fec3edd  behance   \n",
       "...                                    ...      ...   \n",
       "4324  00005f45-402f-4cd5-93ae-789f65462ec7   flickr   \n",
       "4325  0000387b-6c09-42a3-893f-12997e820f72   flickr   \n",
       "4326  0000c695-7340-416b-9efc-188c83a82810   flickr   \n",
       "4327  000045ea-556a-42da-b7a1-7186637a6b6c   flickr   \n",
       "4328  0000e658-2e32-4a98-917d-39fa483ea5ad   flickr   \n",
       "\n",
       "                                                  title  \\\n",
       "0                            OKScotland - 13th May 2010   \n",
       "1                          Mikel Lovina Sportsfest 2013   \n",
       "2     Sports, video-editing, motion graphics and ani...   \n",
       "3                                    in summer sunlight   \n",
       "4                                              Drawings   \n",
       "...                                                 ...   \n",
       "4324                                           IMG_9884   \n",
       "4325                                           DSC02647   \n",
       "4326                   photo 1063 was taken at 10:38:29   \n",
       "4327                                  20091024-IMG_1285   \n",
       "4328                                           IMGP0970   \n",
       "\n",
       "                                              meta_data  \\\n",
       "0     {\"views\": \"0\", \"pub_date\": \"1273786159\", \"date...   \n",
       "1     {\"set\": \"https://www.behance.net/gallery/11169...   \n",
       "2     {\"set\": \"https://www.behance.net/gallery/99524...   \n",
       "3     {\"set\": \"https://www.behance.net/gallery/97320...   \n",
       "4     {\"set\": \"https://www.behance.net/gallery/36764...   \n",
       "...                                                 ...   \n",
       "4324  {\"views\": \"0\", \"pub_date\": \"1571405226\", \"date...   \n",
       "4325  {\"views\": \"29\", \"pub_date\": \"1541607835\", \"dat...   \n",
       "4326  {\"views\": \"71\", \"pub_date\": \"1574004547\", \"dat...   \n",
       "4327  {\"views\": \"72\", \"pub_date\": \"1256511956\", \"dat...   \n",
       "4328  {\"views\": \"16\", \"pub_date\": \"1567554741\", \"dat...   \n",
       "\n",
       "                                                   tags  \\\n",
       "0        [{\"name\": \"okscotland\", \"provider\": \"flickr\"}]   \n",
       "1     [{\"name\": \"sportsfest\", \"provider\": \"behance\"}...   \n",
       "2     [{\"name\": \"agency\", \"provider\": \"behance\"}, {\"...   \n",
       "3     [{\"name\": \"Nature\", \"provider\": \"behance\"}, {\"...   \n",
       "4     [{\"name\": \"handmade\", \"provider\": \"behance\"}, ...   \n",
       "...                                                 ...   \n",
       "4324  [{\"name\": \"on\", \"provider\": \"flickr\"}, {\"name\"...   \n",
       "4325  [{\"name\": \"1018\", \"provider\": \"flickr\"}, {\"nam...   \n",
       "4326  [{\"name\": \"2019\", \"provider\": \"flickr\"}, {\"nam...   \n",
       "4327  [{\"name\": \"allsoulschurch\", \"provider\": \"flick...   \n",
       "4328           [{\"name\": \"2019\", \"provider\": \"flickr\"}]   \n",
       "\n",
       "      standardized_popularity  \\\n",
       "0                    0.000000   \n",
       "1                         NaN   \n",
       "2                         NaN   \n",
       "3                         NaN   \n",
       "4                         NaN   \n",
       "...                       ...   \n",
       "4324                 0.000000   \n",
       "4325                 0.395666   \n",
       "4326                 0.615816   \n",
       "4327                 0.619120   \n",
       "4328                 0.265366   \n",
       "\n",
       "                                                   name  \\\n",
       "0                                          [okscotland]   \n",
       "1     [sportsfest, shirt, isolated, sleeve, casual, ...   \n",
       "2     [agency, catalogues, brochures, graphics, cost...   \n",
       "3     [Nature, olive grove, Tuscany, sunlight, Lands...   \n",
       "4     [handmade, creative, +Drawing+, black, art, fa...   \n",
       "...                                                 ...   \n",
       "4324           [on, ontario, porthope, porthopeontario]   \n",
       "4325  [1018, 1018mm, a6300, alkjhgfds33, anita, chen...   \n",
       "4326  [2019, 595k, barrycornelius, oxonraces, radnag...   \n",
       "4327  [allsoulschurch, jenniferdorn, kenambrose, was...   \n",
       "4328                                             [2019]   \n",
       "\n",
       "                                               accuracy  \n",
       "0                                                  None  \n",
       "1     [nan, 0.9973600000000001, 0.9889200000000001, ...  \n",
       "2     [nan, nan, nan, nan, nan, nan, nan, nan, nan, ...  \n",
       "3     [nan, nan, nan, nan, nan, nan, nan, nan, nan, ...  \n",
       "4                                                  None  \n",
       "...                                                 ...  \n",
       "4324                                               None  \n",
       "4325                                               None  \n",
       "4326                                               None  \n",
       "4327                                               None  \n",
       "4328                                               None  \n",
       "\n",
       "[4329 rows x 8 columns]"
      ]
     },
     "execution_count": 11,
     "metadata": {},
     "output_type": "execute_result"
    }
   ],
   "source": [
    "image_view"
   ]
  },
  {
   "cell_type": "markdown",
   "metadata": {
    "id": "IR9CuBFgjgMP"
   },
   "source": [
    "It's self-explanatory that entries with Nan do not have defined standardized popularity."
   ]
  },
  {
   "cell_type": "code",
   "execution_count": 12,
   "metadata": {
    "colab": {
     "base_uri": "https://localhost:8080/"
    },
    "id": "_Dkdh1lYiGs8",
    "outputId": "9d6e2117-efa5-4eac-9852-492357b2054e"
   },
   "outputs": [
    {
     "data": {
      "text/plain": [
       "0        True\n",
       "1       False\n",
       "2       False\n",
       "3       False\n",
       "4       False\n",
       "        ...  \n",
       "4324     True\n",
       "4325     True\n",
       "4326     True\n",
       "4327     True\n",
       "4328     True\n",
       "Name: standardized_popularity, Length: 4329, dtype: bool"
      ]
     },
     "execution_count": 12,
     "metadata": {},
     "output_type": "execute_result"
    }
   ],
   "source": [
    "image_view[\"standardized_popularity\"].notnull()"
   ]
  },
  {
   "cell_type": "code",
   "execution_count": 13,
   "metadata": {
    "colab": {
     "base_uri": "https://localhost:8080/",
     "height": 946
    },
    "id": "2LwZu9Mchtqu",
    "outputId": "5d4438e2-f4c6-43b7-ea10-87f5e73d5ab8"
   },
   "outputs": [
    {
     "data": {
      "text/html": [
       "<div>\n",
       "<style scoped>\n",
       "    .dataframe tbody tr th:only-of-type {\n",
       "        vertical-align: middle;\n",
       "    }\n",
       "\n",
       "    .dataframe tbody tr th {\n",
       "        vertical-align: top;\n",
       "    }\n",
       "\n",
       "    .dataframe thead th {\n",
       "        text-align: right;\n",
       "    }\n",
       "</style>\n",
       "<table border=\"1\" class=\"dataframe\">\n",
       "  <thead>\n",
       "    <tr style=\"text-align: right;\">\n",
       "      <th></th>\n",
       "      <th>identifier</th>\n",
       "      <th>provider</th>\n",
       "      <th>title</th>\n",
       "      <th>meta_data</th>\n",
       "      <th>tags</th>\n",
       "      <th>standardized_popularity</th>\n",
       "      <th>name</th>\n",
       "      <th>accuracy</th>\n",
       "    </tr>\n",
       "  </thead>\n",
       "  <tbody>\n",
       "    <tr>\n",
       "      <td>0</td>\n",
       "      <td>0000d3d2-f84e-4a36-8b19-054f9a9a6435</td>\n",
       "      <td>flickr</td>\n",
       "      <td>OKScotland - 13th May 2010</td>\n",
       "      <td>{\"views\": \"0\", \"pub_date\": \"1273786159\", \"date...</td>\n",
       "      <td>[{\"name\": \"okscotland\", \"provider\": \"flickr\"}]</td>\n",
       "      <td>0.000000</td>\n",
       "      <td>[okscotland]</td>\n",
       "      <td>None</td>\n",
       "    </tr>\n",
       "    <tr>\n",
       "      <td>62</td>\n",
       "      <td>0000674a-67d0-4bc0-bdae-43941d334819</td>\n",
       "      <td>flickr</td>\n",
       "      <td>IMG_6984</td>\n",
       "      <td>{\"views\": \"0\", \"pub_date\": \"1499184677\", \"date...</td>\n",
       "      <td>[{\"name\": \"wa\", \"provider\": \"flickr\"}, {\"name\"...</td>\n",
       "      <td>0.000000</td>\n",
       "      <td>[wa, washington]</td>\n",
       "      <td>None</td>\n",
       "    </tr>\n",
       "    <tr>\n",
       "      <td>63</td>\n",
       "      <td>00003eb2-dfc0-4d02-b42a-dc305520227e</td>\n",
       "      <td>flickr</td>\n",
       "      <td>IMG_3597</td>\n",
       "      <td>{\"views\": \"0\", \"pub_date\": \"1437561179\", \"date...</td>\n",
       "      <td>[{\"name\": \"june2015\", \"provider\": \"flickr\"}]</td>\n",
       "      <td>0.000000</td>\n",
       "      <td>[june2015]</td>\n",
       "      <td>None</td>\n",
       "    </tr>\n",
       "    <tr>\n",
       "      <td>107</td>\n",
       "      <td>00009236-c5e4-4f9a-87ad-233df6a177c0</td>\n",
       "      <td>flickr</td>\n",
       "      <td>19022029_1289125634541866_1475748279_n.jpg</td>\n",
       "      <td>{\"views\": \"0\", \"pub_date\": \"1499830269\", \"date...</td>\n",
       "      <td>[{\"name\": \"nhadatvideo\", \"provider\": \"flickr\"}]</td>\n",
       "      <td>0.000000</td>\n",
       "      <td>[nhadatvideo]</td>\n",
       "      <td>None</td>\n",
       "    </tr>\n",
       "    <tr>\n",
       "      <td>108</td>\n",
       "      <td>0000f94c-e4dd-4937-9dbe-a4f0a5aa4c2a</td>\n",
       "      <td>flickr</td>\n",
       "      <td>Mahler: Das Lied von der Erde (Arranged by Sch...</td>\n",
       "      <td>{\"views\": \"0\", \"pub_date\": \"1574541824\", \"date...</td>\n",
       "      <td>[{\"name\": \"by\", \"provider\": \"flickr\"}, {\"name\"...</td>\n",
       "      <td>0.000000</td>\n",
       "      <td>[by, das, der, erde, lied, von]</td>\n",
       "      <td>None</td>\n",
       "    </tr>\n",
       "    <tr>\n",
       "      <td>...</td>\n",
       "      <td>...</td>\n",
       "      <td>...</td>\n",
       "      <td>...</td>\n",
       "      <td>...</td>\n",
       "      <td>...</td>\n",
       "      <td>...</td>\n",
       "      <td>...</td>\n",
       "      <td>...</td>\n",
       "    </tr>\n",
       "    <tr>\n",
       "      <td>4324</td>\n",
       "      <td>00005f45-402f-4cd5-93ae-789f65462ec7</td>\n",
       "      <td>flickr</td>\n",
       "      <td>IMG_9884</td>\n",
       "      <td>{\"views\": \"0\", \"pub_date\": \"1571405226\", \"date...</td>\n",
       "      <td>[{\"name\": \"on\", \"provider\": \"flickr\"}, {\"name\"...</td>\n",
       "      <td>0.000000</td>\n",
       "      <td>[on, ontario, porthope, porthopeontario]</td>\n",
       "      <td>None</td>\n",
       "    </tr>\n",
       "    <tr>\n",
       "      <td>4325</td>\n",
       "      <td>0000387b-6c09-42a3-893f-12997e820f72</td>\n",
       "      <td>flickr</td>\n",
       "      <td>DSC02647</td>\n",
       "      <td>{\"views\": \"29\", \"pub_date\": \"1541607835\", \"dat...</td>\n",
       "      <td>[{\"name\": \"1018\", \"provider\": \"flickr\"}, {\"nam...</td>\n",
       "      <td>0.395666</td>\n",
       "      <td>[1018, 1018mm, a6300, alkjhgfds33, anita, chen...</td>\n",
       "      <td>None</td>\n",
       "    </tr>\n",
       "    <tr>\n",
       "      <td>4326</td>\n",
       "      <td>0000c695-7340-416b-9efc-188c83a82810</td>\n",
       "      <td>flickr</td>\n",
       "      <td>photo 1063 was taken at 10:38:29</td>\n",
       "      <td>{\"views\": \"71\", \"pub_date\": \"1574004547\", \"dat...</td>\n",
       "      <td>[{\"name\": \"2019\", \"provider\": \"flickr\"}, {\"nam...</td>\n",
       "      <td>0.615816</td>\n",
       "      <td>[2019, 595k, barrycornelius, oxonraces, radnag...</td>\n",
       "      <td>None</td>\n",
       "    </tr>\n",
       "    <tr>\n",
       "      <td>4327</td>\n",
       "      <td>000045ea-556a-42da-b7a1-7186637a6b6c</td>\n",
       "      <td>flickr</td>\n",
       "      <td>20091024-IMG_1285</td>\n",
       "      <td>{\"views\": \"72\", \"pub_date\": \"1256511956\", \"dat...</td>\n",
       "      <td>[{\"name\": \"allsoulschurch\", \"provider\": \"flick...</td>\n",
       "      <td>0.619120</td>\n",
       "      <td>[allsoulschurch, jenniferdorn, kenambrose, was...</td>\n",
       "      <td>None</td>\n",
       "    </tr>\n",
       "    <tr>\n",
       "      <td>4328</td>\n",
       "      <td>0000e658-2e32-4a98-917d-39fa483ea5ad</td>\n",
       "      <td>flickr</td>\n",
       "      <td>IMGP0970</td>\n",
       "      <td>{\"views\": \"16\", \"pub_date\": \"1567554741\", \"dat...</td>\n",
       "      <td>[{\"name\": \"2019\", \"provider\": \"flickr\"}]</td>\n",
       "      <td>0.265366</td>\n",
       "      <td>[2019]</td>\n",
       "      <td>None</td>\n",
       "    </tr>\n",
       "  </tbody>\n",
       "</table>\n",
       "<p>3854 rows × 8 columns</p>\n",
       "</div>"
      ],
      "text/plain": [
       "                                identifier provider  \\\n",
       "0     0000d3d2-f84e-4a36-8b19-054f9a9a6435   flickr   \n",
       "62    0000674a-67d0-4bc0-bdae-43941d334819   flickr   \n",
       "63    00003eb2-dfc0-4d02-b42a-dc305520227e   flickr   \n",
       "107   00009236-c5e4-4f9a-87ad-233df6a177c0   flickr   \n",
       "108   0000f94c-e4dd-4937-9dbe-a4f0a5aa4c2a   flickr   \n",
       "...                                    ...      ...   \n",
       "4324  00005f45-402f-4cd5-93ae-789f65462ec7   flickr   \n",
       "4325  0000387b-6c09-42a3-893f-12997e820f72   flickr   \n",
       "4326  0000c695-7340-416b-9efc-188c83a82810   flickr   \n",
       "4327  000045ea-556a-42da-b7a1-7186637a6b6c   flickr   \n",
       "4328  0000e658-2e32-4a98-917d-39fa483ea5ad   flickr   \n",
       "\n",
       "                                                  title  \\\n",
       "0                            OKScotland - 13th May 2010   \n",
       "62                                             IMG_6984   \n",
       "63                                             IMG_3597   \n",
       "107          19022029_1289125634541866_1475748279_n.jpg   \n",
       "108   Mahler: Das Lied von der Erde (Arranged by Sch...   \n",
       "...                                                 ...   \n",
       "4324                                           IMG_9884   \n",
       "4325                                           DSC02647   \n",
       "4326                   photo 1063 was taken at 10:38:29   \n",
       "4327                                  20091024-IMG_1285   \n",
       "4328                                           IMGP0970   \n",
       "\n",
       "                                              meta_data  \\\n",
       "0     {\"views\": \"0\", \"pub_date\": \"1273786159\", \"date...   \n",
       "62    {\"views\": \"0\", \"pub_date\": \"1499184677\", \"date...   \n",
       "63    {\"views\": \"0\", \"pub_date\": \"1437561179\", \"date...   \n",
       "107   {\"views\": \"0\", \"pub_date\": \"1499830269\", \"date...   \n",
       "108   {\"views\": \"0\", \"pub_date\": \"1574541824\", \"date...   \n",
       "...                                                 ...   \n",
       "4324  {\"views\": \"0\", \"pub_date\": \"1571405226\", \"date...   \n",
       "4325  {\"views\": \"29\", \"pub_date\": \"1541607835\", \"dat...   \n",
       "4326  {\"views\": \"71\", \"pub_date\": \"1574004547\", \"dat...   \n",
       "4327  {\"views\": \"72\", \"pub_date\": \"1256511956\", \"dat...   \n",
       "4328  {\"views\": \"16\", \"pub_date\": \"1567554741\", \"dat...   \n",
       "\n",
       "                                                   tags  \\\n",
       "0        [{\"name\": \"okscotland\", \"provider\": \"flickr\"}]   \n",
       "62    [{\"name\": \"wa\", \"provider\": \"flickr\"}, {\"name\"...   \n",
       "63         [{\"name\": \"june2015\", \"provider\": \"flickr\"}]   \n",
       "107     [{\"name\": \"nhadatvideo\", \"provider\": \"flickr\"}]   \n",
       "108   [{\"name\": \"by\", \"provider\": \"flickr\"}, {\"name\"...   \n",
       "...                                                 ...   \n",
       "4324  [{\"name\": \"on\", \"provider\": \"flickr\"}, {\"name\"...   \n",
       "4325  [{\"name\": \"1018\", \"provider\": \"flickr\"}, {\"nam...   \n",
       "4326  [{\"name\": \"2019\", \"provider\": \"flickr\"}, {\"nam...   \n",
       "4327  [{\"name\": \"allsoulschurch\", \"provider\": \"flick...   \n",
       "4328           [{\"name\": \"2019\", \"provider\": \"flickr\"}]   \n",
       "\n",
       "      standardized_popularity  \\\n",
       "0                    0.000000   \n",
       "62                   0.000000   \n",
       "63                   0.000000   \n",
       "107                  0.000000   \n",
       "108                  0.000000   \n",
       "...                       ...   \n",
       "4324                 0.000000   \n",
       "4325                 0.395666   \n",
       "4326                 0.615816   \n",
       "4327                 0.619120   \n",
       "4328                 0.265366   \n",
       "\n",
       "                                                   name accuracy  \n",
       "0                                          [okscotland]     None  \n",
       "62                                     [wa, washington]     None  \n",
       "63                                           [june2015]     None  \n",
       "107                                       [nhadatvideo]     None  \n",
       "108                     [by, das, der, erde, lied, von]     None  \n",
       "...                                                 ...      ...  \n",
       "4324           [on, ontario, porthope, porthopeontario]     None  \n",
       "4325  [1018, 1018mm, a6300, alkjhgfds33, anita, chen...     None  \n",
       "4326  [2019, 595k, barrycornelius, oxonraces, radnag...     None  \n",
       "4327  [allsoulschurch, jenniferdorn, kenambrose, was...     None  \n",
       "4328                                             [2019]     None  \n",
       "\n",
       "[3854 rows x 8 columns]"
      ]
     },
     "execution_count": 13,
     "metadata": {},
     "output_type": "execute_result"
    }
   ],
   "source": [
    "image_view_sp_no_Nan = image_view[image_view[\"standardized_popularity\"].notnull()]\n",
    "image_view_sp_no_Nan"
   ]
  },
  {
   "cell_type": "markdown",
   "metadata": {
    "id": "kzyhi7JNi68I"
   },
   "source": [
    "As we can see, after we remove entries with Null standardized popularity. Many of entries have standardized popularity = 0. I here assume we can safely categorize the entry with sp=0 as the entry with no defined standardized popularity. But it turns out this approach is not good. 0 does have a meaning such as the case an image has no views."
   ]
  },
  {
   "cell_type": "code",
   "execution_count": 14,
   "metadata": {
    "colab": {
     "base_uri": "https://localhost:8080/",
     "height": 946
    },
    "id": "-SOY9QuRh_Qn",
    "outputId": "9f6566cc-ab0a-4d8c-e81a-38b4d20acd23"
   },
   "outputs": [
    {
     "data": {
      "text/html": [
       "<div>\n",
       "<style scoped>\n",
       "    .dataframe tbody tr th:only-of-type {\n",
       "        vertical-align: middle;\n",
       "    }\n",
       "\n",
       "    .dataframe tbody tr th {\n",
       "        vertical-align: top;\n",
       "    }\n",
       "\n",
       "    .dataframe thead th {\n",
       "        text-align: right;\n",
       "    }\n",
       "</style>\n",
       "<table border=\"1\" class=\"dataframe\">\n",
       "  <thead>\n",
       "    <tr style=\"text-align: right;\">\n",
       "      <th></th>\n",
       "      <th>identifier</th>\n",
       "      <th>provider</th>\n",
       "      <th>title</th>\n",
       "      <th>meta_data</th>\n",
       "      <th>tags</th>\n",
       "      <th>standardized_popularity</th>\n",
       "      <th>name</th>\n",
       "      <th>accuracy</th>\n",
       "    </tr>\n",
       "  </thead>\n",
       "  <tbody>\n",
       "    <tr>\n",
       "      <td>0</td>\n",
       "      <td>0000d3d2-f84e-4a36-8b19-054f9a9a6435</td>\n",
       "      <td>flickr</td>\n",
       "      <td>OKScotland - 13th May 2010</td>\n",
       "      <td>{\"views\": \"0\", \"pub_date\": \"1273786159\", \"date...</td>\n",
       "      <td>[{\"name\": \"okscotland\", \"provider\": \"flickr\"}]</td>\n",
       "      <td>0.000000</td>\n",
       "      <td>[okscotland]</td>\n",
       "      <td>None</td>\n",
       "    </tr>\n",
       "    <tr>\n",
       "      <td>62</td>\n",
       "      <td>0000674a-67d0-4bc0-bdae-43941d334819</td>\n",
       "      <td>flickr</td>\n",
       "      <td>IMG_6984</td>\n",
       "      <td>{\"views\": \"0\", \"pub_date\": \"1499184677\", \"date...</td>\n",
       "      <td>[{\"name\": \"wa\", \"provider\": \"flickr\"}, {\"name\"...</td>\n",
       "      <td>0.000000</td>\n",
       "      <td>[wa, washington]</td>\n",
       "      <td>None</td>\n",
       "    </tr>\n",
       "    <tr>\n",
       "      <td>63</td>\n",
       "      <td>00003eb2-dfc0-4d02-b42a-dc305520227e</td>\n",
       "      <td>flickr</td>\n",
       "      <td>IMG_3597</td>\n",
       "      <td>{\"views\": \"0\", \"pub_date\": \"1437561179\", \"date...</td>\n",
       "      <td>[{\"name\": \"june2015\", \"provider\": \"flickr\"}]</td>\n",
       "      <td>0.000000</td>\n",
       "      <td>[june2015]</td>\n",
       "      <td>None</td>\n",
       "    </tr>\n",
       "    <tr>\n",
       "      <td>107</td>\n",
       "      <td>00009236-c5e4-4f9a-87ad-233df6a177c0</td>\n",
       "      <td>flickr</td>\n",
       "      <td>19022029_1289125634541866_1475748279_n.jpg</td>\n",
       "      <td>{\"views\": \"0\", \"pub_date\": \"1499830269\", \"date...</td>\n",
       "      <td>[{\"name\": \"nhadatvideo\", \"provider\": \"flickr\"}]</td>\n",
       "      <td>0.000000</td>\n",
       "      <td>[nhadatvideo]</td>\n",
       "      <td>None</td>\n",
       "    </tr>\n",
       "    <tr>\n",
       "      <td>108</td>\n",
       "      <td>0000f94c-e4dd-4937-9dbe-a4f0a5aa4c2a</td>\n",
       "      <td>flickr</td>\n",
       "      <td>Mahler: Das Lied von der Erde (Arranged by Sch...</td>\n",
       "      <td>{\"views\": \"0\", \"pub_date\": \"1574541824\", \"date...</td>\n",
       "      <td>[{\"name\": \"by\", \"provider\": \"flickr\"}, {\"name\"...</td>\n",
       "      <td>0.000000</td>\n",
       "      <td>[by, das, der, erde, lied, von]</td>\n",
       "      <td>None</td>\n",
       "    </tr>\n",
       "    <tr>\n",
       "      <td>...</td>\n",
       "      <td>...</td>\n",
       "      <td>...</td>\n",
       "      <td>...</td>\n",
       "      <td>...</td>\n",
       "      <td>...</td>\n",
       "      <td>...</td>\n",
       "      <td>...</td>\n",
       "      <td>...</td>\n",
       "    </tr>\n",
       "    <tr>\n",
       "      <td>4324</td>\n",
       "      <td>00005f45-402f-4cd5-93ae-789f65462ec7</td>\n",
       "      <td>flickr</td>\n",
       "      <td>IMG_9884</td>\n",
       "      <td>{\"views\": \"0\", \"pub_date\": \"1571405226\", \"date...</td>\n",
       "      <td>[{\"name\": \"on\", \"provider\": \"flickr\"}, {\"name\"...</td>\n",
       "      <td>0.000000</td>\n",
       "      <td>[on, ontario, porthope, porthopeontario]</td>\n",
       "      <td>None</td>\n",
       "    </tr>\n",
       "    <tr>\n",
       "      <td>4325</td>\n",
       "      <td>0000387b-6c09-42a3-893f-12997e820f72</td>\n",
       "      <td>flickr</td>\n",
       "      <td>DSC02647</td>\n",
       "      <td>{\"views\": \"29\", \"pub_date\": \"1541607835\", \"dat...</td>\n",
       "      <td>[{\"name\": \"1018\", \"provider\": \"flickr\"}, {\"nam...</td>\n",
       "      <td>0.395666</td>\n",
       "      <td>[1018, 1018mm, a6300, alkjhgfds33, anita, chen...</td>\n",
       "      <td>None</td>\n",
       "    </tr>\n",
       "    <tr>\n",
       "      <td>4326</td>\n",
       "      <td>0000c695-7340-416b-9efc-188c83a82810</td>\n",
       "      <td>flickr</td>\n",
       "      <td>photo 1063 was taken at 10:38:29</td>\n",
       "      <td>{\"views\": \"71\", \"pub_date\": \"1574004547\", \"dat...</td>\n",
       "      <td>[{\"name\": \"2019\", \"provider\": \"flickr\"}, {\"nam...</td>\n",
       "      <td>0.615816</td>\n",
       "      <td>[2019, 595k, barrycornelius, oxonraces, radnag...</td>\n",
       "      <td>None</td>\n",
       "    </tr>\n",
       "    <tr>\n",
       "      <td>4327</td>\n",
       "      <td>000045ea-556a-42da-b7a1-7186637a6b6c</td>\n",
       "      <td>flickr</td>\n",
       "      <td>20091024-IMG_1285</td>\n",
       "      <td>{\"views\": \"72\", \"pub_date\": \"1256511956\", \"dat...</td>\n",
       "      <td>[{\"name\": \"allsoulschurch\", \"provider\": \"flick...</td>\n",
       "      <td>0.619120</td>\n",
       "      <td>[allsoulschurch, jenniferdorn, kenambrose, was...</td>\n",
       "      <td>None</td>\n",
       "    </tr>\n",
       "    <tr>\n",
       "      <td>4328</td>\n",
       "      <td>0000e658-2e32-4a98-917d-39fa483ea5ad</td>\n",
       "      <td>flickr</td>\n",
       "      <td>IMGP0970</td>\n",
       "      <td>{\"views\": \"16\", \"pub_date\": \"1567554741\", \"dat...</td>\n",
       "      <td>[{\"name\": \"2019\", \"provider\": \"flickr\"}]</td>\n",
       "      <td>0.265366</td>\n",
       "      <td>[2019]</td>\n",
       "      <td>None</td>\n",
       "    </tr>\n",
       "  </tbody>\n",
       "</table>\n",
       "<p>3854 rows × 8 columns</p>\n",
       "</div>"
      ],
      "text/plain": [
       "                                identifier provider  \\\n",
       "0     0000d3d2-f84e-4a36-8b19-054f9a9a6435   flickr   \n",
       "62    0000674a-67d0-4bc0-bdae-43941d334819   flickr   \n",
       "63    00003eb2-dfc0-4d02-b42a-dc305520227e   flickr   \n",
       "107   00009236-c5e4-4f9a-87ad-233df6a177c0   flickr   \n",
       "108   0000f94c-e4dd-4937-9dbe-a4f0a5aa4c2a   flickr   \n",
       "...                                    ...      ...   \n",
       "4324  00005f45-402f-4cd5-93ae-789f65462ec7   flickr   \n",
       "4325  0000387b-6c09-42a3-893f-12997e820f72   flickr   \n",
       "4326  0000c695-7340-416b-9efc-188c83a82810   flickr   \n",
       "4327  000045ea-556a-42da-b7a1-7186637a6b6c   flickr   \n",
       "4328  0000e658-2e32-4a98-917d-39fa483ea5ad   flickr   \n",
       "\n",
       "                                                  title  \\\n",
       "0                            OKScotland - 13th May 2010   \n",
       "62                                             IMG_6984   \n",
       "63                                             IMG_3597   \n",
       "107          19022029_1289125634541866_1475748279_n.jpg   \n",
       "108   Mahler: Das Lied von der Erde (Arranged by Sch...   \n",
       "...                                                 ...   \n",
       "4324                                           IMG_9884   \n",
       "4325                                           DSC02647   \n",
       "4326                   photo 1063 was taken at 10:38:29   \n",
       "4327                                  20091024-IMG_1285   \n",
       "4328                                           IMGP0970   \n",
       "\n",
       "                                              meta_data  \\\n",
       "0     {\"views\": \"0\", \"pub_date\": \"1273786159\", \"date...   \n",
       "62    {\"views\": \"0\", \"pub_date\": \"1499184677\", \"date...   \n",
       "63    {\"views\": \"0\", \"pub_date\": \"1437561179\", \"date...   \n",
       "107   {\"views\": \"0\", \"pub_date\": \"1499830269\", \"date...   \n",
       "108   {\"views\": \"0\", \"pub_date\": \"1574541824\", \"date...   \n",
       "...                                                 ...   \n",
       "4324  {\"views\": \"0\", \"pub_date\": \"1571405226\", \"date...   \n",
       "4325  {\"views\": \"29\", \"pub_date\": \"1541607835\", \"dat...   \n",
       "4326  {\"views\": \"71\", \"pub_date\": \"1574004547\", \"dat...   \n",
       "4327  {\"views\": \"72\", \"pub_date\": \"1256511956\", \"dat...   \n",
       "4328  {\"views\": \"16\", \"pub_date\": \"1567554741\", \"dat...   \n",
       "\n",
       "                                                   tags  \\\n",
       "0        [{\"name\": \"okscotland\", \"provider\": \"flickr\"}]   \n",
       "62    [{\"name\": \"wa\", \"provider\": \"flickr\"}, {\"name\"...   \n",
       "63         [{\"name\": \"june2015\", \"provider\": \"flickr\"}]   \n",
       "107     [{\"name\": \"nhadatvideo\", \"provider\": \"flickr\"}]   \n",
       "108   [{\"name\": \"by\", \"provider\": \"flickr\"}, {\"name\"...   \n",
       "...                                                 ...   \n",
       "4324  [{\"name\": \"on\", \"provider\": \"flickr\"}, {\"name\"...   \n",
       "4325  [{\"name\": \"1018\", \"provider\": \"flickr\"}, {\"nam...   \n",
       "4326  [{\"name\": \"2019\", \"provider\": \"flickr\"}, {\"nam...   \n",
       "4327  [{\"name\": \"allsoulschurch\", \"provider\": \"flick...   \n",
       "4328           [{\"name\": \"2019\", \"provider\": \"flickr\"}]   \n",
       "\n",
       "      standardized_popularity  \\\n",
       "0                    0.000000   \n",
       "62                   0.000000   \n",
       "63                   0.000000   \n",
       "107                  0.000000   \n",
       "108                  0.000000   \n",
       "...                       ...   \n",
       "4324                 0.000000   \n",
       "4325                 0.395666   \n",
       "4326                 0.615816   \n",
       "4327                 0.619120   \n",
       "4328                 0.265366   \n",
       "\n",
       "                                                   name accuracy  \n",
       "0                                          [okscotland]     None  \n",
       "62                                     [wa, washington]     None  \n",
       "63                                           [june2015]     None  \n",
       "107                                       [nhadatvideo]     None  \n",
       "108                     [by, das, der, erde, lied, von]     None  \n",
       "...                                                 ...      ...  \n",
       "4324           [on, ontario, porthope, porthopeontario]     None  \n",
       "4325  [1018, 1018mm, a6300, alkjhgfds33, anita, chen...     None  \n",
       "4326  [2019, 595k, barrycornelius, oxonraces, radnag...     None  \n",
       "4327  [allsoulschurch, jenniferdorn, kenambrose, was...     None  \n",
       "4328                                             [2019]     None  \n",
       "\n",
       "[3854 rows x 8 columns]"
      ]
     },
     "execution_count": 14,
     "metadata": {},
     "output_type": "execute_result"
    }
   ],
   "source": [
    "image_view_sp_defined = image_view_sp_no_Nan[image_view_sp_no_Nan[\"standardized_popularity\"]>=0]\n",
    "image_view_sp_defined"
   ]
  },
  {
   "cell_type": "code",
   "execution_count": 15,
   "metadata": {
    "colab": {
     "base_uri": "https://localhost:8080/"
    },
    "id": "qRLu1xXWjtX2",
    "outputId": "5f92eb7a-2693-45e7-b527-425c158881e2"
   },
   "outputs": [
    {
     "name": "stdout",
     "output_type": "stream",
     "text": [
      "Out of 89.027% of the sample has defined standardized popularity\n"
     ]
    }
   ],
   "source": [
    "sp_defined_rate = image_view_sp_defined.shape[0] / image_view.shape[0]\n",
    "print(\"Out of \" + str(round(sp_defined_rate*100, 3)) + \"% of the sample has defined standardized popularity\")"
   ]
  },
  {
   "cell_type": "markdown",
   "metadata": {
    "id": "RqdSNlCdk1Mr"
   },
   "source": [
    "This percentage is as expected"
   ]
  },
  {
   "cell_type": "markdown",
   "metadata": {
    "id": "eoMPcQmAlX8d"
   },
   "source": [
    "Now let's further dive into the standardized popularity to see if there are any unusual values."
   ]
  },
  {
   "cell_type": "code",
   "execution_count": 16,
   "metadata": {
    "id": "NTlYa9QWm8HF"
   },
   "outputs": [],
   "source": [
    "sp_type = [type(i)== float for i in image_view_sp_defined[\"standardized_popularity\"]]"
   ]
  },
  {
   "cell_type": "code",
   "execution_count": 17,
   "metadata": {
    "colab": {
     "base_uri": "https://localhost:8080/"
    },
    "id": "2tVvfl3omm1A",
    "outputId": "901dd589-136b-4268-c452-037c07733338"
   },
   "outputs": [
    {
     "name": "stdout",
     "output_type": "stream",
     "text": [
      "All defined standardized popularity is a float value? True\n"
     ]
    }
   ],
   "source": [
    "print(\"All defined standardized popularity is a float value?\", all(sp_type))"
   ]
  },
  {
   "cell_type": "code",
   "execution_count": 18,
   "metadata": {
    "colab": {
     "base_uri": "https://localhost:8080/"
    },
    "id": "mr7pE41kkO2y",
    "outputId": "27d488f0-bb99-43f5-a012-c0e2ca68713a"
   },
   "outputs": [
    {
     "name": "stdout",
     "output_type": "stream",
     "text": [
      "The max standardized popularity score in our sample is  0.999159269804053\n"
     ]
    }
   ],
   "source": [
    "print(\"The max standardized popularity score in our sample is \", max(image_view_sp_defined[\"standardized_popularity\"]))"
   ]
  },
  {
   "cell_type": "code",
   "execution_count": 19,
   "metadata": {
    "colab": {
     "base_uri": "https://localhost:8080/"
    },
    "id": "o1fsZeLllrRg",
    "outputId": "df120dd7-d29b-4016-b46e-69a3abfcac2c"
   },
   "outputs": [
    {
     "name": "stdout",
     "output_type": "stream",
     "text": [
      "The min standardized popularity score in our sample is  0.0\n"
     ]
    }
   ],
   "source": [
    "print(\"The min standardized popularity score in our sample is \", min(image_view_sp_defined[\"standardized_popularity\"]))"
   ]
  },
  {
   "cell_type": "markdown",
   "metadata": {
    "id": "0Dct1tE9lwG_"
   },
   "source": [
    "It's important to check if we have some non-null but also non-numerical value in the dataset. Luckily, we don't. The max and min makes sense since our standardized popularity score should be in the interval between 0 and 1. So it seems that the value is in the correct range."
   ]
  },
  {
   "cell_type": "code",
   "execution_count": 20,
   "metadata": {
    "colab": {
     "base_uri": "https://localhost:8080/",
     "height": 282
    },
    "id": "JJaCmz7sl8BK",
    "outputId": "d8cf3d8f-f368-4686-9f0c-54ba6850b818"
   },
   "outputs": [
    {
     "data": {
      "text/plain": [
       "<matplotlib.axes._subplots.AxesSubplot at 0x7feb94e2f190>"
      ]
     },
     "execution_count": 20,
     "metadata": {},
     "output_type": "execute_result"
    }
   ],
   "source": [
    "image_view_sp_defined[\"standardized_popularity\"].hist(bins=50)"
   ]
  },
  {
   "cell_type": "code",
   "execution_count": 21,
   "metadata": {
    "colab": {
     "base_uri": "https://localhost:8080/",
     "height": 282
    },
    "id": "URGsz5URmRQK",
    "outputId": "f0300b5a-679d-4793-ad0e-8c459ca6046e",
    "scrolled": false
   },
   "outputs": [
    {
     "data": {
      "text/plain": [
       "<matplotlib.axes._subplots.AxesSubplot at 0x7feb97080910>"
      ]
     },
     "execution_count": 21,
     "metadata": {},
     "output_type": "execute_result"
    },
    {
     "data": {
      "image/png": "[encoded data removed]",
      "text/plain": [
       "<Figure size 432x288 with 1 Axes>"
      ]
     },
     "metadata": {
      "needs_background": "light"
     },
     "output_type": "display_data"
    }
   ],
   "source": [
    "image_view_sp_defined[\"standardized_popularity\"].hist(density=True, bins=50, cumulative=True)"
   ]
  },
  {
   "cell_type": "markdown",
   "metadata": {
    "id": "FzlDYyPS5zGD"
   },
   "source": [
    "# Vectorize Using sklearn"
   ]
  },
  {
   "cell_type": "markdown",
   "metadata": {
    "id": "e87Oyh155zGE"
   },
   "source": [
    "First import sklearn package"
   ]
  },
  {
   "cell_type": "code",
   "execution_count": 22,
   "metadata": {
    "id": "PrG-E_Oh5zGE"
   },
   "outputs": [],
   "source": [
    "from sklearn.feature_extraction.text import CountVectorizer"
   ]
  },
  {
   "cell_type": "markdown",
   "metadata": {
    "id": "yRUuNCQn5zGG"
   },
   "source": [
    "Transform the 'name' column of image_view into proper input"
   ]
  },
  {
   "cell_type": "code",
   "execution_count": 23,
   "metadata": {
    "colab": {
     "base_uri": "https://localhost:8080/"
    },
    "id": "ZQJyMkLi5zGH",
    "outputId": "7fe785cf-725c-410f-9724-d1724487dd86"
   },
   "outputs": [
    {
     "data": {
      "text/plain": [
       "['okscotland',\n",
       " 'wa washington',\n",
       " 'june2015',\n",
       " 'nhadatvideo',\n",
       " 'by das der erde lied von']"
      ]
     },
     "execution_count": 23,
     "metadata": {},
     "output_type": "execute_result"
    }
   ],
   "source": [
    "#The input shall be a list of strings\n",
    "proper_tagStr = []\n",
    "\n",
    "#Change each row of 'name' to a string\n",
    "for row in image_view_sp_defined['name']:\n",
    "    trans_row = ' '.join([str(elem) for elem in row])\n",
    "    proper_tagStr.append(trans_row)\n",
    "\n",
    "    \n",
    "#First five strings of the input\n",
    "proper_tagStr[:5]"
   ]
  },
  {
   "cell_type": "markdown",
   "metadata": {
    "id": "57up6whB5zGI"
   },
   "source": [
    "Use CountVectorizer feature to vectorize taglists."
   ]
  },
  {
   "cell_type": "code",
   "execution_count": 24,
   "metadata": {
    "id": "9POAAzvH5zGJ"
   },
   "outputs": [],
   "source": [
    "vectorizer = CountVectorizer()\n",
    "vectorized_tags = vectorizer.fit_transform(proper_tagStr)"
   ]
  },
  {
   "cell_type": "markdown",
   "metadata": {
    "id": "pYenXIPQ5zGK"
   },
   "source": [
    "There are a lot of different tag names found, so the dimension of our matrix is too big to show any details."
   ]
  },
  {
   "cell_type": "code",
   "execution_count": 25,
   "metadata": {
    "colab": {
     "base_uri": "https://localhost:8080/"
    },
    "id": "vqS0HjKi5zGL",
    "outputId": "b766ee28-4e5b-4840-a672-e46ec33134a8"
   },
   "outputs": [
    {
     "name": "stdout",
     "output_type": "stream",
     "text": [
      "Number of different tag names:  17945\n",
      "The matrix of token counts: \n",
      " [[0 0 0 ... 0 0 0]\n",
      " [0 0 0 ... 0 0 0]\n",
      " [0 0 0 ... 0 0 0]\n",
      " ...\n",
      " [0 0 0 ... 0 0 0]\n",
      " [0 0 0 ... 0 0 0]\n",
      " [0 0 0 ... 0 0 0]]\n"
     ]
    }
   ],
   "source": [
    "print('Number of different tag names: ', len(vectorizer.get_feature_names()))\n",
    "print('The matrix of token counts: \\n', vectorized_tags.toarray())"
   ]
  },
  {
   "cell_type": "markdown",
   "metadata": {
    "id": "V68LXrZF5zGM"
   },
   "source": [
    "# Vectorize Using Bert Embeddings"
   ]
  },
  {
   "cell_type": "code",
   "execution_count": 26,
   "metadata": {
    "colab": {
     "base_uri": "https://localhost:8080/"
    },
    "id": "mFHTuv3JQqNT",
    "outputId": "7fc3dd66-eb6b-4af2-d63a-3367a4cc46b1"
   },
   "outputs": [
    {
     "data": {
      "text/plain": [
       "['okscotland',\n",
       " 'wa washington',\n",
       " 'june2015',\n",
       " 'nhadatvideo',\n",
       " 'by das der erde lied von']"
      ]
     },
     "execution_count": 26,
     "metadata": {},
     "output_type": "execute_result"
    }
   ],
   "source": [
    "proper_tagStr[0:5]"
   ]
  },
  {
   "cell_type": "markdown",
   "metadata": {
    "id": "-HsfuxON5zGN"
   },
   "source": [
    "First install pytorch-pretrained-bert and import various Bert packages."
   ]
  },
  {
   "cell_type": "code",
   "execution_count": 27,
   "metadata": {
    "colab": {
     "base_uri": "https://localhost:8080/",
     "height": 833
    },
    "id": "UtrcUPPm5zGN",
    "outputId": "56ac98ca-9fa4-41f2-aac9-b2a6598f66d5"
   },
   "outputs": [
    {
     "name": "stdout",
     "output_type": "stream",
     "text": [
      "Requirement already satisfied: pytorch-pretrained-bert in /opt/anaconda3/lib/python3.7/site-packages (0.6.2)\n",
      "Requirement already satisfied: numpy in /opt/anaconda3/lib/python3.7/site-packages (from pytorch-pretrained-bert) (1.14.6)\n",
      "Requirement already satisfied: torch>=0.4.1 in /opt/anaconda3/lib/python3.7/site-packages (from pytorch-pretrained-bert) (1.4.0)\n",
      "Requirement already satisfied: requests in /opt/anaconda3/lib/python3.7/site-packages (from pytorch-pretrained-bert) (2.22.0)\n",
      "Requirement already satisfied: tqdm in /opt/anaconda3/lib/python3.7/site-packages (from pytorch-pretrained-bert) (4.36.1)\n",
      "Requirement already satisfied: regex in /opt/anaconda3/lib/python3.7/site-packages (from pytorch-pretrained-bert) (2020.10.15)\n",
      "Requirement already satisfied: boto3 in /opt/anaconda3/lib/python3.7/site-packages (from pytorch-pretrained-bert) (1.15.18)\n",
      "Requirement already satisfied: certifi>=2017.4.17 in /opt/anaconda3/lib/python3.7/site-packages (from requests->pytorch-pretrained-bert) (2019.9.11)\n",
      "Requirement already satisfied: idna<2.9,>=2.5 in /opt/anaconda3/lib/python3.7/site-packages (from requests->pytorch-pretrained-bert) (2.8)\n",
      "Requirement already satisfied: urllib3!=1.25.0,!=1.25.1,<1.26,>=1.21.1 in /opt/anaconda3/lib/python3.7/site-packages (from requests->pytorch-pretrained-bert) (1.25.10)\n",
      "Requirement already satisfied: chardet<3.1.0,>=3.0.2 in /opt/anaconda3/lib/python3.7/site-packages (from requests->pytorch-pretrained-bert) (3.0.4)\n",
      "Requirement already satisfied: s3transfer<0.4.0,>=0.3.0 in /opt/anaconda3/lib/python3.7/site-packages (from boto3->pytorch-pretrained-bert) (0.3.3)\n",
      "Requirement already satisfied: jmespath<1.0.0,>=0.7.1 in /opt/anaconda3/lib/python3.7/site-packages (from boto3->pytorch-pretrained-bert) (0.10.0)\n",
      "Requirement already satisfied: botocore<1.19.0,>=1.18.18 in /opt/anaconda3/lib/python3.7/site-packages (from boto3->pytorch-pretrained-bert) (1.18.18)\n",
      "Requirement already satisfied: python-dateutil<3.0.0,>=2.1 in /opt/anaconda3/lib/python3.7/site-packages (from botocore<1.19.0,>=1.18.18->boto3->pytorch-pretrained-bert) (2.8.0)\n",
      "Requirement already satisfied: six>=1.5 in /opt/anaconda3/lib/python3.7/site-packages (from python-dateutil<3.0.0,>=2.1->botocore<1.19.0,>=1.18.18->boto3->pytorch-pretrained-bert) (1.12.0)\n",
      "Requirement already satisfied: urllib3==1.25.10 in /opt/anaconda3/lib/python3.7/site-packages (1.25.10)\n"
     ]
    }
   ],
   "source": [
    "!pip install pytorch-pretrained-bert\n",
    "!pip install urllib3==1.25.10\n",
    "import torch\n",
    "from pytorch_pretrained_bert import BertTokenizer, BertModel, BertForMaskedLM\n",
    "tokenizer = BertTokenizer.from_pretrained('bert-base-uncased')"
   ]
  },
  {
   "cell_type": "markdown",
   "metadata": {
    "id": "QVF2JfrvTqno"
   },
   "source": [
    "The cell below checks the type of GPU on the Google colab. It is Tesla T4. Ignore this if you are running locally."
   ]
  },
  {
   "cell_type": "code",
   "execution_count": 28,
   "metadata": {
    "colab": {
     "base_uri": "https://localhost:8080/",
     "height": 34
    },
    "id": "eqs3ykrGTeeP",
    "outputId": "c344f2bd-2460-4fa5-c1b7-60b81bb65754"
   },
   "outputs": [
    {
     "ename": "AssertionError",
     "evalue": "Torch not compiled with CUDA enabled",
     "output_type": "error",
     "traceback": [
      "\u001b[0;31m---------------------------------------------------------------------------\u001b[0m",
      "\u001b[0;31mAssertionError\u001b[0m                            Traceback (most recent call last)",
      "\u001b[0;32m<ipython-input-28-f9c260299c38>\u001b[0m in \u001b[0;36m<module>\u001b[0;34m\u001b[0m\n\u001b[0;32m----> 1\u001b[0;31m \u001b[0mtorch\u001b[0m\u001b[0;34m.\u001b[0m\u001b[0mcuda\u001b[0m\u001b[0;34m.\u001b[0m\u001b[0mget_device_name\u001b[0m\u001b[0;34m(\u001b[0m\u001b[0;36m0\u001b[0m\u001b[0;34m)\u001b[0m\u001b[0;34m\u001b[0m\u001b[0;34m\u001b[0m\u001b[0m\n\u001b[0m",
      "\u001b[0;32m/opt/anaconda3/lib/python3.7/site-packages/torch/cuda/__init__.py\u001b[0m in \u001b[0;36mget_device_name\u001b[0;34m(device)\u001b[0m\n\u001b[1;32m    302\u001b[0m             \u001b[0;32mif\u001b[0m \u001b[0;34m:\u001b[0m\u001b[0mattr\u001b[0m\u001b[0;34m:\u001b[0m\u001b[0;31m`\u001b[0m\u001b[0mdevice\u001b[0m\u001b[0;31m`\u001b[0m \u001b[0;32mis\u001b[0m\u001b[0;31m \u001b[0m\u001b[0;31m`\u001b[0m\u001b[0;31m`\u001b[0m\u001b[0;32mNone\u001b[0m\u001b[0;31m`\u001b[0m\u001b[0;31m`\u001b[0m \u001b[0;34m(\u001b[0m\u001b[0mdefault\u001b[0m\u001b[0;34m)\u001b[0m\u001b[0;34m.\u001b[0m\u001b[0;34m\u001b[0m\u001b[0;34m\u001b[0m\u001b[0m\n\u001b[1;32m    303\u001b[0m     \"\"\"\n\u001b[0;32m--> 304\u001b[0;31m     \u001b[0;32mreturn\u001b[0m \u001b[0mget_device_properties\u001b[0m\u001b[0;34m(\u001b[0m\u001b[0mdevice\u001b[0m\u001b[0;34m)\u001b[0m\u001b[0;34m.\u001b[0m\u001b[0mname\u001b[0m\u001b[0;34m\u001b[0m\u001b[0;34m\u001b[0m\u001b[0m\n\u001b[0m\u001b[1;32m    305\u001b[0m \u001b[0;34m\u001b[0m\u001b[0m\n\u001b[1;32m    306\u001b[0m \u001b[0;34m\u001b[0m\u001b[0m\n",
      "\u001b[0;32m/opt/anaconda3/lib/python3.7/site-packages/torch/cuda/__init__.py\u001b[0m in \u001b[0;36mget_device_properties\u001b[0;34m(device)\u001b[0m\n\u001b[1;32m    323\u001b[0m \u001b[0;34m\u001b[0m\u001b[0m\n\u001b[1;32m    324\u001b[0m \u001b[0;32mdef\u001b[0m \u001b[0mget_device_properties\u001b[0m\u001b[0;34m(\u001b[0m\u001b[0mdevice\u001b[0m\u001b[0;34m)\u001b[0m\u001b[0;34m:\u001b[0m\u001b[0;34m\u001b[0m\u001b[0;34m\u001b[0m\u001b[0m\n\u001b[0;32m--> 325\u001b[0;31m     \u001b[0m_lazy_init\u001b[0m\u001b[0;34m(\u001b[0m\u001b[0;34m)\u001b[0m  \u001b[0;31m# will define _get_device_properties and _CudaDeviceProperties\u001b[0m\u001b[0;34m\u001b[0m\u001b[0;34m\u001b[0m\u001b[0m\n\u001b[0m\u001b[1;32m    326\u001b[0m     \u001b[0mdevice\u001b[0m \u001b[0;34m=\u001b[0m \u001b[0m_get_device_index\u001b[0m\u001b[0;34m(\u001b[0m\u001b[0mdevice\u001b[0m\u001b[0;34m,\u001b[0m \u001b[0moptional\u001b[0m\u001b[0;34m=\u001b[0m\u001b[0;32mTrue\u001b[0m\u001b[0;34m)\u001b[0m\u001b[0;34m\u001b[0m\u001b[0;34m\u001b[0m\u001b[0m\n\u001b[1;32m    327\u001b[0m     \u001b[0;32mif\u001b[0m \u001b[0mdevice\u001b[0m \u001b[0;34m<\u001b[0m \u001b[0;36m0\u001b[0m \u001b[0;32mor\u001b[0m \u001b[0mdevice\u001b[0m \u001b[0;34m>=\u001b[0m \u001b[0mdevice_count\u001b[0m\u001b[0;34m(\u001b[0m\u001b[0;34m)\u001b[0m\u001b[0;34m:\u001b[0m\u001b[0;34m\u001b[0m\u001b[0;34m\u001b[0m\u001b[0m\n",
      "\u001b[0;32m/opt/anaconda3/lib/python3.7/site-packages/torch/cuda/__init__.py\u001b[0m in \u001b[0;36m_lazy_init\u001b[0;34m()\u001b[0m\n\u001b[1;32m    194\u001b[0m             raise RuntimeError(\n\u001b[1;32m    195\u001b[0m                 \"Cannot re-initialize CUDA in forked subprocess. \" + msg)\n\u001b[0;32m--> 196\u001b[0;31m         \u001b[0m_check_driver\u001b[0m\u001b[0;34m(\u001b[0m\u001b[0;34m)\u001b[0m\u001b[0;34m\u001b[0m\u001b[0;34m\u001b[0m\u001b[0m\n\u001b[0m\u001b[1;32m    197\u001b[0m         \u001b[0mtorch\u001b[0m\u001b[0;34m.\u001b[0m\u001b[0m_C\u001b[0m\u001b[0;34m.\u001b[0m\u001b[0m_cuda_init\u001b[0m\u001b[0;34m(\u001b[0m\u001b[0;34m)\u001b[0m\u001b[0;34m\u001b[0m\u001b[0;34m\u001b[0m\u001b[0m\n\u001b[1;32m    198\u001b[0m         \u001b[0m_cudart\u001b[0m \u001b[0;34m=\u001b[0m \u001b[0m_load_cudart\u001b[0m\u001b[0;34m(\u001b[0m\u001b[0;34m)\u001b[0m\u001b[0;34m\u001b[0m\u001b[0;34m\u001b[0m\u001b[0m\n",
      "\u001b[0;32m/opt/anaconda3/lib/python3.7/site-packages/torch/cuda/__init__.py\u001b[0m in \u001b[0;36m_check_driver\u001b[0;34m()\u001b[0m\n\u001b[1;32m     92\u001b[0m \u001b[0;32mdef\u001b[0m \u001b[0m_check_driver\u001b[0m\u001b[0;34m(\u001b[0m\u001b[0;34m)\u001b[0m\u001b[0;34m:\u001b[0m\u001b[0;34m\u001b[0m\u001b[0;34m\u001b[0m\u001b[0m\n\u001b[1;32m     93\u001b[0m     \u001b[0;32mif\u001b[0m \u001b[0;32mnot\u001b[0m \u001b[0mhasattr\u001b[0m\u001b[0;34m(\u001b[0m\u001b[0mtorch\u001b[0m\u001b[0;34m.\u001b[0m\u001b[0m_C\u001b[0m\u001b[0;34m,\u001b[0m \u001b[0;34m'_cuda_isDriverSufficient'\u001b[0m\u001b[0;34m)\u001b[0m\u001b[0;34m:\u001b[0m\u001b[0;34m\u001b[0m\u001b[0;34m\u001b[0m\u001b[0m\n\u001b[0;32m---> 94\u001b[0;31m         \u001b[0;32mraise\u001b[0m \u001b[0mAssertionError\u001b[0m\u001b[0;34m(\u001b[0m\u001b[0;34m\"Torch not compiled with CUDA enabled\"\u001b[0m\u001b[0;34m)\u001b[0m\u001b[0;34m\u001b[0m\u001b[0;34m\u001b[0m\u001b[0m\n\u001b[0m\u001b[1;32m     95\u001b[0m     \u001b[0;32mif\u001b[0m \u001b[0;32mnot\u001b[0m \u001b[0mtorch\u001b[0m\u001b[0;34m.\u001b[0m\u001b[0m_C\u001b[0m\u001b[0;34m.\u001b[0m\u001b[0m_cuda_isDriverSufficient\u001b[0m\u001b[0;34m(\u001b[0m\u001b[0;34m)\u001b[0m\u001b[0;34m:\u001b[0m\u001b[0;34m\u001b[0m\u001b[0;34m\u001b[0m\u001b[0m\n\u001b[1;32m     96\u001b[0m         \u001b[0;32mif\u001b[0m \u001b[0mtorch\u001b[0m\u001b[0;34m.\u001b[0m\u001b[0m_C\u001b[0m\u001b[0;34m.\u001b[0m\u001b[0m_cuda_getDriverVersion\u001b[0m\u001b[0;34m(\u001b[0m\u001b[0;34m)\u001b[0m \u001b[0;34m==\u001b[0m \u001b[0;36m0\u001b[0m\u001b[0;34m:\u001b[0m\u001b[0;34m\u001b[0m\u001b[0;34m\u001b[0m\u001b[0m\n",
      "\u001b[0;31mAssertionError\u001b[0m: Torch not compiled with CUDA enabled"
     ]
    }
   ],
   "source": [
    "torch.cuda.get_device_name(0)"
   ]
  },
  {
   "cell_type": "markdown",
   "metadata": {
    "id": "U1H4VDvCAzzQ"
   },
   "source": [
    "Now we first evaluate the bert model."
   ]
  },
  {
   "cell_type": "code",
   "execution_count": 30,
   "metadata": {
    "colab": {
     "base_uri": "https://localhost:8080/"
    },
    "id": "33_16hazA26W",
    "outputId": "f10b3448-201c-4448-ebda-eadc29c075e5"
   },
   "outputs": [
    {
     "data": {
      "text/plain": [
       "BertModel(\n",
       "  (embeddings): BertEmbeddings(\n",
       "    (word_embeddings): Embedding(30522, 768, padding_idx=0)\n",
       "    (position_embeddings): Embedding(512, 768)\n",
       "    (token_type_embeddings): Embedding(2, 768)\n",
       "    (LayerNorm): BertLayerNorm()\n",
       "    (dropout): Dropout(p=0.1, inplace=False)\n",
       "  )\n",
       "  (encoder): BertEncoder(\n",
       "    (layer): ModuleList(\n",
       "      (0): BertLayer(\n",
       "        (attention): BertAttention(\n",
       "          (self): BertSelfAttention(\n",
       "            (query): Linear(in_features=768, out_features=768, bias=True)\n",
       "            (key): Linear(in_features=768, out_features=768, bias=True)\n",
       "            (value): Linear(in_features=768, out_features=768, bias=True)\n",
       "            (dropout): Dropout(p=0.1, inplace=False)\n",
       "          )\n",
       "          (output): BertSelfOutput(\n",
       "            (dense): Linear(in_features=768, out_features=768, bias=True)\n",
       "            (LayerNorm): BertLayerNorm()\n",
       "            (dropout): Dropout(p=0.1, inplace=False)\n",
       "          )\n",
       "        )\n",
       "        (intermediate): BertIntermediate(\n",
       "          (dense): Linear(in_features=768, out_features=3072, bias=True)\n",
       "        )\n",
       "        (output): BertOutput(\n",
       "          (dense): Linear(in_features=3072, out_features=768, bias=True)\n",
       "          (LayerNorm): BertLayerNorm()\n",
       "          (dropout): Dropout(p=0.1, inplace=False)\n",
       "        )\n",
       "      )\n",
       "      (1): BertLayer(\n",
       "        (attention): BertAttention(\n",
       "          (self): BertSelfAttention(\n",
       "            (query): Linear(in_features=768, out_features=768, bias=True)\n",
       "            (key): Linear(in_features=768, out_features=768, bias=True)\n",
       "            (value): Linear(in_features=768, out_features=768, bias=True)\n",
       "            (dropout): Dropout(p=0.1, inplace=False)\n",
       "          )\n",
       "          (output): BertSelfOutput(\n",
       "            (dense): Linear(in_features=768, out_features=768, bias=True)\n",
       "            (LayerNorm): BertLayerNorm()\n",
       "            (dropout): Dropout(p=0.1, inplace=False)\n",
       "          )\n",
       "        )\n",
       "        (intermediate): BertIntermediate(\n",
       "          (dense): Linear(in_features=768, out_features=3072, bias=True)\n",
       "        )\n",
       "        (output): BertOutput(\n",
       "          (dense): Linear(in_features=3072, out_features=768, bias=True)\n",
       "          (LayerNorm): BertLayerNorm()\n",
       "          (dropout): Dropout(p=0.1, inplace=False)\n",
       "        )\n",
       "      )\n",
       "      (2): BertLayer(\n",
       "        (attention): BertAttention(\n",
       "          (self): BertSelfAttention(\n",
       "            (query): Linear(in_features=768, out_features=768, bias=True)\n",
       "            (key): Linear(in_features=768, out_features=768, bias=True)\n",
       "            (value): Linear(in_features=768, out_features=768, bias=True)\n",
       "            (dropout): Dropout(p=0.1, inplace=False)\n",
       "          )\n",
       "          (output): BertSelfOutput(\n",
       "            (dense): Linear(in_features=768, out_features=768, bias=True)\n",
       "            (LayerNorm): BertLayerNorm()\n",
       "            (dropout): Dropout(p=0.1, inplace=False)\n",
       "          )\n",
       "        )\n",
       "        (intermediate): BertIntermediate(\n",
       "          (dense): Linear(in_features=768, out_features=3072, bias=True)\n",
       "        )\n",
       "        (output): BertOutput(\n",
       "          (dense): Linear(in_features=3072, out_features=768, bias=True)\n",
       "          (LayerNorm): BertLayerNorm()\n",
       "          (dropout): Dropout(p=0.1, inplace=False)\n",
       "        )\n",
       "      )\n",
       "      (3): BertLayer(\n",
       "        (attention): BertAttention(\n",
       "          (self): BertSelfAttention(\n",
       "            (query): Linear(in_features=768, out_features=768, bias=True)\n",
       "            (key): Linear(in_features=768, out_features=768, bias=True)\n",
       "            (value): Linear(in_features=768, out_features=768, bias=True)\n",
       "            (dropout): Dropout(p=0.1, inplace=False)\n",
       "          )\n",
       "          (output): BertSelfOutput(\n",
       "            (dense): Linear(in_features=768, out_features=768, bias=True)\n",
       "            (LayerNorm): BertLayerNorm()\n",
       "            (dropout): Dropout(p=0.1, inplace=False)\n",
       "          )\n",
       "        )\n",
       "        (intermediate): BertIntermediate(\n",
       "          (dense): Linear(in_features=768, out_features=3072, bias=True)\n",
       "        )\n",
       "        (output): BertOutput(\n",
       "          (dense): Linear(in_features=3072, out_features=768, bias=True)\n",
       "          (LayerNorm): BertLayerNorm()\n",
       "          (dropout): Dropout(p=0.1, inplace=False)\n",
       "        )\n",
       "      )\n",
       "      (4): BertLayer(\n",
       "        (attention): BertAttention(\n",
       "          (self): BertSelfAttention(\n",
       "            (query): Linear(in_features=768, out_features=768, bias=True)\n",
       "            (key): Linear(in_features=768, out_features=768, bias=True)\n",
       "            (value): Linear(in_features=768, out_features=768, bias=True)\n",
       "            (dropout): Dropout(p=0.1, inplace=False)\n",
       "          )\n",
       "          (output): BertSelfOutput(\n",
       "            (dense): Linear(in_features=768, out_features=768, bias=True)\n",
       "            (LayerNorm): BertLayerNorm()\n",
       "            (dropout): Dropout(p=0.1, inplace=False)\n",
       "          )\n",
       "        )\n",
       "        (intermediate): BertIntermediate(\n",
       "          (dense): Linear(in_features=768, out_features=3072, bias=True)\n",
       "        )\n",
       "        (output): BertOutput(\n",
       "          (dense): Linear(in_features=3072, out_features=768, bias=True)\n",
       "          (LayerNorm): BertLayerNorm()\n",
       "          (dropout): Dropout(p=0.1, inplace=False)\n",
       "        )\n",
       "      )\n",
       "      (5): BertLayer(\n",
       "        (attention): BertAttention(\n",
       "          (self): BertSelfAttention(\n",
       "            (query): Linear(in_features=768, out_features=768, bias=True)\n",
       "            (key): Linear(in_features=768, out_features=768, bias=True)\n",
       "            (value): Linear(in_features=768, out_features=768, bias=True)\n",
       "            (dropout): Dropout(p=0.1, inplace=False)\n",
       "          )\n",
       "          (output): BertSelfOutput(\n",
       "            (dense): Linear(in_features=768, out_features=768, bias=True)\n",
       "            (LayerNorm): BertLayerNorm()\n",
       "            (dropout): Dropout(p=0.1, inplace=False)\n",
       "          )\n",
       "        )\n",
       "        (intermediate): BertIntermediate(\n",
       "          (dense): Linear(in_features=768, out_features=3072, bias=True)\n",
       "        )\n",
       "        (output): BertOutput(\n",
       "          (dense): Linear(in_features=3072, out_features=768, bias=True)\n",
       "          (LayerNorm): BertLayerNorm()\n",
       "          (dropout): Dropout(p=0.1, inplace=False)\n",
       "        )\n",
       "      )\n",
       "      (6): BertLayer(\n",
       "        (attention): BertAttention(\n",
       "          (self): BertSelfAttention(\n",
       "            (query): Linear(in_features=768, out_features=768, bias=True)\n",
       "            (key): Linear(in_features=768, out_features=768, bias=True)\n",
       "            (value): Linear(in_features=768, out_features=768, bias=True)\n",
       "            (dropout): Dropout(p=0.1, inplace=False)\n",
       "          )\n",
       "          (output): BertSelfOutput(\n",
       "            (dense): Linear(in_features=768, out_features=768, bias=True)\n",
       "            (LayerNorm): BertLayerNorm()\n",
       "            (dropout): Dropout(p=0.1, inplace=False)\n",
       "          )\n",
       "        )\n",
       "        (intermediate): BertIntermediate(\n",
       "          (dense): Linear(in_features=768, out_features=3072, bias=True)\n",
       "        )\n",
       "        (output): BertOutput(\n",
       "          (dense): Linear(in_features=3072, out_features=768, bias=True)\n",
       "          (LayerNorm): BertLayerNorm()\n",
       "          (dropout): Dropout(p=0.1, inplace=False)\n",
       "        )\n",
       "      )\n",
       "      (7): BertLayer(\n",
       "        (attention): BertAttention(\n",
       "          (self): BertSelfAttention(\n",
       "            (query): Linear(in_features=768, out_features=768, bias=True)\n",
       "            (key): Linear(in_features=768, out_features=768, bias=True)\n",
       "            (value): Linear(in_features=768, out_features=768, bias=True)\n",
       "            (dropout): Dropout(p=0.1, inplace=False)\n",
       "          )\n",
       "          (output): BertSelfOutput(\n",
       "            (dense): Linear(in_features=768, out_features=768, bias=True)\n",
       "            (LayerNorm): BertLayerNorm()\n",
       "            (dropout): Dropout(p=0.1, inplace=False)\n",
       "          )\n",
       "        )\n",
       "        (intermediate): BertIntermediate(\n",
       "          (dense): Linear(in_features=768, out_features=3072, bias=True)\n",
       "        )\n",
       "        (output): BertOutput(\n",
       "          (dense): Linear(in_features=3072, out_features=768, bias=True)\n",
       "          (LayerNorm): BertLayerNorm()\n",
       "          (dropout): Dropout(p=0.1, inplace=False)\n",
       "        )\n",
       "      )\n",
       "      (8): BertLayer(\n",
       "        (attention): BertAttention(\n",
       "          (self): BertSelfAttention(\n",
       "            (query): Linear(in_features=768, out_features=768, bias=True)\n",
       "            (key): Linear(in_features=768, out_features=768, bias=True)\n",
       "            (value): Linear(in_features=768, out_features=768, bias=True)\n",
       "            (dropout): Dropout(p=0.1, inplace=False)\n",
       "          )\n",
       "          (output): BertSelfOutput(\n",
       "            (dense): Linear(in_features=768, out_features=768, bias=True)\n",
       "            (LayerNorm): BertLayerNorm()\n",
       "            (dropout): Dropout(p=0.1, inplace=False)\n",
       "          )\n",
       "        )\n",
       "        (intermediate): BertIntermediate(\n",
       "          (dense): Linear(in_features=768, out_features=3072, bias=True)\n",
       "        )\n",
       "        (output): BertOutput(\n",
       "          (dense): Linear(in_features=3072, out_features=768, bias=True)\n",
       "          (LayerNorm): BertLayerNorm()\n",
       "          (dropout): Dropout(p=0.1, inplace=False)\n",
       "        )\n",
       "      )\n",
       "      (9): BertLayer(\n",
       "        (attention): BertAttention(\n",
       "          (self): BertSelfAttention(\n",
       "            (query): Linear(in_features=768, out_features=768, bias=True)\n",
       "            (key): Linear(in_features=768, out_features=768, bias=True)\n",
       "            (value): Linear(in_features=768, out_features=768, bias=True)\n",
       "            (dropout): Dropout(p=0.1, inplace=False)\n",
       "          )\n",
       "          (output): BertSelfOutput(\n",
       "            (dense): Linear(in_features=768, out_features=768, bias=True)\n",
       "            (LayerNorm): BertLayerNorm()\n",
       "            (dropout): Dropout(p=0.1, inplace=False)\n",
       "          )\n",
       "        )\n",
       "        (intermediate): BertIntermediate(\n",
       "          (dense): Linear(in_features=768, out_features=3072, bias=True)\n",
       "        )\n",
       "        (output): BertOutput(\n",
       "          (dense): Linear(in_features=3072, out_features=768, bias=True)\n",
       "          (LayerNorm): BertLayerNorm()\n",
       "          (dropout): Dropout(p=0.1, inplace=False)\n",
       "        )\n",
       "      )\n",
       "      (10): BertLayer(\n",
       "        (attention): BertAttention(\n",
       "          (self): BertSelfAttention(\n",
       "            (query): Linear(in_features=768, out_features=768, bias=True)\n",
       "            (key): Linear(in_features=768, out_features=768, bias=True)\n",
       "            (value): Linear(in_features=768, out_features=768, bias=True)\n",
       "            (dropout): Dropout(p=0.1, inplace=False)\n",
       "          )\n",
       "          (output): BertSelfOutput(\n",
       "            (dense): Linear(in_features=768, out_features=768, bias=True)\n",
       "            (LayerNorm): BertLayerNorm()\n",
       "            (dropout): Dropout(p=0.1, inplace=False)\n",
       "          )\n",
       "        )\n",
       "        (intermediate): BertIntermediate(\n",
       "          (dense): Linear(in_features=768, out_features=3072, bias=True)\n",
       "        )\n",
       "        (output): BertOutput(\n",
       "          (dense): Linear(in_features=3072, out_features=768, bias=True)\n",
       "          (LayerNorm): BertLayerNorm()\n",
       "          (dropout): Dropout(p=0.1, inplace=False)\n",
       "        )\n",
       "      )\n",
       "      (11): BertLayer(\n",
       "        (attention): BertAttention(\n",
       "          (self): BertSelfAttention(\n",
       "            (query): Linear(in_features=768, out_features=768, bias=True)\n",
       "            (key): Linear(in_features=768, out_features=768, bias=True)\n",
       "            (value): Linear(in_features=768, out_features=768, bias=True)\n",
       "            (dropout): Dropout(p=0.1, inplace=False)\n",
       "          )\n",
       "          (output): BertSelfOutput(\n",
       "            (dense): Linear(in_features=768, out_features=768, bias=True)\n",
       "            (LayerNorm): BertLayerNorm()\n",
       "            (dropout): Dropout(p=0.1, inplace=False)\n",
       "          )\n",
       "        )\n",
       "        (intermediate): BertIntermediate(\n",
       "          (dense): Linear(in_features=768, out_features=3072, bias=True)\n",
       "        )\n",
       "        (output): BertOutput(\n",
       "          (dense): Linear(in_features=3072, out_features=768, bias=True)\n",
       "          (LayerNorm): BertLayerNorm()\n",
       "          (dropout): Dropout(p=0.1, inplace=False)\n",
       "        )\n",
       "      )\n",
       "    )\n",
       "  )\n",
       "  (pooler): BertPooler(\n",
       "    (dense): Linear(in_features=768, out_features=768, bias=True)\n",
       "    (activation): Tanh()\n",
       "  )\n",
       ")"
      ]
     },
     "execution_count": 30,
     "metadata": {},
     "output_type": "execute_result"
    }
   ],
   "source": [
    "# Load pre-trained model (weights)\n",
    "model = BertModel.from_pretrained('bert-base-uncased')\n",
    "\n",
    "# Put the model in \"evaluation\" mode, meaning feed-forward operation.\n",
    "model.eval()"
   ]
  },
  {
   "cell_type": "markdown",
   "metadata": {
    "id": "6aOCDW5bHyVO"
   },
   "source": [
    "Here, we define a function that takes one sentence, in the format of a string, as an input and output the encoded layers of the sentence using bert model.\n",
    "(Feel free to command the printing statement)"
   ]
  },
  {
   "cell_type": "code",
   "execution_count": 123,
   "metadata": {
    "id": "b0Pmnk4fSGG6"
   },
   "outputs": [],
   "source": [
    "def get_encoded_layers(sentence):\n",
    "  # Tokenize our sentence with the BERT tokenizer.\n",
    "  tokenized_text = tokenizer.tokenize(sentence)\n",
    "\n",
    "  # Print out the tokens.\n",
    "  print (tokenized_text)\n",
    "\n",
    "\n",
    "  # Map the token strings to their vocabulary indeces.\n",
    "  indexed_tokens = tokenizer.convert_tokens_to_ids(tokenized_text)\n",
    "\n",
    "  # Display the words with their indeces.\n",
    "  #for tup in zip(tokenized_text, indexed_tokens):\n",
    "  #  print('{:<12} {:>6,}'.format(tup[0], tup[1]))\n",
    "\n",
    "\n",
    "  # Mark each of the tokens as belonging to sentence \"1\".\n",
    "  segments_ids = [1] * len(tokenized_text)\n",
    "\n",
    "\n",
    "  # Convert inputs to PyTorch tensors\n",
    "  tokens_tensor = torch.tensor([indexed_tokens])\n",
    "  segments_tensors = torch.tensor([segments_ids])\n",
    "\n",
    "  # Predict hidden states features for each layer\n",
    "  with torch.no_grad():\n",
    "      encoded_layers, _ = model(tokens_tensor, segments_tensors)\n",
    "\n",
    "  # Display the shape of encoded_layers\n",
    "  #print_layer_shapes(encoded_layers)\n",
    "\n",
    "  return encoded_layers"
   ]
  },
  {
   "cell_type": "markdown",
   "metadata": {
    "id": "uypMhQPqIp8H"
   },
   "source": [
    "The full set of hidden states for this model is stored in the object encoded_layers.\n",
    "This object has four dimensions, in the following order:\n",
    "\n",
    "1. The layer number\n",
    "\n",
    "2. The batch number (1 sentence)\n",
    "\n",
    "3. The word / token number\n",
    "\n",
    "4. The hidden unit / feature number\n",
    "\n",
    "The following function prints out the length of four dimensions of the encoded_layers object.\n"
   ]
  },
  {
   "cell_type": "code",
   "execution_count": 124,
   "metadata": {
    "id": "snhK5ZumDnYR"
   },
   "outputs": [],
   "source": [
    "def print_layer_shapes(encoded_layers):\n",
    "  print (\"Number of layers:\", len(encoded_layers))\n",
    "  layer_i = 0\n",
    "\n",
    "  print (\"Number of batches:\", len(encoded_layers[layer_i]))\n",
    "  batch_i = 0\n",
    "\n",
    "  print (\"Number of tokens:\", len(encoded_layers[layer_i][batch_i]))\n",
    "  token_i = 0\n",
    "\n",
    "  print (\"Number of hidden units:\", len(encoded_layers[layer_i][batch_i][token_i]))"
   ]
  },
  {
   "cell_type": "code",
   "execution_count": 125,
   "metadata": {
    "id": "Q4LCeGXiAjWI"
   },
   "outputs": [],
   "source": [
    "def get_num_of_tokens(encoded_layers):\n",
    "  return len(encoded_layers[0][0])"
   ]
  },
  {
   "cell_type": "markdown",
   "metadata": {
    "id": "VKWkIfSSKIPb"
   },
   "source": [
    "Now we can try embedding the first hundred \"tag sentences\" in proper_tagStr we defined before. We store each encoded layers object in the list list_of_encoded_layers."
   ]
  },
  {
   "cell_type": "code",
   "execution_count": 126,
   "metadata": {
    "colab": {
     "base_uri": "https://localhost:8080/"
    },
    "id": "WH-HA3JE-Vvd",
    "outputId": "8d585288-d7a3-428a-a7f7-ace416094e6b",
    "scrolled": true
   },
   "outputs": [
    {
     "data": {
      "text/plain": [
       "3854"
      ]
     },
     "execution_count": 126,
     "metadata": {},
     "output_type": "execute_result"
    }
   ],
   "source": [
    "len(proper_tagStr)"
   ]
  },
  {
   "cell_type": "markdown",
   "metadata": {},
   "source": [
    "unit code character"
   ]
  },
  {
   "cell_type": "code",
   "execution_count": 127,
   "metadata": {},
   "outputs": [
    {
     "data": {
      "text/plain": [
       "'2011 art arte belgica belgien belgique belgiu00eb belgium donna female femme femminile frau fu00e9minine giovani jeune joven ju00f3venes junge kunst life menschen mujer mulher people personas persone personnes teatro theater theatre tiyatro u03b3u03c5u03bdu03b1u03afu03bau03b1 u03b8u03adu03b1u03c4u03c1u03bf \\\\u03b8\\\\u03ad\\\\u03b1\\\\u03c4\\\\u03c1\\\\u03bf u03c4u03adu03c7u03bdu03b7 \\\\u03c4\\\\u03ad\\\\u03c7\\\\u03bd\\\\u03b7 u0431u0435u043bu044c \\\\u0431\\\\u0435\\\\u043b\\\\u044c u0431u0440u044eu0441u0441u0435u043bu044c \\\\u0431\\\\u0440\\\\u044e\\\\u0441\\\\u0441\\\\u0435\\\\u043b\\\\u044c u0434u0435u0432u0443u0448u043au0430 \\\\u0434\\\\u0435\\\\u0432\\\\u0443\\\\u0448\\\\u043a\\\\u0430 u0436u0435u043du0430 \\\\u0436\\\\u0435\\\\u043d\\\\u0430 u0436u0435u043du0441u043au0438u0439 u0436u0435u043du0449u0438u043du0430 u0438u0441u043au0443u0441u0441u0442u0432u043e u043bu044eu0434u0438 u043fu0440u0435u0434u0441u0442u0430u0432u0438u0441u0438u0447u0435u0441u0438u0436u0435u043du0430 u0442u0435u0430u0442u0440 u0627u0644u0641u0646 u0627u0644u0645u0631u0623u0629 u0645u0633u0631u062d u30a2u30fcu30c8 \\\\u30a2\\\\u30fc\\\\u30c8 u4eba u50cf u5267u9662 \\\\u5267\\\\u9662 u5287u5834 u5973u4eba \\\\u5973\\\\u4eba u5973u5b50 u5973u6027 u5e74u8f7bu7684u59d1u5a18u5973u6027 \\\\u5e74\\\\u8f7b\\\\u7684\\\\u59d1\\\\u5a18\\\\u5973\\\\u6027 u6bd4u5229u65f6 u827au672f \\\\u827a\\\\u672f weiblich woman young'"
      ]
     },
     "execution_count": 127,
     "metadata": {},
     "output_type": "execute_result"
    }
   ],
   "source": [
    "proper_tagStr[264]"
   ]
  },
  {
   "cell_type": "code",
   "execution_count": 128,
   "metadata": {
    "colab": {
     "base_uri": "https://localhost:8080/"
    },
    "id": "OrVIV6YaDX8x",
    "outputId": "0e37c484-2eaf-4850-b93e-8a5c0c2ba38c"
   },
   "outputs": [
    {
     "name": "stderr",
     "output_type": "stream",
     "text": [
      "Token indices sequence length is longer than the specified maximum  sequence length for this BERT model (862 > 512). Running this sequence through BERT will result in indexing errors\n"
     ]
    },
    {
     "name": "stdout",
     "output_type": "stream",
     "text": [
      "['2011', 'art', 'arte', 'bel', '##gic', '##a', 'bel', '##gie', '##n', 'bel', '##gi', '##que', 'bel', '##gi', '##u', '##00', '##eb', 'belgium', 'donna', 'female', 'femme', 'fe', '##mm', '##ini', '##le', 'fra', '##u', 'fu', '##00', '##e', '##9', '##mini', '##ne', 'gi', '##ova', '##ni', 'je', '##une', 'jo', '##ven', 'ju', '##00', '##f', '##3', '##ven', '##es', 'jung', '##e', 'kunst', 'life', 'men', '##schen', 'mu', '##jer', 'mu', '##l', '##her', 'people', 'persona', '##s', 'person', '##e', 'person', '##nes', 'teatro', 'theater', 'theatre', 'ti', '##yat', '##ro', 'u', '##0', '##3', '##b', '##3', '##u', '##0', '##3', '##c', '##5', '##u', '##0', '##3', '##b', '##du', '##0', '##3', '##b', '##1', '##u', '##0', '##3', '##af', '##u', '##0', '##3', '##bau', '##0', '##3', '##b', '##1', 'u', '##0', '##3', '##b', '##8', '##u', '##0', '##3', '##ad', '##u', '##0', '##3', '##b', '##1', '##u', '##0', '##3', '##c', '##4', '##u', '##0', '##3', '##c', '##1', '##u', '##0', '##3', '##bf', '\\\\', 'u', '##0', '##3', '##b', '##8', '\\\\', 'u', '##0', '##3', '##ad', '\\\\', 'u', '##0', '##3', '##b', '##1', '\\\\', 'u', '##0', '##3', '##c', '##4', '\\\\', 'u', '##0', '##3', '##c', '##1', '\\\\', 'u', '##0', '##3', '##bf', 'u', '##0', '##3', '##c', '##4', '##u', '##0', '##3', '##ad', '##u', '##0', '##3', '##c', '##7', '##u', '##0', '##3', '##b', '##du', '##0', '##3', '##b', '##7', '\\\\', 'u', '##0', '##3', '##c', '##4', '\\\\', 'u', '##0', '##3', '##ad', '\\\\', 'u', '##0', '##3', '##c', '##7', '\\\\', 'u', '##0', '##3', '##b', '##d', '\\\\', 'u', '##0', '##3', '##b', '##7', 'u', '##0', '##43', '##1', '##u', '##0', '##43', '##5', '##u', '##0', '##43', '##bu', '##0', '##44', '##c', '\\\\', 'u', '##0', '##43', '##1', '\\\\', 'u', '##0', '##43', '##5', '\\\\', 'u', '##0', '##43', '##b', '\\\\', 'u', '##0', '##44', '##c', 'u', '##0', '##43', '##1', '##u', '##0', '##44', '##0', '##u', '##0', '##44', '##eu', '##0', '##44', '##1', '##u', '##0', '##44', '##1', '##u', '##0', '##43', '##5', '##u', '##0', '##43', '##bu', '##0', '##44', '##c', '\\\\', 'u', '##0', '##43', '##1', '\\\\', 'u', '##0', '##44', '##0', '\\\\', 'u', '##0', '##44', '##e', '\\\\', 'u', '##0', '##44', '##1', '\\\\', 'u', '##0', '##44', '##1', '\\\\', 'u', '##0', '##43', '##5', '\\\\', 'u', '##0', '##43', '##b', '\\\\', 'u', '##0', '##44', '##c', 'u', '##0', '##43', '##4', '##u', '##0', '##43', '##5', '##u', '##0', '##43', '##2', '##u', '##0', '##44', '##3', '##u', '##0', '##44', '##8', '##u', '##0', '##43', '##au', '##0', '##43', '##0', '\\\\', 'u', '##0', '##43', '##4', '\\\\', 'u', '##0', '##43', '##5', '\\\\', 'u', '##0', '##43', '##2', '\\\\', 'u', '##0', '##44', '##3', '\\\\', 'u', '##0', '##44', '##8', '\\\\', 'u', '##0', '##43', '##a', '\\\\', 'u', '##0', '##43', '##0', 'u', '##0', '##43', '##6', '##u', '##0', '##43', '##5', '##u', '##0', '##43', '##du', '##0', '##43', '##0', '\\\\', 'u', '##0', '##43', '##6', '\\\\', 'u', '##0', '##43', '##5', '\\\\', 'u', '##0', '##43', '##d', '\\\\', 'u', '##0', '##43', '##0', 'u', '##0', '##43', '##6', '##u', '##0', '##43', '##5', '##u', '##0', '##43', '##du', '##0', '##44', '##1', '##u', '##0', '##43', '##au', '##0', '##43', '##8', '##u', '##0', '##43', '##9', 'u', '##0', '##43', '##6', '##u', '##0', '##43', '##5', '##u', '##0', '##43', '##du', '##0', '##44', '##9', '##u', '##0', '##43', '##8', '##u', '##0', '##43', '##du', '##0', '##43', '##0', 'u', '##0', '##43', '##8', '##u', '##0', '##44', '##1', '##u', '##0', '##43', '##au', '##0', '##44', '##3', '##u', '##0', '##44', '##1', '##u', '##0', '##44', '##1', '##u', '##0', '##44', '##2', '##u', '##0', '##43', '##2', '##u', '##0', '##43', '##e', 'u', '##0', '##43', '##bu', '##0', '##44', '##eu', '##0', '##43', '##4', '##u', '##0', '##43', '##8', 'u', '##0', '##43', '##fu', '##0', '##44', '##0', '##u', '##0', '##43', '##5', '##u', '##0', '##43', '##4', '##u', '##0', '##44', '##1', '##u', '##0', '##44', '##2', '##u', '##0', '##43', '##0', '##u', '##0', '##43', '##2', '##u', '##0', '##43', '##8', '##u', '##0', '##44', '##1', '##u', '##0', '##43', '##8', '##u', '##0', '##44', '##7', '##u', '##0', '##43', '##5', '##u', '##0', '##44', '##1', '##u', '##0', '##43', '##8', '##u', '##0', '##43', '##6', '##u', '##0', '##43', '##5', '##u', '##0', '##43', '##du', '##0', '##43', '##0', 'u', '##0', '##44', '##2', '##u', '##0', '##43', '##5', '##u', '##0', '##43', '##0', '##u', '##0', '##44', '##2', '##u', '##0', '##44', '##0', 'u', '##0', '##6', '##27', '##u', '##0', '##64', '##4', '##u', '##0', '##64', '##1', '##u', '##0', '##64', '##6', 'u', '##0', '##6', '##27', '##u', '##0', '##64', '##4', '##u', '##0', '##64', '##5', '##u', '##0', '##6', '##31', '##u', '##0', '##6', '##23', '##u', '##0', '##6', '##29', 'u', '##0', '##64', '##5', '##u', '##0', '##6', '##33', '##u', '##0', '##6', '##31', '##u', '##0', '##6', '##2', '##d', 'u', '##30', '##a', '##2', '##u', '##30', '##fc', '##u', '##30', '##c', '##8', '\\\\', 'u', '##30', '##a', '##2', '\\\\', 'u', '##30', '##fc', '\\\\', 'u', '##30', '##c', '##8', 'u', '##4', '##eb', '##a', 'u', '##50', '##c', '##f', 'u', '##52', '##6', '##7', '##u', '##9', '##66', '##2', '\\\\', 'u', '##52', '##6', '##7', '\\\\', 'u', '##9', '##66', '##2', 'u', '##52', '##8', '##7', '##u', '##58', '##34', 'u', '##59', '##7', '##3', '##u', '##4', '##eb', '##a', '\\\\', 'u', '##59', '##7', '##3', '\\\\', 'u', '##4', '##eb', '##a', 'u', '##59', '##7', '##3', '##u', '##5', '##b', '##50', 'u', '##59', '##7', '##3', '##u', '##60', '##27', 'u', '##5', '##e', '##7', '##4', '##u', '##8', '##f', '##7', '##bu', '##7', '##6', '##8', '##4', '##u', '##59', '##d', '##1', '##u', '##5', '##a1', '##8', '##u', '##59', '##7', '##3', '##u', '##60', '##27', '\\\\', 'u', '##5', '##e', '##7', '##4', '\\\\', 'u', '##8', '##f', '##7', '##b', '\\\\', 'u', '##7', '##6', '##8', '##4', '\\\\', 'u', '##59', '##d', '##1', '\\\\', 'u', '##5', '##a1', '##8', '\\\\', 'u', '##59', '##7', '##3', '\\\\', 'u', '##60', '##27', 'u', '##6', '##b', '##d', '##4', '##u', '##52', '##29', '##u', '##65', '##f', '##6', 'u', '##8', '##27', '##au', '##6', '##7', '##2', '##f', '\\\\', 'u', '##8', '##27', '##a', '\\\\', 'u', '##6', '##7', '##2', '##f', 'wei', '##bl', '##ich', 'woman', 'young']\n"
     ]
    },
    {
     "ename": "RuntimeError",
     "evalue": "index out of range: Tried to access index 512 out of table with 511 rows. at /Users/distiller/project/conda/conda-bld/pytorch_1579022061893/work/aten/src/TH/generic/THTensorEvenMoreMath.cpp:418",
     "output_type": "error",
     "traceback": [
      "\u001b[0;31m---------------------------------------------------------------------------\u001b[0m",
      "\u001b[0;31mRuntimeError\u001b[0m                              Traceback (most recent call last)",
      "\u001b[0;32m<ipython-input-128-07453604d2a5>\u001b[0m in \u001b[0;36m<module>\u001b[0;34m\u001b[0m\n\u001b[1;32m      6\u001b[0m \u001b[0mnumber_of_entry_to_encode\u001b[0m \u001b[0;34m=\u001b[0m \u001b[0;36m264\u001b[0m\u001b[0;34m\u001b[0m\u001b[0;34m\u001b[0m\u001b[0m\n\u001b[1;32m      7\u001b[0m \u001b[0;32mfor\u001b[0m \u001b[0msentence\u001b[0m \u001b[0;32min\u001b[0m \u001b[0mproper_tagStr\u001b[0m\u001b[0;34m[\u001b[0m\u001b[0mnumber_of_entry_to_encode\u001b[0m\u001b[0;34m:\u001b[0m\u001b[0mnumber_of_entry_to_encode\u001b[0m\u001b[0;34m+\u001b[0m\u001b[0;36m1\u001b[0m\u001b[0;34m]\u001b[0m\u001b[0;34m:\u001b[0m\u001b[0;34m\u001b[0m\u001b[0;34m\u001b[0m\u001b[0m\n\u001b[0;32m----> 8\u001b[0;31m     \u001b[0mlist_of_encoded_layers\u001b[0m\u001b[0;34m.\u001b[0m\u001b[0mappend\u001b[0m\u001b[0;34m(\u001b[0m\u001b[0mget_encoded_layers\u001b[0m\u001b[0;34m(\u001b[0m\u001b[0msentence\u001b[0m\u001b[0;34m)\u001b[0m\u001b[0;34m)\u001b[0m\u001b[0;34m\u001b[0m\u001b[0;34m\u001b[0m\u001b[0m\n\u001b[0m\u001b[1;32m      9\u001b[0m   \u001b[0;31m#print(\"\\n\")\u001b[0m\u001b[0;34m\u001b[0m\u001b[0;34m\u001b[0m\u001b[0;34m\u001b[0m\u001b[0m\n\u001b[1;32m     10\u001b[0m \u001b[0;34m\u001b[0m\u001b[0m\n",
      "\u001b[0;32m<ipython-input-123-6a3a054586f2>\u001b[0m in \u001b[0;36mget_encoded_layers\u001b[0;34m(sentence)\u001b[0m\n\u001b[1;32m     25\u001b[0m   \u001b[0;31m# Predict hidden states features for each layer\u001b[0m\u001b[0;34m\u001b[0m\u001b[0;34m\u001b[0m\u001b[0;34m\u001b[0m\u001b[0m\n\u001b[1;32m     26\u001b[0m   \u001b[0;32mwith\u001b[0m \u001b[0mtorch\u001b[0m\u001b[0;34m.\u001b[0m\u001b[0mno_grad\u001b[0m\u001b[0;34m(\u001b[0m\u001b[0;34m)\u001b[0m\u001b[0;34m:\u001b[0m\u001b[0;34m\u001b[0m\u001b[0;34m\u001b[0m\u001b[0m\n\u001b[0;32m---> 27\u001b[0;31m       \u001b[0mencoded_layers\u001b[0m\u001b[0;34m,\u001b[0m \u001b[0m_\u001b[0m \u001b[0;34m=\u001b[0m \u001b[0mmodel\u001b[0m\u001b[0;34m(\u001b[0m\u001b[0mtokens_tensor\u001b[0m\u001b[0;34m,\u001b[0m \u001b[0msegments_tensors\u001b[0m\u001b[0;34m)\u001b[0m\u001b[0;34m\u001b[0m\u001b[0;34m\u001b[0m\u001b[0m\n\u001b[0m\u001b[1;32m     28\u001b[0m \u001b[0;34m\u001b[0m\u001b[0m\n\u001b[1;32m     29\u001b[0m   \u001b[0;31m# Display the shape of encoded_layers\u001b[0m\u001b[0;34m\u001b[0m\u001b[0;34m\u001b[0m\u001b[0;34m\u001b[0m\u001b[0m\n",
      "\u001b[0;32m/opt/anaconda3/lib/python3.7/site-packages/torch/nn/modules/module.py\u001b[0m in \u001b[0;36m__call__\u001b[0;34m(self, *input, **kwargs)\u001b[0m\n\u001b[1;32m    530\u001b[0m             \u001b[0mresult\u001b[0m \u001b[0;34m=\u001b[0m \u001b[0mself\u001b[0m\u001b[0;34m.\u001b[0m\u001b[0m_slow_forward\u001b[0m\u001b[0;34m(\u001b[0m\u001b[0;34m*\u001b[0m\u001b[0minput\u001b[0m\u001b[0;34m,\u001b[0m \u001b[0;34m**\u001b[0m\u001b[0mkwargs\u001b[0m\u001b[0;34m)\u001b[0m\u001b[0;34m\u001b[0m\u001b[0;34m\u001b[0m\u001b[0m\n\u001b[1;32m    531\u001b[0m         \u001b[0;32melse\u001b[0m\u001b[0;34m:\u001b[0m\u001b[0;34m\u001b[0m\u001b[0;34m\u001b[0m\u001b[0m\n\u001b[0;32m--> 532\u001b[0;31m             \u001b[0mresult\u001b[0m \u001b[0;34m=\u001b[0m \u001b[0mself\u001b[0m\u001b[0;34m.\u001b[0m\u001b[0mforward\u001b[0m\u001b[0;34m(\u001b[0m\u001b[0;34m*\u001b[0m\u001b[0minput\u001b[0m\u001b[0;34m,\u001b[0m \u001b[0;34m**\u001b[0m\u001b[0mkwargs\u001b[0m\u001b[0;34m)\u001b[0m\u001b[0;34m\u001b[0m\u001b[0;34m\u001b[0m\u001b[0m\n\u001b[0m\u001b[1;32m    533\u001b[0m         \u001b[0;32mfor\u001b[0m \u001b[0mhook\u001b[0m \u001b[0;32min\u001b[0m \u001b[0mself\u001b[0m\u001b[0;34m.\u001b[0m\u001b[0m_forward_hooks\u001b[0m\u001b[0;34m.\u001b[0m\u001b[0mvalues\u001b[0m\u001b[0;34m(\u001b[0m\u001b[0;34m)\u001b[0m\u001b[0;34m:\u001b[0m\u001b[0;34m\u001b[0m\u001b[0;34m\u001b[0m\u001b[0m\n\u001b[1;32m    534\u001b[0m             \u001b[0mhook_result\u001b[0m \u001b[0;34m=\u001b[0m \u001b[0mhook\u001b[0m\u001b[0;34m(\u001b[0m\u001b[0mself\u001b[0m\u001b[0;34m,\u001b[0m \u001b[0minput\u001b[0m\u001b[0;34m,\u001b[0m \u001b[0mresult\u001b[0m\u001b[0;34m)\u001b[0m\u001b[0;34m\u001b[0m\u001b[0;34m\u001b[0m\u001b[0m\n",
      "\u001b[0;32m/opt/anaconda3/lib/python3.7/site-packages/pytorch_pretrained_bert/modeling.py\u001b[0m in \u001b[0;36mforward\u001b[0;34m(self, input_ids, token_type_ids, attention_mask, output_all_encoded_layers)\u001b[0m\n\u001b[1;32m    728\u001b[0m         \u001b[0mextended_attention_mask\u001b[0m \u001b[0;34m=\u001b[0m \u001b[0;34m(\u001b[0m\u001b[0;36m1.0\u001b[0m \u001b[0;34m-\u001b[0m \u001b[0mextended_attention_mask\u001b[0m\u001b[0;34m)\u001b[0m \u001b[0;34m*\u001b[0m \u001b[0;34m-\u001b[0m\u001b[0;36m10000.0\u001b[0m\u001b[0;34m\u001b[0m\u001b[0;34m\u001b[0m\u001b[0m\n\u001b[1;32m    729\u001b[0m \u001b[0;34m\u001b[0m\u001b[0m\n\u001b[0;32m--> 730\u001b[0;31m         \u001b[0membedding_output\u001b[0m \u001b[0;34m=\u001b[0m \u001b[0mself\u001b[0m\u001b[0;34m.\u001b[0m\u001b[0membeddings\u001b[0m\u001b[0;34m(\u001b[0m\u001b[0minput_ids\u001b[0m\u001b[0;34m,\u001b[0m \u001b[0mtoken_type_ids\u001b[0m\u001b[0;34m)\u001b[0m\u001b[0;34m\u001b[0m\u001b[0;34m\u001b[0m\u001b[0m\n\u001b[0m\u001b[1;32m    731\u001b[0m         encoded_layers = self.encoder(embedding_output,\n\u001b[1;32m    732\u001b[0m                                       \u001b[0mextended_attention_mask\u001b[0m\u001b[0;34m,\u001b[0m\u001b[0;34m\u001b[0m\u001b[0;34m\u001b[0m\u001b[0m\n",
      "\u001b[0;32m/opt/anaconda3/lib/python3.7/site-packages/torch/nn/modules/module.py\u001b[0m in \u001b[0;36m__call__\u001b[0;34m(self, *input, **kwargs)\u001b[0m\n\u001b[1;32m    530\u001b[0m             \u001b[0mresult\u001b[0m \u001b[0;34m=\u001b[0m \u001b[0mself\u001b[0m\u001b[0;34m.\u001b[0m\u001b[0m_slow_forward\u001b[0m\u001b[0;34m(\u001b[0m\u001b[0;34m*\u001b[0m\u001b[0minput\u001b[0m\u001b[0;34m,\u001b[0m \u001b[0;34m**\u001b[0m\u001b[0mkwargs\u001b[0m\u001b[0;34m)\u001b[0m\u001b[0;34m\u001b[0m\u001b[0;34m\u001b[0m\u001b[0m\n\u001b[1;32m    531\u001b[0m         \u001b[0;32melse\u001b[0m\u001b[0;34m:\u001b[0m\u001b[0;34m\u001b[0m\u001b[0;34m\u001b[0m\u001b[0m\n\u001b[0;32m--> 532\u001b[0;31m             \u001b[0mresult\u001b[0m \u001b[0;34m=\u001b[0m \u001b[0mself\u001b[0m\u001b[0;34m.\u001b[0m\u001b[0mforward\u001b[0m\u001b[0;34m(\u001b[0m\u001b[0;34m*\u001b[0m\u001b[0minput\u001b[0m\u001b[0;34m,\u001b[0m \u001b[0;34m**\u001b[0m\u001b[0mkwargs\u001b[0m\u001b[0;34m)\u001b[0m\u001b[0;34m\u001b[0m\u001b[0;34m\u001b[0m\u001b[0m\n\u001b[0m\u001b[1;32m    533\u001b[0m         \u001b[0;32mfor\u001b[0m \u001b[0mhook\u001b[0m \u001b[0;32min\u001b[0m \u001b[0mself\u001b[0m\u001b[0;34m.\u001b[0m\u001b[0m_forward_hooks\u001b[0m\u001b[0;34m.\u001b[0m\u001b[0mvalues\u001b[0m\u001b[0;34m(\u001b[0m\u001b[0;34m)\u001b[0m\u001b[0;34m:\u001b[0m\u001b[0;34m\u001b[0m\u001b[0;34m\u001b[0m\u001b[0m\n\u001b[1;32m    534\u001b[0m             \u001b[0mhook_result\u001b[0m \u001b[0;34m=\u001b[0m \u001b[0mhook\u001b[0m\u001b[0;34m(\u001b[0m\u001b[0mself\u001b[0m\u001b[0;34m,\u001b[0m \u001b[0minput\u001b[0m\u001b[0;34m,\u001b[0m \u001b[0mresult\u001b[0m\u001b[0;34m)\u001b[0m\u001b[0;34m\u001b[0m\u001b[0;34m\u001b[0m\u001b[0m\n",
      "\u001b[0;32m/opt/anaconda3/lib/python3.7/site-packages/pytorch_pretrained_bert/modeling.py\u001b[0m in \u001b[0;36mforward\u001b[0;34m(self, input_ids, token_type_ids)\u001b[0m\n\u001b[1;32m    266\u001b[0m \u001b[0;34m\u001b[0m\u001b[0m\n\u001b[1;32m    267\u001b[0m         \u001b[0mwords_embeddings\u001b[0m \u001b[0;34m=\u001b[0m \u001b[0mself\u001b[0m\u001b[0;34m.\u001b[0m\u001b[0mword_embeddings\u001b[0m\u001b[0;34m(\u001b[0m\u001b[0minput_ids\u001b[0m\u001b[0;34m)\u001b[0m\u001b[0;34m\u001b[0m\u001b[0;34m\u001b[0m\u001b[0m\n\u001b[0;32m--> 268\u001b[0;31m         \u001b[0mposition_embeddings\u001b[0m \u001b[0;34m=\u001b[0m \u001b[0mself\u001b[0m\u001b[0;34m.\u001b[0m\u001b[0mposition_embeddings\u001b[0m\u001b[0;34m(\u001b[0m\u001b[0mposition_ids\u001b[0m\u001b[0;34m)\u001b[0m\u001b[0;34m\u001b[0m\u001b[0;34m\u001b[0m\u001b[0m\n\u001b[0m\u001b[1;32m    269\u001b[0m         \u001b[0mtoken_type_embeddings\u001b[0m \u001b[0;34m=\u001b[0m \u001b[0mself\u001b[0m\u001b[0;34m.\u001b[0m\u001b[0mtoken_type_embeddings\u001b[0m\u001b[0;34m(\u001b[0m\u001b[0mtoken_type_ids\u001b[0m\u001b[0;34m)\u001b[0m\u001b[0;34m\u001b[0m\u001b[0;34m\u001b[0m\u001b[0m\n\u001b[1;32m    270\u001b[0m \u001b[0;34m\u001b[0m\u001b[0m\n",
      "\u001b[0;32m/opt/anaconda3/lib/python3.7/site-packages/torch/nn/modules/module.py\u001b[0m in \u001b[0;36m__call__\u001b[0;34m(self, *input, **kwargs)\u001b[0m\n\u001b[1;32m    530\u001b[0m             \u001b[0mresult\u001b[0m \u001b[0;34m=\u001b[0m \u001b[0mself\u001b[0m\u001b[0;34m.\u001b[0m\u001b[0m_slow_forward\u001b[0m\u001b[0;34m(\u001b[0m\u001b[0;34m*\u001b[0m\u001b[0minput\u001b[0m\u001b[0;34m,\u001b[0m \u001b[0;34m**\u001b[0m\u001b[0mkwargs\u001b[0m\u001b[0;34m)\u001b[0m\u001b[0;34m\u001b[0m\u001b[0;34m\u001b[0m\u001b[0m\n\u001b[1;32m    531\u001b[0m         \u001b[0;32melse\u001b[0m\u001b[0;34m:\u001b[0m\u001b[0;34m\u001b[0m\u001b[0;34m\u001b[0m\u001b[0m\n\u001b[0;32m--> 532\u001b[0;31m             \u001b[0mresult\u001b[0m \u001b[0;34m=\u001b[0m \u001b[0mself\u001b[0m\u001b[0;34m.\u001b[0m\u001b[0mforward\u001b[0m\u001b[0;34m(\u001b[0m\u001b[0;34m*\u001b[0m\u001b[0minput\u001b[0m\u001b[0;34m,\u001b[0m \u001b[0;34m**\u001b[0m\u001b[0mkwargs\u001b[0m\u001b[0;34m)\u001b[0m\u001b[0;34m\u001b[0m\u001b[0;34m\u001b[0m\u001b[0m\n\u001b[0m\u001b[1;32m    533\u001b[0m         \u001b[0;32mfor\u001b[0m \u001b[0mhook\u001b[0m \u001b[0;32min\u001b[0m \u001b[0mself\u001b[0m\u001b[0;34m.\u001b[0m\u001b[0m_forward_hooks\u001b[0m\u001b[0;34m.\u001b[0m\u001b[0mvalues\u001b[0m\u001b[0;34m(\u001b[0m\u001b[0;34m)\u001b[0m\u001b[0;34m:\u001b[0m\u001b[0;34m\u001b[0m\u001b[0;34m\u001b[0m\u001b[0m\n\u001b[1;32m    534\u001b[0m             \u001b[0mhook_result\u001b[0m \u001b[0;34m=\u001b[0m \u001b[0mhook\u001b[0m\u001b[0;34m(\u001b[0m\u001b[0mself\u001b[0m\u001b[0;34m,\u001b[0m \u001b[0minput\u001b[0m\u001b[0;34m,\u001b[0m \u001b[0mresult\u001b[0m\u001b[0;34m)\u001b[0m\u001b[0;34m\u001b[0m\u001b[0;34m\u001b[0m\u001b[0m\n",
      "\u001b[0;32m/opt/anaconda3/lib/python3.7/site-packages/torch/nn/modules/sparse.py\u001b[0m in \u001b[0;36mforward\u001b[0;34m(self, input)\u001b[0m\n\u001b[1;32m    112\u001b[0m         return F.embedding(\n\u001b[1;32m    113\u001b[0m             \u001b[0minput\u001b[0m\u001b[0;34m,\u001b[0m \u001b[0mself\u001b[0m\u001b[0;34m.\u001b[0m\u001b[0mweight\u001b[0m\u001b[0;34m,\u001b[0m \u001b[0mself\u001b[0m\u001b[0;34m.\u001b[0m\u001b[0mpadding_idx\u001b[0m\u001b[0;34m,\u001b[0m \u001b[0mself\u001b[0m\u001b[0;34m.\u001b[0m\u001b[0mmax_norm\u001b[0m\u001b[0;34m,\u001b[0m\u001b[0;34m\u001b[0m\u001b[0;34m\u001b[0m\u001b[0m\n\u001b[0;32m--> 114\u001b[0;31m             self.norm_type, self.scale_grad_by_freq, self.sparse)\n\u001b[0m\u001b[1;32m    115\u001b[0m \u001b[0;34m\u001b[0m\u001b[0m\n\u001b[1;32m    116\u001b[0m     \u001b[0;32mdef\u001b[0m \u001b[0mextra_repr\u001b[0m\u001b[0;34m(\u001b[0m\u001b[0mself\u001b[0m\u001b[0;34m)\u001b[0m\u001b[0;34m:\u001b[0m\u001b[0;34m\u001b[0m\u001b[0;34m\u001b[0m\u001b[0m\n",
      "\u001b[0;32m/opt/anaconda3/lib/python3.7/site-packages/torch/nn/functional.py\u001b[0m in \u001b[0;36membedding\u001b[0;34m(input, weight, padding_idx, max_norm, norm_type, scale_grad_by_freq, sparse)\u001b[0m\n\u001b[1;32m   1482\u001b[0m         \u001b[0;31m# remove once script supports set_grad_enabled\u001b[0m\u001b[0;34m\u001b[0m\u001b[0;34m\u001b[0m\u001b[0;34m\u001b[0m\u001b[0m\n\u001b[1;32m   1483\u001b[0m         \u001b[0m_no_grad_embedding_renorm_\u001b[0m\u001b[0;34m(\u001b[0m\u001b[0mweight\u001b[0m\u001b[0;34m,\u001b[0m \u001b[0minput\u001b[0m\u001b[0;34m,\u001b[0m \u001b[0mmax_norm\u001b[0m\u001b[0;34m,\u001b[0m \u001b[0mnorm_type\u001b[0m\u001b[0;34m)\u001b[0m\u001b[0;34m\u001b[0m\u001b[0;34m\u001b[0m\u001b[0m\n\u001b[0;32m-> 1484\u001b[0;31m     \u001b[0;32mreturn\u001b[0m \u001b[0mtorch\u001b[0m\u001b[0;34m.\u001b[0m\u001b[0membedding\u001b[0m\u001b[0;34m(\u001b[0m\u001b[0mweight\u001b[0m\u001b[0;34m,\u001b[0m \u001b[0minput\u001b[0m\u001b[0;34m,\u001b[0m \u001b[0mpadding_idx\u001b[0m\u001b[0;34m,\u001b[0m \u001b[0mscale_grad_by_freq\u001b[0m\u001b[0;34m,\u001b[0m \u001b[0msparse\u001b[0m\u001b[0;34m)\u001b[0m\u001b[0;34m\u001b[0m\u001b[0;34m\u001b[0m\u001b[0m\n\u001b[0m\u001b[1;32m   1485\u001b[0m \u001b[0;34m\u001b[0m\u001b[0m\n\u001b[1;32m   1486\u001b[0m \u001b[0;34m\u001b[0m\u001b[0m\n",
      "\u001b[0;31mRuntimeError\u001b[0m: index out of range: Tried to access index 512 out of table with 511 rows. at /Users/distiller/project/conda/conda-bld/pytorch_1579022061893/work/aten/src/TH/generic/THTensorEvenMoreMath.cpp:418"
     ]
    }
   ],
   "source": [
    "list_of_encoded_layers = []\n",
    "\n",
    "import time\n",
    "start = time.perf_counter()\n",
    "\n",
    "number_of_entry_to_encode = 264\n",
    "for sentence in proper_tagStr[number_of_entry_to_encode:number_of_entry_to_encode+1]:\n",
    "    list_of_encoded_layers.append(get_encoded_layers(sentence))\n",
    "  #print(\"\\n\")\n",
    "\n",
    "end = time.perf_counter()\n",
    "print(\"This cell takes \" + str(end-start) + \" seconds to run\")"
   ]
  },
  {
   "cell_type": "code",
   "execution_count": 69,
   "metadata": {
    "colab": {
     "base_uri": "https://localhost:8080/"
    },
    "id": "BobU54-28fuT",
    "outputId": "ec6d55de-df10-45b7-b448-a4dd47e96481"
   },
   "outputs": [
    {
     "data": {
      "text/plain": [
       "200"
      ]
     },
     "execution_count": 69,
     "metadata": {},
     "output_type": "execute_result"
    }
   ],
   "source": [
    "len(list_of_encoded_layers) #should return value of number_of_entry_to_encode"
   ]
  },
  {
   "cell_type": "markdown",
   "metadata": {
    "id": "9h6zr5HNCHPt"
   },
   "source": [
    "Notice that if we do 100 taglists, it take only 10ish seconds."
   ]
  },
  {
   "cell_type": "code",
   "execution_count": 70,
   "metadata": {
    "colab": {
     "base_uri": "https://localhost:8080/"
    },
    "id": "BrRJhXxaAKGh",
    "outputId": "0132fc3a-4ae6-4188-b049-4eaf522970b7"
   },
   "outputs": [
    {
     "name": "stdout",
     "output_type": "stream",
     "text": [
      "4413\n"
     ]
    }
   ],
   "source": [
    "ttl = 0\n",
    "for encoded_layer in list_of_encoded_layers:\n",
    "  ttl += get_num_of_tokens(encoded_layer)\n",
    "print(ttl)"
   ]
  },
  {
   "cell_type": "code",
   "execution_count": 71,
   "metadata": {
    "colab": {
     "base_uri": "https://localhost:8080/"
    },
    "id": "fgOXaoKM_F7X",
    "outputId": "2427fb51-8996-4613-f6fd-e6c568661018"
   },
   "outputs": [
    {
     "name": "stdout",
     "output_type": "stream",
     "text": [
      "okscotland wa washington june2015 nhadatvideo by das der erde lied von nhadatvideo dsg1 fiber yarn 60x confocal utah dc roja niskayunalacrosse rochester boyslacrosse highschoollacrosse canandaigualacrosse noflash nysstatechampionship classc ny outside lax niskayuna canandaigua monopod balade fontainebleau army bundeswehr combatlifesavers germany usa viperpit boat isleworth oldisleworth river thames architecture barge boat bridge building canal city daylight house no person outdoors reflection river tourism town transportation system travel vehicle water watercraft annualmeeting closingbanquet cooperative country dairy dolphinhotel farm farmer final florida jointannualmeeting laurabellbundy milk nationalmilkproducersfederation nmpf orlando securingdairysfuture waltdisneyworld horses nrashowjumpingadultandjuniorhighergradessunday13may2007 showjumping verycd u9ec4u5c71 all art artist by chiangmai chiangmaithailand click cover coverup custom dejavu dejavutattoo extension fish fixing graphic hygenic icon japaneses japaness koi koifish oldschool oriental photos portait public see service studio style tagged tattoo thai thailand this tree tribal up upload videos with work wwwdejavutattoocom 2011 birthdayparty eliannas3rdbirthdayparty hove i360 102 11 24 u60e0u84c0u6797u5834 adventure africa kilimanjaro lemoshoroute tanzania uhurupeak 2006 december 2014 baltimore baltimoreconventioncenter costplay costume otakon achillesmedia banff nextmedia nextmedia2007 nextmediaconference nm07 100 boat mildura murray race river ski water anasazipueblorockart animalpetroglyph debetheredge2012 explore peoplepetroglyphs petroglyphcanyon petroglyphs photobydebetheredge redrockformations redrocks redsandstone sandstone sculptedbynature valleyoffire valleyoffirestatepark valleyoffirestateparknevada carriesphotos jeju southkorea vacation beach beachbuggy kaohsiung taiwan u53f0u7063 u9ad8u96c4 30d 70300mm ave aves avifauna bird birds canon canonef70300mmf456isusm chinampa df mexico méxico mu00e9xico neotropical pajaro pajaros pex piedbilledgrebe pleautaud podicipedidae podilymbuspodiceps xochimilco zambullidor zambullidorpicopinto 비론치 비석세스 비론치2014 belaunch belaunch2014 besuccess ube44ub860uce58 ube44ub860uce582014 ube44uc11duc138uc2a4 arquitectura cobre stand 4c conlie travaux canonef28135mmf3556isusm clouds psstandard sky sunset tree 20080904 airconditioned media minnesota mobileunit nbc nbcnews polarbear rnc saintpaul satellitetruck stpaul themedia 35mm brasil colecionandoluzes correia diana film filme kodak lomografia lomography luci lucicorreia lucicorreiafotografia lucicorreiafotu00f3grafa lucicorreiafot\\xf3grafa mini sp su00e3opaulo s\\xe3opaulo anaheimducks chicagoblackhawks duncankeith hockey automobiles cars carshow geneva genevacarshow genevamotorshow salondelautogenu00e8ve salondelautogen\\xe8ve vwphaeton puppy vmc wcvm ireland licking shotinireland window birds dirt extra ground project365 rainwater reflections robins water alumni prixnetzhdkpreisverleihungmarenawhitcher belder camping campste carpediem chairs de debelder foto fotorgafie gas girlfriend holiday ine kamperen la lafuma outdoors outside photo photography provence reading red romaine routard summer sunbear sunbeer tent thomas tomas vaison vaisonlaromaine wine asambleaecuador asambleanacional leyderecursoshu00eddricos leydetierras movimientossociales rodrigocollaguazo ruedadeprensa davedegagnu00e9 davedegagn\\xe9 edmonton nextgen pechakucha pkn11 2009 u5c3eu7259u02d9u5916u8cbfu5354u6703 \\u5c3e\\u7259\\u02d9\\u5916\\u8cbf\\u5354\\u6703 2013 bw film tokyo 2014 alcalde¿cómovamos alcaldeu00bfcu00f3movamos espaciospu00fablicos espaciospúblicos municipiodeescobedo nuevoleón nuevoleu00f3n pueblobicicletero víasrecreativas vu00edasrecreativas northwestflowergardenshow2010 cade educaciu00f3n educaci\\xf3n ipae josu00e9chang jos\\xe9chang marissa villegas burma cbn myanmar pantai senangin telok 2016 22ndannualscholarshipmontecarlo april16 culpeper danieltechnologycenter dtc gcc germannacommunitycollege saturdayevening students usa va animals jacksonville nanpa zoo customware wwwcustomwarenet remontti renovation toilet vessa wc 2011july english gardens green newport rhodeisland trees feric scion lawndaleartscenter polylawndale wwwanimalarchitectureorg alleghenyplateau appalachianmountains cloudless creativecommons driving highway hills landscape lewistownship lycomingcounty mountains pennsylvania pennsylvaniawilds road sky snow usroute15 winter asphalt curve guidance highway hill landscape mountain nature no person outdoors road scenic sky snow street transportation system travel tree trip (journey) wood combinedtest horsebackriding horses walnutcreek walnutcreekstables 1075m 2015 barrycornelius oxford oxfordhalfmarathon oxonraces houseconcert moab moabmusicfestival flower ebserh franciscowilliansaldanha fwsbsb hospital mec rehuf universitario samba u53f0u6771 u68eeu5df4 u68eeu5df4u9f13 australia david djwanz joe joebennett ladida melbourne pc3000 tickledpink victoria 28300mm animals is ef park zoo lens drusillas f3556l animal nreastbourne usm otter arch bridge cloudy day dsc0028 haze minnesota mn orange robert saintpaul st steel stpaul street sunrise wabasha wabashastreetbridge alexcairncross falls niagara sara 2005 alisoandwoodcanyonswilderness alisocreekbiketrail bikerides mar2005 funny girl lenstagged nose peoplejess portrait sigma282470 lilacalley sf 2016 chapelhill exhale franklinstreet january mikyoungkim sculpture westfranklinstreet padelazo padelazocom pu00e1del pu00e1delau00f1oreta pu00e1delau00f1oretagolf pu00e1delrincu00f3ndelavictoria torneopu00e1delau00f1oretagolf torneopu00e1delau00f1oretagolfseptiembre2012 nex5n sony sonynex5n berkeley ceasar chavez children colorfull dream festival fighter flight flying ghecko hill japan kids kite line lizard marina maubrowncow octopus park runner running silhouette slug tenticles watching whispy wind young denhaag nederland administration adult business chair democracy election facial expression group home leader league man meeting outfit parliament people politician portrait wear woman allende altstadt bajío baju00edo centreville “centro downtown guanajuato histórico” histu00f3ricou201d méxico mexiko mexique miguel mu00e9xico san u201ccentro prints art show collage paper sea japan event gannon surreal exhibition cutpaper creature myth nature illustration popsurrealism gallery patrickgannon animals blacksheep cincinnati cincinnatigardens cincinnatirollergirls crg jasonbechtel ohio pennsylvania pittsburgh rollerderby rollergirls steelcityderbydemons steelhurtin usa wftda womensflattrackderbyassociation 2010 banksy california sanfrancisco ecoledelacitu00e9deuxiu00e8mesession ecoledelacit\\xe9deuxi\\xe8mesession conifer flora landscape outdoors water daylight ecosystem environment evergreen fern lush moss leaf light wood nature no person park rainforest tree city new nyc york deutschland eifel immerath rheinlandpfalz wanderer balaton drupal drupalaton hungary keszthely london france paris europe france montpellier travelwider madrid spagna bordeaux digitaleurope digitalprintink fespa menno paulridderhof ridderhofrai studiogemini tetterode fenster gelb haus himmel innenhof russia russland sky stpetersburg window u043fu0438u0442u0435u0440 juniorrollerderby portorchard rollerderby usa wa blackandwhite cold horsforth ice leeds snow manchester dragonfly nature redtaileddarter animal close closeup color desktop dragonfly fly garden grass insect invertebrate leaf little nature no person outdoors park wild wildlife wing awesome car cars impasabru race rally speed subaru 03032013 1literauto 2013 auto baujahr2002 car deu deutschland dieselstrase35 fahrzeugmuseum germany mu00e4rz museum m\\xe4rz niedersachsen prototyp volkswagen volkswagenmuseum vwmuseum wob wolfsburg hawaii honolulu oahu aldeias chaves portugal tru00e1sosmontes vilelaseca 16thcentury 17thcentury 18thcentury 19thcentury album arabic binding calligraphy eighteenthcentury httpthedigitalwaltersorg illumination illustration india indian iran islamic manuscript miniature mughal nineteenthcentury persian qajar seventeenthcentury sixteenthcentury waltersartmuseum highplainfoodbank sife wtamu wtamusife arrious lac environment fair weather high ice lake landscape mountain nature no person outdoors reflection river rock scenic sky snow summer travel valley water bigtrip desktops jordan hair hu00e5r administration adult art engraving leader lid man old one painting people portrait print profile retro side view veil vintage wear writer bc canada victoria wed31dec megacon2015 20090920 70200mm d90 f28 nikon sym taiwan u53f0u7063 u9ad8u96c4u5922u6642u4ee3 台灣 高雄夢時代 5 archer archery campascca fun mobilerotaryclub session summer beach coast long washington boscoalbergati carnevale mauri monti 2013 analamazaotrareserve bird hypositta hyposittacorallirostris madagascar madagascartrip nuthatchvanga passeriformes passerine vanga vangidae aretxabaletakocampusa gelak ikasleak lansekuentziak norwegenelisabeth cellphonephotos kevin phoenix u0430u0432u0438u0430u0442u0435u0445u043du0438u043au0430 u043au043bu0430u0434u0431u0438u0449u0435u0441u0430u043cu043eu043bu0451u0442u043eu0432 u043cu043eu0441u043au0432u0430 u043cu0443u0437u0435u0439 u043cu0443u0437u0435u0439u0430u0432u0438u0430u0446u0438u0438u043du0430u0445u043eu0434u044bu043du043au0435 u0440u043eu0441u0441u0438u044f u0445u043eu0434u044bu043du043au0430 u0445u043eu0434u044bu043du0441u043au043eu0435u043fu043eu043bu0435 авиатехника кладбищесамолётов москва музей музейавиациинаходынке россия ходынка ходынскоеполе 173528 rdp dynax provia fuji 7 minolta 14january2017 459 5km albert middlesbrough parkrun run timed compassballroom concert electric gig petshopboys resortsworld sentosa singapore basilica roma rome stpeters vatican course makingsense noise smartcitizens du00e9rive melbourne night baby caroline children daycare gymbaby kids portrait preschool toddler turkey 土耳其 風景 g 旅遊 wineries livermore california vino wine cucuteni iasi romania adidas family dressed inside hotel wedding fun day aerial airplane landscape nikon nikond50 tamron1750 bruiloft de halfweg keizer oostenrijk rijk t5 van yashica bizspark bizsparkmay2010 boston microsoft nerd 2016 20160717 ccbync30 imsp3 imspspeedgamesround3 itakomotorsportspark ssエンジョイクラス ssenjoy ssu30a8u30f3u30b8u30e7u30a4u30afu30e9u30b9 u6f6eu6765u30e2u30fcu30bfu30fcu30b9u30ddu30fcu30c4u30d1u30fcu30af 潮来モータースポーツパーク canada lighthouse novascotia ns peggyscove u00a9rodbrazier \\xa9rodbrazier frogperspective flash sky perspective selfportrait chicco estate mare sea sole spiaggia building california green sanfrancisco bldigital date1898 mechanicalcurator publicdomain pubplaceu0441u043fu0435u0442u0435u0440u0431u0443u0440u0433u044a pubplaceспетербургъ headline news schlagzeile schreibmaschine typewriter thetwomrsjacksons germany munich asianworldcupfinals camillechamounstadium cedars football korea lebanesesoccer lebanon soccer friendlyflickr u6f8eu6e56u751fu6d3bu9928 \\u6f8e\\u6e56\\u751f\\u6d3b\\u9928 u6f8eu6e56u7e23 \\u6f8e\\u6e56\\u7e23 u99acu516cu5e02 \\u99ac\\u516c\\u5e02 keith 1992 scannedphotos scans arch arco church door mexico mu00e9xico m\\xe9xico naranja orange parau00edsoterrenal para\\xedsoterrenal puerta regiu00f3nmedia regi\\xf3nmedia rioverde sanluispotosi sanluispotosu00ed sanluispotos\\xed tarde templo kobeanimalkingdom u795eu6238u3069u3046u3076u3064u738bu56fd 2016 20160716csdpride gay july sandiegopride barcamp barcampvancouver08 barcampvancouver2008 vancouver fcu ttem ttem93 ttem93a u4ea4u7ba1 u5bb6u60e0 u8a02u5a5a donna boat elbe hafen hamburg harbour luxusyacht megayacht radiant ship yacht bel brussels stephenboucher 2015 at86kor95k barrycornelius bourton10k bourtononthewater oxonraces acq arras diamondclassphotographer ecoivres flickrdiamond menhir menhirs montsainteloi olibac pierres pru00e9histoire arts performance ucla vietnamese 2014 air payerne show creek edited editlater floraleaves floratrees kncbeechmapletrail locationskalamazoo locationskalamazoonaturecenter photocontesttnc09 water flip2010 paraty 2010 beech corse corsica fru00e0 gr gr20 hetres hiker li montagne monti old randonnu00e9e san serra tomaghiu trail vieux cvn69 deployment ike persiangulf marriage scenes scenesfromamarriage california desert film indiefilmlab joshua landscape photo photography road roadtrip travel tree n81 abri atlantikwall august blockhaus bray bunker bunkerfreaks bunkers defense dunes german heer hidden secret shelters underground urbex wehrmacht ww2 091111 alley boat canada cannon church cityhall courthouse customhouse downtown flower fountain garden historicalsign history house ivy kingston lamp limestone marina memorial monument ontario queensuniversity sculpture ship sirjohnamacdonald spire statue steeple trainstation victorian 2011 att du00f6da d\\xf6da fokuserad januari lindholm pu00e4r pu00e5 p\\xe4r p\\xe5 u00e4r \\xe4r zombies austin flugtag kayak paddle redbull texas 1998 aquarium atlantis bahamas beah condo large resort tropical vacation quad stanford convention furry portraits rainfurrest croatia dubrovnik europe travel elephant kangacamp zimbabwe hongkong market meifoo poultry steam steampunk steampunkrobot vintage karla navnefest bloomsbury gon lanes stuartmcalpine bowling 2015 chicago food logansquare mexican restaurant bonvivant diagio elite heckestates pemodricard redlantern redwoodcity siliconvalley southernwinespirits tigerbeer yelp youngmarket america losangeles santamonicabeach states usa fireworks japanfireworks tamagawafireworksfestival tamagawafireworksfestival2014 6000dental braun bristle brush care caries cleaning dental dentalcare dentist dentistry electric electrictoothbrush equipment healthcare healthoral hygiene oralb oralbpro oralbsmart oralbsmart66000 oralhealth oralhygiene smart6 smart66000 teethcare toiletries tooth toothbrush newyorkcity usa 10 art graffiti manchester street streetart butterfly insect olympus u7b95u9762 beautiful biology bright butterfly closeup color delicate environment flora floral flower garden insect leaf nature no person outdoors summer wild wildlife africa cu00f4tedivoire c\\xf4tedivoire nonprofit poverty setp tonhon trips bianca joel bw hand mobile selfportrait cheriecross jadeglindon shaneglindon 2011 40d backstages canon dior fashion fw europe budapest 2009 backpacking travel castledistrict castlehill hungary holiday 20090122 u6eecu5712 u975cu5fc3 acoustic annak barcelona barcelonaunderground danicanto danielcanto elchicodedelaleche elchicodelaleche fotografo macba meandthebees photographer pintorfortuny30 pureseriousfunconcerts raval shop store thelionsconstellation tienda tokyosexdestruction urgencia castromarim cat faro portugal city indianapolis indy outdoors summer sunshine italia italy u5a01u5c3cu65af u7fa9u5927u5229 \n"
     ]
    }
   ],
   "source": [
    "#What if we combine all tags into one sentence and feed it into the model? Will it be faster?\n",
    "combined_sentence = \"\"\n",
    "for p in proper_tagStr[:number_of_entry_to_encode]:\n",
    "  combined_sentence += p\n",
    "  combined_sentence += \" \"\n",
    "print(combined_sentence)"
   ]
  },
  {
   "cell_type": "code",
   "execution_count": 39,
   "metadata": {
    "colab": {
     "base_uri": "https://localhost:8080/"
    },
    "id": "vhHFZN_f_r1e",
    "outputId": "d70b17df-3268-4d43-8e53-1d10ffeb91b4"
   },
   "outputs": [
    {
     "name": "stderr",
     "output_type": "stream",
     "text": [
      "Token indices sequence length is longer than the specified maximum  sequence length for this BERT model (2147 > 512). Running this sequence through BERT will result in indexing errors\n"
     ]
    },
    {
     "ename": "RuntimeError",
     "evalue": "index out of range: Tried to access index 512 out of table with 511 rows. at /Users/distiller/project/conda/conda-bld/pytorch_1579022061893/work/aten/src/TH/generic/THTensorEvenMoreMath.cpp:418",
     "output_type": "error",
     "traceback": [
      "\u001b[0;31m---------------------------------------------------------------------------\u001b[0m",
      "\u001b[0;31mRuntimeError\u001b[0m                              Traceback (most recent call last)",
      "\u001b[0;32m<ipython-input-39-39e91ef7fd75>\u001b[0m in \u001b[0;36m<module>\u001b[0;34m\u001b[0m\n\u001b[0;32m----> 1\u001b[0;31m \u001b[0mcombined_sentence_encoded\u001b[0m \u001b[0;34m=\u001b[0m \u001b[0mget_encoded_layers\u001b[0m\u001b[0;34m(\u001b[0m\u001b[0mcombined_sentence\u001b[0m\u001b[0;34m)\u001b[0m\u001b[0;34m\u001b[0m\u001b[0;34m\u001b[0m\u001b[0m\n\u001b[0m\u001b[1;32m      2\u001b[0m \u001b[0mprint_layer_shapes\u001b[0m\u001b[0;34m(\u001b[0m\u001b[0mcombined_sentence_encoded\u001b[0m\u001b[0;34m)\u001b[0m\u001b[0;34m\u001b[0m\u001b[0;34m\u001b[0m\u001b[0m\n",
      "\u001b[0;32m<ipython-input-31-4aaf2af474a3>\u001b[0m in \u001b[0;36mget_encoded_layers\u001b[0;34m(sentence)\u001b[0m\n\u001b[1;32m     25\u001b[0m   \u001b[0;31m# Predict hidden states features for each layer\u001b[0m\u001b[0;34m\u001b[0m\u001b[0;34m\u001b[0m\u001b[0;34m\u001b[0m\u001b[0m\n\u001b[1;32m     26\u001b[0m   \u001b[0;32mwith\u001b[0m \u001b[0mtorch\u001b[0m\u001b[0;34m.\u001b[0m\u001b[0mno_grad\u001b[0m\u001b[0;34m(\u001b[0m\u001b[0;34m)\u001b[0m\u001b[0;34m:\u001b[0m\u001b[0;34m\u001b[0m\u001b[0;34m\u001b[0m\u001b[0m\n\u001b[0;32m---> 27\u001b[0;31m       \u001b[0mencoded_layers\u001b[0m\u001b[0;34m,\u001b[0m \u001b[0m_\u001b[0m \u001b[0;34m=\u001b[0m \u001b[0mmodel\u001b[0m\u001b[0;34m(\u001b[0m\u001b[0mtokens_tensor\u001b[0m\u001b[0;34m,\u001b[0m \u001b[0msegments_tensors\u001b[0m\u001b[0;34m)\u001b[0m\u001b[0;34m\u001b[0m\u001b[0;34m\u001b[0m\u001b[0m\n\u001b[0m\u001b[1;32m     28\u001b[0m \u001b[0;34m\u001b[0m\u001b[0m\n\u001b[1;32m     29\u001b[0m   \u001b[0;31m# Display the shape of encoded_layers\u001b[0m\u001b[0;34m\u001b[0m\u001b[0;34m\u001b[0m\u001b[0;34m\u001b[0m\u001b[0m\n",
      "\u001b[0;32m/opt/anaconda3/lib/python3.7/site-packages/torch/nn/modules/module.py\u001b[0m in \u001b[0;36m__call__\u001b[0;34m(self, *input, **kwargs)\u001b[0m\n\u001b[1;32m    530\u001b[0m             \u001b[0mresult\u001b[0m \u001b[0;34m=\u001b[0m \u001b[0mself\u001b[0m\u001b[0;34m.\u001b[0m\u001b[0m_slow_forward\u001b[0m\u001b[0;34m(\u001b[0m\u001b[0;34m*\u001b[0m\u001b[0minput\u001b[0m\u001b[0;34m,\u001b[0m \u001b[0;34m**\u001b[0m\u001b[0mkwargs\u001b[0m\u001b[0;34m)\u001b[0m\u001b[0;34m\u001b[0m\u001b[0;34m\u001b[0m\u001b[0m\n\u001b[1;32m    531\u001b[0m         \u001b[0;32melse\u001b[0m\u001b[0;34m:\u001b[0m\u001b[0;34m\u001b[0m\u001b[0;34m\u001b[0m\u001b[0m\n\u001b[0;32m--> 532\u001b[0;31m             \u001b[0mresult\u001b[0m \u001b[0;34m=\u001b[0m \u001b[0mself\u001b[0m\u001b[0;34m.\u001b[0m\u001b[0mforward\u001b[0m\u001b[0;34m(\u001b[0m\u001b[0;34m*\u001b[0m\u001b[0minput\u001b[0m\u001b[0;34m,\u001b[0m \u001b[0;34m**\u001b[0m\u001b[0mkwargs\u001b[0m\u001b[0;34m)\u001b[0m\u001b[0;34m\u001b[0m\u001b[0;34m\u001b[0m\u001b[0m\n\u001b[0m\u001b[1;32m    533\u001b[0m         \u001b[0;32mfor\u001b[0m \u001b[0mhook\u001b[0m \u001b[0;32min\u001b[0m \u001b[0mself\u001b[0m\u001b[0;34m.\u001b[0m\u001b[0m_forward_hooks\u001b[0m\u001b[0;34m.\u001b[0m\u001b[0mvalues\u001b[0m\u001b[0;34m(\u001b[0m\u001b[0;34m)\u001b[0m\u001b[0;34m:\u001b[0m\u001b[0;34m\u001b[0m\u001b[0;34m\u001b[0m\u001b[0m\n\u001b[1;32m    534\u001b[0m             \u001b[0mhook_result\u001b[0m \u001b[0;34m=\u001b[0m \u001b[0mhook\u001b[0m\u001b[0;34m(\u001b[0m\u001b[0mself\u001b[0m\u001b[0;34m,\u001b[0m \u001b[0minput\u001b[0m\u001b[0;34m,\u001b[0m \u001b[0mresult\u001b[0m\u001b[0;34m)\u001b[0m\u001b[0;34m\u001b[0m\u001b[0;34m\u001b[0m\u001b[0m\n",
      "\u001b[0;32m/opt/anaconda3/lib/python3.7/site-packages/pytorch_pretrained_bert/modeling.py\u001b[0m in \u001b[0;36mforward\u001b[0;34m(self, input_ids, token_type_ids, attention_mask, output_all_encoded_layers)\u001b[0m\n\u001b[1;32m    728\u001b[0m         \u001b[0mextended_attention_mask\u001b[0m \u001b[0;34m=\u001b[0m \u001b[0;34m(\u001b[0m\u001b[0;36m1.0\u001b[0m \u001b[0;34m-\u001b[0m \u001b[0mextended_attention_mask\u001b[0m\u001b[0;34m)\u001b[0m \u001b[0;34m*\u001b[0m \u001b[0;34m-\u001b[0m\u001b[0;36m10000.0\u001b[0m\u001b[0;34m\u001b[0m\u001b[0;34m\u001b[0m\u001b[0m\n\u001b[1;32m    729\u001b[0m \u001b[0;34m\u001b[0m\u001b[0m\n\u001b[0;32m--> 730\u001b[0;31m         \u001b[0membedding_output\u001b[0m \u001b[0;34m=\u001b[0m \u001b[0mself\u001b[0m\u001b[0;34m.\u001b[0m\u001b[0membeddings\u001b[0m\u001b[0;34m(\u001b[0m\u001b[0minput_ids\u001b[0m\u001b[0;34m,\u001b[0m \u001b[0mtoken_type_ids\u001b[0m\u001b[0;34m)\u001b[0m\u001b[0;34m\u001b[0m\u001b[0;34m\u001b[0m\u001b[0m\n\u001b[0m\u001b[1;32m    731\u001b[0m         encoded_layers = self.encoder(embedding_output,\n\u001b[1;32m    732\u001b[0m                                       \u001b[0mextended_attention_mask\u001b[0m\u001b[0;34m,\u001b[0m\u001b[0;34m\u001b[0m\u001b[0;34m\u001b[0m\u001b[0m\n",
      "\u001b[0;32m/opt/anaconda3/lib/python3.7/site-packages/torch/nn/modules/module.py\u001b[0m in \u001b[0;36m__call__\u001b[0;34m(self, *input, **kwargs)\u001b[0m\n\u001b[1;32m    530\u001b[0m             \u001b[0mresult\u001b[0m \u001b[0;34m=\u001b[0m \u001b[0mself\u001b[0m\u001b[0;34m.\u001b[0m\u001b[0m_slow_forward\u001b[0m\u001b[0;34m(\u001b[0m\u001b[0;34m*\u001b[0m\u001b[0minput\u001b[0m\u001b[0;34m,\u001b[0m \u001b[0;34m**\u001b[0m\u001b[0mkwargs\u001b[0m\u001b[0;34m)\u001b[0m\u001b[0;34m\u001b[0m\u001b[0;34m\u001b[0m\u001b[0m\n\u001b[1;32m    531\u001b[0m         \u001b[0;32melse\u001b[0m\u001b[0;34m:\u001b[0m\u001b[0;34m\u001b[0m\u001b[0;34m\u001b[0m\u001b[0m\n\u001b[0;32m--> 532\u001b[0;31m             \u001b[0mresult\u001b[0m \u001b[0;34m=\u001b[0m \u001b[0mself\u001b[0m\u001b[0;34m.\u001b[0m\u001b[0mforward\u001b[0m\u001b[0;34m(\u001b[0m\u001b[0;34m*\u001b[0m\u001b[0minput\u001b[0m\u001b[0;34m,\u001b[0m \u001b[0;34m**\u001b[0m\u001b[0mkwargs\u001b[0m\u001b[0;34m)\u001b[0m\u001b[0;34m\u001b[0m\u001b[0;34m\u001b[0m\u001b[0m\n\u001b[0m\u001b[1;32m    533\u001b[0m         \u001b[0;32mfor\u001b[0m \u001b[0mhook\u001b[0m \u001b[0;32min\u001b[0m \u001b[0mself\u001b[0m\u001b[0;34m.\u001b[0m\u001b[0m_forward_hooks\u001b[0m\u001b[0;34m.\u001b[0m\u001b[0mvalues\u001b[0m\u001b[0;34m(\u001b[0m\u001b[0;34m)\u001b[0m\u001b[0;34m:\u001b[0m\u001b[0;34m\u001b[0m\u001b[0;34m\u001b[0m\u001b[0m\n\u001b[1;32m    534\u001b[0m             \u001b[0mhook_result\u001b[0m \u001b[0;34m=\u001b[0m \u001b[0mhook\u001b[0m\u001b[0;34m(\u001b[0m\u001b[0mself\u001b[0m\u001b[0;34m,\u001b[0m \u001b[0minput\u001b[0m\u001b[0;34m,\u001b[0m \u001b[0mresult\u001b[0m\u001b[0;34m)\u001b[0m\u001b[0;34m\u001b[0m\u001b[0;34m\u001b[0m\u001b[0m\n",
      "\u001b[0;32m/opt/anaconda3/lib/python3.7/site-packages/pytorch_pretrained_bert/modeling.py\u001b[0m in \u001b[0;36mforward\u001b[0;34m(self, input_ids, token_type_ids)\u001b[0m\n\u001b[1;32m    266\u001b[0m \u001b[0;34m\u001b[0m\u001b[0m\n\u001b[1;32m    267\u001b[0m         \u001b[0mwords_embeddings\u001b[0m \u001b[0;34m=\u001b[0m \u001b[0mself\u001b[0m\u001b[0;34m.\u001b[0m\u001b[0mword_embeddings\u001b[0m\u001b[0;34m(\u001b[0m\u001b[0minput_ids\u001b[0m\u001b[0;34m)\u001b[0m\u001b[0;34m\u001b[0m\u001b[0;34m\u001b[0m\u001b[0m\n\u001b[0;32m--> 268\u001b[0;31m         \u001b[0mposition_embeddings\u001b[0m \u001b[0;34m=\u001b[0m \u001b[0mself\u001b[0m\u001b[0;34m.\u001b[0m\u001b[0mposition_embeddings\u001b[0m\u001b[0;34m(\u001b[0m\u001b[0mposition_ids\u001b[0m\u001b[0;34m)\u001b[0m\u001b[0;34m\u001b[0m\u001b[0;34m\u001b[0m\u001b[0m\n\u001b[0m\u001b[1;32m    269\u001b[0m         \u001b[0mtoken_type_embeddings\u001b[0m \u001b[0;34m=\u001b[0m \u001b[0mself\u001b[0m\u001b[0;34m.\u001b[0m\u001b[0mtoken_type_embeddings\u001b[0m\u001b[0;34m(\u001b[0m\u001b[0mtoken_type_ids\u001b[0m\u001b[0;34m)\u001b[0m\u001b[0;34m\u001b[0m\u001b[0;34m\u001b[0m\u001b[0m\n\u001b[1;32m    270\u001b[0m \u001b[0;34m\u001b[0m\u001b[0m\n",
      "\u001b[0;32m/opt/anaconda3/lib/python3.7/site-packages/torch/nn/modules/module.py\u001b[0m in \u001b[0;36m__call__\u001b[0;34m(self, *input, **kwargs)\u001b[0m\n\u001b[1;32m    530\u001b[0m             \u001b[0mresult\u001b[0m \u001b[0;34m=\u001b[0m \u001b[0mself\u001b[0m\u001b[0;34m.\u001b[0m\u001b[0m_slow_forward\u001b[0m\u001b[0;34m(\u001b[0m\u001b[0;34m*\u001b[0m\u001b[0minput\u001b[0m\u001b[0;34m,\u001b[0m \u001b[0;34m**\u001b[0m\u001b[0mkwargs\u001b[0m\u001b[0;34m)\u001b[0m\u001b[0;34m\u001b[0m\u001b[0;34m\u001b[0m\u001b[0m\n\u001b[1;32m    531\u001b[0m         \u001b[0;32melse\u001b[0m\u001b[0;34m:\u001b[0m\u001b[0;34m\u001b[0m\u001b[0;34m\u001b[0m\u001b[0m\n\u001b[0;32m--> 532\u001b[0;31m             \u001b[0mresult\u001b[0m \u001b[0;34m=\u001b[0m \u001b[0mself\u001b[0m\u001b[0;34m.\u001b[0m\u001b[0mforward\u001b[0m\u001b[0;34m(\u001b[0m\u001b[0;34m*\u001b[0m\u001b[0minput\u001b[0m\u001b[0;34m,\u001b[0m \u001b[0;34m**\u001b[0m\u001b[0mkwargs\u001b[0m\u001b[0;34m)\u001b[0m\u001b[0;34m\u001b[0m\u001b[0;34m\u001b[0m\u001b[0m\n\u001b[0m\u001b[1;32m    533\u001b[0m         \u001b[0;32mfor\u001b[0m \u001b[0mhook\u001b[0m \u001b[0;32min\u001b[0m \u001b[0mself\u001b[0m\u001b[0;34m.\u001b[0m\u001b[0m_forward_hooks\u001b[0m\u001b[0;34m.\u001b[0m\u001b[0mvalues\u001b[0m\u001b[0;34m(\u001b[0m\u001b[0;34m)\u001b[0m\u001b[0;34m:\u001b[0m\u001b[0;34m\u001b[0m\u001b[0;34m\u001b[0m\u001b[0m\n\u001b[1;32m    534\u001b[0m             \u001b[0mhook_result\u001b[0m \u001b[0;34m=\u001b[0m \u001b[0mhook\u001b[0m\u001b[0;34m(\u001b[0m\u001b[0mself\u001b[0m\u001b[0;34m,\u001b[0m \u001b[0minput\u001b[0m\u001b[0;34m,\u001b[0m \u001b[0mresult\u001b[0m\u001b[0;34m)\u001b[0m\u001b[0;34m\u001b[0m\u001b[0;34m\u001b[0m\u001b[0m\n",
      "\u001b[0;32m/opt/anaconda3/lib/python3.7/site-packages/torch/nn/modules/sparse.py\u001b[0m in \u001b[0;36mforward\u001b[0;34m(self, input)\u001b[0m\n\u001b[1;32m    112\u001b[0m         return F.embedding(\n\u001b[1;32m    113\u001b[0m             \u001b[0minput\u001b[0m\u001b[0;34m,\u001b[0m \u001b[0mself\u001b[0m\u001b[0;34m.\u001b[0m\u001b[0mweight\u001b[0m\u001b[0;34m,\u001b[0m \u001b[0mself\u001b[0m\u001b[0;34m.\u001b[0m\u001b[0mpadding_idx\u001b[0m\u001b[0;34m,\u001b[0m \u001b[0mself\u001b[0m\u001b[0;34m.\u001b[0m\u001b[0mmax_norm\u001b[0m\u001b[0;34m,\u001b[0m\u001b[0;34m\u001b[0m\u001b[0;34m\u001b[0m\u001b[0m\n\u001b[0;32m--> 114\u001b[0;31m             self.norm_type, self.scale_grad_by_freq, self.sparse)\n\u001b[0m\u001b[1;32m    115\u001b[0m \u001b[0;34m\u001b[0m\u001b[0m\n\u001b[1;32m    116\u001b[0m     \u001b[0;32mdef\u001b[0m \u001b[0mextra_repr\u001b[0m\u001b[0;34m(\u001b[0m\u001b[0mself\u001b[0m\u001b[0;34m)\u001b[0m\u001b[0;34m:\u001b[0m\u001b[0;34m\u001b[0m\u001b[0;34m\u001b[0m\u001b[0m\n",
      "\u001b[0;32m/opt/anaconda3/lib/python3.7/site-packages/torch/nn/functional.py\u001b[0m in \u001b[0;36membedding\u001b[0;34m(input, weight, padding_idx, max_norm, norm_type, scale_grad_by_freq, sparse)\u001b[0m\n\u001b[1;32m   1482\u001b[0m         \u001b[0;31m# remove once script supports set_grad_enabled\u001b[0m\u001b[0;34m\u001b[0m\u001b[0;34m\u001b[0m\u001b[0;34m\u001b[0m\u001b[0m\n\u001b[1;32m   1483\u001b[0m         \u001b[0m_no_grad_embedding_renorm_\u001b[0m\u001b[0;34m(\u001b[0m\u001b[0mweight\u001b[0m\u001b[0;34m,\u001b[0m \u001b[0minput\u001b[0m\u001b[0;34m,\u001b[0m \u001b[0mmax_norm\u001b[0m\u001b[0;34m,\u001b[0m \u001b[0mnorm_type\u001b[0m\u001b[0;34m)\u001b[0m\u001b[0;34m\u001b[0m\u001b[0;34m\u001b[0m\u001b[0m\n\u001b[0;32m-> 1484\u001b[0;31m     \u001b[0;32mreturn\u001b[0m \u001b[0mtorch\u001b[0m\u001b[0;34m.\u001b[0m\u001b[0membedding\u001b[0m\u001b[0;34m(\u001b[0m\u001b[0mweight\u001b[0m\u001b[0;34m,\u001b[0m \u001b[0minput\u001b[0m\u001b[0;34m,\u001b[0m \u001b[0mpadding_idx\u001b[0m\u001b[0;34m,\u001b[0m \u001b[0mscale_grad_by_freq\u001b[0m\u001b[0;34m,\u001b[0m \u001b[0msparse\u001b[0m\u001b[0;34m)\u001b[0m\u001b[0;34m\u001b[0m\u001b[0;34m\u001b[0m\u001b[0m\n\u001b[0m\u001b[1;32m   1485\u001b[0m \u001b[0;34m\u001b[0m\u001b[0m\n\u001b[1;32m   1486\u001b[0m \u001b[0;34m\u001b[0m\u001b[0m\n",
      "\u001b[0;31mRuntimeError\u001b[0m: index out of range: Tried to access index 512 out of table with 511 rows. at /Users/distiller/project/conda/conda-bld/pytorch_1579022061893/work/aten/src/TH/generic/THTensorEvenMoreMath.cpp:418"
     ]
    }
   ],
   "source": [
    "combined_sentence_encoded = get_encoded_layers(combined_sentence)\n",
    "print_layer_shapes(combined_sentence_encoded)"
   ]
  },
  {
   "cell_type": "markdown",
   "metadata": {
    "id": "fifgsUt6BEWT"
   },
   "source": [
    "This way is indeed faster. And we do get 343 tokens as expected. Now we need to remmeber to change mask text, add CLE SEP labels and maybe change the approach to single vector a little bit"
   ]
  },
  {
   "cell_type": "code",
   "execution_count": 40,
   "metadata": {
    "colab": {
     "base_uri": "https://localhost:8080/"
    },
    "id": "ewgp75bRBCD4",
    "outputId": "18ddba7f-06ed-458b-cb2c-138d2620243d"
   },
   "outputs": [
    {
     "name": "stderr",
     "output_type": "stream",
     "text": [
      "Token indices sequence length is longer than the specified maximum  sequence length for this BERT model (2147 > 512). Running this sequence through BERT will result in indexing errors\n"
     ]
    },
    {
     "ename": "RuntimeError",
     "evalue": "index out of range: Tried to access index 512 out of table with 511 rows. at /Users/distiller/project/conda/conda-bld/pytorch_1579022061893/work/aten/src/TH/generic/THTensorEvenMoreMath.cpp:418",
     "output_type": "error",
     "traceback": [
      "\u001b[0;31m---------------------------------------------------------------------------\u001b[0m",
      "\u001b[0;31mRuntimeError\u001b[0m                              Traceback (most recent call last)",
      "\u001b[0;32m<ipython-input-40-6c74d6069869>\u001b[0m in \u001b[0;36m<module>\u001b[0;34m\u001b[0m\n\u001b[1;32m      6\u001b[0m   \u001b[0mall_sample_combined_sentence\u001b[0m \u001b[0;34m+=\u001b[0m \u001b[0mp\u001b[0m\u001b[0;34m\u001b[0m\u001b[0;34m\u001b[0m\u001b[0m\n\u001b[1;32m      7\u001b[0m \u001b[0;34m\u001b[0m\u001b[0m\n\u001b[0;32m----> 8\u001b[0;31m \u001b[0mall_sample_combined_sentence_encoded\u001b[0m \u001b[0;34m=\u001b[0m \u001b[0mget_encoded_layers\u001b[0m\u001b[0;34m(\u001b[0m\u001b[0mall_sample_combined_sentence\u001b[0m\u001b[0;34m)\u001b[0m\u001b[0;34m\u001b[0m\u001b[0;34m\u001b[0m\u001b[0m\n\u001b[0m\u001b[1;32m      9\u001b[0m \u001b[0mprint_layer_shapes\u001b[0m\u001b[0;34m(\u001b[0m\u001b[0mall_sample_combined_sentence_encoded\u001b[0m\u001b[0;34m)\u001b[0m\u001b[0;34m\u001b[0m\u001b[0;34m\u001b[0m\u001b[0m\n\u001b[1;32m     10\u001b[0m \u001b[0;34m\u001b[0m\u001b[0m\n",
      "\u001b[0;32m<ipython-input-31-4aaf2af474a3>\u001b[0m in \u001b[0;36mget_encoded_layers\u001b[0;34m(sentence)\u001b[0m\n\u001b[1;32m     25\u001b[0m   \u001b[0;31m# Predict hidden states features for each layer\u001b[0m\u001b[0;34m\u001b[0m\u001b[0;34m\u001b[0m\u001b[0;34m\u001b[0m\u001b[0m\n\u001b[1;32m     26\u001b[0m   \u001b[0;32mwith\u001b[0m \u001b[0mtorch\u001b[0m\u001b[0;34m.\u001b[0m\u001b[0mno_grad\u001b[0m\u001b[0;34m(\u001b[0m\u001b[0;34m)\u001b[0m\u001b[0;34m:\u001b[0m\u001b[0;34m\u001b[0m\u001b[0;34m\u001b[0m\u001b[0m\n\u001b[0;32m---> 27\u001b[0;31m       \u001b[0mencoded_layers\u001b[0m\u001b[0;34m,\u001b[0m \u001b[0m_\u001b[0m \u001b[0;34m=\u001b[0m \u001b[0mmodel\u001b[0m\u001b[0;34m(\u001b[0m\u001b[0mtokens_tensor\u001b[0m\u001b[0;34m,\u001b[0m \u001b[0msegments_tensors\u001b[0m\u001b[0;34m)\u001b[0m\u001b[0;34m\u001b[0m\u001b[0;34m\u001b[0m\u001b[0m\n\u001b[0m\u001b[1;32m     28\u001b[0m \u001b[0;34m\u001b[0m\u001b[0m\n\u001b[1;32m     29\u001b[0m   \u001b[0;31m# Display the shape of encoded_layers\u001b[0m\u001b[0;34m\u001b[0m\u001b[0;34m\u001b[0m\u001b[0;34m\u001b[0m\u001b[0m\n",
      "\u001b[0;32m/opt/anaconda3/lib/python3.7/site-packages/torch/nn/modules/module.py\u001b[0m in \u001b[0;36m__call__\u001b[0;34m(self, *input, **kwargs)\u001b[0m\n\u001b[1;32m    530\u001b[0m             \u001b[0mresult\u001b[0m \u001b[0;34m=\u001b[0m \u001b[0mself\u001b[0m\u001b[0;34m.\u001b[0m\u001b[0m_slow_forward\u001b[0m\u001b[0;34m(\u001b[0m\u001b[0;34m*\u001b[0m\u001b[0minput\u001b[0m\u001b[0;34m,\u001b[0m \u001b[0;34m**\u001b[0m\u001b[0mkwargs\u001b[0m\u001b[0;34m)\u001b[0m\u001b[0;34m\u001b[0m\u001b[0;34m\u001b[0m\u001b[0m\n\u001b[1;32m    531\u001b[0m         \u001b[0;32melse\u001b[0m\u001b[0;34m:\u001b[0m\u001b[0;34m\u001b[0m\u001b[0;34m\u001b[0m\u001b[0m\n\u001b[0;32m--> 532\u001b[0;31m             \u001b[0mresult\u001b[0m \u001b[0;34m=\u001b[0m \u001b[0mself\u001b[0m\u001b[0;34m.\u001b[0m\u001b[0mforward\u001b[0m\u001b[0;34m(\u001b[0m\u001b[0;34m*\u001b[0m\u001b[0minput\u001b[0m\u001b[0;34m,\u001b[0m \u001b[0;34m**\u001b[0m\u001b[0mkwargs\u001b[0m\u001b[0;34m)\u001b[0m\u001b[0;34m\u001b[0m\u001b[0;34m\u001b[0m\u001b[0m\n\u001b[0m\u001b[1;32m    533\u001b[0m         \u001b[0;32mfor\u001b[0m \u001b[0mhook\u001b[0m \u001b[0;32min\u001b[0m \u001b[0mself\u001b[0m\u001b[0;34m.\u001b[0m\u001b[0m_forward_hooks\u001b[0m\u001b[0;34m.\u001b[0m\u001b[0mvalues\u001b[0m\u001b[0;34m(\u001b[0m\u001b[0;34m)\u001b[0m\u001b[0;34m:\u001b[0m\u001b[0;34m\u001b[0m\u001b[0;34m\u001b[0m\u001b[0m\n\u001b[1;32m    534\u001b[0m             \u001b[0mhook_result\u001b[0m \u001b[0;34m=\u001b[0m \u001b[0mhook\u001b[0m\u001b[0;34m(\u001b[0m\u001b[0mself\u001b[0m\u001b[0;34m,\u001b[0m \u001b[0minput\u001b[0m\u001b[0;34m,\u001b[0m \u001b[0mresult\u001b[0m\u001b[0;34m)\u001b[0m\u001b[0;34m\u001b[0m\u001b[0;34m\u001b[0m\u001b[0m\n",
      "\u001b[0;32m/opt/anaconda3/lib/python3.7/site-packages/pytorch_pretrained_bert/modeling.py\u001b[0m in \u001b[0;36mforward\u001b[0;34m(self, input_ids, token_type_ids, attention_mask, output_all_encoded_layers)\u001b[0m\n\u001b[1;32m    728\u001b[0m         \u001b[0mextended_attention_mask\u001b[0m \u001b[0;34m=\u001b[0m \u001b[0;34m(\u001b[0m\u001b[0;36m1.0\u001b[0m \u001b[0;34m-\u001b[0m \u001b[0mextended_attention_mask\u001b[0m\u001b[0;34m)\u001b[0m \u001b[0;34m*\u001b[0m \u001b[0;34m-\u001b[0m\u001b[0;36m10000.0\u001b[0m\u001b[0;34m\u001b[0m\u001b[0;34m\u001b[0m\u001b[0m\n\u001b[1;32m    729\u001b[0m \u001b[0;34m\u001b[0m\u001b[0m\n\u001b[0;32m--> 730\u001b[0;31m         \u001b[0membedding_output\u001b[0m \u001b[0;34m=\u001b[0m \u001b[0mself\u001b[0m\u001b[0;34m.\u001b[0m\u001b[0membeddings\u001b[0m\u001b[0;34m(\u001b[0m\u001b[0minput_ids\u001b[0m\u001b[0;34m,\u001b[0m \u001b[0mtoken_type_ids\u001b[0m\u001b[0;34m)\u001b[0m\u001b[0;34m\u001b[0m\u001b[0;34m\u001b[0m\u001b[0m\n\u001b[0m\u001b[1;32m    731\u001b[0m         encoded_layers = self.encoder(embedding_output,\n\u001b[1;32m    732\u001b[0m                                       \u001b[0mextended_attention_mask\u001b[0m\u001b[0;34m,\u001b[0m\u001b[0;34m\u001b[0m\u001b[0;34m\u001b[0m\u001b[0m\n",
      "\u001b[0;32m/opt/anaconda3/lib/python3.7/site-packages/torch/nn/modules/module.py\u001b[0m in \u001b[0;36m__call__\u001b[0;34m(self, *input, **kwargs)\u001b[0m\n\u001b[1;32m    530\u001b[0m             \u001b[0mresult\u001b[0m \u001b[0;34m=\u001b[0m \u001b[0mself\u001b[0m\u001b[0;34m.\u001b[0m\u001b[0m_slow_forward\u001b[0m\u001b[0;34m(\u001b[0m\u001b[0;34m*\u001b[0m\u001b[0minput\u001b[0m\u001b[0;34m,\u001b[0m \u001b[0;34m**\u001b[0m\u001b[0mkwargs\u001b[0m\u001b[0;34m)\u001b[0m\u001b[0;34m\u001b[0m\u001b[0;34m\u001b[0m\u001b[0m\n\u001b[1;32m    531\u001b[0m         \u001b[0;32melse\u001b[0m\u001b[0;34m:\u001b[0m\u001b[0;34m\u001b[0m\u001b[0;34m\u001b[0m\u001b[0m\n\u001b[0;32m--> 532\u001b[0;31m             \u001b[0mresult\u001b[0m \u001b[0;34m=\u001b[0m \u001b[0mself\u001b[0m\u001b[0;34m.\u001b[0m\u001b[0mforward\u001b[0m\u001b[0;34m(\u001b[0m\u001b[0;34m*\u001b[0m\u001b[0minput\u001b[0m\u001b[0;34m,\u001b[0m \u001b[0;34m**\u001b[0m\u001b[0mkwargs\u001b[0m\u001b[0;34m)\u001b[0m\u001b[0;34m\u001b[0m\u001b[0;34m\u001b[0m\u001b[0m\n\u001b[0m\u001b[1;32m    533\u001b[0m         \u001b[0;32mfor\u001b[0m \u001b[0mhook\u001b[0m \u001b[0;32min\u001b[0m \u001b[0mself\u001b[0m\u001b[0;34m.\u001b[0m\u001b[0m_forward_hooks\u001b[0m\u001b[0;34m.\u001b[0m\u001b[0mvalues\u001b[0m\u001b[0;34m(\u001b[0m\u001b[0;34m)\u001b[0m\u001b[0;34m:\u001b[0m\u001b[0;34m\u001b[0m\u001b[0;34m\u001b[0m\u001b[0m\n\u001b[1;32m    534\u001b[0m             \u001b[0mhook_result\u001b[0m \u001b[0;34m=\u001b[0m \u001b[0mhook\u001b[0m\u001b[0;34m(\u001b[0m\u001b[0mself\u001b[0m\u001b[0;34m,\u001b[0m \u001b[0minput\u001b[0m\u001b[0;34m,\u001b[0m \u001b[0mresult\u001b[0m\u001b[0;34m)\u001b[0m\u001b[0;34m\u001b[0m\u001b[0;34m\u001b[0m\u001b[0m\n",
      "\u001b[0;32m/opt/anaconda3/lib/python3.7/site-packages/pytorch_pretrained_bert/modeling.py\u001b[0m in \u001b[0;36mforward\u001b[0;34m(self, input_ids, token_type_ids)\u001b[0m\n\u001b[1;32m    266\u001b[0m \u001b[0;34m\u001b[0m\u001b[0m\n\u001b[1;32m    267\u001b[0m         \u001b[0mwords_embeddings\u001b[0m \u001b[0;34m=\u001b[0m \u001b[0mself\u001b[0m\u001b[0;34m.\u001b[0m\u001b[0mword_embeddings\u001b[0m\u001b[0;34m(\u001b[0m\u001b[0minput_ids\u001b[0m\u001b[0;34m)\u001b[0m\u001b[0;34m\u001b[0m\u001b[0;34m\u001b[0m\u001b[0m\n\u001b[0;32m--> 268\u001b[0;31m         \u001b[0mposition_embeddings\u001b[0m \u001b[0;34m=\u001b[0m \u001b[0mself\u001b[0m\u001b[0;34m.\u001b[0m\u001b[0mposition_embeddings\u001b[0m\u001b[0;34m(\u001b[0m\u001b[0mposition_ids\u001b[0m\u001b[0;34m)\u001b[0m\u001b[0;34m\u001b[0m\u001b[0;34m\u001b[0m\u001b[0m\n\u001b[0m\u001b[1;32m    269\u001b[0m         \u001b[0mtoken_type_embeddings\u001b[0m \u001b[0;34m=\u001b[0m \u001b[0mself\u001b[0m\u001b[0;34m.\u001b[0m\u001b[0mtoken_type_embeddings\u001b[0m\u001b[0;34m(\u001b[0m\u001b[0mtoken_type_ids\u001b[0m\u001b[0;34m)\u001b[0m\u001b[0;34m\u001b[0m\u001b[0;34m\u001b[0m\u001b[0m\n\u001b[1;32m    270\u001b[0m \u001b[0;34m\u001b[0m\u001b[0m\n",
      "\u001b[0;32m/opt/anaconda3/lib/python3.7/site-packages/torch/nn/modules/module.py\u001b[0m in \u001b[0;36m__call__\u001b[0;34m(self, *input, **kwargs)\u001b[0m\n\u001b[1;32m    530\u001b[0m             \u001b[0mresult\u001b[0m \u001b[0;34m=\u001b[0m \u001b[0mself\u001b[0m\u001b[0;34m.\u001b[0m\u001b[0m_slow_forward\u001b[0m\u001b[0;34m(\u001b[0m\u001b[0;34m*\u001b[0m\u001b[0minput\u001b[0m\u001b[0;34m,\u001b[0m \u001b[0;34m**\u001b[0m\u001b[0mkwargs\u001b[0m\u001b[0;34m)\u001b[0m\u001b[0;34m\u001b[0m\u001b[0;34m\u001b[0m\u001b[0m\n\u001b[1;32m    531\u001b[0m         \u001b[0;32melse\u001b[0m\u001b[0;34m:\u001b[0m\u001b[0;34m\u001b[0m\u001b[0;34m\u001b[0m\u001b[0m\n\u001b[0;32m--> 532\u001b[0;31m             \u001b[0mresult\u001b[0m \u001b[0;34m=\u001b[0m \u001b[0mself\u001b[0m\u001b[0;34m.\u001b[0m\u001b[0mforward\u001b[0m\u001b[0;34m(\u001b[0m\u001b[0;34m*\u001b[0m\u001b[0minput\u001b[0m\u001b[0;34m,\u001b[0m \u001b[0;34m**\u001b[0m\u001b[0mkwargs\u001b[0m\u001b[0;34m)\u001b[0m\u001b[0;34m\u001b[0m\u001b[0;34m\u001b[0m\u001b[0m\n\u001b[0m\u001b[1;32m    533\u001b[0m         \u001b[0;32mfor\u001b[0m \u001b[0mhook\u001b[0m \u001b[0;32min\u001b[0m \u001b[0mself\u001b[0m\u001b[0;34m.\u001b[0m\u001b[0m_forward_hooks\u001b[0m\u001b[0;34m.\u001b[0m\u001b[0mvalues\u001b[0m\u001b[0;34m(\u001b[0m\u001b[0;34m)\u001b[0m\u001b[0;34m:\u001b[0m\u001b[0;34m\u001b[0m\u001b[0;34m\u001b[0m\u001b[0m\n\u001b[1;32m    534\u001b[0m             \u001b[0mhook_result\u001b[0m \u001b[0;34m=\u001b[0m \u001b[0mhook\u001b[0m\u001b[0;34m(\u001b[0m\u001b[0mself\u001b[0m\u001b[0;34m,\u001b[0m \u001b[0minput\u001b[0m\u001b[0;34m,\u001b[0m \u001b[0mresult\u001b[0m\u001b[0;34m)\u001b[0m\u001b[0;34m\u001b[0m\u001b[0;34m\u001b[0m\u001b[0m\n",
      "\u001b[0;32m/opt/anaconda3/lib/python3.7/site-packages/torch/nn/modules/sparse.py\u001b[0m in \u001b[0;36mforward\u001b[0;34m(self, input)\u001b[0m\n\u001b[1;32m    112\u001b[0m         return F.embedding(\n\u001b[1;32m    113\u001b[0m             \u001b[0minput\u001b[0m\u001b[0;34m,\u001b[0m \u001b[0mself\u001b[0m\u001b[0;34m.\u001b[0m\u001b[0mweight\u001b[0m\u001b[0;34m,\u001b[0m \u001b[0mself\u001b[0m\u001b[0;34m.\u001b[0m\u001b[0mpadding_idx\u001b[0m\u001b[0;34m,\u001b[0m \u001b[0mself\u001b[0m\u001b[0;34m.\u001b[0m\u001b[0mmax_norm\u001b[0m\u001b[0;34m,\u001b[0m\u001b[0;34m\u001b[0m\u001b[0;34m\u001b[0m\u001b[0m\n\u001b[0;32m--> 114\u001b[0;31m             self.norm_type, self.scale_grad_by_freq, self.sparse)\n\u001b[0m\u001b[1;32m    115\u001b[0m \u001b[0;34m\u001b[0m\u001b[0m\n\u001b[1;32m    116\u001b[0m     \u001b[0;32mdef\u001b[0m \u001b[0mextra_repr\u001b[0m\u001b[0;34m(\u001b[0m\u001b[0mself\u001b[0m\u001b[0;34m)\u001b[0m\u001b[0;34m:\u001b[0m\u001b[0;34m\u001b[0m\u001b[0;34m\u001b[0m\u001b[0m\n",
      "\u001b[0;32m/opt/anaconda3/lib/python3.7/site-packages/torch/nn/functional.py\u001b[0m in \u001b[0;36membedding\u001b[0;34m(input, weight, padding_idx, max_norm, norm_type, scale_grad_by_freq, sparse)\u001b[0m\n\u001b[1;32m   1482\u001b[0m         \u001b[0;31m# remove once script supports set_grad_enabled\u001b[0m\u001b[0;34m\u001b[0m\u001b[0;34m\u001b[0m\u001b[0;34m\u001b[0m\u001b[0m\n\u001b[1;32m   1483\u001b[0m         \u001b[0m_no_grad_embedding_renorm_\u001b[0m\u001b[0;34m(\u001b[0m\u001b[0mweight\u001b[0m\u001b[0;34m,\u001b[0m \u001b[0minput\u001b[0m\u001b[0;34m,\u001b[0m \u001b[0mmax_norm\u001b[0m\u001b[0;34m,\u001b[0m \u001b[0mnorm_type\u001b[0m\u001b[0;34m)\u001b[0m\u001b[0;34m\u001b[0m\u001b[0;34m\u001b[0m\u001b[0m\n\u001b[0;32m-> 1484\u001b[0;31m     \u001b[0;32mreturn\u001b[0m \u001b[0mtorch\u001b[0m\u001b[0;34m.\u001b[0m\u001b[0membedding\u001b[0m\u001b[0;34m(\u001b[0m\u001b[0mweight\u001b[0m\u001b[0;34m,\u001b[0m \u001b[0minput\u001b[0m\u001b[0;34m,\u001b[0m \u001b[0mpadding_idx\u001b[0m\u001b[0;34m,\u001b[0m \u001b[0mscale_grad_by_freq\u001b[0m\u001b[0;34m,\u001b[0m \u001b[0msparse\u001b[0m\u001b[0;34m)\u001b[0m\u001b[0;34m\u001b[0m\u001b[0;34m\u001b[0m\u001b[0m\n\u001b[0m\u001b[1;32m   1485\u001b[0m \u001b[0;34m\u001b[0m\u001b[0m\n\u001b[1;32m   1486\u001b[0m \u001b[0;34m\u001b[0m\u001b[0m\n",
      "\u001b[0;31mRuntimeError\u001b[0m: index out of range: Tried to access index 512 out of table with 511 rows. at /Users/distiller/project/conda/conda-bld/pytorch_1579022061893/work/aten/src/TH/generic/THTensorEvenMoreMath.cpp:418"
     ]
    }
   ],
   "source": [
    "import time\n",
    "start = time.perf_counter()\n",
    "all_sample_combined_sentence = proper_tagStr[0]\n",
    "for p in proper_tagStr[1:number_of_entry_to_encode]:\n",
    "  all_sample_combined_sentence += \" \"\n",
    "  all_sample_combined_sentence += p\n",
    "\n",
    "all_sample_combined_sentence_encoded = get_encoded_layers(all_sample_combined_sentence)\n",
    "print_layer_shapes(all_sample_combined_sentence_encoded)\n",
    "\n",
    "end = time.perf_counter()\n",
    "print(\"This cell takes \" + str(end-start) + \" seconds to run\")"
   ]
  },
  {
   "cell_type": "markdown",
   "metadata": {
    "id": "y8HV9yNUDBf9"
   },
   "source": [
    "However if we increase samples, it will go over the max of tokens bert embedding can hold which is 512. Say we everytime, bert can handle 15 samples. Say we have 4.5 million entries. In current sample, we have 4000 entries. It takes at least 35 mins to calculate all 4000 entries. It takes around 28 days to process 4.5 million entries if we run uninterruptedly."
   ]
  },
  {
   "cell_type": "markdown",
   "metadata": {
    "id": "Y-b3GZumIyYK"
   },
   "source": [
    "Now let's compare the time difference between feed sentence one by one vs feed a combined sentence:"
   ]
  },
  {
   "cell_type": "code",
   "execution_count": 41,
   "metadata": {
    "colab": {
     "base_uri": "https://localhost:8080/"
    },
    "id": "mqx_nMZHI6R6",
    "outputId": "f44d1b1b-2e6d-4853-9dac-9d3c9501defd"
   },
   "outputs": [
    {
     "name": "stdout",
     "output_type": "stream",
     "text": [
      "Number of layers: 12\n",
      "Number of batches: 1\n",
      "Number of tokens: 36\n",
      "Number of hidden units: 768\n",
      "Number of layers: 12\n",
      "Number of batches: 1\n",
      "Number of tokens: 265\n",
      "Number of hidden units: 768\n",
      "Number of layers: 12\n",
      "Number of batches: 1\n",
      "Number of tokens: 181\n",
      "Number of hidden units: 768\n",
      "Number of layers: 12\n",
      "Number of batches: 1\n",
      "Number of tokens: 372\n",
      "Number of hidden units: 768\n",
      "Number of layers: 12\n",
      "Number of batches: 1\n",
      "Number of tokens: 313\n",
      "Number of hidden units: 768\n",
      "Number of layers: 12\n",
      "Number of batches: 1\n",
      "Number of tokens: 122\n",
      "Number of hidden units: 768\n",
      "Number of layers: 12\n",
      "Number of batches: 1\n",
      "Number of tokens: 201\n",
      "Number of hidden units: 768\n",
      "Number of layers: 12\n",
      "Number of batches: 1\n",
      "Number of tokens: 266\n",
      "Number of hidden units: 768\n",
      "Number of layers: 12\n",
      "Number of batches: 1\n",
      "Number of tokens: 255\n",
      "Number of hidden units: 768\n",
      "Number of layers: 12\n",
      "Number of batches: 1\n",
      "Number of tokens: 136\n",
      "Number of hidden units: 768\n",
      "This cell takes 2.7396266690000033 seconds to run\n"
     ]
    }
   ],
   "source": [
    "number_of_entry_to_encode=10\n",
    "import time\n",
    "start = time.perf_counter()\n",
    "for i in range(0, 10):\n",
    "  all_sample_combined_sentence = proper_tagStr[i*number_of_entry_to_encode]\n",
    "  for p in proper_tagStr[i*number_of_entry_to_encode+1:(i+1)*number_of_entry_to_encode]:\n",
    "    all_sample_combined_sentence += \" \"\n",
    "    all_sample_combined_sentence += p\n",
    "\n",
    "  all_sample_combined_sentence_encoded = get_encoded_layers(all_sample_combined_sentence)\n",
    "  print_layer_shapes(all_sample_combined_sentence_encoded)\n",
    "\n",
    "end = time.perf_counter()\n",
    "print(\"This cell takes \" + str(end-start) + \" seconds to run\")"
   ]
  },
  {
   "cell_type": "markdown",
   "metadata": {
    "id": "VmyvtHQgKDKm"
   },
   "source": [
    "This is faster than feed in one by one. However, to ensure this approach works we have to guarantee that total number of words in every 10 entries need to be lower than the upper limit (512) that Bert Model has. Moreover, we also need to pay more time on CLE and SEP and marking sentences and extract the mean vector. Therefore, it might not be very economic. I will reserve this method to be invoke when we hit another runtime bottleneck where one by one feeding approach doesn't work."
   ]
  },
  {
   "cell_type": "markdown",
   "metadata": {
    "id": "2Jf9XWX4P-XQ"
   },
   "source": [
    "To get a single vector for our entire sentence we have multiple application-dependent strategies, but a simple approach is to average the second to last hiden layer of each token producing a single 768 length vector.\n",
    "\n",
    "Here we put each sentence vector into the list list_of_sentence_embedding."
   ]
  },
  {
   "cell_type": "code",
   "execution_count": 72,
   "metadata": {
    "id": "o9vfb9KxP_mq"
   },
   "outputs": [],
   "source": [
    "list_of_sentence_embedding = []\n",
    "for encoded_layers in list_of_encoded_layers:\n",
    "  # `token_vecs` is a tensor with shape [Number of tokens x Number of hidden units]\n",
    "  token_vecs = encoded_layers[11][0]\n",
    "\n",
    "  # Calculate the average of all token vectors.\n",
    "  sentence_embedding = torch.mean(token_vecs, dim=0)\n",
    "\n",
    "  list_of_sentence_embedding.append(sentence_embedding)"
   ]
  },
  {
   "cell_type": "markdown",
   "metadata": {
    "id": "x2XVjW_wSTJJ"
   },
   "source": [
    "The following shows an example of how the values embedding in the first tag lists look like."
   ]
  },
  {
   "cell_type": "code",
   "execution_count": 73,
   "metadata": {
    "colab": {
     "base_uri": "https://localhost:8080/"
    },
    "id": "MXEHMNfrQWot",
    "outputId": "c956ba92-6e4f-43e1-b1b2-cee8685ac216"
   },
   "outputs": [
    {
     "name": "stdout",
     "output_type": "stream",
     "text": [
      "tensor([-2.7818e-01,  6.7194e-02,  6.0001e-01,  4.0278e-03,  1.4117e-02,\n",
      "         2.8052e-01, -5.1397e-01, -3.4226e-01,  4.3888e-01, -2.1767e-01,\n",
      "         2.0853e-02,  1.6242e-01,  1.4813e-01,  2.0162e-01, -1.3357e-01,\n",
      "         7.5658e-01, -2.7704e-01, -4.5248e-01, -3.1910e-01, -5.3740e-01,\n",
      "         4.0843e-01, -5.0926e-01, -1.3549e-01,  2.3052e-02,  5.0628e-01,\n",
      "        -1.3807e-01,  7.6384e-01, -2.6883e-01,  2.9147e-01,  4.9686e-01,\n",
      "         2.6273e-01, -4.2408e-02, -1.3139e-01,  3.4520e-01,  6.5524e-02,\n",
      "         5.2596e-01,  6.4495e-01,  1.8682e-01,  2.8612e-01, -2.2547e-01,\n",
      "        -1.2276e-01, -4.7426e-02,  2.0477e-01,  1.1897e-01,  2.4562e-01,\n",
      "        -2.6260e-01,  2.5796e-01, -3.2267e-01,  3.9810e-01, -2.0842e-01,\n",
      "        -1.6226e-01,  7.7824e-01,  8.1082e-01, -3.1426e-01,  3.1630e-03,\n",
      "         2.6762e-01,  4.7510e-01, -3.0724e-01, -2.8792e-01, -1.0501e-01,\n",
      "         2.1542e-01, -4.4441e-03,  1.0587e-01, -1.5250e-01, -2.7707e-02,\n",
      "        -3.1979e-01, -3.3084e-01,  2.1846e-01, -2.2219e-02, -2.4753e-01,\n",
      "        -1.9279e-01,  4.6809e-02,  1.9976e-01, -7.8410e-01,  1.1531e-01,\n",
      "        -7.6522e-02,  2.5881e-01,  1.4664e-01,  7.2244e-01,  2.9230e-01,\n",
      "         5.8439e-01,  2.1816e-01, -7.6686e-02,  2.2050e-01,  7.8446e-01,\n",
      "        -6.7217e-01, -1.1118e-01,  4.0775e-01, -1.4818e-01,  1.3071e-01,\n",
      "         2.3572e-02, -3.8389e-01, -1.8618e-01,  4.6609e-01, -2.3128e-01,\n",
      "         4.2435e-01, -7.4311e-03, -3.4644e-02,  2.7136e-01, -1.2135e-01,\n",
      "         5.0207e-01,  7.2845e-03, -1.1707e-01, -2.6324e-01, -3.8974e-01,\n",
      "         1.3550e-01, -1.2809e-01,  1.6013e-01, -1.0634e-01, -6.3890e-02,\n",
      "        -1.3293e-01,  9.0060e-02, -5.4499e-01,  1.3970e-02,  4.8842e-02,\n",
      "        -5.9720e-01,  3.7618e-02,  1.6805e-02,  1.1222e-01, -3.0872e-01,\n",
      "         4.8087e-01,  2.4402e-01, -2.1651e-01,  1.1064e+00,  4.5188e-01,\n",
      "         6.5922e-02, -4.8862e-01,  5.3832e-01, -4.3486e-01,  3.2289e-01,\n",
      "        -3.6722e-01,  1.2286e-01, -2.6967e-01,  1.0525e-01, -1.9888e-01,\n",
      "         3.1616e-01, -1.8918e-01, -3.2853e-02,  2.8889e-01,  1.4942e-01,\n",
      "        -6.8488e-01,  5.7620e-01, -2.0588e-01,  6.4892e-01, -2.4702e-01,\n",
      "        -4.8501e-01,  2.3012e-01, -3.2574e-01, -4.9695e-01,  3.7702e-01,\n",
      "         1.1050e-01,  6.9058e-01,  7.1182e-02, -1.5998e-01,  5.2406e-01,\n",
      "         2.5519e-01, -1.5794e-01, -4.8543e-01, -1.6601e-01, -3.0277e-01,\n",
      "        -1.2699e-02, -2.7307e-01, -2.5919e-01, -1.0409e+00,  6.9802e-01,\n",
      "        -9.0413e-01, -6.2131e-01, -3.9913e-01,  3.8402e-01, -4.9715e-02,\n",
      "         7.0770e-03, -1.0416e-01,  1.4887e-02,  1.2685e-01, -1.1463e-03,\n",
      "         7.5654e-02, -1.8511e-01, -4.3369e-02, -2.7799e-01,  2.0277e-01,\n",
      "        -3.0336e-01,  6.3233e-01, -2.4929e-01, -2.0130e-01, -1.1656e-01,\n",
      "         1.5129e-01,  3.1443e-02,  1.8203e-01,  2.8909e-01,  4.1682e-01,\n",
      "        -1.6851e-01, -2.2001e-01,  4.4061e-01,  4.2831e-02,  5.5999e-03,\n",
      "        -3.2584e-01, -1.2513e-01,  1.3421e-01,  3.2902e-02, -1.4933e-01,\n",
      "        -1.6034e-02,  1.6046e-01, -2.5530e-01, -8.2615e-01, -1.7748e-01,\n",
      "         4.3963e-01,  2.5915e-01, -4.4480e-01, -1.4403e-01, -5.3856e-01,\n",
      "        -3.6244e-01, -3.3845e-01,  8.9248e-02, -2.7716e-01,  1.4317e-01,\n",
      "        -1.0527e-01, -1.0314e-01, -1.8314e-01,  2.1973e-01,  4.9666e-01,\n",
      "        -4.9271e-03, -2.9170e-02,  5.4435e-01, -3.4623e-01,  1.5974e-01,\n",
      "         2.1217e-01,  5.2420e-01, -9.6772e-02, -2.6907e-01,  4.2631e-01,\n",
      "        -4.2619e-01, -3.8831e-01, -3.2129e-02, -1.8290e-01,  5.5999e-01,\n",
      "        -8.8442e-02,  3.2874e-01,  2.1078e-01,  3.2907e-01, -9.3871e-01,\n",
      "        -6.9619e-01, -7.6811e-03, -1.1049e-02,  2.7339e-01, -3.9171e-01,\n",
      "        -1.9888e-01,  5.2679e-02,  2.6375e-02,  1.5929e-01,  3.9274e-01,\n",
      "        -1.1599e+00, -1.1799e-01, -1.0858e-01, -2.6098e-01, -4.1691e-01,\n",
      "        -7.0105e-01,  3.8124e-01, -8.7654e-01, -2.1804e-01,  1.1795e-02,\n",
      "        -3.0295e-01,  4.2861e-01,  1.8462e-01, -1.8154e-01, -4.8943e-01,\n",
      "        -2.4296e-01, -4.6771e-01, -3.1858e-01,  4.0971e-01,  3.1863e-01,\n",
      "         4.5193e-01,  3.2985e-01, -2.1334e-01, -2.1984e-01, -4.5194e-01,\n",
      "         1.9246e-01,  1.5825e-01,  2.4087e-02,  1.1980e-01,  6.1287e-01,\n",
      "         1.2437e-01,  8.3972e-01,  7.3637e-01, -9.3116e-02, -2.7667e-01,\n",
      "         7.5537e-02, -6.7548e-02, -4.2191e-01, -4.0733e-01, -6.4245e-01,\n",
      "         1.8238e-01,  8.1113e-01, -1.0488e-01, -2.4590e-01, -6.7882e-02,\n",
      "        -1.0557e-01, -3.1956e-01,  3.2804e-02,  3.6810e-01,  1.4923e-02,\n",
      "        -7.1799e-01,  2.2721e-01,  5.0867e-01,  7.5030e-01,  6.2373e-01,\n",
      "         4.0971e-01, -1.0858e-01, -5.5448e-01, -5.6882e+00, -2.0663e-01,\n",
      "        -2.2975e-01,  7.9680e-02,  5.2952e-01,  4.8560e-02,  3.7475e-01,\n",
      "        -5.5209e-01, -6.7417e-01,  3.5891e-01, -1.1167e-02,  4.2697e-01,\n",
      "        -6.2050e-01,  1.1611e-01,  1.9022e-01, -3.8175e-01, -1.8432e-01,\n",
      "        -2.7701e-02, -2.1584e-01,  8.0581e-01,  1.7925e-01, -5.2609e-01,\n",
      "        -2.3155e-01, -8.2937e-03, -6.8906e-02,  5.5355e-02, -1.2680e-01,\n",
      "        -2.6257e-01, -6.9386e-01, -3.5734e-01,  1.5939e-01, -3.7493e-01,\n",
      "         1.3732e-01, -5.8330e-01,  2.8471e-01,  8.0769e-02,  2.8538e-01,\n",
      "        -1.0725e-01,  9.1634e-02, -2.7604e-01, -2.8544e-01,  7.6119e-02,\n",
      "         1.5572e-01,  2.4909e-01,  7.1323e-01,  2.7758e-01,  1.3365e+00,\n",
      "        -4.7204e-01, -7.9819e-01,  1.3038e-01,  6.1408e-01,  1.6200e-01,\n",
      "         3.3397e-01, -4.1969e-03,  4.6810e-01,  9.0632e-01, -3.8064e-01,\n",
      "         4.8863e-01,  5.3735e-01, -1.8175e-01, -4.9088e-02,  1.0467e-01,\n",
      "        -4.3566e-01, -4.0000e-01, -4.2812e-01, -2.4631e-02, -4.0849e-01,\n",
      "         5.3875e-01,  1.3941e-01, -1.2418e-02, -3.5114e-01,  1.3268e-01,\n",
      "         3.9518e-01, -7.5435e-01, -6.4996e-02, -4.0512e-01,  1.5106e-01,\n",
      "        -1.6597e-02,  9.1496e-02,  1.5924e-01, -4.4447e-01, -2.2166e-02,\n",
      "         4.9278e-01,  6.4130e-02, -8.8664e-02,  3.8463e-01, -2.2208e-01,\n",
      "        -2.7782e-01,  4.6538e-02, -1.1982e-01, -7.3895e-01, -3.2806e-01,\n",
      "        -8.6962e-02, -8.3983e-02,  5.0973e-01, -4.0242e-02, -9.4529e-02,\n",
      "         4.6283e-01, -1.6801e-01, -2.9759e-01, -1.0510e+00,  2.3094e-01,\n",
      "         3.6528e-02, -6.0775e-01, -3.6162e-01,  1.7618e-01,  7.6332e-02,\n",
      "         2.6921e-01, -3.0530e-01, -4.2255e-01,  1.4420e-01, -2.0169e-01,\n",
      "         1.4166e-01, -2.1622e-01,  5.7942e-01, -7.8453e-01, -2.2622e-01,\n",
      "        -3.4647e-01,  3.5914e-01, -4.8983e-01, -3.5955e-01,  6.6069e-01,\n",
      "         3.8801e-02, -1.1471e-01, -6.1319e-01, -2.9687e-01, -1.4095e-01,\n",
      "        -5.3783e-01, -2.2618e-01, -1.3126e-01,  5.9408e-02,  2.0903e-01,\n",
      "         7.6366e-01, -1.7707e-01, -5.3675e-01, -2.3504e-01, -2.2854e-01,\n",
      "         1.8112e-01, -2.2123e-01,  1.5598e-01, -8.1294e-02,  6.3754e-01,\n",
      "        -5.2301e-01,  3.1203e-01,  2.7723e-01,  1.2320e-01,  2.6423e-02,\n",
      "         2.2659e-01,  1.6751e-01, -3.3151e-01, -3.6471e-01,  5.7293e-01,\n",
      "         5.2817e-01, -7.4571e-01,  2.1840e-01, -1.3048e-01,  4.5472e-01,\n",
      "        -2.4137e-01,  5.9465e-01, -7.6682e-01,  1.6793e-01, -1.1274e-01,\n",
      "        -7.7882e-02,  3.0240e-01, -1.8482e-01,  3.3041e-01,  3.7779e-01,\n",
      "         2.3776e-01,  3.6784e-01,  3.9778e-02, -3.3817e-01, -5.8292e-02,\n",
      "        -1.7759e-01, -2.4119e-02,  1.0020e-01,  6.4264e-01, -5.1886e-01,\n",
      "        -6.4304e-01, -7.6549e-01,  4.4289e-01, -6.0864e-02,  7.8666e-01,\n",
      "        -2.2521e-01, -2.4361e-02,  2.7014e-01, -3.2690e-01, -3.4760e-01,\n",
      "         3.0868e-01, -2.5022e-01, -2.0185e-02, -1.8996e-01, -5.2812e-01,\n",
      "         5.6935e-01,  6.5625e-02, -7.8620e-02,  4.5075e-02,  8.6605e-01,\n",
      "        -5.1632e-01, -1.4818e-01,  1.9291e-01, -6.6819e-01, -2.7980e-01,\n",
      "        -4.2648e-01,  6.5976e-02,  5.7338e-01,  2.4646e-02, -1.5608e-01,\n",
      "        -1.7775e-01, -2.1762e-01, -5.7882e-01, -3.7820e-01, -1.5385e-01,\n",
      "        -1.6919e-01,  1.8142e-02,  7.5336e-02, -5.4010e-01,  1.4013e-01,\n",
      "         2.0545e-01,  9.4470e-02, -1.7257e-01, -4.1712e-01, -9.7253e-01,\n",
      "         7.2689e-02, -3.4890e-02, -1.3943e-01, -1.7654e-01, -2.8388e-01,\n",
      "        -4.5482e-01,  2.6400e-01,  6.4318e-01, -4.6438e-01, -7.8659e-01,\n",
      "        -2.7568e-01, -5.6537e-02,  1.5435e-01, -2.0324e-01,  7.4199e-02,\n",
      "        -5.5593e-01, -4.0064e-01,  5.1584e-01,  1.0052e-01,  6.6572e-01,\n",
      "         7.4269e-01,  4.7094e-01, -6.6173e-01, -6.9756e-01,  3.6593e-01,\n",
      "         9.6739e-02, -1.9865e-01,  3.1338e-01, -1.2188e-01, -7.4836e-01,\n",
      "        -1.7852e-02, -4.3432e-01, -2.9773e-03, -5.5431e-02,  3.7612e-01,\n",
      "         1.2994e-01,  3.1266e-01,  4.7855e-01,  5.7103e-02,  4.2237e-01,\n",
      "        -6.1106e-01, -5.4078e-01,  1.8848e-01,  1.4182e-01, -5.1767e-02,\n",
      "        -1.6630e-01,  7.3074e-01, -2.1542e-01,  3.1338e-01,  1.1439e-01,\n",
      "         1.4967e-01,  8.6104e-01,  5.2491e-01, -7.0210e-01, -4.8099e-01,\n",
      "         7.0046e-01,  9.0233e-03,  6.6666e-02,  3.1462e-01,  4.4100e-01,\n",
      "        -5.6420e-01, -1.4649e-01, -3.8355e-01, -3.6630e-02,  2.0619e-01,\n",
      "        -7.6563e-02, -2.1175e-01,  3.0731e-01,  5.1956e-01, -1.5598e-01,\n",
      "         6.2784e-01, -9.2870e-01, -4.3927e-01,  1.1238e-01, -1.6438e-01,\n",
      "        -1.3252e-01, -9.4673e-01,  9.6461e-02, -2.4212e-01, -6.4339e-01,\n",
      "        -2.3194e-01,  1.6613e-01,  1.9417e-01,  3.2387e-01, -2.2127e-01,\n",
      "        -1.0050e-01,  1.9175e-01,  5.1327e-01,  2.7823e-01, -1.5599e-01,\n",
      "        -7.7157e-02,  6.3616e-01, -4.1556e-01, -4.7432e-01,  4.7739e-01,\n",
      "         3.0394e-02,  6.1061e-01,  5.9254e-01, -3.6078e-01,  7.4573e-01,\n",
      "        -3.4629e-02,  2.7292e-01,  1.2424e-01, -1.6743e-01,  4.0917e-01,\n",
      "        -1.8912e-01,  1.5482e-01,  2.0761e-02,  2.4922e-01,  4.6707e-01,\n",
      "         4.9257e-01,  1.3669e-01, -7.5233e-01, -2.0607e-02,  5.5129e-01,\n",
      "         5.4943e-01, -8.5164e-02,  3.5074e-01,  1.8046e-01, -4.7872e-01,\n",
      "        -5.8556e-02,  6.7506e-01,  1.5180e-01, -3.9409e-02,  8.7620e-02,\n",
      "         3.3598e-01, -3.7228e-01,  5.6101e-01,  2.2701e-01,  8.0803e-02,\n",
      "        -4.1644e-02, -4.9012e-01, -5.0594e-01,  4.5992e-01,  3.3706e-01,\n",
      "        -2.7215e-01, -3.1968e-01, -2.5608e-01, -9.7157e-02,  5.6429e-01,\n",
      "         4.2730e-01, -2.3447e-01, -1.8245e-02, -2.1426e-01,  4.3213e-01,\n",
      "        -1.7894e-01,  7.2412e-02,  4.4394e-01,  2.3111e-02, -2.1859e-01,\n",
      "        -1.8803e-01,  1.2699e-01,  2.9792e-01, -4.4616e-01, -3.4027e-01,\n",
      "        -1.4890e-02,  2.6463e-01,  4.6352e-01,  1.6333e-01, -5.1091e-01,\n",
      "         1.3632e-01,  1.5198e-01,  7.1126e-01, -2.3733e-01, -1.0086e-01,\n",
      "        -2.6280e-02, -1.5549e-01, -1.9454e-01, -2.8680e-01,  3.0230e-01,\n",
      "         1.6432e-01, -4.2543e-02, -9.0882e-01, -1.1237e-01,  9.7441e-03,\n",
      "        -1.0435e-01,  2.1228e-01,  4.9719e-01,  8.8583e-02,  6.0054e-01,\n",
      "        -5.1776e-01,  8.3052e-02,  8.8473e-01, -7.3617e-02, -5.3139e-02,\n",
      "         2.3192e-01, -5.6803e-01,  1.3649e-01, -5.9736e-02,  6.4168e-02,\n",
      "         5.4088e-01,  6.2909e-01, -5.3852e-01, -2.1381e-01,  6.6101e-01,\n",
      "        -7.1665e-02, -1.7615e-02, -1.6536e-01, -3.9605e-01, -3.7069e-01,\n",
      "         2.0375e-01,  5.5395e-03, -1.1441e-02,  3.8427e-01, -1.9203e-01,\n",
      "         2.3420e-01, -2.9301e-01,  4.8827e-01, -4.4964e-03,  3.5458e-01,\n",
      "        -4.6804e-02,  1.2951e-01,  2.4209e-02,  2.0829e-01,  3.1935e-01,\n",
      "        -1.1392e-01,  3.8726e-01,  6.5030e-01,  1.7820e-01, -1.9432e-01,\n",
      "        -1.9188e-01,  1.6994e-01, -1.7008e-01, -1.0185e-01,  3.3024e-01,\n",
      "        -3.3600e-01, -6.9408e-02,  3.7800e-01,  2.2307e-01, -2.7732e-01,\n",
      "        -1.0679e-01, -3.2426e-01,  1.7604e-01, -6.4591e-01, -2.7786e-01,\n",
      "        -5.3619e-02, -5.6353e-02, -9.9817e-02])\n"
     ]
    }
   ],
   "source": [
    "print(list_of_sentence_embedding[0])"
   ]
  },
  {
   "cell_type": "code",
   "execution_count": 74,
   "metadata": {
    "colab": {
     "base_uri": "https://localhost:8080/"
    },
    "id": "YHLt5HVo9u-m",
    "outputId": "4278a6ba-c6d4-400f-9576-69d5145a3238"
   },
   "outputs": [
    {
     "data": {
      "text/plain": [
       "200"
      ]
     },
     "execution_count": 74,
     "metadata": {},
     "output_type": "execute_result"
    }
   ],
   "source": [
    "len(list_of_sentence_embedding) #should equal number of entry to process"
   ]
  },
  {
   "cell_type": "markdown",
   "metadata": {},
   "source": [
    "# Predict Using sklearn"
   ]
  },
  {
   "cell_type": "markdown",
   "metadata": {},
   "source": [
    "We first take 100 encoded taglists as a data set for prediction, defined as X. The corresponding standardized popularity defined as y."
   ]
  },
  {
   "cell_type": "code",
   "execution_count": 83,
   "metadata": {},
   "outputs": [],
   "source": [
    "X = list_of_sentence_embedding\n",
    "y = image_view_sp_defined['standardized_popularity'][:200].values"
   ]
  },
  {
   "cell_type": "markdown",
   "metadata": {},
   "source": [
    "The following cells use onehot encoding on X to make sure it can be sent into Linear Models."
   ]
  },
  {
   "cell_type": "code",
   "execution_count": 84,
   "metadata": {},
   "outputs": [],
   "source": [
    "X = pd.DataFrame(data=X)"
   ]
  },
  {
   "cell_type": "code",
   "execution_count": 85,
   "metadata": {},
   "outputs": [
    {
     "data": {
      "text/plain": [
       "(200, 768)"
      ]
     },
     "execution_count": 85,
     "metadata": {},
     "output_type": "execute_result"
    }
   ],
   "source": [
    "from sklearn.feature_extraction import DictVectorizer\n",
    "\n",
    "rows = X[:].to_dict(orient='row')\n",
    "onehot = DictVectorizer(sparse=False).fit(rows)\n",
    "X = onehot.transform(rows)\n",
    "\n",
    "X.shape"
   ]
  },
  {
   "cell_type": "code",
   "execution_count": 86,
   "metadata": {},
   "outputs": [
    {
     "data": {
      "text/plain": [
       "array([[-0.27817896,  0.06719381,  0.6000101 , ..., -0.05361889,\n",
       "        -0.05635306, -0.09981654],\n",
       "       [ 0.03929236, -0.23680572,  0.25026438, ...,  0.30776021,\n",
       "        -0.03915559,  0.33957389],\n",
       "       [-0.3032594 ,  0.0164569 ,  0.0792572 , ...,  0.26246032,\n",
       "         0.3345708 ,  0.37189063],\n",
       "       ...,\n",
       "       [-0.72823226, -0.13337499,  0.37181473, ..., -0.2043515 ,\n",
       "         0.52800596,  0.5589149 ],\n",
       "       [ 0.48655787,  0.057559  ,  0.21787168, ..., -0.11825636,\n",
       "        -0.03024017, -0.25093946],\n",
       "       [-0.26218766, -0.03155264,  0.5487681 , ..., -0.23451111,\n",
       "        -0.16672978,  0.2790705 ]])"
      ]
     },
     "execution_count": 86,
     "metadata": {},
     "output_type": "execute_result"
    }
   ],
   "source": [
    "X"
   ]
  },
  {
   "cell_type": "markdown",
   "metadata": {},
   "source": [
    "Then we split the data set to training set and test set."
   ]
  },
  {
   "cell_type": "code",
   "execution_count": 110,
   "metadata": {
    "scrolled": false
   },
   "outputs": [
    {
     "name": "stdout",
     "output_type": "stream",
     "text": [
      "Training set size: 160\n",
      "Test set size: 40\n"
     ]
    }
   ],
   "source": [
    "from sklearn.model_selection import train_test_split\n",
    "\n",
    "X_train, X_test, y_train, y_test = train_test_split(\n",
    "    X, y, test_size=40, random_state=42\n",
    ")\n",
    "print(f'Training set size: {len(y_train)}')\n",
    "print(f'Test set size: {len(y_test)}')"
   ]
  },
  {
   "cell_type": "markdown",
   "metadata": {},
   "source": [
    "Fit our dataset onto the MLPRegressor."
   ]
  },
  {
   "cell_type": "code",
   "execution_count": 137,
   "metadata": {},
   "outputs": [
    {
     "data": {
      "text/plain": [
       "0.005519179350793824"
      ]
     },
     "execution_count": 137,
     "metadata": {},
     "output_type": "execute_result"
    }
   ],
   "source": [
    "from sklearn.neural_network import MLPRegressor\n",
    "from sklearn.datasets import make_regression\n",
    "regr = MLPRegressor(random_state=1, max_iter=10000).fit(X_train, y_train)\n",
    "regr.predict(X_test)\n",
    "regr.score(X_test, y_test)"
   ]
  },
  {
   "cell_type": "markdown",
   "metadata": {
    "id": "eVi56tDbLi8H"
   },
   "source": [
    "# Sort the tags and check duplicate"
   ]
  },
  {
   "cell_type": "code",
   "execution_count": 47,
   "metadata": {
    "colab": {
     "base_uri": "https://localhost:8080/",
     "height": 946
    },
    "id": "KExvJ45eLnut",
    "outputId": "98fbd0a0-469b-4e47-fc37-7e3a361ad502"
   },
   "outputs": [
    {
     "data": {
      "text/html": [
       "<div>\n",
       "<style scoped>\n",
       "    .dataframe tbody tr th:only-of-type {\n",
       "        vertical-align: middle;\n",
       "    }\n",
       "\n",
       "    .dataframe tbody tr th {\n",
       "        vertical-align: top;\n",
       "    }\n",
       "\n",
       "    .dataframe thead th {\n",
       "        text-align: right;\n",
       "    }\n",
       "</style>\n",
       "<table border=\"1\" class=\"dataframe\">\n",
       "  <thead>\n",
       "    <tr style=\"text-align: right;\">\n",
       "      <th></th>\n",
       "      <th>identifier</th>\n",
       "      <th>provider</th>\n",
       "      <th>title</th>\n",
       "      <th>meta_data</th>\n",
       "      <th>tags</th>\n",
       "      <th>standardized_popularity</th>\n",
       "      <th>name</th>\n",
       "      <th>accuracy</th>\n",
       "    </tr>\n",
       "  </thead>\n",
       "  <tbody>\n",
       "    <tr>\n",
       "      <td>0</td>\n",
       "      <td>0000d3d2-f84e-4a36-8b19-054f9a9a6435</td>\n",
       "      <td>flickr</td>\n",
       "      <td>OKScotland - 13th May 2010</td>\n",
       "      <td>{\"views\": \"0\", \"pub_date\": \"1273786159\", \"date...</td>\n",
       "      <td>[{\"name\": \"okscotland\", \"provider\": \"flickr\"}]</td>\n",
       "      <td>0.000000</td>\n",
       "      <td>[okscotland]</td>\n",
       "      <td>None</td>\n",
       "    </tr>\n",
       "    <tr>\n",
       "      <td>62</td>\n",
       "      <td>0000674a-67d0-4bc0-bdae-43941d334819</td>\n",
       "      <td>flickr</td>\n",
       "      <td>IMG_6984</td>\n",
       "      <td>{\"views\": \"0\", \"pub_date\": \"1499184677\", \"date...</td>\n",
       "      <td>[{\"name\": \"wa\", \"provider\": \"flickr\"}, {\"name\"...</td>\n",
       "      <td>0.000000</td>\n",
       "      <td>[wa, washington]</td>\n",
       "      <td>None</td>\n",
       "    </tr>\n",
       "    <tr>\n",
       "      <td>63</td>\n",
       "      <td>00003eb2-dfc0-4d02-b42a-dc305520227e</td>\n",
       "      <td>flickr</td>\n",
       "      <td>IMG_3597</td>\n",
       "      <td>{\"views\": \"0\", \"pub_date\": \"1437561179\", \"date...</td>\n",
       "      <td>[{\"name\": \"june2015\", \"provider\": \"flickr\"}]</td>\n",
       "      <td>0.000000</td>\n",
       "      <td>[june2015]</td>\n",
       "      <td>None</td>\n",
       "    </tr>\n",
       "    <tr>\n",
       "      <td>107</td>\n",
       "      <td>00009236-c5e4-4f9a-87ad-233df6a177c0</td>\n",
       "      <td>flickr</td>\n",
       "      <td>19022029_1289125634541866_1475748279_n.jpg</td>\n",
       "      <td>{\"views\": \"0\", \"pub_date\": \"1499830269\", \"date...</td>\n",
       "      <td>[{\"name\": \"nhadatvideo\", \"provider\": \"flickr\"}]</td>\n",
       "      <td>0.000000</td>\n",
       "      <td>[nhadatvideo]</td>\n",
       "      <td>None</td>\n",
       "    </tr>\n",
       "    <tr>\n",
       "      <td>108</td>\n",
       "      <td>0000f94c-e4dd-4937-9dbe-a4f0a5aa4c2a</td>\n",
       "      <td>flickr</td>\n",
       "      <td>Mahler: Das Lied von der Erde (Arranged by Sch...</td>\n",
       "      <td>{\"views\": \"0\", \"pub_date\": \"1574541824\", \"date...</td>\n",
       "      <td>[{\"name\": \"by\", \"provider\": \"flickr\"}, {\"name\"...</td>\n",
       "      <td>0.000000</td>\n",
       "      <td>[by, das, der, erde, lied, von]</td>\n",
       "      <td>None</td>\n",
       "    </tr>\n",
       "    <tr>\n",
       "      <td>...</td>\n",
       "      <td>...</td>\n",
       "      <td>...</td>\n",
       "      <td>...</td>\n",
       "      <td>...</td>\n",
       "      <td>...</td>\n",
       "      <td>...</td>\n",
       "      <td>...</td>\n",
       "      <td>...</td>\n",
       "    </tr>\n",
       "    <tr>\n",
       "      <td>4324</td>\n",
       "      <td>00005f45-402f-4cd5-93ae-789f65462ec7</td>\n",
       "      <td>flickr</td>\n",
       "      <td>IMG_9884</td>\n",
       "      <td>{\"views\": \"0\", \"pub_date\": \"1571405226\", \"date...</td>\n",
       "      <td>[{\"name\": \"on\", \"provider\": \"flickr\"}, {\"name\"...</td>\n",
       "      <td>0.000000</td>\n",
       "      <td>[on, ontario, porthope, porthopeontario]</td>\n",
       "      <td>None</td>\n",
       "    </tr>\n",
       "    <tr>\n",
       "      <td>4325</td>\n",
       "      <td>0000387b-6c09-42a3-893f-12997e820f72</td>\n",
       "      <td>flickr</td>\n",
       "      <td>DSC02647</td>\n",
       "      <td>{\"views\": \"29\", \"pub_date\": \"1541607835\", \"dat...</td>\n",
       "      <td>[{\"name\": \"1018\", \"provider\": \"flickr\"}, {\"nam...</td>\n",
       "      <td>0.395666</td>\n",
       "      <td>[1018, 1018mm, a6300, alkjhgfds33, anita, chen...</td>\n",
       "      <td>None</td>\n",
       "    </tr>\n",
       "    <tr>\n",
       "      <td>4326</td>\n",
       "      <td>0000c695-7340-416b-9efc-188c83a82810</td>\n",
       "      <td>flickr</td>\n",
       "      <td>photo 1063 was taken at 10:38:29</td>\n",
       "      <td>{\"views\": \"71\", \"pub_date\": \"1574004547\", \"dat...</td>\n",
       "      <td>[{\"name\": \"2019\", \"provider\": \"flickr\"}, {\"nam...</td>\n",
       "      <td>0.615816</td>\n",
       "      <td>[2019, 595k, barrycornelius, oxonraces, radnag...</td>\n",
       "      <td>None</td>\n",
       "    </tr>\n",
       "    <tr>\n",
       "      <td>4327</td>\n",
       "      <td>000045ea-556a-42da-b7a1-7186637a6b6c</td>\n",
       "      <td>flickr</td>\n",
       "      <td>20091024-IMG_1285</td>\n",
       "      <td>{\"views\": \"72\", \"pub_date\": \"1256511956\", \"dat...</td>\n",
       "      <td>[{\"name\": \"allsoulschurch\", \"provider\": \"flick...</td>\n",
       "      <td>0.619120</td>\n",
       "      <td>[allsoulschurch, jenniferdorn, kenambrose, was...</td>\n",
       "      <td>None</td>\n",
       "    </tr>\n",
       "    <tr>\n",
       "      <td>4328</td>\n",
       "      <td>0000e658-2e32-4a98-917d-39fa483ea5ad</td>\n",
       "      <td>flickr</td>\n",
       "      <td>IMGP0970</td>\n",
       "      <td>{\"views\": \"16\", \"pub_date\": \"1567554741\", \"dat...</td>\n",
       "      <td>[{\"name\": \"2019\", \"provider\": \"flickr\"}]</td>\n",
       "      <td>0.265366</td>\n",
       "      <td>[2019]</td>\n",
       "      <td>None</td>\n",
       "    </tr>\n",
       "  </tbody>\n",
       "</table>\n",
       "<p>3854 rows × 8 columns</p>\n",
       "</div>"
      ],
      "text/plain": [
       "                                identifier provider  \\\n",
       "0     0000d3d2-f84e-4a36-8b19-054f9a9a6435   flickr   \n",
       "62    0000674a-67d0-4bc0-bdae-43941d334819   flickr   \n",
       "63    00003eb2-dfc0-4d02-b42a-dc305520227e   flickr   \n",
       "107   00009236-c5e4-4f9a-87ad-233df6a177c0   flickr   \n",
       "108   0000f94c-e4dd-4937-9dbe-a4f0a5aa4c2a   flickr   \n",
       "...                                    ...      ...   \n",
       "4324  00005f45-402f-4cd5-93ae-789f65462ec7   flickr   \n",
       "4325  0000387b-6c09-42a3-893f-12997e820f72   flickr   \n",
       "4326  0000c695-7340-416b-9efc-188c83a82810   flickr   \n",
       "4327  000045ea-556a-42da-b7a1-7186637a6b6c   flickr   \n",
       "4328  0000e658-2e32-4a98-917d-39fa483ea5ad   flickr   \n",
       "\n",
       "                                                  title  \\\n",
       "0                            OKScotland - 13th May 2010   \n",
       "62                                             IMG_6984   \n",
       "63                                             IMG_3597   \n",
       "107          19022029_1289125634541866_1475748279_n.jpg   \n",
       "108   Mahler: Das Lied von der Erde (Arranged by Sch...   \n",
       "...                                                 ...   \n",
       "4324                                           IMG_9884   \n",
       "4325                                           DSC02647   \n",
       "4326                   photo 1063 was taken at 10:38:29   \n",
       "4327                                  20091024-IMG_1285   \n",
       "4328                                           IMGP0970   \n",
       "\n",
       "                                              meta_data  \\\n",
       "0     {\"views\": \"0\", \"pub_date\": \"1273786159\", \"date...   \n",
       "62    {\"views\": \"0\", \"pub_date\": \"1499184677\", \"date...   \n",
       "63    {\"views\": \"0\", \"pub_date\": \"1437561179\", \"date...   \n",
       "107   {\"views\": \"0\", \"pub_date\": \"1499830269\", \"date...   \n",
       "108   {\"views\": \"0\", \"pub_date\": \"1574541824\", \"date...   \n",
       "...                                                 ...   \n",
       "4324  {\"views\": \"0\", \"pub_date\": \"1571405226\", \"date...   \n",
       "4325  {\"views\": \"29\", \"pub_date\": \"1541607835\", \"dat...   \n",
       "4326  {\"views\": \"71\", \"pub_date\": \"1574004547\", \"dat...   \n",
       "4327  {\"views\": \"72\", \"pub_date\": \"1256511956\", \"dat...   \n",
       "4328  {\"views\": \"16\", \"pub_date\": \"1567554741\", \"dat...   \n",
       "\n",
       "                                                   tags  \\\n",
       "0        [{\"name\": \"okscotland\", \"provider\": \"flickr\"}]   \n",
       "62    [{\"name\": \"wa\", \"provider\": \"flickr\"}, {\"name\"...   \n",
       "63         [{\"name\": \"june2015\", \"provider\": \"flickr\"}]   \n",
       "107     [{\"name\": \"nhadatvideo\", \"provider\": \"flickr\"}]   \n",
       "108   [{\"name\": \"by\", \"provider\": \"flickr\"}, {\"name\"...   \n",
       "...                                                 ...   \n",
       "4324  [{\"name\": \"on\", \"provider\": \"flickr\"}, {\"name\"...   \n",
       "4325  [{\"name\": \"1018\", \"provider\": \"flickr\"}, {\"nam...   \n",
       "4326  [{\"name\": \"2019\", \"provider\": \"flickr\"}, {\"nam...   \n",
       "4327  [{\"name\": \"allsoulschurch\", \"provider\": \"flick...   \n",
       "4328           [{\"name\": \"2019\", \"provider\": \"flickr\"}]   \n",
       "\n",
       "      standardized_popularity  \\\n",
       "0                    0.000000   \n",
       "62                   0.000000   \n",
       "63                   0.000000   \n",
       "107                  0.000000   \n",
       "108                  0.000000   \n",
       "...                       ...   \n",
       "4324                 0.000000   \n",
       "4325                 0.395666   \n",
       "4326                 0.615816   \n",
       "4327                 0.619120   \n",
       "4328                 0.265366   \n",
       "\n",
       "                                                   name accuracy  \n",
       "0                                          [okscotland]     None  \n",
       "62                                     [wa, washington]     None  \n",
       "63                                           [june2015]     None  \n",
       "107                                       [nhadatvideo]     None  \n",
       "108                     [by, das, der, erde, lied, von]     None  \n",
       "...                                                 ...      ...  \n",
       "4324           [on, ontario, porthope, porthopeontario]     None  \n",
       "4325  [1018, 1018mm, a6300, alkjhgfds33, anita, chen...     None  \n",
       "4326  [2019, 595k, barrycornelius, oxonraces, radnag...     None  \n",
       "4327  [allsoulschurch, jenniferdorn, kenambrose, was...     None  \n",
       "4328                                             [2019]     None  \n",
       "\n",
       "[3854 rows x 8 columns]"
      ]
     },
     "execution_count": 47,
     "metadata": {},
     "output_type": "execute_result"
    }
   ],
   "source": [
    "image_view_sp_defined"
   ]
  },
  {
   "cell_type": "code",
   "execution_count": 48,
   "metadata": {
    "colab": {
     "base_uri": "https://localhost:8080/"
    },
    "id": "xkEXpPqwLs1p",
    "outputId": "757acdb8-c647-45b6-8f20-1874ea2c0fab"
   },
   "outputs": [
    {
     "data": {
      "text/plain": [
       "0                                            [okscotland]\n",
       "62                                       [wa, washington]\n",
       "63                                             [june2015]\n",
       "107                                         [nhadatvideo]\n",
       "108                       [by, das, der, erde, lied, von]\n",
       "                              ...                        \n",
       "4324             [on, ontario, porthope, porthopeontario]\n",
       "4325    [1018, 1018mm, a6300, alkjhgfds33, anita, chen...\n",
       "4326    [2019, 595k, barrycornelius, oxonraces, radnag...\n",
       "4327    [allsoulschurch, jenniferdorn, kenambrose, was...\n",
       "4328                                               [2019]\n",
       "Name: name, Length: 3854, dtype: object"
      ]
     },
     "execution_count": 48,
     "metadata": {},
     "output_type": "execute_result"
    }
   ],
   "source": [
    "image_view_sp_defined_tags = image_view_sp_defined[\"name\"]\n",
    "image_view_sp_defined_tags"
   ]
  },
  {
   "cell_type": "code",
   "execution_count": 49,
   "metadata": {
    "colab": {
     "base_uri": "https://localhost:8080/"
    },
    "id": "VG5WOa4cLydC",
    "outputId": "40ca31c5-bfc4-4640-efd1-062784f5645a"
   },
   "outputs": [
    {
     "data": {
      "text/plain": [
       "['by', 'das', 'der', 'erde', 'lied', 'von']"
      ]
     },
     "execution_count": 49,
     "metadata": {},
     "output_type": "execute_result"
    }
   ],
   "source": [
    "image_view_sp_defined_tags.iloc[4]"
   ]
  },
  {
   "cell_type": "code",
   "execution_count": 50,
   "metadata": {
    "colab": {
     "base_uri": "https://localhost:8080/"
    },
    "id": "w9oDwNf8L-3k",
    "outputId": "f6f30f75-6ccd-48ef-caae-cd90d74994ca"
   },
   "outputs": [
    {
     "data": {
      "text/plain": [
       "['by', 'das', 'der', 'erde', 'lied', 'von']"
      ]
     },
     "execution_count": 50,
     "metadata": {},
     "output_type": "execute_result"
    }
   ],
   "source": [
    "sorted(image_view_sp_defined_tags.iloc[4])"
   ]
  },
  {
   "cell_type": "markdown",
   "metadata": {
    "id": "Z9edQx2XNwij"
   },
   "source": [
    "I highly believe that names are already sorted.\n",
    "\n",
    "---\n",
    "\n"
   ]
  },
  {
   "cell_type": "code",
   "execution_count": 51,
   "metadata": {
    "colab": {
     "base_uri": "https://localhost:8080/"
    },
    "id": "R7pAVWeUO5Vl",
    "outputId": "305c9a98-3d4f-43aa-d1b1-619fb37ae1f3"
   },
   "outputs": [
    {
     "data": {
      "text/plain": [
       "3854"
      ]
     },
     "execution_count": 51,
     "metadata": {},
     "output_type": "execute_result"
    }
   ],
   "source": [
    "len(image_view_sp_defined_tags)"
   ]
  },
  {
   "cell_type": "code",
   "execution_count": 52,
   "metadata": {
    "colab": {
     "base_uri": "https://localhost:8080/"
    },
    "id": "2vfSVBuKMA5x",
    "outputId": "cd672c11-b6c8-4564-9c70-38e360aec8c2"
   },
   "outputs": [
    {
     "data": {
      "text/plain": [
       "134"
      ]
     },
     "execution_count": 52,
     "metadata": {},
     "output_type": "execute_result"
    }
   ],
   "source": [
    "tags_traversed = []\n",
    "tags_repeat = []\n",
    "tags_repeat_index = []\n",
    "repetition = 0\n",
    "for i in range(0, len(image_view_sp_defined_tags)):\n",
    "  t = image_view_sp_defined_tags.iloc[i]\n",
    "  if t in tags_traversed:\n",
    "    tags_repeat.append(t)\n",
    "    tags_repeat_index.append(i)\n",
    "    repetition += 1\n",
    "  tags_traversed.append(t)\n",
    "repetition"
   ]
  },
  {
   "cell_type": "code",
   "execution_count": 53,
   "metadata": {
    "colab": {
     "base_uri": "https://localhost:8080/"
    },
    "id": "XmRutkuLPQQc",
    "outputId": "3a978378-327f-4d14-ff7f-1fd5e319cf14"
   },
   "outputs": [
    {
     "data": {
      "text/plain": [
       "0.03476907109496627"
      ]
     },
     "execution_count": 53,
     "metadata": {},
     "output_type": "execute_result"
    }
   ],
   "source": [
    "repetition / len(image_view_sp_defined_tags)"
   ]
  },
  {
   "cell_type": "code",
   "execution_count": 54,
   "metadata": {
    "colab": {
     "base_uri": "https://localhost:8080/"
    },
    "id": "g_b6UBksN_1V",
    "outputId": "466c427d-3179-4e06-d369-fc28a10d94a0"
   },
   "outputs": [
    {
     "data": {
      "text/plain": [
       "[['nhadatvideo'],\n",
       " ['ifttt', 'instagram'],\n",
       " ['ifttt', 'instagram'],\n",
       " ['flickrandroidapp:filter=none'],\n",
       " ['wedding'],\n",
       " ['eyefi'],\n",
       " ['flickrandroidapp:filter=none'],\n",
       " ['flickriosapp:filter=nofilter', 'uploaded:by=flickrmobile'],\n",
       " ['flickrandroidapp:filter=none'],\n",
       " ['riskzoner', 'visitorart'],\n",
       " ['instagramapp',\n",
       "  'iphoneography',\n",
       "  'square',\n",
       "  'squareformat',\n",
       "  'uploaded:by=instagram'],\n",
       " ['instagramapp',\n",
       "  'iphoneography',\n",
       "  'square',\n",
       "  'squareformat',\n",
       "  'uploaded:by=instagram'],\n",
       " ['new', 'york'],\n",
       " ['copenhagen', 'denmark'],\n",
       " ['instagramapp',\n",
       "  'iphoneography',\n",
       "  'square',\n",
       "  'squareformat',\n",
       "  'uploaded:by=instagram'],\n",
       " ['singapore', 'singaporeskycam', 'sky'],\n",
       " ['photostream'],\n",
       " ['instagramapp',\n",
       "  'iphoneography',\n",
       "  'square',\n",
       "  'squareformat',\n",
       "  'uploaded:by=instagram'],\n",
       " ['6thavenue',\n",
       "  'atlanticavenue',\n",
       "  'atlanticyards',\n",
       "  'barclayscenterarena',\n",
       "  'brooklyn',\n",
       "  'forestcityratner',\n",
       "  'newyork',\n",
       "  'prospectheights'],\n",
       " ['eyefi'],\n",
       " ['on', 'ontario', 'toronto', 'torontoontario'],\n",
       " ['ontario', 'toronto'],\n",
       " ['seattle', 'seattlewashington', 'wa', 'washington'],\n",
       " ['iphone'],\n",
       " ['france', 'paris'],\n",
       " ['flickrandroidapp:filter=none'],\n",
       " ['amaro',\n",
       "  'instagramapp',\n",
       "  'iphoneography',\n",
       "  'square',\n",
       "  'squareformat',\n",
       "  'uploaded:by=instagram'],\n",
       " ['london'],\n",
       " ['wedding'],\n",
       " ['on', 'ontario', 'toronto', 'torontoontario'],\n",
       " ['wedding'],\n",
       " ['ifttt', 'instagram'],\n",
       " ['sanfrancisco'],\n",
       " ['moblog', 'cameraphone'],\n",
       " ['photostream'],\n",
       " ['japan', 'kyoto'],\n",
       " ['headline', 'news', 'schlagzeile', 'schreibmaschine', 'typewriter'],\n",
       " ['france', 'paris'],\n",
       " ['20142015', 'cvca', 'hockey', 'royals'],\n",
       " ['bird'],\n",
       " ['uzbekistan'],\n",
       " [2015],\n",
       " ['instagramapp',\n",
       "  'square',\n",
       "  'squareformat',\n",
       "  'iphoneography',\n",
       "  'uploaded:by=instagram'],\n",
       " ['wedding'],\n",
       " ['instagramapp',\n",
       "  'iphoneography',\n",
       "  'lomofi',\n",
       "  'square',\n",
       "  'squareformat',\n",
       "  'uploaded:by=instagram'],\n",
       " ['instagramapp',\n",
       "  'iphoneography',\n",
       "  'square',\n",
       "  'squareformat',\n",
       "  'uploaded:by=instagram',\n",
       "  'valencia'],\n",
       " ['6thavenue',\n",
       "  'atlanticavenue',\n",
       "  'atlanticyards',\n",
       "  'barclayscenterarena',\n",
       "  'brooklyn',\n",
       "  'forestcityratner',\n",
       "  'newyork',\n",
       "  'prospectheights'],\n",
       " ['flickroid'],\n",
       " ['autoupload'],\n",
       " ['flower'],\n",
       " ['flickrandroidapp:filter=none'],\n",
       " ['instagramapp',\n",
       "  'iphoneography',\n",
       "  'square',\n",
       "  'squareformat',\n",
       "  'uploaded:by=instagram'],\n",
       " ['20142015', 'cvca', 'hockey', 'royals'],\n",
       " ['biorhythms',\n",
       "  'biorytmy',\n",
       "  'cycle',\n",
       "  'cycles',\n",
       "  'diary',\n",
       "  'egzystencja',\n",
       "  'existence',\n",
       "  'lifeblog',\n",
       "  'lifeblogging',\n",
       "  'lifelog',\n",
       "  'monotonyoflife',\n",
       "  'pamiętnik',\n",
       "  'pamiu0119tnik',\n",
       "  'picasaimport'],\n",
       " ['japan', 'kyoto'],\n",
       " ['photostream'],\n",
       " ['instagramapp',\n",
       "  'iphoneography',\n",
       "  'square',\n",
       "  'squareformat',\n",
       "  'uploaded:by=instagram'],\n",
       " ['bc', 'britishcolumbia', 'vernon', 'vernonbritishcolumbia'],\n",
       " ['nhadatvideo'],\n",
       " ['nhadatvideo'],\n",
       " ['valencia'],\n",
       " ['nhadatvideo'],\n",
       " ['nhadatvideo'],\n",
       " ['hefe',\n",
       "  'instagramapp',\n",
       "  'iphoneography',\n",
       "  'square',\n",
       "  'squareformat',\n",
       "  'uploaded:by=instagram'],\n",
       " ['nhadatvideo'],\n",
       " ['instagram'],\n",
       " ['instagramapp',\n",
       "  'iphoneography',\n",
       "  'square',\n",
       "  'squareformat',\n",
       "  'uploaded:by=instagram'],\n",
       " [2011],\n",
       " ['roja'],\n",
       " ['flickriosapp:filter=nofilter', 'uploaded:by=flickrmobile'],\n",
       " ['bc', 'britishcolumbia', 'vernon', 'vernonbritishcolumbia'],\n",
       " ['amsterdam'],\n",
       " ['japan', 'kyoto'],\n",
       " ['nhadatvideo'],\n",
       " [2013],\n",
       " ['bc', 'britishcolumbia', 'vernon', 'vernonbritishcolumbia'],\n",
       " ['instagramapp',\n",
       "  'iphoneography',\n",
       "  'square',\n",
       "  'squareformat',\n",
       "  'uploaded:by=instagram'],\n",
       " ['seattle', 'seattlewashington', 'wa', 'washington'],\n",
       " ['instagramapp',\n",
       "  'iphoneography',\n",
       "  'square',\n",
       "  'squareformat',\n",
       "  'uploaded:by=instagram'],\n",
       " ['flower'],\n",
       " ['on', 'ontario', 'toronto', 'torontoontario'],\n",
       " ['antique',\n",
       "  'attractions',\n",
       "  'boats',\n",
       "  'bridge',\n",
       "  'cabins',\n",
       "  'cafes',\n",
       "  'cottages',\n",
       "  'excursion',\n",
       "  'ferry',\n",
       "  'ferryu201d',\n",
       "  'harrisonu201d',\n",
       "  'heritage',\n",
       "  'history',\n",
       "  'hotels',\n",
       "  'logging',\n",
       "  'lumber',\n",
       "  'memories',\n",
       "  'memoriesu201d',\n",
       "  'michigan',\n",
       "  'michpics',\n",
       "  'motels',\n",
       "  'parksu201d',\n",
       "  'postcard',\n",
       "  'puremichigan',\n",
       "  'railroad',\n",
       "  'restaurants',\n",
       "  'rppc',\n",
       "  'ships',\n",
       "  'stopsu201d',\n",
       "  'tourism',\n",
       "  'trailer',\n",
       "  'travel',\n",
       "  'u201ccar',\n",
       "  'u201cdon',\n",
       "  'u201cnatural',\n",
       "  'u201croadsideu201d',\n",
       "  'u201ctourist',\n",
       "  'u201ctravel',\n",
       "  'u201cupnorth',\n",
       "  'u201d',\n",
       "  'upnorth',\n",
       "  'upnorthmemories',\n",
       "  'usa',\n",
       "  'uscg',\n",
       "  'uslss',\n",
       "  'vintage',\n",
       "  'wondersu201d'],\n",
       " ['ifttt', 'instagram'],\n",
       " ['australia'],\n",
       " ['seattle', 'seattlewashington', 'wa', 'washington'],\n",
       " ['flickriosapp:filter=nofilter', 'uploaded:by=flickrmobile'],\n",
       " ['seattle', 'seattlewashington', 'wa', 'washington'],\n",
       " ['183mmf28'],\n",
       " ['nhadatvideo'],\n",
       " ['flickrandroidapp:filter=none'],\n",
       " ['ifttt', 'instagram'],\n",
       " ['amazing',\n",
       "  'beautiful',\n",
       "  'bestoftheday',\n",
       "  'blackwhite',\n",
       "  'cute',\n",
       "  'fashion',\n",
       "  'follow',\n",
       "  'followme',\n",
       "  'food',\n",
       "  'fun',\n",
       "  'girl',\n",
       "  'happy',\n",
       "  'instagood',\n",
       "  'landscape',\n",
       "  'love',\n",
       "  'marantoni2004',\n",
       "  'me',\n",
       "  'sales',\n",
       "  'smile',\n",
       "  'summer',\n",
       "  'sunset',\n",
       "  'swag',\n",
       "  'tagsforlikes',\n",
       "  'tbt',\n",
       "  'trieste'],\n",
       " ['6thavenue',\n",
       "  'atlanticavenue',\n",
       "  'atlanticyards',\n",
       "  'barclayscenterarena',\n",
       "  'brooklyn',\n",
       "  'forestcityratner',\n",
       "  'newyork',\n",
       "  'prospectheights'],\n",
       " ['flickriosapp:filter=nofilter', 'uploaded:by=flickrmobile'],\n",
       " ['flickriosapp:filter=nofilter', 'uploaded:by=flickrmobile'],\n",
       " ['nhadatvideo'],\n",
       " ['instagramapp',\n",
       "  'iphoneography',\n",
       "  'lomofi',\n",
       "  'square',\n",
       "  'squareformat',\n",
       "  'uploaded:by=instagram'],\n",
       " ['vermelho'],\n",
       " ['nhadatvideo'],\n",
       " ['flickrandroidapp:filter=none'],\n",
       " ['on', 'ontario', 'toronto', 'torontoontario'],\n",
       " ['nhadatvideo'],\n",
       " ['flickrandroidapp:filter=none'],\n",
       " ['nhadatvideo'],\n",
       " ['instagramapp',\n",
       "  'iphoneography',\n",
       "  'square',\n",
       "  'squareformat',\n",
       "  'uploaded:by=instagram'],\n",
       " ['photostream'],\n",
       " ['amazing',\n",
       "  'beautiful',\n",
       "  'bestoftheday',\n",
       "  'blackwhite',\n",
       "  'cute',\n",
       "  'fashion',\n",
       "  'follow',\n",
       "  'followme',\n",
       "  'food',\n",
       "  'fun',\n",
       "  'girl',\n",
       "  'happy',\n",
       "  'instagood',\n",
       "  'landscape',\n",
       "  'love',\n",
       "  'marantoni2004',\n",
       "  'me',\n",
       "  'sales',\n",
       "  'smile',\n",
       "  'summer',\n",
       "  'sunset',\n",
       "  'swag',\n",
       "  'tagsforlikes',\n",
       "  'tbt',\n",
       "  'trieste'],\n",
       " ['seattle', 'seattlewashington', 'wa', 'washington'],\n",
       " ['on', 'ontario', 'toronto', 'torontoontario'],\n",
       " ['nhadatvideo'],\n",
       " ['amazing',\n",
       "  'antoniomarano',\n",
       "  'beautiful',\n",
       "  'bestoftheday',\n",
       "  'blackwhite',\n",
       "  'cute',\n",
       "  'fashion',\n",
       "  'follow',\n",
       "  'followme',\n",
       "  'food',\n",
       "  'fun',\n",
       "  'girl',\n",
       "  'happy',\n",
       "  'instagood',\n",
       "  'landscape',\n",
       "  'love',\n",
       "  'marantoni2004',\n",
       "  'me',\n",
       "  'sales',\n",
       "  'smile',\n",
       "  'summer',\n",
       "  'sunset',\n",
       "  'swag',\n",
       "  'tagsforlikes',\n",
       "  'tbt',\n",
       "  'trieste'],\n",
       " ['nhadatvideo'],\n",
       " ['seleccionar'],\n",
       " ['seattle'],\n",
       " ['instagramapp',\n",
       "  'iphoneography',\n",
       "  'square',\n",
       "  'squareformat',\n",
       "  'uploaded:by=instagram'],\n",
       " ['nhadatvideo'],\n",
       " ['photostream'],\n",
       " ['instagramapp',\n",
       "  'iphoneography',\n",
       "  'square',\n",
       "  'squareformat',\n",
       "  'uploaded:by=instagram'],\n",
       " ['nhadatvideo'],\n",
       " ['nhadatvideo'],\n",
       " ['clubdeplanlesouates', 'meetingnatation', 'vevey'],\n",
       " ['flickriosapp:filter=nofilter', 'uploaded:by=flickrmobile'],\n",
       " ['americana',\n",
       "  'anatomy',\n",
       "  'columbialongmhl',\n",
       "  'columbiauniversitylibraries',\n",
       "  'date1916',\n",
       "  'idhumananatomyincl19161pier',\n",
       "  'medicalheritagelibrary'],\n",
       " ['seattle', 'seattlewashington', 'wa', 'washington'],\n",
       " ['seattle'],\n",
       " ['nhadatvideo'],\n",
       " ['amazing',\n",
       "  'beautiful',\n",
       "  'bestoftheday',\n",
       "  'blackwhite',\n",
       "  'cute',\n",
       "  'fashion',\n",
       "  'follow',\n",
       "  'followme',\n",
       "  'food',\n",
       "  'fun',\n",
       "  'girl',\n",
       "  'happy',\n",
       "  'instagood',\n",
       "  'landscape',\n",
       "  'love',\n",
       "  'marantoni2004',\n",
       "  'me',\n",
       "  'sales',\n",
       "  'smile',\n",
       "  'summer',\n",
       "  'sunset',\n",
       "  'swag',\n",
       "  'tagsforlikes',\n",
       "  'tbt',\n",
       "  'trieste'],\n",
       " ['nhadatvideo'],\n",
       " ['instagramapp',\n",
       "  'iphoneography',\n",
       "  'square',\n",
       "  'squareformat',\n",
       "  'uploaded:by=instagram'],\n",
       " ['bc', 'britishcolumbia', 'vernon', 'vernonbritishcolumbia'],\n",
       " ['nhadatvideo'],\n",
       " ['instagram'],\n",
       " ['flickriosapp:filter=nofilter', 'uploaded:by=flickrmobile'],\n",
       " ['photostream']]"
      ]
     },
     "execution_count": 54,
     "metadata": {},
     "output_type": "execute_result"
    }
   ],
   "source": [
    "tags_repeat"
   ]
  },
  {
   "cell_type": "code",
   "execution_count": 55,
   "metadata": {
    "colab": {
     "base_uri": "https://localhost:8080/"
    },
    "id": "K8DwDOslPBy7",
    "outputId": "fa973127-ece9-497c-fed1-b9ebc152cdc3"
   },
   "outputs": [
    {
     "name": "stdout",
     "output_type": "stream",
     "text": [
      "nhadatvideo: 20\n",
      "ifttt instagram: 5\n",
      "flickrandroidapp:filter=none: 8\n",
      "wedding: 4\n",
      "eyefi: 2\n",
      "flickriosapp:filter=nofilter uploaded:by=flickrmobile: 7\n",
      "riskzoner visitorart: 1\n",
      "instagramapp iphoneography square squareformat uploaded:by=instagram: 13\n",
      "new york: 1\n",
      "copenhagen denmark: 1\n",
      "singapore singaporeskycam sky: 1\n",
      "photostream: 6\n",
      "6thavenue atlanticavenue atlanticyards barclayscenterarena brooklyn forestcityratner newyork prospectheights: 3\n",
      "on ontario toronto torontoontario: 5\n",
      "ontario toronto: 1\n",
      "seattle seattlewashington wa washington: 6\n",
      "iphone: 1\n",
      "france paris: 2\n",
      "amaro instagramapp iphoneography square squareformat uploaded:by=instagram: 1\n",
      "london: 1\n",
      "sanfrancisco: 1\n",
      "moblog cameraphone: 1\n",
      "japan kyoto: 3\n",
      "headline news schlagzeile schreibmaschine typewriter: 1\n",
      "20142015 cvca hockey royals: 2\n",
      "bird: 1\n",
      "uzbekistan: 1\n",
      "2015: 1\n",
      "instagramapp square squareformat iphoneography uploaded:by=instagram: 1\n",
      "instagramapp iphoneography lomofi square squareformat uploaded:by=instagram: 2\n",
      "instagramapp iphoneography square squareformat uploaded:by=instagram valencia: 1\n",
      "flickroid: 1\n",
      "autoupload: 1\n",
      "flower: 2\n",
      "biorhythms biorytmy cycle cycles diary egzystencja existence lifeblog lifeblogging lifelog monotonyoflife pamiętnik pamiu0119tnik picasaimport: 1\n",
      "bc britishcolumbia vernon vernonbritishcolumbia: 4\n",
      "valencia: 1\n",
      "hefe instagramapp iphoneography square squareformat uploaded:by=instagram: 1\n",
      "instagram: 2\n",
      "2011: 1\n",
      "roja: 1\n",
      "amsterdam: 1\n",
      "2013: 1\n",
      "antique attractions boats bridge cabins cafes cottages excursion ferry ferryu201d harrisonu201d heritage history hotels logging lumber memories memoriesu201d michigan michpics motels parksu201d postcard puremichigan railroad restaurants rppc ships stopsu201d tourism trailer travel u201ccar u201cdon u201cnatural u201croadsideu201d u201ctourist u201ctravel u201cupnorth u201d upnorth upnorthmemories usa uscg uslss vintage wondersu201d: 1\n",
      "australia: 1\n",
      "183mmf28: 1\n",
      "amazing beautiful bestoftheday blackwhite cute fashion follow followme food fun girl happy instagood landscape love marantoni2004 me sales smile summer sunset swag tagsforlikes tbt trieste: 3\n",
      "vermelho: 1\n",
      "amazing antoniomarano beautiful bestoftheday blackwhite cute fashion follow followme food fun girl happy instagood landscape love marantoni2004 me sales smile summer sunset swag tagsforlikes tbt trieste: 1\n",
      "seleccionar: 1\n",
      "seattle: 2\n",
      "clubdeplanlesouates meetingnatation vevey: 1\n",
      "americana anatomy columbialongmhl columbiauniversitylibraries date1916 idhumananatomyincl19161pier medicalheritagelibrary: 1\n"
     ]
    }
   ],
   "source": [
    "repeated_tags_count = {}\n",
    "for e in tags_repeat:\n",
    "   # checking whether it is in the dict or not\n",
    "   element = \"\"\n",
    "   for sube in e:\n",
    "     element += str(sube)\n",
    "     element += \" \"\n",
    "   element = element[0:len(element)-1]\n",
    "   if element in repeated_tags_count:\n",
    "      # incerementing the count by 1\n",
    "      repeated_tags_count[element] += 1\n",
    "   else:\n",
    "      # setting the count to 1\n",
    "      repeated_tags_count[element] = 1\n",
    "for key, value in repeated_tags_count.items():\n",
    "   print(f\"{key}: {value}\")"
   ]
  },
  {
   "cell_type": "code",
   "execution_count": 56,
   "metadata": {
    "colab": {
     "base_uri": "https://localhost:8080/"
    },
    "id": "6fe_sLosTOLq",
    "outputId": "9ca4d450-f22a-4971-a2ef-018dff852faa"
   },
   "outputs": [
    {
     "name": "stdout",
     "output_type": "stream",
     "text": [
      "('nhadatvideo', 20)\n",
      "('instagramapp iphoneography square squareformat uploaded:by=instagram', 13)\n",
      "('flickrandroidapp:filter=none', 8)\n",
      "('flickriosapp:filter=nofilter uploaded:by=flickrmobile', 7)\n",
      "('photostream', 6)\n",
      "('seattle seattlewashington wa washington', 6)\n",
      "('ifttt instagram', 5)\n",
      "('on ontario toronto torontoontario', 5)\n",
      "('wedding', 4)\n",
      "('bc britishcolumbia vernon vernonbritishcolumbia', 4)\n",
      "('6thavenue atlanticavenue atlanticyards barclayscenterarena brooklyn forestcityratner newyork prospectheights', 3)\n",
      "('japan kyoto', 3)\n",
      "('amazing beautiful bestoftheday blackwhite cute fashion follow followme food fun girl happy instagood landscape love marantoni2004 me sales smile summer sunset swag tagsforlikes tbt trieste', 3)\n",
      "('eyefi', 2)\n",
      "('france paris', 2)\n",
      "('20142015 cvca hockey royals', 2)\n",
      "('instagramapp iphoneography lomofi square squareformat uploaded:by=instagram', 2)\n",
      "('flower', 2)\n",
      "('instagram', 2)\n",
      "('seattle', 2)\n",
      "('riskzoner visitorart', 1)\n",
      "('new york', 1)\n",
      "('copenhagen denmark', 1)\n",
      "('singapore singaporeskycam sky', 1)\n",
      "('ontario toronto', 1)\n",
      "('iphone', 1)\n",
      "('amaro instagramapp iphoneography square squareformat uploaded:by=instagram', 1)\n",
      "('london', 1)\n",
      "('sanfrancisco', 1)\n",
      "('moblog cameraphone', 1)\n",
      "('headline news schlagzeile schreibmaschine typewriter', 1)\n",
      "('bird', 1)\n",
      "('uzbekistan', 1)\n",
      "('2015', 1)\n",
      "('instagramapp square squareformat iphoneography uploaded:by=instagram', 1)\n",
      "('instagramapp iphoneography square squareformat uploaded:by=instagram valencia', 1)\n",
      "('flickroid', 1)\n",
      "('autoupload', 1)\n",
      "('biorhythms biorytmy cycle cycles diary egzystencja existence lifeblog lifeblogging lifelog monotonyoflife pamiętnik pamiu0119tnik picasaimport', 1)\n",
      "('valencia', 1)\n",
      "('hefe instagramapp iphoneography square squareformat uploaded:by=instagram', 1)\n",
      "('2011', 1)\n",
      "('roja', 1)\n",
      "('amsterdam', 1)\n",
      "('2013', 1)\n",
      "('antique attractions boats bridge cabins cafes cottages excursion ferry ferryu201d harrisonu201d heritage history hotels logging lumber memories memoriesu201d michigan michpics motels parksu201d postcard puremichigan railroad restaurants rppc ships stopsu201d tourism trailer travel u201ccar u201cdon u201cnatural u201croadsideu201d u201ctourist u201ctravel u201cupnorth u201d upnorth upnorthmemories usa uscg uslss vintage wondersu201d', 1)\n",
      "('australia', 1)\n",
      "('183mmf28', 1)\n",
      "('vermelho', 1)\n",
      "('amazing antoniomarano beautiful bestoftheday blackwhite cute fashion follow followme food fun girl happy instagood landscape love marantoni2004 me sales smile summer sunset swag tagsforlikes tbt trieste', 1)\n",
      "('seleccionar', 1)\n",
      "('clubdeplanlesouates meetingnatation vevey', 1)\n",
      "('americana anatomy columbialongmhl columbiauniversitylibraries date1916 idhumananatomyincl19161pier medicalheritagelibrary', 1)\n"
     ]
    }
   ],
   "source": [
    "import operator\n",
    "sorted_repeated_tags_count = sorted(repeated_tags_count.items(), key=operator.itemgetter(1), reverse=True)\n",
    "for s in sorted_repeated_tags_count:\n",
    "  print(s)"
   ]
  },
  {
   "cell_type": "code",
   "execution_count": null,
   "metadata": {
    "id": "8nRvakBBPi-I"
   },
   "outputs": [],
   "source": []
  },
  {
   "cell_type": "code",
   "execution_count": null,
   "metadata": {},
   "outputs": [],
   "source": []
  }
 ],
 "metadata": {
  "accelerator": "GPU",
  "colab": {
   "collapsed_sections": [
    "AxFkRxiLG_bo",
    "J8EVmvbl5zFk",
    "W6nMh8ly5zFp",
    "FzlDYyPS5zGD",
    "V68LXrZF5zGM"
   ],
   "name": "Image view Table with Vectorized Tags.ipynb",
   "provenance": []
  },
  "kernelspec": {
   "display_name": "Python 3",
   "language": "python",
   "name": "python3"
  },
  "language_info": {
   "codemirror_mode": {
    "name": "ipython",
    "version": 3
   },
   "file_extension": ".py",
   "mimetype": "text/x-python",
   "name": "python",
   "nbconvert_exporter": "python",
   "pygments_lexer": "ipython3",
   "version": "3.7.4"
  }
 },
 "nbformat": 4,
 "nbformat_minor": 1
}
