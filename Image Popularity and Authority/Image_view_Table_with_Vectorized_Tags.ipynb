{
  "nbformat": 4,
  "nbformat_minor": 0,
  "metadata": {
    "kernelspec": {
      "display_name": "Python 3",
      "language": "python",
      "name": "python3"
    },
    "language_info": {
      "codemirror_mode": {
        "name": "ipython",
        "version": 3
      },
      "file_extension": ".py",
      "mimetype": "text/x-python",
      "name": "python",
      "nbconvert_exporter": "python",
      "pygments_lexer": "ipython3",
      "version": "3.7.4"
    },
    "colab": {
      "name": "Image view Table with Vectorized Tags.ipynb",
      "provenance": [],
      "collapsed_sections": [
        "AxFkRxiLG_bo",
        "J8EVmvbl5zFk",
        "W6nMh8ly5zFp",
        "gBeg-G59fkp_",
        "ZNf5BNvPWWH7",
        "FzlDYyPS5zGD",
        "V68LXrZF5zGM",
        "SpVYLvVwfob0",
        "a1d4QuVYf3je",
        "vqJTYDu-D27v",
        "eVi56tDbLi8H",
        "cYK_p_1ugH9F"
      ]
    },
    "accelerator": "GPU"
  },
  "cells": [
    {
      "cell_type": "markdown",
      "metadata": {
        "id": "AxFkRxiLG_bo"
      },
      "source": [
        "# Setup"
      ]
    },
    {
      "cell_type": "code",
      "metadata": {
        "id": "c2BiNXle5zFe"
      },
      "source": [
        "import pandas as pd\n",
        "import numpy as np"
      ],
      "execution_count": 289,
      "outputs": []
    },
    {
      "cell_type": "markdown",
      "metadata": {
        "id": "yUx5xmbs7cA2"
      },
      "source": [
        "I added the following cell to gain access to the file in the google drive that I shared with you."
      ]
    },
    {
      "cell_type": "code",
      "metadata": {
        "id": "Gpgc7ftp7CuW"
      },
      "source": [
        "from google.colab import drive\n",
        "\n",
        "# https://stackoverflow.com/questions/48340341/how-to-read-csv-to-dataframe-in-google-colab\n",
        "\n",
        "from google.colab import auth\n",
        "auth.authenticate_user()\n",
        "\n",
        "from pydrive.drive import GoogleDrive\n",
        "from pydrive.auth import GoogleAuth\n",
        "from oauth2client.client import GoogleCredentials\n",
        "gauth = GoogleAuth()\n",
        "gauth.credentials = GoogleCredentials.get_application_default()\n",
        "drive = GoogleDrive(gauth)"
      ],
      "execution_count": 290,
      "outputs": []
    },
    {
      "cell_type": "markdown",
      "metadata": {
        "id": "watSjfhh9jdy"
      },
      "source": [
        "Currently, I link to the sample image view.txt file that would be used in the following code. The uploaded file can be see under the 'content' folder if you go to Files.\n",
        "\n",
        "It has a warning when first running this cell after I put the colab in our shared google drive, but the data and the following codes look good so I leave it here. If you run it again sometimes it would be good. If there are some problems in the future, I shall move back to my drive and just share the colab with you."
      ]
    },
    {
      "cell_type": "code",
      "metadata": {
        "id": "o9BCMIOk7uN6"
      },
      "source": [
        "sample_image_view_link = 'https://drive.google.com/file/d/10T3075hcJx8MZ5OrKbgeWHcf4ovvR_L8/view?usp=sharing'\n",
        "id = sample_image_view_link.split('/')[-2]\n",
        "\n",
        "myfile = drive.CreateFile({'id': id})\n",
        "myfile.GetContentFile('image view.txt') "
      ],
      "execution_count": 291,
      "outputs": []
    },
    {
      "cell_type": "markdown",
      "metadata": {
        "id": "pl5oTzHP5zFj"
      },
      "source": [
        "I realize the following algorithm has great space to be improved and be more elegant by using some consice operations. So please feel free to edit it. "
      ]
    },
    {
      "cell_type": "markdown",
      "metadata": {
        "id": "J8EVmvbl5zFk"
      },
      "source": [
        "# Load Image View Table"
      ]
    },
    {
      "cell_type": "code",
      "metadata": {
        "id": "8cnzpDyG5zFl",
        "colab": {
          "base_uri": "https://localhost:8080/",
          "height": 0
        },
        "outputId": "3109ab98-29df-419f-82c4-5d932043bfe7"
      },
      "source": [
        "image_view = pd.read_csv(\"image view.txt\", delimiter=\"\\t\", names=[\"identifier\", \"provider\", \"title\", \"meta_data\", \"tags\", \"standardized_popularity\"])\n",
        "image_view.head()"
      ],
      "execution_count": 292,
      "outputs": [
        {
          "output_type": "execute_result",
          "data": {
            "text/html": [
              "<div>\n",
              "<style scoped>\n",
              "    .dataframe tbody tr th:only-of-type {\n",
              "        vertical-align: middle;\n",
              "    }\n",
              "\n",
              "    .dataframe tbody tr th {\n",
              "        vertical-align: top;\n",
              "    }\n",
              "\n",
              "    .dataframe thead th {\n",
              "        text-align: right;\n",
              "    }\n",
              "</style>\n",
              "<table border=\"1\" class=\"dataframe\">\n",
              "  <thead>\n",
              "    <tr style=\"text-align: right;\">\n",
              "      <th></th>\n",
              "      <th>identifier</th>\n",
              "      <th>provider</th>\n",
              "      <th>title</th>\n",
              "      <th>meta_data</th>\n",
              "      <th>tags</th>\n",
              "      <th>standardized_popularity</th>\n",
              "    </tr>\n",
              "  </thead>\n",
              "  <tbody>\n",
              "    <tr>\n",
              "      <th>0</th>\n",
              "      <td>0000d3d2-f84e-4a36-8b19-054f9a9a6435</td>\n",
              "      <td>flickr</td>\n",
              "      <td>OKScotland - 13th May 2010</td>\n",
              "      <td>{\"views\": \"0\", \"pub_date\": \"1273786159\", \"date...</td>\n",
              "      <td>[{\"name\": \"okscotland\", \"provider\": \"flickr\"}]</td>\n",
              "      <td>0.0</td>\n",
              "    </tr>\n",
              "    <tr>\n",
              "      <th>1</th>\n",
              "      <td>00008a09-c647-401c-942b-a6aeeeb80133</td>\n",
              "      <td>behance</td>\n",
              "      <td>Mikel Lovina Sportsfest 2013</td>\n",
              "      <td>{\"set\": \"https://www.behance.net/gallery/11169...</td>\n",
              "      <td>[{\"name\": \"sportsfest\", \"provider\": \"behance\"}...</td>\n",
              "      <td>NaN</td>\n",
              "    </tr>\n",
              "    <tr>\n",
              "      <th>2</th>\n",
              "      <td>000060a3-2a1e-4b61-9446-a6e71fdbddaa</td>\n",
              "      <td>behance</td>\n",
              "      <td>Sports, video-editing, motion graphics and ani...</td>\n",
              "      <td>{\"set\": \"https://www.behance.net/gallery/99524...</td>\n",
              "      <td>[{\"name\": \"agency\", \"provider\": \"behance\"}, {\"...</td>\n",
              "      <td>NaN</td>\n",
              "    </tr>\n",
              "    <tr>\n",
              "      <th>3</th>\n",
              "      <td>00003203-eaaf-49ee-a417-7fe5f1356a54</td>\n",
              "      <td>behance</td>\n",
              "      <td>in summer sunlight</td>\n",
              "      <td>{\"set\": \"https://www.behance.net/gallery/97320...</td>\n",
              "      <td>[{\"name\": \"Nature\", \"provider\": \"behance\"}, {\"...</td>\n",
              "      <td>NaN</td>\n",
              "    </tr>\n",
              "    <tr>\n",
              "      <th>4</th>\n",
              "      <td>0000402f-a571-4607-9f6a-5e818fec3edd</td>\n",
              "      <td>behance</td>\n",
              "      <td>Drawings</td>\n",
              "      <td>{\"set\": \"https://www.behance.net/gallery/36764...</td>\n",
              "      <td>[{\"name\": \"handmade\", \"provider\": \"behance\"}, ...</td>\n",
              "      <td>NaN</td>\n",
              "    </tr>\n",
              "  </tbody>\n",
              "</table>\n",
              "</div>"
            ],
            "text/plain": [
              "                             identifier  ... standardized_popularity\n",
              "0  0000d3d2-f84e-4a36-8b19-054f9a9a6435  ...                     0.0\n",
              "1  00008a09-c647-401c-942b-a6aeeeb80133  ...                     NaN\n",
              "2  000060a3-2a1e-4b61-9446-a6e71fdbddaa  ...                     NaN\n",
              "3  00003203-eaaf-49ee-a417-7fe5f1356a54  ...                     NaN\n",
              "4  0000402f-a571-4607-9f6a-5e818fec3edd  ...                     NaN\n",
              "\n",
              "[5 rows x 6 columns]"
            ]
          },
          "metadata": {
            "tags": []
          },
          "execution_count": 292
        }
      ]
    },
    {
      "cell_type": "markdown",
      "metadata": {
        "id": "W6nMh8ly5zFp"
      },
      "source": [
        "# Extract JSON objects"
      ]
    },
    {
      "cell_type": "markdown",
      "metadata": {
        "id": "bSaoD4Rq5zFp"
      },
      "source": [
        "First examine how many different keys we have in tags:"
      ]
    },
    {
      "cell_type": "code",
      "metadata": {
        "id": "8EsoH2Ep5zFq",
        "colab": {
          "base_uri": "https://localhost:8080/"
        },
        "outputId": "c3e53fa3-3a9d-4503-c654-cd6319f01061"
      },
      "source": [
        "tags = image_view[\"tags\"]\n",
        "tags"
      ],
      "execution_count": 293,
      "outputs": [
        {
          "output_type": "execute_result",
          "data": {
            "text/plain": [
              "0          [{\"name\": \"okscotland\", \"provider\": \"flickr\"}]\n",
              "1       [{\"name\": \"sportsfest\", \"provider\": \"behance\"}...\n",
              "2       [{\"name\": \"agency\", \"provider\": \"behance\"}, {\"...\n",
              "3       [{\"name\": \"Nature\", \"provider\": \"behance\"}, {\"...\n",
              "4       [{\"name\": \"handmade\", \"provider\": \"behance\"}, ...\n",
              "                              ...                        \n",
              "4324    [{\"name\": \"on\", \"provider\": \"flickr\"}, {\"name\"...\n",
              "4325    [{\"name\": \"1018\", \"provider\": \"flickr\"}, {\"nam...\n",
              "4326    [{\"name\": \"2019\", \"provider\": \"flickr\"}, {\"nam...\n",
              "4327    [{\"name\": \"allsoulschurch\", \"provider\": \"flick...\n",
              "4328             [{\"name\": \"2019\", \"provider\": \"flickr\"}]\n",
              "Name: tags, Length: 4329, dtype: object"
            ]
          },
          "metadata": {
            "tags": []
          },
          "execution_count": 293
        }
      ]
    },
    {
      "cell_type": "code",
      "metadata": {
        "id": "Bce-K2P25zFt"
      },
      "source": [
        "diff_tags_keys = []"
      ],
      "execution_count": 294,
      "outputs": []
    },
    {
      "cell_type": "code",
      "metadata": {
        "id": "iJSeosax5zFv"
      },
      "source": [
        "def find_diff_json_keys(lst):\n",
        "    for n in pd.read_json(lst).columns:\n",
        "        if n not in diff_tags_keys:\n",
        "            diff_tags_keys.append(n)"
      ],
      "execution_count": 295,
      "outputs": []
    },
    {
      "cell_type": "code",
      "metadata": {
        "id": "7icxIFUI5zFx",
        "colab": {
          "base_uri": "https://localhost:8080/"
        },
        "outputId": "cd76751c-dd71-47fc-c880-653a98c2d404"
      },
      "source": [
        "tags.apply(find_diff_json_keys)\n",
        "diff_tags_keys"
      ],
      "execution_count": 296,
      "outputs": [
        {
          "output_type": "execute_result",
          "data": {
            "text/plain": [
              "['name', 'provider', 'accuracy']"
            ]
          },
          "metadata": {
            "tags": []
          },
          "execution_count": 296
        }
      ]
    },
    {
      "cell_type": "markdown",
      "metadata": {
        "id": "oW3-swU75zF1"
      },
      "source": [
        "Since we have already had a provider column, we will only extract name and accuracy from tags."
      ]
    },
    {
      "cell_type": "code",
      "metadata": {
        "id": "rFbwferu5zF2"
      },
      "source": [
        "def tags_extract(lst):\n",
        "    \n",
        "    json_tbl = pd.read_json(lst)\n",
        "    if \"name\" in json_tbl.columns:\n",
        "        name_lst = list(json_tbl[\"name\"])\n",
        "        name_col.append(name_lst)\n",
        "    else:\n",
        "        name_col.append(None)\n",
        "        \n",
        "    if \"accuracy\" in json_tbl.columns:\n",
        "        accuracy_lst = list(json_tbl[\"accuracy\"])\n",
        "        accuracy_col.append(accuracy_lst)\n",
        "    else:\n",
        "        accuracy_col.append(None)\n",
        "    "
      ],
      "execution_count": 297,
      "outputs": []
    },
    {
      "cell_type": "code",
      "metadata": {
        "id": "ahTofhYQ5zF4",
        "colab": {
          "base_uri": "https://localhost:8080/",
          "height": 0
        },
        "outputId": "646bc112-cf92-4d99-e24f-d8422250b926"
      },
      "source": [
        "name_col = []\n",
        "accuracy_col = []\n",
        "tags.apply(tags_extract)\n",
        "image_view[\"name\"] = name_col\n",
        "image_view[\"accuracy\"] = accuracy_col\n",
        "image_view"
      ],
      "execution_count": 298,
      "outputs": [
        {
          "output_type": "execute_result",
          "data": {
            "text/html": [
              "<div>\n",
              "<style scoped>\n",
              "    .dataframe tbody tr th:only-of-type {\n",
              "        vertical-align: middle;\n",
              "    }\n",
              "\n",
              "    .dataframe tbody tr th {\n",
              "        vertical-align: top;\n",
              "    }\n",
              "\n",
              "    .dataframe thead th {\n",
              "        text-align: right;\n",
              "    }\n",
              "</style>\n",
              "<table border=\"1\" class=\"dataframe\">\n",
              "  <thead>\n",
              "    <tr style=\"text-align: right;\">\n",
              "      <th></th>\n",
              "      <th>identifier</th>\n",
              "      <th>provider</th>\n",
              "      <th>title</th>\n",
              "      <th>meta_data</th>\n",
              "      <th>tags</th>\n",
              "      <th>standardized_popularity</th>\n",
              "      <th>name</th>\n",
              "      <th>accuracy</th>\n",
              "    </tr>\n",
              "  </thead>\n",
              "  <tbody>\n",
              "    <tr>\n",
              "      <th>0</th>\n",
              "      <td>0000d3d2-f84e-4a36-8b19-054f9a9a6435</td>\n",
              "      <td>flickr</td>\n",
              "      <td>OKScotland - 13th May 2010</td>\n",
              "      <td>{\"views\": \"0\", \"pub_date\": \"1273786159\", \"date...</td>\n",
              "      <td>[{\"name\": \"okscotland\", \"provider\": \"flickr\"}]</td>\n",
              "      <td>0.000000</td>\n",
              "      <td>[okscotland]</td>\n",
              "      <td>None</td>\n",
              "    </tr>\n",
              "    <tr>\n",
              "      <th>1</th>\n",
              "      <td>00008a09-c647-401c-942b-a6aeeeb80133</td>\n",
              "      <td>behance</td>\n",
              "      <td>Mikel Lovina Sportsfest 2013</td>\n",
              "      <td>{\"set\": \"https://www.behance.net/gallery/11169...</td>\n",
              "      <td>[{\"name\": \"sportsfest\", \"provider\": \"behance\"}...</td>\n",
              "      <td>NaN</td>\n",
              "      <td>[sportsfest, shirt, isolated, sleeve, casual, ...</td>\n",
              "      <td>[nan, 0.9973600000000001, 0.9889200000000001, ...</td>\n",
              "    </tr>\n",
              "    <tr>\n",
              "      <th>2</th>\n",
              "      <td>000060a3-2a1e-4b61-9446-a6e71fdbddaa</td>\n",
              "      <td>behance</td>\n",
              "      <td>Sports, video-editing, motion graphics and ani...</td>\n",
              "      <td>{\"set\": \"https://www.behance.net/gallery/99524...</td>\n",
              "      <td>[{\"name\": \"agency\", \"provider\": \"behance\"}, {\"...</td>\n",
              "      <td>NaN</td>\n",
              "      <td>[agency, catalogues, brochures, graphics, cost...</td>\n",
              "      <td>[nan, nan, nan, nan, nan, nan, nan, nan, nan, ...</td>\n",
              "    </tr>\n",
              "    <tr>\n",
              "      <th>3</th>\n",
              "      <td>00003203-eaaf-49ee-a417-7fe5f1356a54</td>\n",
              "      <td>behance</td>\n",
              "      <td>in summer sunlight</td>\n",
              "      <td>{\"set\": \"https://www.behance.net/gallery/97320...</td>\n",
              "      <td>[{\"name\": \"Nature\", \"provider\": \"behance\"}, {\"...</td>\n",
              "      <td>NaN</td>\n",
              "      <td>[Nature, olive grove, Tuscany, sunlight, Lands...</td>\n",
              "      <td>[nan, nan, nan, nan, nan, nan, nan, nan, nan, ...</td>\n",
              "    </tr>\n",
              "    <tr>\n",
              "      <th>4</th>\n",
              "      <td>0000402f-a571-4607-9f6a-5e818fec3edd</td>\n",
              "      <td>behance</td>\n",
              "      <td>Drawings</td>\n",
              "      <td>{\"set\": \"https://www.behance.net/gallery/36764...</td>\n",
              "      <td>[{\"name\": \"handmade\", \"provider\": \"behance\"}, ...</td>\n",
              "      <td>NaN</td>\n",
              "      <td>[handmade, creative, +Drawing+, black, art, fa...</td>\n",
              "      <td>None</td>\n",
              "    </tr>\n",
              "    <tr>\n",
              "      <th>...</th>\n",
              "      <td>...</td>\n",
              "      <td>...</td>\n",
              "      <td>...</td>\n",
              "      <td>...</td>\n",
              "      <td>...</td>\n",
              "      <td>...</td>\n",
              "      <td>...</td>\n",
              "      <td>...</td>\n",
              "    </tr>\n",
              "    <tr>\n",
              "      <th>4324</th>\n",
              "      <td>00005f45-402f-4cd5-93ae-789f65462ec7</td>\n",
              "      <td>flickr</td>\n",
              "      <td>IMG_9884</td>\n",
              "      <td>{\"views\": \"0\", \"pub_date\": \"1571405226\", \"date...</td>\n",
              "      <td>[{\"name\": \"on\", \"provider\": \"flickr\"}, {\"name\"...</td>\n",
              "      <td>0.000000</td>\n",
              "      <td>[on, ontario, porthope, porthopeontario]</td>\n",
              "      <td>None</td>\n",
              "    </tr>\n",
              "    <tr>\n",
              "      <th>4325</th>\n",
              "      <td>0000387b-6c09-42a3-893f-12997e820f72</td>\n",
              "      <td>flickr</td>\n",
              "      <td>DSC02647</td>\n",
              "      <td>{\"views\": \"29\", \"pub_date\": \"1541607835\", \"dat...</td>\n",
              "      <td>[{\"name\": \"1018\", \"provider\": \"flickr\"}, {\"nam...</td>\n",
              "      <td>0.395666</td>\n",
              "      <td>[1018, 1018mm, a6300, alkjhgfds33, anita, chen...</td>\n",
              "      <td>None</td>\n",
              "    </tr>\n",
              "    <tr>\n",
              "      <th>4326</th>\n",
              "      <td>0000c695-7340-416b-9efc-188c83a82810</td>\n",
              "      <td>flickr</td>\n",
              "      <td>photo 1063 was taken at 10:38:29</td>\n",
              "      <td>{\"views\": \"71\", \"pub_date\": \"1574004547\", \"dat...</td>\n",
              "      <td>[{\"name\": \"2019\", \"provider\": \"flickr\"}, {\"nam...</td>\n",
              "      <td>0.615816</td>\n",
              "      <td>[2019, 595k, barrycornelius, oxonraces, radnag...</td>\n",
              "      <td>None</td>\n",
              "    </tr>\n",
              "    <tr>\n",
              "      <th>4327</th>\n",
              "      <td>000045ea-556a-42da-b7a1-7186637a6b6c</td>\n",
              "      <td>flickr</td>\n",
              "      <td>20091024-IMG_1285</td>\n",
              "      <td>{\"views\": \"72\", \"pub_date\": \"1256511956\", \"dat...</td>\n",
              "      <td>[{\"name\": \"allsoulschurch\", \"provider\": \"flick...</td>\n",
              "      <td>0.619120</td>\n",
              "      <td>[allsoulschurch, jenniferdorn, kenambrose, was...</td>\n",
              "      <td>None</td>\n",
              "    </tr>\n",
              "    <tr>\n",
              "      <th>4328</th>\n",
              "      <td>0000e658-2e32-4a98-917d-39fa483ea5ad</td>\n",
              "      <td>flickr</td>\n",
              "      <td>IMGP0970</td>\n",
              "      <td>{\"views\": \"16\", \"pub_date\": \"1567554741\", \"dat...</td>\n",
              "      <td>[{\"name\": \"2019\", \"provider\": \"flickr\"}]</td>\n",
              "      <td>0.265366</td>\n",
              "      <td>[2019]</td>\n",
              "      <td>None</td>\n",
              "    </tr>\n",
              "  </tbody>\n",
              "</table>\n",
              "<p>4329 rows × 8 columns</p>\n",
              "</div>"
            ],
            "text/plain": [
              "                                identifier  ...                                           accuracy\n",
              "0     0000d3d2-f84e-4a36-8b19-054f9a9a6435  ...                                               None\n",
              "1     00008a09-c647-401c-942b-a6aeeeb80133  ...  [nan, 0.9973600000000001, 0.9889200000000001, ...\n",
              "2     000060a3-2a1e-4b61-9446-a6e71fdbddaa  ...  [nan, nan, nan, nan, nan, nan, nan, nan, nan, ...\n",
              "3     00003203-eaaf-49ee-a417-7fe5f1356a54  ...  [nan, nan, nan, nan, nan, nan, nan, nan, nan, ...\n",
              "4     0000402f-a571-4607-9f6a-5e818fec3edd  ...                                               None\n",
              "...                                    ...  ...                                                ...\n",
              "4324  00005f45-402f-4cd5-93ae-789f65462ec7  ...                                               None\n",
              "4325  0000387b-6c09-42a3-893f-12997e820f72  ...                                               None\n",
              "4326  0000c695-7340-416b-9efc-188c83a82810  ...                                               None\n",
              "4327  000045ea-556a-42da-b7a1-7186637a6b6c  ...                                               None\n",
              "4328  0000e658-2e32-4a98-917d-39fa483ea5ad  ...                                               None\n",
              "\n",
              "[4329 rows x 8 columns]"
            ]
          },
          "metadata": {
            "tags": []
          },
          "execution_count": 298
        }
      ]
    },
    {
      "cell_type": "markdown",
      "metadata": {
        "id": "FjTrciI95zF7"
      },
      "source": [
        "As you may see in the accuracy column, we have None and nan. Generally, None happens when we have no accuracy data for the image. nan happens when a JSON object in the tags of the image has only name element and no accuracy element. I am not very clear with what accuracy really is. So I decide to leave it as this for now and not to do any imputation or null removal."
      ]
    },
    {
      "cell_type": "markdown",
      "metadata": {
        "id": "DqSdCdBd5zF8"
      },
      "source": [
        "The following code is try to print the first ith rows in a cleaner format"
      ]
    },
    {
      "cell_type": "code",
      "metadata": {
        "id": "_8mX5p_K5zF8",
        "colab": {
          "base_uri": "https://localhost:8080/"
        },
        "outputId": "6baab5a9-80fc-4dd6-e7e9-98b0cc8717e3"
      },
      "source": [
        "rows_to_display = 100\n",
        "row_counter = 0\n",
        "\n",
        "for i in image_view[\"name\"]:\n",
        "    if row_counter >= rows_to_display:\n",
        "        break\n",
        "    print(\"Row\" + str(row_counter), i)\n",
        "    print(\"\\n\")\n",
        "    row_counter += 1"
      ],
      "execution_count": 299,
      "outputs": [
        {
          "output_type": "stream",
          "text": [
            "Row0 ['okscotland']\n",
            "\n",
            "\n",
            "Row1 ['sportsfest', 'shirt', 'isolated', 'sleeve', 'casual', 'fashion', 'illustration', 'cotton', 'wear', 'polo', 'design', 'vector', 'man', 'shop', 'apparel', 'template', 'garment', 'desktop', 'tee', 'shopping', 'no person']\n",
            "\n",
            "\n",
            "Row2 ['agency', 'catalogues', 'brochures', 'graphics', 'cost-effective', 'Sponsorship', 'screens', 'magazines', 'Leisure', 'Vehicle', 'cardiff', 'programmes', 'bridgend', 'large', 'monmouth', 'Agencies', 'consultancy', 'creative', 'video-editing', 'online', 'man', 'people', 'adult', 'desktop', 'person', 'business', 'young', 'portrait', 'one', 'woman', 'technology', 'isolated', 'face', 'girl', 'work', 'office', 'actor', 'human', 'beautiful', 'monochrome']\n",
            "\n",
            "\n",
            "Row3 ['Nature', 'olive grove', 'Tuscany', 'sunlight', 'Landscape', 'Evening', 'Italy', 'Wildflowers', 'Flowers', 'nature', 'flower', 'no person', 'summer', 'flora', 'leaf', 'outdoors', 'grass', 'sun', 'bright', 'rural', 'closeup', 'growth', 'fair weather', 'field', 'wild', 'garden', 'color', 'wood', 'season']\n",
            "\n",
            "\n",
            "Row4 ['handmade', 'creative', '+Drawing+', 'black', 'art', 'fancy', 'pencil', 'paper', 'graphite', 'lapiz', 'red', 'characters']\n",
            "\n",
            "\n",
            "Row5 ['timothy hunt']\n",
            "\n",
            "\n",
            "Row6 ['nature', 'woman', 'girl', 'fashion', 'model', 'sexy', 'beautiful', 'wood', 'tree', 'lady', 'outdoors', 'young', 'glamour', 'pretty', 'summer', 'hair', 'figure', 'people', 'desktop', 'portrait']\n",
            "\n",
            "\n",
            "Row7 ['logo', '3D', 'batman', 'QR Code', 'simple', 'symbol', 'illustration', 'image', 'vector', 'sign', 'business', 'design', 'shape', 'round', 'desktop', 'signalise', 'abstract', 'silhouette', 'light', 'dark', 'no person', 'competition', 'connection', 'control', 'achievement']\n",
            "\n",
            "\n",
            "Row8 ['adidas', 'mesh', 'material', 'shoes', 'color', 'footwear', 'summer', 'originals', 'forum mid', 'pattern', 'abstract', 'illustration', 'texture', 'design', 'seamless', 'wallpaper', 'art', 'floral', 'decoration', 'vector', 'flower', 'graphic', 'textile', 'scribble', 'retro', 'desktop', 'vintage', 'chalk out', 'paper']\n",
            "\n",
            "\n",
            "Row9 ['Ray Manta', 'danzayan', 'retouch', 'photomanipulation', 'atlantis', \"Danzay'Art\", 'creation', \"DZ'Art\", 'compositing']\n",
            "\n",
            "\n",
            "Row10 ['light', 'rainbow', 'no person', 'sun', 'sky', 'art', 'moon', 'fog', 'nature', 'sunset', 'bright', 'blur', 'light', 'dark', 'astronomy', 'insubstantial', 'landscape', 'spotlight', 'abstract', 'outdoors', 'fair weather']\n",
            "\n",
            "\n",
            "Row11 ['animacion', 'motion', 'modelado', 'cell anination', 'publicidad', 'desing']\n",
            "\n",
            "\n",
            "Row12 ['ilustracion', 'illustration', 'art', 'chalk out', 'print', 'painting', 'vintage', 'man', 'visuals', 'people', 'head', 'retro', 'symbol', 'old', 'design', 'face', 'graphic', 'artistic', 'portrait', 'woman', 'ancient']\n",
            "\n",
            "\n",
            "Row13 ['colors', 'woman', 'girl', 'purple', 'make-up', 'close-up', 'green', 'dark', 'music', 'desktop', 'people', 'illuminated', 'spotlight', 'no person', 'light', 'performance', 'danger', 'smoke', 'horizontal', 'shadow', 'conceptual', 'man', 'contemporary', 'business', 'indoors', 'art', 'silhouette']\n",
            "\n",
            "\n",
            "Row14 ['visual identity', 'marketing', 'stationary']\n",
            "\n",
            "\n",
            "Row15 ['mobile', 'banking', 'Bank', 'dashboard', 'Interface', 'PFM', 'finance', 'credit', 'UI', 'app', 'schredule', 'flat', 'template', 'ux', 'clean', 'template', 'navigation', 'World Wide Web', 'banner', 'menu (food)', 'stripe', 'page', 'layout', 'site', 'label', 'arrow', 'identity', 'internet', 'presentation', 'form', 'interface', 'login', 'no person', 'restaurant check', 'information']\n",
            "\n",
            "\n",
            "Row16 ['art t-shirts', 'Cool Shirts', 'ilya ioj tees', 'cool tees', 'ilya ioj', 'design tees', 't-shirts promo', 'art tees', 'rr t-shirts', 'citations tees', 'tees design', 't-shirts typeface', 'rr tees', 'Christmas', 'design', 'abstract', 'bright', 'symbol', 'illustration', 'shape', 'celebration', 'alphabet', 'art', 'color', 'image', 'shining', 'decoration', 'heart', 'desktop', 'love', 'typography', 'blur', 'party']\n",
            "\n",
            "\n",
            "Row17 ['woman', 'illustration', 'vector', 'people', 'sketch', 'man', 'no person', 'child', 'tree', 'graphic design', 'cute', 'nature', 'fun', 'winter', 'retro', 'Christmas', 'fashion', 'desktop', 'summer', 'adult']\n",
            "\n",
            "\n",
            "Row18 ['Layout', 'communication', 'modern', 'mini brochure', 'graphika', 'creative booklet', 'Catalogue', 'blue', 'Booklet', 'vintage style', 'design studio', 'creative', 'book', 'template', 'red', 'Brochure Template', 'dark', 'brochure', 'magazine', 'green', 'internet', 'business', 'no person', 'display', 'screen', 'computer', 'World Wide Web', 'information', 'education', 'facts', 'paper', 'laptop', 'technology', 'data', 'card', 'page', 'template', 'wood', 'diagram', 'table']\n",
            "\n",
            "\n",
            "Row19 ['fish', 'flower', 'Return', 'pen', 'illustration', 'art', 'desktop', 'nature', 'visuals', 'engraving', 'symbol', 'animal', 'old', 'retro', 'disjunct', 'etching', 'closeup', 'design', 'one', 'face', 'head', 'chalk out', 'vintage', 'monster']\n",
            "\n",
            "\n",
            "Row20 ['marvel', 'endgame', 'agency', 'official art', 'Marvel Studios', 'Poster Posse', 'Avengers', 'posters']\n",
            "\n",
            "\n",
            "Row21 ['nuclear', 'terminator', 'Game Art', 'atom bomb', 'art', 'hipoly', 'game', 'post apocalypse', 'harvester', 'lowpoly', 'robot', 'cyborg', 'android', 'futuristic', 'science', 'fiction', 'warrior', 'artificial', 'forthcoming', 'man', 'art', 'figure', 'illustration', 'character', 'show', 'weapon', 'people', 'machine', 'sculpture', 'gun']\n",
            "\n",
            "\n",
            "Row22 ['OBRA', 'yellow', 'Favio Posca', 'blue', 'tipografia', 'brush', 'painkiller', 'teatro', 'man', 'people', 'desktop', 'person', 'young', 'portrait', 'isolated', 'business', 'fashion', 'one', 'hair', 'adult', 'woman', 'fine-looking', 'face', 'fun', 'warning', 'paper', 'danger', 'hand']\n",
            "\n",
            "\n",
            "Row23 ['Audi', 'logo', 'q3', 'Experience', 'Porsche', 'corporate', 'identity', 'testdrive', 'no person', 'paper', 'template', 'banner', 'business', 'layout', 'graphic design', 'page', 'stripe', 'label', 'set', 'vector', 'World Wide Web', 'internet', 'facts', 'illustration', 'design', 'booklet', 'vectors', 'navigation']\n",
            "\n",
            "\n",
            "Row24 ['smoke', 'no person', 'monochrome', 'condensation', 'grinder', 'people', 'winter', 'vehicle', 'water', 'pollution', 'wind', 'landscape', 'energy', 'fog', 'art', 'calamity', 'travel', 'nature', 'steam', 'outdoors']\n",
            "\n",
            "\n",
            "Row25 ['kirplukstudio', 'pattern', 'wallpaper', 'konradkirpluk', 't-shirt', 'vector', 'digital', 'kirpluk', 'shaman', 'logo', 'desktop', 'illustration', 'design', 'symbol', 'art', 'vector', 'image', 'abstract', 'graphic', 'modern', 'business', 'shape', 'element', 'sign', 'pattern', 'style', 'no person', 'decoration', 'color', 'paper']\n",
            "\n",
            "\n",
            "Row26 ['pre-wedding', 'Love', 'sweet', 'couple', 'prewedding', 'Bridegroom', 'bride', 'wedding', 'taiwan', 'taipei', 'wedding', 'groom', 'bride', 'love', 'romance', 'engagement', 'woman', 'outdoors', 'marriage', 'nature', 'bridal', 'couple', 'kiss', 'summer', 'man', 'portrait', 'togetherness', 'girl', 'fashion', 'people']\n",
            "\n",
            "\n",
            "Row27 ['Silver Creek', 'Colorado', 'High School', 'volleyball', 'longmont', 'snowboard', 'camera', 'design', 'print', 'illustration', 'World Wide Web', 'internet', 'screen', 'business', 'vector', 'text', 'communication', 'graphic', 'desktop', 'display', 'symbol', 'computer', 'collage', 'bill', 'technology', 'design', 'modern', 'image', 'vectors']\n",
            "\n",
            "\n",
            "Row28 ['ad campaign', 'Dum Dum Pops', 'hand type', 'Spangler', 'box', 'cardboard', 'paper', 'gift', 'no person', 'shopping', 'container', 'business', 'isolated', 'merchandise', 'love', 'packet', 'pack', 'packaging', 'Christmas', 'carton', 'disjunct', 'money', 'birthday', 'illustration']\n",
            "\n",
            "\n",
            "Row29 ['fashion menswear', 'casting', 'camilla arthur', 'Male Models', 'Street casting', 'Los Angeles']\n",
            "\n",
            "\n",
            "Row30 ['integrated', 'launch', 'Snus', 'parliament', 'business', 'internet', 'technology', 'computer', 'desktop', 'text', 'people', 'World Wide Web', 'communication', 'man', 'data', 'facts', 'display']\n",
            "\n",
            "\n",
            "Row31 ['gentlemen', 'celebrate', 'Good', 'Irishman', 'Plume', 'Ireland', 'gentleman', 'green', 'win', 'match', 'hat', 'irish', 'Rugby', 'Italy', 'no person', 'Christmas', 'dark', 'celebration', 'illustration', 'vector', 'desktop', 'moon', 'space', 'art', 'silhouette', 'astronomy', 'abstract', 'winter', 'light', 'design', 'sky', 'decoration', 'science', 'nature']\n",
            "\n",
            "\n",
            "Row32 ['Ying yang', 'Love', 'Rotring', 'rapidograph', 'ink', 'line', 'flowers']\n",
            "\n",
            "\n",
            "Row33 ['u of c', 'room', 'indoors', 'people', 'adult', 'one', 'wear', 'business', 'woman', 'man', 'fashion', 'furniture', 'model', 'door', 'modern', 'contemporary', 'two', 'exhibition', 'family', 'luggage', 'portrait']\n",
            "\n",
            "\n",
            "Row34 ['virginia', 'elephant', 'Mural', 'Yoga', 'moon', 'Ganesh', 'ganesha', 'Richmond', 'Hindu', 'sanskrit', 'ashtanga', 'mysore', 'India', 'God', 'rva']\n",
            "\n",
            "\n",
            "Row35 ['Burlap Grain Sacks. French Accent Pillows', 'Tote Bags', 'french country', 'Vintage Grain Sack', 'French Style Tote Bags', 'Luxury Accent Pillows', 'home goods', 'Linen Bedding', 'Decorative Tea Towels', 'home textiles', 'decorative pillows', 'paper', 'no person', 'design', 'disjunct', 'page', 'sheet', 'retro', 'desktop', 'illustration', 'old', 'comfort', 'symbol', 'business', 'flag', 'leaf', 'antique', 'pillow', 'isolated', 'official', 'isolate']\n",
            "\n",
            "\n",
            "Row36 ['sunset', 'double exposure', 'portrait']\n",
            "\n",
            "\n",
            "Row37 ['article', 'Dating', 'internet dating', 'magazine', 'slimming', 'diet', 'portrait', 'pills', 'anti-wrinkle', 'editorial', 'no person', 'cream', 'chocolate', 'sweet', 'food', 'delicious', 'sugar', 'one', 'milk', 'coffee', 'cup', 'baking', 'icee', 'creamy', 'candy', 'people', 'indoors', 'Christmas', 'cake', 'stacks']\n",
            "\n",
            "\n",
            "Row38 ['wave', 'foil', 'projection', 'metallic', 'world', 'art', 'map', 'printmaking', 'peace', 'International', 'globe', 'Winkel Tripel']\n",
            "\n",
            "\n",
            "Row39 ['kemin', 'brochure', 'folder']\n",
            "\n",
            "\n",
            "Row40 ['login', 'psd', 'page', 'free', 'free download', 'login page', 'simple', 'clean']\n",
            "\n",
            "\n",
            "Row41 ['paperview', 'branding', 'logo', 'identity', 'Restaurant Branding', 'paper', 'document', 'no person', 'business', 'page', 'book', 'education', 'data', 'book bindings', 'writing', 'composition', 'laptop', 'facts', 'office', 'computer', 'text', 'notebook', 'devoid', 'research', 'write']\n",
            "\n",
            "\n",
            "Row42 ['animation', 'design', 'motion', 'art', 'stylized', 'motion graphics', '3D', 'Low Poly', 'branding']\n",
            "\n",
            "\n",
            "Row43 ['festival', 'design', 'publicidade', 'midia', 'app', 'Ilustração', 'campinas', 'engraved']\n",
            "\n",
            "\n",
            "Row44 ['thread on paper', 'circles', 'art', 'stitched', 'thread', 'paper', 'thread art', 'movements', 'red']\n",
            "\n",
            "\n",
            "Row45 ['Monday', 'Austin', 'badge', 'logo']\n",
            "\n",
            "\n",
            "Row46 ['concept art', 'CGI', 'art', 'Matte Painting']\n",
            "\n",
            "\n",
            "Row47 ['agriculture', 'countryside', 'cropland', 'daylight', 'farm', 'field', 'grass', 'grassland', 'hayfield', 'hayfield', 'hill', 'landscape', 'nature', 'no person', 'outdoors', 'rural', 'scenic', 'sky', 'summer', 'travel', 'tree']\n",
            "\n",
            "\n",
            "Row48 ['Castle Wall', 'Historic sites and artefacts', 'abandoned', 'ancient', 'architecture', 'brick', 'building', 'castle', 'construction', 'expression', 'exterior', 'fortification', 'fortress', 'Gothic', 'historic', 'house', 'no person', 'old', 'outdoors', 'stone', 'travel', 'wall']\n",
            "\n",
            "\n",
            "Row49 ['Mining', ' Mining', 'Park and Public Gardens', 'Quarrying', 'branch', 'branch', 'dawn', 'dawn', 'environment', 'fall', 'fall', 'guidance', 'guidance', 'landscape', 'leaf', 'light', 'light', 'nature', 'no person', 'outdoors', 'park', 'park', 'river', 'road', 'road', 'scenic', 'scenic', 'trail', 'trail', 'travel', 'travel', 'tree', 'water', 'water', 'wood']\n",
            "\n",
            "\n",
            "Row50 ['Cityscape', 'Photograph', 'view', 'administration', 'adult', 'cargo ship', 'group', 'group together', 'many', 'military', 'no person', 'people', 'print', 'railway', 'river', 'ship', 'suspension bridge', 'transportation system', 'vehicle', 'war', 'warship', 'water', 'watercraft']\n",
            "\n",
            "\n",
            "Row51 ['Apartamento con Encanto', 'Francia', 'Samou00ebns', '6 persona(s)', 'Casa Rural']\n",
            "\n",
            "\n",
            "Row52 ['logo', 'beroperasi', 'gear', 'linux', 'sistem', 'gear roda', 'cogwheels', 'pilihan', 'roda', 'roda-roda', 'cog', 'tetapan']\n",
            "\n",
            "\n",
            "Row53 ['Belforte del Chienti', 'Maison Typique', 'Italie', 'Gîte', '18 personne(s)']\n",
            "\n",
            "\n",
            "Row54 ['Appartement', '6 personne(s)', 'Les Deux Alpes', 'France', 'Location de vacances']\n",
            "\n",
            "\n",
            "Row55 ['Solanas (Sinnai)', '10 person(s)', 'Villa', 'Italy', 'Holiday lettings']\n",
            "\n",
            "\n",
            "Row56 ['Ceratitis divaricata Overview', 'Ceratitis divaricata']\n",
            "\n",
            "\n",
            "Row57 ['dawn', 'mountain peak', 'no person', 'stone', 'sunset', 'cloud', 'hike', 'outdoors', 'mountain', 'rock', 'scenic', 'storm', 'travel', 'dramatic', 'landscape', 'nature', 'park', 'sky', 'tourism', 'valley']\n",
            "\n",
            "\n",
            "Row58 ['Lido di Ostia rentals', 'Lido di Ostia', 'Lido di Ostia Holiday lettings', 'Latium (Lazio)']\n",
            "\n",
            "\n",
            "Row59 ['France', 'Maison de Charme', 'Location de vacances de Charme', 'Vitrac (Cantal)', '5 personne(s)']\n",
            "\n",
            "\n",
            "Row60 ['Villasimius', 'Ferienwohnung', 'Villa', '6 Person(en)', 'Italien']\n",
            "\n",
            "\n",
            "Row61 ['6 person(s)', 'Villa', 'Saint-Raphaël', 'Holiday lettings', 'France']\n",
            "\n",
            "\n",
            "Row62 ['wa', 'washington']\n",
            "\n",
            "\n",
            "Row63 ['june2015']\n",
            "\n",
            "\n",
            "Row64 ['Uplands', 'Minor Road', 'Alford', 'Burn', 'Hillside', 'fence', 'landscape', 'no person', 'grass', 'wood', 'nature', 'farm', 'sky', 'tree', 'field', 'travel', 'outdoors', 'agriculture', 'countryside', 'country', 'hill', 'rural', 'mountain', 'summer', 'pasture']\n",
            "\n",
            "\n",
            "Row65 ['Lowlands', 'Roads', ' Road transport', 'road', 'guidance', 'tree', 'landscape', 'asphalt', 'no person', 'nature', 'wood', 'grass', 'travel', 'outdoors', 'environment', 'rural', 'lane', 'park', 'curve', 'street', 'perspective', 'summer', 'sky']\n",
            "\n",
            "\n",
            "Row66 ['architecture', 'no person', 'building', 'travel', 'old', 'outdoors', 'home', 'house', 'religion', 'daylight', 'tree', 'church', 'castle', 'entrance', 'garden', 'gate', 'ancient', 'park', 'summer', 'city']\n",
            "\n",
            "\n",
            "Row67 ['Paths', ' Scrub', 'Heath', 'landscape', 'tree', 'nature', 'no person', 'sky', 'environment', 'grass', 'travel', 'outdoors', 'hayfield', 'scenic', 'field', 'calamity', 'wood', 'water', 'daylight', 'weather', 'flora', 'bush', 'park']\n",
            "\n",
            "\n",
            "Row68 ['no person', 'landscape', 'water', 'nature', 'travel', 'sky', 'outdoors', 'river', 'grass', 'seashore', 'summer', 'countryside', 'cropland', 'mountain', 'scenic', 'rural', 'sea', 'lake', 'hill', 'daylight']\n",
            "\n",
            "\n",
            "Row69 ['Roads', ' Road transport', 'landscape', 'sky', 'tree', 'nature', 'travel', 'outdoors', 'no person', 'fog', 'daylight', 'environment', 'agriculture', 'hill', 'road', 'field', 'scenic', 'grass', 'farm', 'weather', 'light', 'cloud']\n",
            "\n",
            "\n",
            "Row70 ['home', 'road', 'house', 'no person', 'building', 'tree', 'landscape', 'architecture', 'wood', 'travel', 'farm', 'bungalow', 'guidance', 'daylight', 'fence', 'environment', 'outdoors', 'street', 'sky', 'barn']\n",
            "\n",
            "\n",
            "Row71 ['railway', 'train', 'transportation system', 'locomotive', 'track', 'road', 'travel', 'vehicle', 'engine', 'guidance', 'daylight', 'no person', 'trip (journey)', 'line', 'outdoors', 'commuter', 'traffic', 'wagon', 'station', 'car']\n",
            "\n",
            "\n",
            "Row72 ['Überlingen', 'Vacation rental', 'Germany', 'House', '4 person(s)']\n",
            "\n",
            "\n",
            "Row73 ['谷仓改建住宅', '4 人', '法国', 'Cretteville', '乡间渡假别墅出租']\n",
            "\n",
            "\n",
            "Row74 ['Vacation rental', 'Aparthotel', 'Madonna di Campiglio', '6 person(s)', 'Italy']\n",
            "\n",
            "\n",
            "Row75 ['Monolocale', 'Case vacanze', '2 persona(e)', 'Roscoff', 'Francia']\n",
            "\n",
            "\n",
            "Row76 ['Appartement', 'Gallipoli', 'Vakantiewoningen', '6 personen', 'Italië']\n",
            "\n",
            "\n",
            "Row77 ['Appartement', 'Can Pastilla', '5 personne(s)', 'Espagne', 'Location de vacances']\n",
            "\n",
            "\n",
            "Row78 ['农舍改建住宅', '休闲渡假房屋出租', '22 人', '葡萄牙', 'Vila Franca']\n",
            "\n",
            "\n",
            "Row79 ['Luxury holiday letting', 'Argentina', 'Zelaya', 'Luxury Country House', '7 person(s)']\n",
            "\n",
            "\n",
            "Row80 ['休闲渡假房屋出租 Braunton', '出租 Braunton', '西南英格蘭', 'Braunton']\n",
            "\n",
            "\n",
            "Row81 ['Chorefton', '4 Person(en)', 'Apartment mit Charme', 'Griechenland', 'Ferienwohnung mit Charme']\n",
            "\n",
            "\n",
            "Row82 ['30 人', 'Morzine', '休闲渡假房屋出租', '木屋', '法国']\n",
            "\n",
            "\n",
            "Row83 ['France', '6 person(s)', \"Saint Lô d'Ourville\", 'Gîte - Self Catering', 'Stone-Built House']\n",
            "\n",
            "\n",
            "Row84 ['France', 'Propriano', 'Villa', 'Holiday lettings', '4 person(s)']\n",
            "\n",
            "\n",
            "Row85 ['Boliqueime', 'Agriturismo', 'Casa di Charme', '10 persona(e)', 'Portogallo']\n",
            "\n",
            "\n",
            "Row86 ['5 persona(e)', 'Casa vacanza di Charme', 'Piñeres de Aller', 'Casa di Charme', 'Spagna']\n",
            "\n",
            "\n",
            "Row87 ['5 persona(e)', 'Italia', 'Fattoria', 'Agriturismo', 'Puegnago sul Garda']\n",
            "\n",
            "\n",
            "Row88 ['Portugal', 'Faro', '4 personne(s)', 'Gîte', 'Maison de Campagne']\n",
            "\n",
            "\n",
            "Row89 ['Solanas (Sinnai)', '5 persona(e)', 'Italia', 'Case vacanze', 'Casa']\n",
            "\n",
            "\n",
            "Row90 ['Gréasque', '普罗旺斯 阿尔卑斯 蓝色海岸', '休闲渡假房屋出租 Gréasque', '出租 Gréasque']\n",
            "\n",
            "\n",
            "Row91 ['Calviac en Périgord', '6 person(s)', 'House', 'Gîte - Self Catering', 'France']\n",
            "\n",
            "\n",
            "Row92 ['Dalmacja', 'Slatine', 'Wynajem Slatine', 'Wynajem na wakacje Slatine']\n",
            "\n",
            "\n",
            "Row93 ['Genevilla', '6 personne(s)', 'Maison de Charme', 'Espagne', 'Gîte']\n",
            "\n",
            "\n",
            "Row94 ['Elena', 'Bulgaria', 'Habitaciones de huéspedes', 'Casa de Lujo', '20 persona(s)']\n",
            "\n",
            "\n",
            "Row95 ['France', 'Wildenstein', '6 person(s)', 'Gîte - Self Catering', 'Village House']\n",
            "\n",
            "\n",
            "Row96 ['Italia', 'Fattoria', 'Agriturismo', '6 persona(e)', 'Montemassi']\n",
            "\n",
            "\n",
            "Row97 ['Appartement', '6 personne(s)', 'O Grove', 'Espagne', 'Location de vacances']\n",
            "\n",
            "\n",
            "Row98 ['Canarie', 'Bungalow di Charme', 'Casa vacanza di Charme', 'Playa del Inglés', '4 persona(e)']\n",
            "\n",
            "\n",
            "Row99 ['Italia', '8 persona(s)', 'Alquiler de vacaciones', 'Casa de Piedra', 'Maiori']\n",
            "\n",
            "\n"
          ],
          "name": "stdout"
        }
      ]
    },
    {
      "cell_type": "code",
      "metadata": {
        "id": "raIRBcA75zF_",
        "colab": {
          "base_uri": "https://localhost:8080/"
        },
        "outputId": "fb469bdd-5fd5-4900-87db-537a8ebccf2f"
      },
      "source": [
        "rows_to_display = 100\n",
        "row_counter = 0\n",
        "\n",
        "for i in image_view[\"accuracy\"]:\n",
        "    if row_counter >= rows_to_display:\n",
        "        break\n",
        "    print(\"Row\" + str(row_counter), i)\n",
        "    print(\"\\n\")\n",
        "    row_counter += 1"
      ],
      "execution_count": 300,
      "outputs": [
        {
          "output_type": "stream",
          "text": [
            "Row0 None\n",
            "\n",
            "\n",
            "Row1 [nan, 0.9973600000000001, 0.9889200000000001, 0.9882000000000001, 0.98567, 0.98377, 0.9815, 0.9813900000000001, 0.9795300000000001, 0.9778600000000001, 0.9692200000000001, 0.96242, 0.95959, 0.9576600000000001, 0.9520700000000001, 0.9483600000000001, 0.9463300000000001, 0.94105, 0.9394, 0.93788, 0.9256900000000001]\n",
            "\n",
            "\n",
            "Row2 [nan, nan, nan, nan, nan, nan, nan, nan, nan, nan, nan, nan, nan, nan, nan, nan, nan, nan, nan, nan, 0.9690500000000001, 0.9572200000000001, 0.95691, 0.9538500000000001, 0.9388000000000001, 0.9316700000000001, 0.9175800000000001, 0.8968300000000001, 0.89495, 0.8901500000000001, 0.87699, 0.8615800000000001, 0.85113, 0.8369200000000001, 0.8263400000000001, 0.8172900000000001, 0.8132900000000001, 0.8095, 0.8061100000000001, 0.8060900000000001]\n",
            "\n",
            "\n",
            "Row3 [nan, nan, nan, nan, nan, nan, nan, nan, nan, 0.9927900000000001, 0.9899600000000001, 0.98228, 0.97889, 0.9683600000000001, 0.9585, 0.9476100000000001, 0.9464800000000001, 0.9350200000000001, 0.93376, 0.9334800000000001, 0.9198900000000001, 0.9191, 0.9185900000000001, 0.9179400000000001, 0.9151300000000001, 0.8993500000000001, 0.8982800000000001, 0.8860500000000001, 0.8698800000000001]\n",
            "\n",
            "\n",
            "Row4 None\n",
            "\n",
            "\n",
            "Row5 None\n",
            "\n",
            "\n",
            "Row6 [0.9795, 0.9738700000000001, 0.96947, 0.9633400000000001, 0.9474400000000001, 0.9315700000000001, 0.92293, 0.91932, 0.90566, 0.8851500000000001, 0.8821200000000001, 0.8776200000000001, 0.87375, 0.86743, 0.8661300000000001, 0.8598100000000001, 0.8527300000000001, 0.8495900000000001, 0.8489700000000001, 0.8361900000000001]\n",
            "\n",
            "\n",
            "Row7 [nan, nan, nan, nan, nan, 0.9780500000000001, 0.9479900000000001, 0.9400900000000001, 0.9007100000000001, 0.8975400000000001, 0.8937700000000001, 0.8927400000000001, 0.8791800000000001, 0.87916, 0.8673400000000001, 0.8214300000000001, 0.8171200000000001, 0.81279, 0.79307, 0.77446, 0.7690600000000001, 0.7676200000000001, 0.76634, 0.7636700000000001, 0.7594500000000001]\n",
            "\n",
            "\n",
            "Row8 [nan, nan, nan, nan, nan, nan, nan, nan, nan, 0.99204, 0.9843600000000001, 0.9810700000000001, 0.9801700000000001, 0.9794100000000001, 0.9786800000000001, 0.97738, 0.97606, 0.9715, 0.96496, 0.9637700000000001, 0.9634400000000001, 0.9623100000000001, 0.9603600000000001, 0.9582800000000001, 0.9573100000000001, 0.9529500000000001, 0.9401900000000001, 0.9388000000000001, 0.93537]\n",
            "\n",
            "\n",
            "Row9 None\n",
            "\n",
            "\n",
            "Row10 [nan, 0.98689, 0.9820800000000001, 0.97689, 0.9736100000000001, 0.9649500000000001, 0.9559500000000001, 0.94981, 0.9453400000000001, 0.9381800000000001, 0.9314700000000001, 0.9199600000000001, 0.91166, 0.9100400000000001, 0.9014700000000001, 0.89597, 0.8907900000000001, 0.88665, 0.8799, 0.8685600000000001, 0.8436300000000001]\n",
            "\n",
            "\n",
            "Row11 None\n",
            "\n",
            "\n",
            "Row12 [nan, 0.9894600000000001, 0.97828, 0.9538700000000001, 0.9376800000000001, 0.9170900000000001, 0.9144100000000001, 0.9083200000000001, 0.8874200000000001, 0.88419, 0.88309, 0.86775, 0.8591200000000001, 0.85672, 0.8518100000000001, 0.84323, 0.8228000000000001, 0.8213900000000001, 0.8025500000000001, 0.7871300000000001, 0.7709400000000001]\n",
            "\n",
            "\n",
            "Row13 [nan, nan, nan, nan, nan, nan, nan, 0.9916200000000001, 0.8897600000000001, 0.88046, 0.8759600000000001, 0.8751800000000001, 0.8395300000000001, 0.8233300000000001, 0.82298, 0.80408, 0.8021100000000001, 0.7961800000000001, 0.7744500000000001, 0.76114, 0.7595400000000001, 0.75234, 0.74138, 0.74036, 0.73758, 0.737, 0.7346400000000001]\n",
            "\n",
            "\n",
            "Row14 None\n",
            "\n",
            "\n",
            "Row15 [nan, nan, nan, nan, nan, nan, nan, nan, nan, nan, nan, nan, nan, nan, nan, 0.99631, 0.9944600000000001, 0.9915200000000001, 0.9910300000000001, 0.99065, 0.9866800000000001, 0.9852700000000001, 0.9829200000000001, 0.9548300000000001, 0.9526500000000001, 0.9517300000000001, 0.9491200000000001, 0.9298200000000001, 0.9269200000000001, 0.921, 0.9071600000000001, 0.9071400000000001, 0.90683, 0.90475, 0.87453]\n",
            "\n",
            "\n",
            "Row16 [nan, nan, nan, nan, nan, nan, nan, nan, nan, nan, nan, nan, nan, 0.96957, 0.9616800000000001, 0.9435300000000001, 0.9319600000000001, 0.9279900000000001, 0.9242500000000001, 0.9194200000000001, 0.9178100000000001, 0.90622, 0.9055300000000001, 0.8993500000000001, 0.8823300000000001, 0.8745400000000001, 0.87214, 0.8695200000000001, 0.8666400000000001, 0.8645400000000001, 0.85287, 0.8506, 0.8426800000000001]\n",
            "\n",
            "\n",
            "Row17 [0.9501200000000001, 0.94874, 0.94542, 0.92044, 0.90244, 0.9000100000000001, 0.8981800000000001, 0.88982, 0.8883900000000001, 0.8808600000000001, 0.8669800000000001, 0.8640100000000001, 0.84828, 0.8371000000000001, 0.8246100000000001, 0.8143400000000001, 0.8010900000000001, 0.79971, 0.7969900000000001, 0.7941800000000001]\n",
            "\n",
            "\n",
            "Row18 [nan, nan, nan, nan, nan, nan, nan, nan, nan, nan, nan, nan, nan, nan, nan, nan, nan, nan, nan, nan, 0.96345, 0.9557700000000001, 0.9478700000000001, 0.9174100000000001, 0.8996400000000001, 0.89717, 0.89041, 0.8735, 0.8732200000000001, 0.8608100000000001, 0.8583600000000001, 0.85287, 0.8518300000000001, 0.84001, 0.83384, 0.81932, 0.7799200000000001, 0.77002, 0.76222, 0.7536400000000001]\n",
            "\n",
            "\n",
            "Row19 [nan, nan, nan, nan, 0.9906400000000001, 0.9834700000000001, 0.97118, 0.96906, 0.95576, 0.9445300000000001, 0.9438200000000001, 0.9418300000000001, 0.92876, 0.9232300000000001, 0.9157900000000001, 0.9141, 0.9132500000000001, 0.90927, 0.9046500000000001, 0.9032600000000001, 0.8955700000000001, 0.88502, 0.8813000000000001, 0.8784400000000001]\n",
            "\n",
            "\n",
            "Row20 None\n",
            "\n",
            "\n",
            "Row21 [nan, nan, nan, nan, nan, nan, nan, nan, nan, nan, 0.9993200000000001, 0.9983000000000001, 0.99731, 0.9935300000000001, 0.9918, 0.9914000000000001, 0.9902200000000001, 0.9848700000000001, 0.9833700000000001, 0.9813700000000001, 0.97762, 0.96286, 0.9590400000000001, 0.9512, 0.94857, 0.9477700000000001, 0.94254, 0.93561, 0.9345700000000001, 0.9198100000000001]\n",
            "\n",
            "\n",
            "Row22 [nan, nan, nan, nan, nan, nan, nan, nan, 0.97535, 0.9633600000000001, 0.9313300000000001, 0.92351, 0.9093800000000001, 0.9039900000000001, 0.9030100000000001, 0.8848900000000001, 0.8669500000000001, 0.85299, 0.8529200000000001, 0.84852, 0.81042, 0.8023600000000001, 0.79822, 0.7868900000000001, 0.7741300000000001, 0.7707600000000001, 0.77066, 0.76605]\n",
            "\n",
            "\n",
            "Row23 [nan, nan, nan, nan, nan, nan, nan, nan, 0.9714800000000001, 0.9559500000000001, 0.95154, 0.9513900000000001, 0.92166, 0.9129, 0.9090800000000001, 0.9041800000000001, 0.9020900000000001, 0.8808100000000001, 0.8774700000000001, 0.8712500000000001, 0.8692300000000001, 0.83742, 0.8284100000000001, 0.82042, 0.8196500000000001, 0.8151900000000001, 0.8043800000000001, 0.7974]\n",
            "\n",
            "\n",
            "Row24 [0.99648, 0.9742500000000001, 0.9644900000000001, 0.9490900000000001, 0.9398400000000001, 0.9328000000000001, 0.9299200000000001, 0.9169100000000001, 0.91229, 0.9111300000000001, 0.90751, 0.90668, 0.8981, 0.89807, 0.88853, 0.8740800000000001, 0.8657600000000001, 0.85848, 0.8574600000000001, 0.8455800000000001]\n",
            "\n",
            "\n",
            "Row25 [nan, nan, nan, nan, nan, nan, nan, nan, nan, nan, 0.9652200000000001, 0.9643, 0.9624, 0.9617700000000001, 0.9366800000000001, 0.9301200000000001, 0.9246900000000001, 0.9099, 0.90583, 0.9053, 0.8973700000000001, 0.8902300000000001, 0.8877700000000001, 0.88668, 0.8842200000000001, 0.87221, 0.85496, 0.8450200000000001, 0.84028, 0.7948900000000001]\n",
            "\n",
            "\n",
            "Row26 [nan, nan, nan, nan, nan, nan, nan, nan, nan, nan, 0.9992200000000001, 0.9980500000000001, 0.9962900000000001, 0.9940300000000001, 0.994, 0.9867500000000001, 0.9838300000000001, 0.9819500000000001, 0.9796300000000001, 0.9718, 0.97047, 0.9620700000000001, 0.9472400000000001, 0.9462300000000001, 0.94491, 0.93864, 0.9355800000000001, 0.9304, 0.9289100000000001, 0.9277700000000001]\n",
            "\n",
            "\n",
            "Row27 [nan, nan, nan, nan, nan, nan, nan, nan, nan, 0.9731200000000001, 0.9595, 0.9592900000000001, 0.9582600000000001, 0.9547500000000001, 0.94996, 0.94786, 0.9260600000000001, 0.9249200000000001, 0.92373, 0.9229700000000001, 0.9194800000000001, 0.91822, 0.9058400000000001, 0.9023, 0.89829, 0.897, 0.8801300000000001, 0.8746, 0.87458]\n",
            "\n",
            "\n",
            "Row28 [nan, nan, nan, nan, 0.9935700000000001, 0.9702100000000001, 0.9631100000000001, 0.9616300000000001, 0.9612700000000001, 0.9601400000000001, 0.9416700000000001, 0.9379500000000001, 0.9328400000000001, 0.9244700000000001, 0.91393, 0.90497, 0.90456, 0.89748, 0.89307, 0.8902500000000001, 0.8595800000000001, 0.8543900000000001, 0.8523700000000001, 0.8490800000000001]\n",
            "\n",
            "\n",
            "Row29 None\n",
            "\n",
            "\n",
            "Row30 [nan, nan, nan, nan, 0.95203, 0.9280700000000001, 0.9027600000000001, 0.9001800000000001, 0.8928800000000001, 0.87394, 0.8674700000000001, 0.83955, 0.8281600000000001, 0.82101, 0.7094100000000001, 0.70418, 0.7010000000000001]\n",
            "\n",
            "\n",
            "Row31 [nan, nan, nan, nan, nan, nan, nan, nan, nan, nan, nan, nan, nan, nan, 0.9866400000000001, 0.9567100000000001, 0.9459400000000001, 0.9406800000000001, 0.9296900000000001, 0.9256900000000001, 0.9073500000000001, 0.90263, 0.8785900000000001, 0.8740500000000001, 0.86123, 0.8550700000000001, 0.8533600000000001, 0.8491000000000001, 0.8417100000000001, 0.83264, 0.8190400000000001, 0.8157700000000001, 0.8102800000000001, 0.79542]\n",
            "\n",
            "\n",
            "Row32 None\n",
            "\n",
            "\n",
            "Row33 [nan, 0.9841700000000001, 0.9830200000000001, 0.9808500000000001, 0.9593900000000001, 0.9426100000000001, 0.9381800000000001, 0.9294500000000001, 0.92739, 0.92117, 0.9174300000000001, 0.8929400000000001, 0.8739800000000001, 0.8739600000000001, 0.87102, 0.8610500000000001, 0.8350500000000001, 0.8305500000000001, 0.8292900000000001, 0.82911, 0.8284800000000001]\n",
            "\n",
            "\n",
            "Row34 None\n",
            "\n",
            "\n",
            "Row35 [nan, nan, nan, nan, nan, nan, nan, nan, nan, nan, nan, 0.9926, 0.97838, 0.9326500000000001, 0.8932800000000001, 0.88543, 0.8777400000000001, 0.8699500000000001, 0.8347800000000001, 0.8300500000000001, 0.80652, 0.80295, 0.7982, 0.7627900000000001, 0.7603700000000001, 0.751, 0.7451, 0.7427600000000001, 0.73472, 0.7232000000000001, 0.7228]\n",
            "\n",
            "\n",
            "Row36 None\n",
            "\n",
            "\n",
            "Row37 [nan, nan, nan, nan, nan, nan, nan, nan, nan, nan, 0.99416, 0.96611, 0.9406800000000001, 0.9290600000000001, 0.92339, 0.91524, 0.9106700000000001, 0.9087400000000001, 0.89268, 0.8762200000000001, 0.8711000000000001, 0.8599500000000001, 0.8577300000000001, 0.8348800000000001, 0.8346, 0.8342600000000001, 0.8247300000000001, 0.8183100000000001, 0.80752, 0.8063800000000001]\n",
            "\n",
            "\n",
            "Row38 None\n",
            "\n",
            "\n",
            "Row39 None\n",
            "\n",
            "\n",
            "Row40 None\n",
            "\n",
            "\n",
            "Row41 [nan, nan, nan, nan, nan, 0.9879300000000001, 0.98643, 0.9834800000000001, 0.9771900000000001, 0.9714600000000001, 0.9621000000000001, 0.9552200000000001, 0.94005, 0.9226200000000001, 0.9201, 0.9194, 0.9157200000000001, 0.8846900000000001, 0.8441900000000001, 0.8397600000000001, 0.8120600000000001, 0.79859, 0.78498, 0.7768, 0.76212]\n",
            "\n",
            "\n",
            "Row42 None\n",
            "\n",
            "\n",
            "Row43 None\n",
            "\n",
            "\n",
            "Row44 None\n",
            "\n",
            "\n",
            "Row45 None\n",
            "\n",
            "\n",
            "Row46 None\n",
            "\n",
            "\n",
            "Row47 [0.9806, 0.9423500000000001, 0.9789800000000001, 0.9355500000000001, 0.9621000000000001, 0.9753600000000001, 0.9702100000000001, 0.97047, 0.9456200000000001, 0.9456300000000001, 0.9577, 0.99738, 0.9751700000000001, 0.9871300000000001, 0.9656300000000001, 0.91117, 0.91866, 0.98145, 0.92212, 0.96384, 0.9577300000000001]\n",
            "\n",
            "\n",
            "Row48 [nan, nan, 0.8804900000000001, 0.9828300000000001, 0.9866100000000001, 0.98726, 0.9785900000000001, 0.9584900000000001, 0.94842, 0.92566, 0.91249, 0.8996200000000001, 0.9092500000000001, 0.94081, 0.9338200000000001, 0.8897400000000001, 0.93727, 0.9951500000000001, 0.8868800000000001, 0.9922700000000001, 0.93964, 0.99689]\n",
            "\n",
            "\n",
            "Row49 [nan, nan, nan, nan, 0.93425, 0.9342600000000001, 0.8982300000000001, 0.89824, 0.9515, 0.9195200000000001, 0.9195300000000001, 0.89231, 0.8923200000000001, 0.9912900000000001, 0.9694300000000001, 0.91444, 0.91446, 0.9857400000000001, 0.98045, 0.9580400000000001, 0.97591, 0.9759200000000001, 0.9262600000000001, 0.87738, 0.8773900000000001, 0.9296300000000001, 0.92964, 0.9083600000000001, 0.9083700000000001, 0.9487300000000001, 0.94874, 0.9958300000000001, 0.9776600000000001, 0.97767, 0.9919500000000001]\n",
            "\n",
            "\n",
            "Row50 [nan, nan, nan, 0.82208, 0.9439600000000001, 0.9349900000000001, 0.9590400000000001, 0.9549900000000001, 0.9850200000000001, 0.8966500000000001, 0.90934, 0.99853, 0.7387900000000001, 0.8298000000000001, 0.85916, 0.84926, 0.7437600000000001, 0.9837, 0.9922700000000001, 0.776, 0.90073, 0.7746400000000001, 0.9923400000000001]\n",
            "\n",
            "\n",
            "Row51 None\n",
            "\n",
            "\n",
            "Row52 None\n",
            "\n",
            "\n",
            "Row53 None\n",
            "\n",
            "\n",
            "Row54 None\n",
            "\n",
            "\n",
            "Row55 None\n",
            "\n",
            "\n",
            "Row56 None\n",
            "\n",
            "\n",
            "Row57 [0.7952600000000001, 0.83694, 0.97067, 0.8396300000000001, 0.90312, 0.8588100000000001, 0.8080400000000001, 0.9319400000000001, 0.9719500000000001, 0.9749800000000001, 0.90175, 0.79566, 0.96586, 0.8440500000000001, 0.9792700000000001, 0.9624300000000001, 0.7840900000000001, 0.96001, 0.7792300000000001, 0.86975]\n",
            "\n",
            "\n",
            "Row58 None\n",
            "\n",
            "\n",
            "Row59 None\n",
            "\n",
            "\n",
            "Row60 None\n",
            "\n",
            "\n",
            "Row61 None\n",
            "\n",
            "\n",
            "Row62 None\n",
            "\n",
            "\n",
            "Row63 None\n",
            "\n",
            "\n",
            "Row64 [nan, nan, nan, nan, nan, 0.99355, 0.99248, 0.9782700000000001, 0.9769100000000001, 0.9716, 0.9686400000000001, 0.9668, 0.9564900000000001, 0.9525300000000001, 0.95096, 0.94508, 0.9443100000000001, 0.9402400000000001, 0.9364500000000001, 0.93642, 0.93283, 0.9253100000000001, 0.92256, 0.9193500000000001, 0.87163]\n",
            "\n",
            "\n",
            "Row65 [nan, nan, nan, 0.9989800000000001, 0.9949300000000001, 0.9948100000000001, 0.9892400000000001, 0.98728, 0.9766300000000001, 0.9747600000000001, 0.96735, 0.9574900000000001, 0.95647, 0.9530900000000001, 0.9518400000000001, 0.9381, 0.9356500000000001, 0.92959, 0.92712, 0.92183, 0.92037, 0.9187200000000001, 0.9095200000000001]\n",
            "\n",
            "\n",
            "Row66 [0.9944600000000001, 0.98196, 0.9723800000000001, 0.9673200000000001, 0.9584, 0.9535600000000001, 0.9459700000000001, 0.9427800000000001, 0.9391800000000001, 0.9313500000000001, 0.92088, 0.9155200000000001, 0.908, 0.9071800000000001, 0.9044800000000001, 0.9021100000000001, 0.9000400000000001, 0.8980800000000001, 0.87621, 0.8760800000000001]\n",
            "\n",
            "\n",
            "Row67 [nan, nan, nan, 0.99643, 0.9840900000000001, 0.9793400000000001, 0.97538, 0.9679000000000001, 0.9667100000000001, 0.96135, 0.9509000000000001, 0.9456500000000001, 0.94044, 0.9228500000000001, 0.9204700000000001, 0.9189400000000001, 0.9182500000000001, 0.9071800000000001, 0.9042700000000001, 0.9017600000000001, 0.8982300000000001, 0.8967100000000001, 0.8955900000000001]\n",
            "\n",
            "\n",
            "Row68 [0.9916800000000001, 0.9890800000000001, 0.9876100000000001, 0.9789500000000001, 0.9722500000000001, 0.9668200000000001, 0.9663300000000001, 0.94193, 0.9372800000000001, 0.9161900000000001, 0.9153, 0.9039400000000001, 0.8911600000000001, 0.8874900000000001, 0.8836900000000001, 0.8775700000000001, 0.8746900000000001, 0.8629600000000001, 0.86031, 0.8595600000000001]\n",
            "\n",
            "\n",
            "Row69 [nan, nan, 0.9938800000000001, 0.9785900000000001, 0.97477, 0.9622100000000001, 0.95391, 0.9506100000000001, 0.9472400000000001, 0.9387400000000001, 0.9252500000000001, 0.9205800000000001, 0.9154800000000001, 0.9147700000000001, 0.91312, 0.9124700000000001, 0.9079, 0.90063, 0.8905900000000001, 0.88887, 0.8887900000000001, 0.8715400000000001]\n",
            "\n",
            "\n",
            "Row70 [0.9825200000000001, 0.9756400000000001, 0.9734, 0.9695800000000001, 0.9616, 0.9611700000000001, 0.9558000000000001, 0.9433100000000001, 0.9356500000000001, 0.9196000000000001, 0.90478, 0.90183, 0.9017600000000001, 0.89773, 0.88351, 0.87694, 0.8662000000000001, 0.86572, 0.8540200000000001, 0.85313]\n",
            "\n",
            "\n",
            "Row71 [0.9993700000000001, 0.9990700000000001, 0.99882, 0.9985800000000001, 0.9951200000000001, 0.98843, 0.9815200000000001, 0.98035, 0.97933, 0.9712100000000001, 0.96884, 0.9559000000000001, 0.9363, 0.9313400000000001, 0.9158000000000001, 0.91263, 0.9008600000000001, 0.8835400000000001, 0.87758, 0.8728100000000001]\n",
            "\n",
            "\n",
            "Row72 None\n",
            "\n",
            "\n",
            "Row73 None\n",
            "\n",
            "\n",
            "Row74 None\n",
            "\n",
            "\n",
            "Row75 None\n",
            "\n",
            "\n",
            "Row76 None\n",
            "\n",
            "\n",
            "Row77 None\n",
            "\n",
            "\n",
            "Row78 None\n",
            "\n",
            "\n",
            "Row79 None\n",
            "\n",
            "\n",
            "Row80 None\n",
            "\n",
            "\n",
            "Row81 None\n",
            "\n",
            "\n",
            "Row82 None\n",
            "\n",
            "\n",
            "Row83 None\n",
            "\n",
            "\n",
            "Row84 None\n",
            "\n",
            "\n",
            "Row85 None\n",
            "\n",
            "\n",
            "Row86 None\n",
            "\n",
            "\n",
            "Row87 None\n",
            "\n",
            "\n",
            "Row88 None\n",
            "\n",
            "\n",
            "Row89 None\n",
            "\n",
            "\n",
            "Row90 None\n",
            "\n",
            "\n",
            "Row91 None\n",
            "\n",
            "\n",
            "Row92 None\n",
            "\n",
            "\n",
            "Row93 None\n",
            "\n",
            "\n",
            "Row94 None\n",
            "\n",
            "\n",
            "Row95 None\n",
            "\n",
            "\n",
            "Row96 None\n",
            "\n",
            "\n",
            "Row97 None\n",
            "\n",
            "\n",
            "Row98 None\n",
            "\n",
            "\n",
            "Row99 None\n",
            "\n",
            "\n"
          ],
          "name": "stdout"
        }
      ]
    },
    {
      "cell_type": "markdown",
      "metadata": {
        "id": "gBeg-G59fkp_"
      },
      "source": [
        "# Exploration on entries with valid standardized popularity"
      ]
    },
    {
      "cell_type": "markdown",
      "metadata": {
        "id": "btlWmChGi78a"
      },
      "source": [
        "Let's first see how many entries in our dataset have standardized popularity defined."
      ]
    },
    {
      "cell_type": "code",
      "metadata": {
        "id": "tN0WPOtbfv-H",
        "colab": {
          "base_uri": "https://localhost:8080/",
          "height": 0
        },
        "outputId": "a9651bf6-ca4f-4014-ea67-aac51d71028e"
      },
      "source": [
        "image_view"
      ],
      "execution_count": 301,
      "outputs": [
        {
          "output_type": "execute_result",
          "data": {
            "text/html": [
              "<div>\n",
              "<style scoped>\n",
              "    .dataframe tbody tr th:only-of-type {\n",
              "        vertical-align: middle;\n",
              "    }\n",
              "\n",
              "    .dataframe tbody tr th {\n",
              "        vertical-align: top;\n",
              "    }\n",
              "\n",
              "    .dataframe thead th {\n",
              "        text-align: right;\n",
              "    }\n",
              "</style>\n",
              "<table border=\"1\" class=\"dataframe\">\n",
              "  <thead>\n",
              "    <tr style=\"text-align: right;\">\n",
              "      <th></th>\n",
              "      <th>identifier</th>\n",
              "      <th>provider</th>\n",
              "      <th>title</th>\n",
              "      <th>meta_data</th>\n",
              "      <th>tags</th>\n",
              "      <th>standardized_popularity</th>\n",
              "      <th>name</th>\n",
              "      <th>accuracy</th>\n",
              "    </tr>\n",
              "  </thead>\n",
              "  <tbody>\n",
              "    <tr>\n",
              "      <th>0</th>\n",
              "      <td>0000d3d2-f84e-4a36-8b19-054f9a9a6435</td>\n",
              "      <td>flickr</td>\n",
              "      <td>OKScotland - 13th May 2010</td>\n",
              "      <td>{\"views\": \"0\", \"pub_date\": \"1273786159\", \"date...</td>\n",
              "      <td>[{\"name\": \"okscotland\", \"provider\": \"flickr\"}]</td>\n",
              "      <td>0.000000</td>\n",
              "      <td>[okscotland]</td>\n",
              "      <td>None</td>\n",
              "    </tr>\n",
              "    <tr>\n",
              "      <th>1</th>\n",
              "      <td>00008a09-c647-401c-942b-a6aeeeb80133</td>\n",
              "      <td>behance</td>\n",
              "      <td>Mikel Lovina Sportsfest 2013</td>\n",
              "      <td>{\"set\": \"https://www.behance.net/gallery/11169...</td>\n",
              "      <td>[{\"name\": \"sportsfest\", \"provider\": \"behance\"}...</td>\n",
              "      <td>NaN</td>\n",
              "      <td>[sportsfest, shirt, isolated, sleeve, casual, ...</td>\n",
              "      <td>[nan, 0.9973600000000001, 0.9889200000000001, ...</td>\n",
              "    </tr>\n",
              "    <tr>\n",
              "      <th>2</th>\n",
              "      <td>000060a3-2a1e-4b61-9446-a6e71fdbddaa</td>\n",
              "      <td>behance</td>\n",
              "      <td>Sports, video-editing, motion graphics and ani...</td>\n",
              "      <td>{\"set\": \"https://www.behance.net/gallery/99524...</td>\n",
              "      <td>[{\"name\": \"agency\", \"provider\": \"behance\"}, {\"...</td>\n",
              "      <td>NaN</td>\n",
              "      <td>[agency, catalogues, brochures, graphics, cost...</td>\n",
              "      <td>[nan, nan, nan, nan, nan, nan, nan, nan, nan, ...</td>\n",
              "    </tr>\n",
              "    <tr>\n",
              "      <th>3</th>\n",
              "      <td>00003203-eaaf-49ee-a417-7fe5f1356a54</td>\n",
              "      <td>behance</td>\n",
              "      <td>in summer sunlight</td>\n",
              "      <td>{\"set\": \"https://www.behance.net/gallery/97320...</td>\n",
              "      <td>[{\"name\": \"Nature\", \"provider\": \"behance\"}, {\"...</td>\n",
              "      <td>NaN</td>\n",
              "      <td>[Nature, olive grove, Tuscany, sunlight, Lands...</td>\n",
              "      <td>[nan, nan, nan, nan, nan, nan, nan, nan, nan, ...</td>\n",
              "    </tr>\n",
              "    <tr>\n",
              "      <th>4</th>\n",
              "      <td>0000402f-a571-4607-9f6a-5e818fec3edd</td>\n",
              "      <td>behance</td>\n",
              "      <td>Drawings</td>\n",
              "      <td>{\"set\": \"https://www.behance.net/gallery/36764...</td>\n",
              "      <td>[{\"name\": \"handmade\", \"provider\": \"behance\"}, ...</td>\n",
              "      <td>NaN</td>\n",
              "      <td>[handmade, creative, +Drawing+, black, art, fa...</td>\n",
              "      <td>None</td>\n",
              "    </tr>\n",
              "    <tr>\n",
              "      <th>...</th>\n",
              "      <td>...</td>\n",
              "      <td>...</td>\n",
              "      <td>...</td>\n",
              "      <td>...</td>\n",
              "      <td>...</td>\n",
              "      <td>...</td>\n",
              "      <td>...</td>\n",
              "      <td>...</td>\n",
              "    </tr>\n",
              "    <tr>\n",
              "      <th>4324</th>\n",
              "      <td>00005f45-402f-4cd5-93ae-789f65462ec7</td>\n",
              "      <td>flickr</td>\n",
              "      <td>IMG_9884</td>\n",
              "      <td>{\"views\": \"0\", \"pub_date\": \"1571405226\", \"date...</td>\n",
              "      <td>[{\"name\": \"on\", \"provider\": \"flickr\"}, {\"name\"...</td>\n",
              "      <td>0.000000</td>\n",
              "      <td>[on, ontario, porthope, porthopeontario]</td>\n",
              "      <td>None</td>\n",
              "    </tr>\n",
              "    <tr>\n",
              "      <th>4325</th>\n",
              "      <td>0000387b-6c09-42a3-893f-12997e820f72</td>\n",
              "      <td>flickr</td>\n",
              "      <td>DSC02647</td>\n",
              "      <td>{\"views\": \"29\", \"pub_date\": \"1541607835\", \"dat...</td>\n",
              "      <td>[{\"name\": \"1018\", \"provider\": \"flickr\"}, {\"nam...</td>\n",
              "      <td>0.395666</td>\n",
              "      <td>[1018, 1018mm, a6300, alkjhgfds33, anita, chen...</td>\n",
              "      <td>None</td>\n",
              "    </tr>\n",
              "    <tr>\n",
              "      <th>4326</th>\n",
              "      <td>0000c695-7340-416b-9efc-188c83a82810</td>\n",
              "      <td>flickr</td>\n",
              "      <td>photo 1063 was taken at 10:38:29</td>\n",
              "      <td>{\"views\": \"71\", \"pub_date\": \"1574004547\", \"dat...</td>\n",
              "      <td>[{\"name\": \"2019\", \"provider\": \"flickr\"}, {\"nam...</td>\n",
              "      <td>0.615816</td>\n",
              "      <td>[2019, 595k, barrycornelius, oxonraces, radnag...</td>\n",
              "      <td>None</td>\n",
              "    </tr>\n",
              "    <tr>\n",
              "      <th>4327</th>\n",
              "      <td>000045ea-556a-42da-b7a1-7186637a6b6c</td>\n",
              "      <td>flickr</td>\n",
              "      <td>20091024-IMG_1285</td>\n",
              "      <td>{\"views\": \"72\", \"pub_date\": \"1256511956\", \"dat...</td>\n",
              "      <td>[{\"name\": \"allsoulschurch\", \"provider\": \"flick...</td>\n",
              "      <td>0.619120</td>\n",
              "      <td>[allsoulschurch, jenniferdorn, kenambrose, was...</td>\n",
              "      <td>None</td>\n",
              "    </tr>\n",
              "    <tr>\n",
              "      <th>4328</th>\n",
              "      <td>0000e658-2e32-4a98-917d-39fa483ea5ad</td>\n",
              "      <td>flickr</td>\n",
              "      <td>IMGP0970</td>\n",
              "      <td>{\"views\": \"16\", \"pub_date\": \"1567554741\", \"dat...</td>\n",
              "      <td>[{\"name\": \"2019\", \"provider\": \"flickr\"}]</td>\n",
              "      <td>0.265366</td>\n",
              "      <td>[2019]</td>\n",
              "      <td>None</td>\n",
              "    </tr>\n",
              "  </tbody>\n",
              "</table>\n",
              "<p>4329 rows × 8 columns</p>\n",
              "</div>"
            ],
            "text/plain": [
              "                                identifier  ...                                           accuracy\n",
              "0     0000d3d2-f84e-4a36-8b19-054f9a9a6435  ...                                               None\n",
              "1     00008a09-c647-401c-942b-a6aeeeb80133  ...  [nan, 0.9973600000000001, 0.9889200000000001, ...\n",
              "2     000060a3-2a1e-4b61-9446-a6e71fdbddaa  ...  [nan, nan, nan, nan, nan, nan, nan, nan, nan, ...\n",
              "3     00003203-eaaf-49ee-a417-7fe5f1356a54  ...  [nan, nan, nan, nan, nan, nan, nan, nan, nan, ...\n",
              "4     0000402f-a571-4607-9f6a-5e818fec3edd  ...                                               None\n",
              "...                                    ...  ...                                                ...\n",
              "4324  00005f45-402f-4cd5-93ae-789f65462ec7  ...                                               None\n",
              "4325  0000387b-6c09-42a3-893f-12997e820f72  ...                                               None\n",
              "4326  0000c695-7340-416b-9efc-188c83a82810  ...                                               None\n",
              "4327  000045ea-556a-42da-b7a1-7186637a6b6c  ...                                               None\n",
              "4328  0000e658-2e32-4a98-917d-39fa483ea5ad  ...                                               None\n",
              "\n",
              "[4329 rows x 8 columns]"
            ]
          },
          "metadata": {
            "tags": []
          },
          "execution_count": 301
        }
      ]
    },
    {
      "cell_type": "markdown",
      "metadata": {
        "id": "IR9CuBFgjgMP"
      },
      "source": [
        "It's self-explanatory that entries with Nan do not have defined standardized popularity."
      ]
    },
    {
      "cell_type": "code",
      "metadata": {
        "id": "_Dkdh1lYiGs8",
        "colab": {
          "base_uri": "https://localhost:8080/"
        },
        "outputId": "6b676f5c-ee6e-41e6-a45c-eba07383bcf5"
      },
      "source": [
        "image_view[\"standardized_popularity\"].notnull()"
      ],
      "execution_count": 302,
      "outputs": [
        {
          "output_type": "execute_result",
          "data": {
            "text/plain": [
              "0        True\n",
              "1       False\n",
              "2       False\n",
              "3       False\n",
              "4       False\n",
              "        ...  \n",
              "4324     True\n",
              "4325     True\n",
              "4326     True\n",
              "4327     True\n",
              "4328     True\n",
              "Name: standardized_popularity, Length: 4329, dtype: bool"
            ]
          },
          "metadata": {
            "tags": []
          },
          "execution_count": 302
        }
      ]
    },
    {
      "cell_type": "code",
      "metadata": {
        "id": "2LwZu9Mchtqu",
        "colab": {
          "base_uri": "https://localhost:8080/",
          "height": 0
        },
        "outputId": "dd34349e-8939-495e-9c09-0f9894c56268"
      },
      "source": [
        "image_view_sp_no_Nan = image_view[image_view[\"standardized_popularity\"].notnull()]\n",
        "image_view_sp_no_Nan"
      ],
      "execution_count": 303,
      "outputs": [
        {
          "output_type": "execute_result",
          "data": {
            "text/html": [
              "<div>\n",
              "<style scoped>\n",
              "    .dataframe tbody tr th:only-of-type {\n",
              "        vertical-align: middle;\n",
              "    }\n",
              "\n",
              "    .dataframe tbody tr th {\n",
              "        vertical-align: top;\n",
              "    }\n",
              "\n",
              "    .dataframe thead th {\n",
              "        text-align: right;\n",
              "    }\n",
              "</style>\n",
              "<table border=\"1\" class=\"dataframe\">\n",
              "  <thead>\n",
              "    <tr style=\"text-align: right;\">\n",
              "      <th></th>\n",
              "      <th>identifier</th>\n",
              "      <th>provider</th>\n",
              "      <th>title</th>\n",
              "      <th>meta_data</th>\n",
              "      <th>tags</th>\n",
              "      <th>standardized_popularity</th>\n",
              "      <th>name</th>\n",
              "      <th>accuracy</th>\n",
              "    </tr>\n",
              "  </thead>\n",
              "  <tbody>\n",
              "    <tr>\n",
              "      <th>0</th>\n",
              "      <td>0000d3d2-f84e-4a36-8b19-054f9a9a6435</td>\n",
              "      <td>flickr</td>\n",
              "      <td>OKScotland - 13th May 2010</td>\n",
              "      <td>{\"views\": \"0\", \"pub_date\": \"1273786159\", \"date...</td>\n",
              "      <td>[{\"name\": \"okscotland\", \"provider\": \"flickr\"}]</td>\n",
              "      <td>0.000000</td>\n",
              "      <td>[okscotland]</td>\n",
              "      <td>None</td>\n",
              "    </tr>\n",
              "    <tr>\n",
              "      <th>62</th>\n",
              "      <td>0000674a-67d0-4bc0-bdae-43941d334819</td>\n",
              "      <td>flickr</td>\n",
              "      <td>IMG_6984</td>\n",
              "      <td>{\"views\": \"0\", \"pub_date\": \"1499184677\", \"date...</td>\n",
              "      <td>[{\"name\": \"wa\", \"provider\": \"flickr\"}, {\"name\"...</td>\n",
              "      <td>0.000000</td>\n",
              "      <td>[wa, washington]</td>\n",
              "      <td>None</td>\n",
              "    </tr>\n",
              "    <tr>\n",
              "      <th>63</th>\n",
              "      <td>00003eb2-dfc0-4d02-b42a-dc305520227e</td>\n",
              "      <td>flickr</td>\n",
              "      <td>IMG_3597</td>\n",
              "      <td>{\"views\": \"0\", \"pub_date\": \"1437561179\", \"date...</td>\n",
              "      <td>[{\"name\": \"june2015\", \"provider\": \"flickr\"}]</td>\n",
              "      <td>0.000000</td>\n",
              "      <td>[june2015]</td>\n",
              "      <td>None</td>\n",
              "    </tr>\n",
              "    <tr>\n",
              "      <th>107</th>\n",
              "      <td>00009236-c5e4-4f9a-87ad-233df6a177c0</td>\n",
              "      <td>flickr</td>\n",
              "      <td>19022029_1289125634541866_1475748279_n.jpg</td>\n",
              "      <td>{\"views\": \"0\", \"pub_date\": \"1499830269\", \"date...</td>\n",
              "      <td>[{\"name\": \"nhadatvideo\", \"provider\": \"flickr\"}]</td>\n",
              "      <td>0.000000</td>\n",
              "      <td>[nhadatvideo]</td>\n",
              "      <td>None</td>\n",
              "    </tr>\n",
              "    <tr>\n",
              "      <th>108</th>\n",
              "      <td>0000f94c-e4dd-4937-9dbe-a4f0a5aa4c2a</td>\n",
              "      <td>flickr</td>\n",
              "      <td>Mahler: Das Lied von der Erde (Arranged by Sch...</td>\n",
              "      <td>{\"views\": \"0\", \"pub_date\": \"1574541824\", \"date...</td>\n",
              "      <td>[{\"name\": \"by\", \"provider\": \"flickr\"}, {\"name\"...</td>\n",
              "      <td>0.000000</td>\n",
              "      <td>[by, das, der, erde, lied, von]</td>\n",
              "      <td>None</td>\n",
              "    </tr>\n",
              "    <tr>\n",
              "      <th>...</th>\n",
              "      <td>...</td>\n",
              "      <td>...</td>\n",
              "      <td>...</td>\n",
              "      <td>...</td>\n",
              "      <td>...</td>\n",
              "      <td>...</td>\n",
              "      <td>...</td>\n",
              "      <td>...</td>\n",
              "    </tr>\n",
              "    <tr>\n",
              "      <th>4324</th>\n",
              "      <td>00005f45-402f-4cd5-93ae-789f65462ec7</td>\n",
              "      <td>flickr</td>\n",
              "      <td>IMG_9884</td>\n",
              "      <td>{\"views\": \"0\", \"pub_date\": \"1571405226\", \"date...</td>\n",
              "      <td>[{\"name\": \"on\", \"provider\": \"flickr\"}, {\"name\"...</td>\n",
              "      <td>0.000000</td>\n",
              "      <td>[on, ontario, porthope, porthopeontario]</td>\n",
              "      <td>None</td>\n",
              "    </tr>\n",
              "    <tr>\n",
              "      <th>4325</th>\n",
              "      <td>0000387b-6c09-42a3-893f-12997e820f72</td>\n",
              "      <td>flickr</td>\n",
              "      <td>DSC02647</td>\n",
              "      <td>{\"views\": \"29\", \"pub_date\": \"1541607835\", \"dat...</td>\n",
              "      <td>[{\"name\": \"1018\", \"provider\": \"flickr\"}, {\"nam...</td>\n",
              "      <td>0.395666</td>\n",
              "      <td>[1018, 1018mm, a6300, alkjhgfds33, anita, chen...</td>\n",
              "      <td>None</td>\n",
              "    </tr>\n",
              "    <tr>\n",
              "      <th>4326</th>\n",
              "      <td>0000c695-7340-416b-9efc-188c83a82810</td>\n",
              "      <td>flickr</td>\n",
              "      <td>photo 1063 was taken at 10:38:29</td>\n",
              "      <td>{\"views\": \"71\", \"pub_date\": \"1574004547\", \"dat...</td>\n",
              "      <td>[{\"name\": \"2019\", \"provider\": \"flickr\"}, {\"nam...</td>\n",
              "      <td>0.615816</td>\n",
              "      <td>[2019, 595k, barrycornelius, oxonraces, radnag...</td>\n",
              "      <td>None</td>\n",
              "    </tr>\n",
              "    <tr>\n",
              "      <th>4327</th>\n",
              "      <td>000045ea-556a-42da-b7a1-7186637a6b6c</td>\n",
              "      <td>flickr</td>\n",
              "      <td>20091024-IMG_1285</td>\n",
              "      <td>{\"views\": \"72\", \"pub_date\": \"1256511956\", \"dat...</td>\n",
              "      <td>[{\"name\": \"allsoulschurch\", \"provider\": \"flick...</td>\n",
              "      <td>0.619120</td>\n",
              "      <td>[allsoulschurch, jenniferdorn, kenambrose, was...</td>\n",
              "      <td>None</td>\n",
              "    </tr>\n",
              "    <tr>\n",
              "      <th>4328</th>\n",
              "      <td>0000e658-2e32-4a98-917d-39fa483ea5ad</td>\n",
              "      <td>flickr</td>\n",
              "      <td>IMGP0970</td>\n",
              "      <td>{\"views\": \"16\", \"pub_date\": \"1567554741\", \"dat...</td>\n",
              "      <td>[{\"name\": \"2019\", \"provider\": \"flickr\"}]</td>\n",
              "      <td>0.265366</td>\n",
              "      <td>[2019]</td>\n",
              "      <td>None</td>\n",
              "    </tr>\n",
              "  </tbody>\n",
              "</table>\n",
              "<p>3854 rows × 8 columns</p>\n",
              "</div>"
            ],
            "text/plain": [
              "                                identifier  ... accuracy\n",
              "0     0000d3d2-f84e-4a36-8b19-054f9a9a6435  ...     None\n",
              "62    0000674a-67d0-4bc0-bdae-43941d334819  ...     None\n",
              "63    00003eb2-dfc0-4d02-b42a-dc305520227e  ...     None\n",
              "107   00009236-c5e4-4f9a-87ad-233df6a177c0  ...     None\n",
              "108   0000f94c-e4dd-4937-9dbe-a4f0a5aa4c2a  ...     None\n",
              "...                                    ...  ...      ...\n",
              "4324  00005f45-402f-4cd5-93ae-789f65462ec7  ...     None\n",
              "4325  0000387b-6c09-42a3-893f-12997e820f72  ...     None\n",
              "4326  0000c695-7340-416b-9efc-188c83a82810  ...     None\n",
              "4327  000045ea-556a-42da-b7a1-7186637a6b6c  ...     None\n",
              "4328  0000e658-2e32-4a98-917d-39fa483ea5ad  ...     None\n",
              "\n",
              "[3854 rows x 8 columns]"
            ]
          },
          "metadata": {
            "tags": []
          },
          "execution_count": 303
        }
      ]
    },
    {
      "cell_type": "markdown",
      "metadata": {
        "id": "kzyhi7JNi68I"
      },
      "source": [
        "As we can see, after we remove entries with Null standardized popularity. Many of entries have standardized popularity = 0. I here assume we can safely categorize the entry with sp=0 as the entry with no defined standardized popularity. But it turns out this approach is not good. 0 does have a meaning such as the case an image has no views."
      ]
    },
    {
      "cell_type": "code",
      "metadata": {
        "id": "-SOY9QuRh_Qn",
        "colab": {
          "base_uri": "https://localhost:8080/",
          "height": 0
        },
        "outputId": "46bde503-5d21-4f85-cd14-4df34e7b0077"
      },
      "source": [
        "image_view_sp_defined = image_view_sp_no_Nan[image_view_sp_no_Nan[\"standardized_popularity\"]>=0]\n",
        "image_view_sp_defined"
      ],
      "execution_count": 304,
      "outputs": [
        {
          "output_type": "execute_result",
          "data": {
            "text/html": [
              "<div>\n",
              "<style scoped>\n",
              "    .dataframe tbody tr th:only-of-type {\n",
              "        vertical-align: middle;\n",
              "    }\n",
              "\n",
              "    .dataframe tbody tr th {\n",
              "        vertical-align: top;\n",
              "    }\n",
              "\n",
              "    .dataframe thead th {\n",
              "        text-align: right;\n",
              "    }\n",
              "</style>\n",
              "<table border=\"1\" class=\"dataframe\">\n",
              "  <thead>\n",
              "    <tr style=\"text-align: right;\">\n",
              "      <th></th>\n",
              "      <th>identifier</th>\n",
              "      <th>provider</th>\n",
              "      <th>title</th>\n",
              "      <th>meta_data</th>\n",
              "      <th>tags</th>\n",
              "      <th>standardized_popularity</th>\n",
              "      <th>name</th>\n",
              "      <th>accuracy</th>\n",
              "    </tr>\n",
              "  </thead>\n",
              "  <tbody>\n",
              "    <tr>\n",
              "      <th>0</th>\n",
              "      <td>0000d3d2-f84e-4a36-8b19-054f9a9a6435</td>\n",
              "      <td>flickr</td>\n",
              "      <td>OKScotland - 13th May 2010</td>\n",
              "      <td>{\"views\": \"0\", \"pub_date\": \"1273786159\", \"date...</td>\n",
              "      <td>[{\"name\": \"okscotland\", \"provider\": \"flickr\"}]</td>\n",
              "      <td>0.000000</td>\n",
              "      <td>[okscotland]</td>\n",
              "      <td>None</td>\n",
              "    </tr>\n",
              "    <tr>\n",
              "      <th>62</th>\n",
              "      <td>0000674a-67d0-4bc0-bdae-43941d334819</td>\n",
              "      <td>flickr</td>\n",
              "      <td>IMG_6984</td>\n",
              "      <td>{\"views\": \"0\", \"pub_date\": \"1499184677\", \"date...</td>\n",
              "      <td>[{\"name\": \"wa\", \"provider\": \"flickr\"}, {\"name\"...</td>\n",
              "      <td>0.000000</td>\n",
              "      <td>[wa, washington]</td>\n",
              "      <td>None</td>\n",
              "    </tr>\n",
              "    <tr>\n",
              "      <th>63</th>\n",
              "      <td>00003eb2-dfc0-4d02-b42a-dc305520227e</td>\n",
              "      <td>flickr</td>\n",
              "      <td>IMG_3597</td>\n",
              "      <td>{\"views\": \"0\", \"pub_date\": \"1437561179\", \"date...</td>\n",
              "      <td>[{\"name\": \"june2015\", \"provider\": \"flickr\"}]</td>\n",
              "      <td>0.000000</td>\n",
              "      <td>[june2015]</td>\n",
              "      <td>None</td>\n",
              "    </tr>\n",
              "    <tr>\n",
              "      <th>107</th>\n",
              "      <td>00009236-c5e4-4f9a-87ad-233df6a177c0</td>\n",
              "      <td>flickr</td>\n",
              "      <td>19022029_1289125634541866_1475748279_n.jpg</td>\n",
              "      <td>{\"views\": \"0\", \"pub_date\": \"1499830269\", \"date...</td>\n",
              "      <td>[{\"name\": \"nhadatvideo\", \"provider\": \"flickr\"}]</td>\n",
              "      <td>0.000000</td>\n",
              "      <td>[nhadatvideo]</td>\n",
              "      <td>None</td>\n",
              "    </tr>\n",
              "    <tr>\n",
              "      <th>108</th>\n",
              "      <td>0000f94c-e4dd-4937-9dbe-a4f0a5aa4c2a</td>\n",
              "      <td>flickr</td>\n",
              "      <td>Mahler: Das Lied von der Erde (Arranged by Sch...</td>\n",
              "      <td>{\"views\": \"0\", \"pub_date\": \"1574541824\", \"date...</td>\n",
              "      <td>[{\"name\": \"by\", \"provider\": \"flickr\"}, {\"name\"...</td>\n",
              "      <td>0.000000</td>\n",
              "      <td>[by, das, der, erde, lied, von]</td>\n",
              "      <td>None</td>\n",
              "    </tr>\n",
              "    <tr>\n",
              "      <th>...</th>\n",
              "      <td>...</td>\n",
              "      <td>...</td>\n",
              "      <td>...</td>\n",
              "      <td>...</td>\n",
              "      <td>...</td>\n",
              "      <td>...</td>\n",
              "      <td>...</td>\n",
              "      <td>...</td>\n",
              "    </tr>\n",
              "    <tr>\n",
              "      <th>4324</th>\n",
              "      <td>00005f45-402f-4cd5-93ae-789f65462ec7</td>\n",
              "      <td>flickr</td>\n",
              "      <td>IMG_9884</td>\n",
              "      <td>{\"views\": \"0\", \"pub_date\": \"1571405226\", \"date...</td>\n",
              "      <td>[{\"name\": \"on\", \"provider\": \"flickr\"}, {\"name\"...</td>\n",
              "      <td>0.000000</td>\n",
              "      <td>[on, ontario, porthope, porthopeontario]</td>\n",
              "      <td>None</td>\n",
              "    </tr>\n",
              "    <tr>\n",
              "      <th>4325</th>\n",
              "      <td>0000387b-6c09-42a3-893f-12997e820f72</td>\n",
              "      <td>flickr</td>\n",
              "      <td>DSC02647</td>\n",
              "      <td>{\"views\": \"29\", \"pub_date\": \"1541607835\", \"dat...</td>\n",
              "      <td>[{\"name\": \"1018\", \"provider\": \"flickr\"}, {\"nam...</td>\n",
              "      <td>0.395666</td>\n",
              "      <td>[1018, 1018mm, a6300, alkjhgfds33, anita, chen...</td>\n",
              "      <td>None</td>\n",
              "    </tr>\n",
              "    <tr>\n",
              "      <th>4326</th>\n",
              "      <td>0000c695-7340-416b-9efc-188c83a82810</td>\n",
              "      <td>flickr</td>\n",
              "      <td>photo 1063 was taken at 10:38:29</td>\n",
              "      <td>{\"views\": \"71\", \"pub_date\": \"1574004547\", \"dat...</td>\n",
              "      <td>[{\"name\": \"2019\", \"provider\": \"flickr\"}, {\"nam...</td>\n",
              "      <td>0.615816</td>\n",
              "      <td>[2019, 595k, barrycornelius, oxonraces, radnag...</td>\n",
              "      <td>None</td>\n",
              "    </tr>\n",
              "    <tr>\n",
              "      <th>4327</th>\n",
              "      <td>000045ea-556a-42da-b7a1-7186637a6b6c</td>\n",
              "      <td>flickr</td>\n",
              "      <td>20091024-IMG_1285</td>\n",
              "      <td>{\"views\": \"72\", \"pub_date\": \"1256511956\", \"dat...</td>\n",
              "      <td>[{\"name\": \"allsoulschurch\", \"provider\": \"flick...</td>\n",
              "      <td>0.619120</td>\n",
              "      <td>[allsoulschurch, jenniferdorn, kenambrose, was...</td>\n",
              "      <td>None</td>\n",
              "    </tr>\n",
              "    <tr>\n",
              "      <th>4328</th>\n",
              "      <td>0000e658-2e32-4a98-917d-39fa483ea5ad</td>\n",
              "      <td>flickr</td>\n",
              "      <td>IMGP0970</td>\n",
              "      <td>{\"views\": \"16\", \"pub_date\": \"1567554741\", \"dat...</td>\n",
              "      <td>[{\"name\": \"2019\", \"provider\": \"flickr\"}]</td>\n",
              "      <td>0.265366</td>\n",
              "      <td>[2019]</td>\n",
              "      <td>None</td>\n",
              "    </tr>\n",
              "  </tbody>\n",
              "</table>\n",
              "<p>3854 rows × 8 columns</p>\n",
              "</div>"
            ],
            "text/plain": [
              "                                identifier  ... accuracy\n",
              "0     0000d3d2-f84e-4a36-8b19-054f9a9a6435  ...     None\n",
              "62    0000674a-67d0-4bc0-bdae-43941d334819  ...     None\n",
              "63    00003eb2-dfc0-4d02-b42a-dc305520227e  ...     None\n",
              "107   00009236-c5e4-4f9a-87ad-233df6a177c0  ...     None\n",
              "108   0000f94c-e4dd-4937-9dbe-a4f0a5aa4c2a  ...     None\n",
              "...                                    ...  ...      ...\n",
              "4324  00005f45-402f-4cd5-93ae-789f65462ec7  ...     None\n",
              "4325  0000387b-6c09-42a3-893f-12997e820f72  ...     None\n",
              "4326  0000c695-7340-416b-9efc-188c83a82810  ...     None\n",
              "4327  000045ea-556a-42da-b7a1-7186637a6b6c  ...     None\n",
              "4328  0000e658-2e32-4a98-917d-39fa483ea5ad  ...     None\n",
              "\n",
              "[3854 rows x 8 columns]"
            ]
          },
          "metadata": {
            "tags": []
          },
          "execution_count": 304
        }
      ]
    },
    {
      "cell_type": "code",
      "metadata": {
        "id": "qRLu1xXWjtX2",
        "colab": {
          "base_uri": "https://localhost:8080/"
        },
        "outputId": "00fa8554-f0ad-40c9-c03f-0463f5659a6d"
      },
      "source": [
        "sp_defined_rate = image_view_sp_defined.shape[0] / image_view.shape[0]\n",
        "print(\"Out of \" + str(round(sp_defined_rate*100, 3)) + \"% of the sample has defined standardized popularity\")"
      ],
      "execution_count": 305,
      "outputs": [
        {
          "output_type": "stream",
          "text": [
            "Out of 89.027% of the sample has defined standardized popularity\n"
          ],
          "name": "stdout"
        }
      ]
    },
    {
      "cell_type": "markdown",
      "metadata": {
        "id": "RqdSNlCdk1Mr"
      },
      "source": [
        "This percentage is as expected"
      ]
    },
    {
      "cell_type": "markdown",
      "metadata": {
        "id": "eoMPcQmAlX8d"
      },
      "source": [
        "Now let's further dive into the standardized popularity to see if there are any unusual values."
      ]
    },
    {
      "cell_type": "code",
      "metadata": {
        "id": "NTlYa9QWm8HF"
      },
      "source": [
        "sp_type = [type(i)== float for i in image_view_sp_defined[\"standardized_popularity\"]]"
      ],
      "execution_count": 306,
      "outputs": []
    },
    {
      "cell_type": "code",
      "metadata": {
        "id": "2tVvfl3omm1A",
        "colab": {
          "base_uri": "https://localhost:8080/"
        },
        "outputId": "48e04f88-a2c4-4571-9ab0-8744d61db53c"
      },
      "source": [
        "print(\"All defined standardized popularity is a float value?\", all(sp_type))"
      ],
      "execution_count": 307,
      "outputs": [
        {
          "output_type": "stream",
          "text": [
            "All defined standardized popularity is a float value? True\n"
          ],
          "name": "stdout"
        }
      ]
    },
    {
      "cell_type": "code",
      "metadata": {
        "id": "mr7pE41kkO2y",
        "colab": {
          "base_uri": "https://localhost:8080/"
        },
        "outputId": "e40634b9-3a04-4aab-e8c0-a86fdcc91d2b"
      },
      "source": [
        "print(\"The max standardized popularity score in our sample is \", max(image_view_sp_defined[\"standardized_popularity\"]))"
      ],
      "execution_count": 308,
      "outputs": [
        {
          "output_type": "stream",
          "text": [
            "The max standardized popularity score in our sample is  0.999159269804053\n"
          ],
          "name": "stdout"
        }
      ]
    },
    {
      "cell_type": "code",
      "metadata": {
        "id": "o1fsZeLllrRg",
        "colab": {
          "base_uri": "https://localhost:8080/"
        },
        "outputId": "4fabce38-8cbd-4880-91af-4c0fa95db2c2"
      },
      "source": [
        "print(\"The min standardized popularity score in our sample is \", min(image_view_sp_defined[\"standardized_popularity\"]))"
      ],
      "execution_count": 309,
      "outputs": [
        {
          "output_type": "stream",
          "text": [
            "The min standardized popularity score in our sample is  0.0\n"
          ],
          "name": "stdout"
        }
      ]
    },
    {
      "cell_type": "markdown",
      "metadata": {
        "id": "0Dct1tE9lwG_"
      },
      "source": [
        "It's important to check if we have some non-null but also non-numerical value in the dataset. Luckily, we don't. The max and min makes sense since our standardized popularity score should be in the interval between 0 and 1. So it seems that the value is in the correct range."
      ]
    },
    {
      "cell_type": "code",
      "metadata": {
        "id": "JJaCmz7sl8BK",
        "colab": {
          "base_uri": "https://localhost:8080/",
          "height": 0
        },
        "outputId": "9dd77285-8763-474a-e059-81f2614d931a"
      },
      "source": [
        "image_view_sp_defined[\"standardized_popularity\"].hist(bins=50)"
      ],
      "execution_count": 310,
      "outputs": [
        {
          "output_type": "execute_result",
          "data": {
            "text/plain": [
              "<matplotlib.axes._subplots.AxesSubplot at 0x7f3c9e43a748>"
            ]
          },
          "metadata": {
            "tags": []
          },
          "execution_count": 310
        },
        {
          "output_type": "display_data",
          "data": {
            "image/png": "[encoded data removed]",
            "text/plain": [
              "<Figure size 432x288 with 1 Axes>"
            ]
          },
          "metadata": {
            "tags": [],
            "needs_background": "light"
          }
        }
      ]
    },
    {
      "cell_type": "code",
      "metadata": {
        "id": "URGsz5URmRQK",
        "colab": {
          "base_uri": "https://localhost:8080/",
          "height": 0
        },
        "outputId": "5ecfb627-257c-4c2c-aa87-39fa5ce84d0d"
      },
      "source": [
        "image_view_sp_defined[\"standardized_popularity\"].hist(density=True, bins=50, cumulative=True)"
      ],
      "execution_count": 311,
      "outputs": [
        {
          "output_type": "execute_result",
          "data": {
            "text/plain": [
              "<matplotlib.axes._subplots.AxesSubplot at 0x7f3c9e368f28>"
            ]
          },
          "metadata": {
            "tags": []
          },
          "execution_count": 311
        },
        {
          "output_type": "display_data",
          "data": {
            "image/png": "[encoded data removed]",
            "text/plain": [
              "<Figure size 432x288 with 1 Axes>"
            ]
          },
          "metadata": {
            "tags": [],
            "needs_background": "light"
          }
        }
      ]
    },
    {
      "cell_type": "markdown",
      "metadata": {
        "id": "ZNf5BNvPWWH7"
      },
      "source": [
        "# Cleaning on tag names and transfer them into proper inputs."
      ]
    },
    {
      "cell_type": "markdown",
      "metadata": {
        "id": "1v23pTUaYC8Q"
      },
      "source": [
        "We find that a lot of taglists contain tags beginning with 'u[0-9]' or '\\u[0-9]'. Those are unicodes and have no actual meaning.\n",
        "\n",
        "So here we try to remove those tags."
      ]
    },
    {
      "cell_type": "code",
      "metadata": {
        "id": "2JAnbE6FYB7Z"
      },
      "source": [
        "copy = image_view_sp_defined['name'].copy()\n",
        "for taglist in copy:\n",
        "  list_to_remove = []\n",
        "  for tag in taglist:\n",
        "    if re.match(r\"u[0-9].*u[0-9].*\", str(tag)) or re.match(r\"\\\\u[0-9].*\\\\u[0-9].*\", str(tag)):\n",
        "      list_to_remove.append(tag)\n",
        "  for ele in list_to_remove:\n",
        "    taglist.remove(ele)"
      ],
      "execution_count": 312,
      "outputs": []
    },
    {
      "cell_type": "markdown",
      "metadata": {
        "id": "yRUuNCQn5zGG"
      },
      "source": [
        "Transform the 'name' column of image_view into proper input"
      ]
    },
    {
      "cell_type": "code",
      "metadata": {
        "id": "ZQJyMkLi5zGH",
        "colab": {
          "base_uri": "https://localhost:8080/"
        },
        "outputId": "72ece21d-ca24-4880-8cfa-e2e60ef3bb42"
      },
      "source": [
        "#The input shall be a list of strings\n",
        "proper_tagStr = []\n",
        "\n",
        "#Change each row of 'name' to a string\n",
        "for row in image_view_sp_defined['name']:\n",
        "    trans_row = ' '.join([str(elem) for elem in row])\n",
        "    proper_tagStr.append(trans_row)\n",
        "\n",
        "    \n",
        "#First five strings of the input\n",
        "proper_tagStr[:5]"
      ],
      "execution_count": 313,
      "outputs": [
        {
          "output_type": "execute_result",
          "data": {
            "text/plain": [
              "['okscotland',\n",
              " 'wa washington',\n",
              " 'june2015',\n",
              " 'nhadatvideo',\n",
              " 'by das der erde lied von']"
            ]
          },
          "metadata": {
            "tags": []
          },
          "execution_count": 313
        }
      ]
    },
    {
      "cell_type": "markdown",
      "metadata": {
        "id": "D98xni-SWeJA"
      },
      "source": [
        "Then check the length of each taglist.\n",
        "\n",
        "Here we print out the taglists that have length bigger than 400."
      ]
    },
    {
      "cell_type": "code",
      "metadata": {
        "colab": {
          "base_uri": "https://localhost:8080/"
        },
        "id": "fwPxyIVJWbZE",
        "outputId": "7ae812e3-ccae-42b7-aa63-65b440a948e3"
      },
      "source": [
        "for i in range(len(proper_tagStr)):\n",
        "  if len(proper_tagStr[i]) > 400:\n",
        "    print(str(i), 'len:', len(proper_tagStr[i]))\n",
        "    print(proper_tagStr[i])"
      ],
      "execution_count": 314,
      "outputs": [
        {
          "output_type": "stream",
          "text": [
            "305 len: 792\n",
            "cronistaoficialdelavillademadridejos fotografu00edahumanistaydocumental fototeca jmmg josemariamorenogarcia josemariamorenogarciatumblrcom madridejos madridejosfotoses picasawebgooglecomjosemariamorenogarcia sansebastian2016patrondemadridejos sansebastiu00e1npatru00f3ndemadridejosconcentraciu00f3ndelosquintosporteadoresrevistadetropashomenajealabanderayeucaristu00eda toledo www500pxcomjosemariamorenogarcia wwwfacebookcomjosemariamorenogarcia wwwflickrcomjosemariamorenogarcia wwwflickrivercomjosemariamorenogarcia wwwfluidrcomjosemariamorenogarcia wwwgigapanorgjosemariamorenogarcia wwwjosemariamorenogarciaes wwwmadridejosnet wwwmyspacecommadridejosnet wwwphotosynthnetmadridejos wwwtwittercomfotosmoreno wwwvimeocommadridejos wwwwordpresscomjosemariamorenogarcia wwwyoutubecommadridejos\n",
            "489 len: 424\n",
            "asturiano asturianu asturias asturies cao conceyuabiertupolaoficialidu00e1 derechosciviles derechosllingu00fcu00edsticos doilacara estatutu federacionsocialistaasturiana fsa gallegoasturiano gijon iu izquierdaunida llingua llinguaasturiana normalizaciu00f3n oficialidu00e1 partidopopular partidosocialistaobreroespau00f1ol playa pp psoe reforma sanllorienzo xeneral xixon xunta xuntamoza xuntapoladefensadelallinguaasturiana\n",
            "918 len: 445\n",
            "anniedevine anniedevinephotography anttiniemi benn canon canon7020028ii canon7dmarkii celebration devine edmonton edmontonoilers goal greenantti hockey hockeysportssports ice jamiebenn jasonspezza johnnyoduya jokipakka jordiebenn jyrkijokipakka mattiasjanmark nationalhockeyleague nhl nichushkindallas niemi oduya oilers patricksharp photographyhockey playersice score seguin sharp spezza stars starsstarsnhlhockeyhockey tylerseguin victorygreen\n",
            "1052 len: 535\n",
            "asturiano asturianu asturias asturies cao conceyuabiertupolaoficialidu00e1 conceyuabiertupolaoficialid\\xe1 derechosciviles derechoslingu00fcu00edsticos derechosling\\xfc\\xedsticos derechosllingu00fcu00edsticos derechoslling\\xfc\\xedsticos doilacara estatutu federacionsocialistaasturiana fsa gallegoasturianu iu izquierdaunida llingua llinguaasturiana normalizaciu00f3n oficialida oficialidu00e1 partidopopular partidosocialistaobreroespau00f1ol pp psoe reforma represionsocial xuntamoza xuntapoladefensadelallinguaasturiana xuntaxeneral\n",
            "1398 len: 421\n",
            "2011 autore ciccio cicciosultano congresso congressoitalianodicucinadautore cucina di golose identita identitagolose identitagolose2011 identitu00e0 identitu00e0golose identitu00e0golose2011 identitu00e0golosesettimaedizione italiano milano sultano adult business commerce education employee facial expression furniture indoors leader looking man medical practitioner one outfit people portrait room technology wear woman\n",
            "1411 len: 466\n",
            "2010 allsortsthroughdec4emberandsnow amazingforest ancient animalprints aswirlinspace bbcwalesnature beautiful bendy canwestepthrough carmarthenshire clean cold december deep flickr fluffy footprint fresh gelliaur geotagged goldengrove green idneeded joy joysaphine large leafy leaves lookingforfallowdeer mycountry nature old pawprints snow soft straight stunningviews theportal tree trees trunks twisted twistedtime wales white winter winter20102011 wise wonderful\n",
            "1510 len: 626\n",
            "17thcenturypaintings after ancientestament art bare bible book boy child children copie copy cumaean cumaeansibyl details detalles du00e9tail du00e9tails dutchpainters dutchpaintings d\\xe9tails enfant face faces figures france garu00e7on hommes kid kids littleboy livre louvre man men michelange model museum naked nu nude oldtestament painter painting paintings paris paulus peintre peintreshollandais peinture peinture17e peinturehollandaise peintures people personnes peter peterpaulusrubens petrus pieter portrait portraits pose prophet redchalk rubbens rubenes sanguine sibyl sistinechapel study tableaux u00e9tude visage\n",
            "1607 len: 435\n",
            "americas asterids asteridsclade bluebells boragefamily boraginaceae boraginaceaefamily boraginales boraginalesorder eudicots familyboraginaceae floweringplants forgetmenotfamily genusmertensia greenbelt lamiales lamiidsclade magnoliophyta maryland mertensia mertensiaall mertensiavirginica midatlantic midatlanticregion northamerica orderboraginales princegeorgescounty spermatophytes springephemeral unitedstates usa virginiabluebells\n",
            "1627 len: 602\n",
            "0005sec  0005sec 0ev  0ev 248mm anchor  anchor c770uz  c770uz cemetery  cemetery cemeteryrosary  cemeteryrosary cemeterysymbol f4  f4 groupcemeterysymbolism  groupcemeterysymbolism hpexif  hpexif iso400  iso400 l30scp01  l30scp01 olympus  olympus sqrandom  sqrandom sqset sqset001 squaredcircle xleol30x  xleol30x xratio1x1x  xratio1x1x xsquarex  xsquarex xx2005xx  xx2005xx xxblurbbooksquaredcirclesxx  xxblurbbooksquaredcirclesxx xxblurbbookxx  xxblurbbookxx ancient antique architecture art desktop dirty expression heavy iron metallic no person old retro round out rust rusty sign steel symbol wall\n",
            "1736 len: 606\n",
            "art arte artederua arteurbana artistas cityart cool gecko geo geotag geotagged graffiti graffitiart graffitiartist graffitiartists graffitiportugal graffitis graffitisportugal graffitti graffittis graffity graffs grafiti grafitis grafitti grafittis grafity ink lagartixa lisboa lizard manel manuel manuelfaisco manuelfau00edsco murais muro muros osga parede paredes pintura pinturas portugal portuguese rua ruas spray sprays stencil stickers street streetart streetartportugal streetarts subculture tag tagged tags tinta tintas underground urban urbana urbanart urbanartportugal urbanarts urbano wall walls\n",
            "1762 len: 534\n",
            "1619october1813 16october 17october 1813 18october 18thcentury 19october armies army austria battle battleofleipzig battleofnations battlereenactment canons confederationoftherhine diplomacy elsterriver epoch europeannations french germans germany globalization historicalreenactment italian karlvonmetternich konomark leipzig metternich military militaryhistory naples napoleon napoleonicwars nationstate polish prussia reenact reenacting regiments regions retreatofnapoleonon19october1813 russia sweden troops victory warreenactment\n",
            "1826 len: 478\n",
            "alibutt alonchitayat basak boli brandondeaguero burakarikan center convention dbburnett edkonowalgraphicsnet emiliovavarella erikbrunvand fitosegrera freeman graphicsnet hungchingchang hyunwoobang inmilee jeffong jimclark johnmooring josephfarbrook katearmstrong kelseyfarenholtz kirkcameron kylemcdonald michellewill mushonzeraviv racheleriley robertredfern samblanchard senova sergiobernales siggraphpaullstout suegollifer timmymeyer vancouver yoichiochiai yunsilheo zoharkfir\n",
            "1829 len: 467\n",
            "13may2004 17thcandlelightvigilnleom 2004 2004nationalpoliceweek 2004npw candlelight candlesinthewind cops dc hands judiciarysquare judiciarysquarenwwashingtondc may2004 memorials nationallawenforcementofficersmemorial nleom nleomf northwest npw npw2004 nwwdc police washington washingtondc wdc administration adult candle celebration ceremony competition election facial expression festival man military music musician one party people police portrait recreation wear\n",
            "1856 len: 402\n",
            "aboutpaintings artexhibition artgallery arthistory artists artmovement artmuseum artwork artworks artworkspaintings bestoftheday canvaspainting famousart famousartists famouspaintingartists fineart galleries gallery galleryofart masterpiece museum oiloncanvas oilpaintings painting paintings paintingsanddrawings paintingsofpaintings pictureoftheday popularpainters poster studio virtual virtualgallery\n",
            "1929 len: 403\n",
            "antique asylum attractions cabins cafes campgrounds cottages courthouse entertainmentu201d harrisonu201d heritage history hospital hotels memories memoriesu201d michigan motels orphanage parksu201d postcard restaurants roadside rppc stopsu201d tourism trailer travel u201cdon u201cmichigan u201cnatural u201croadside u201ctourist u201ctravel u201cupnorth upnorth upnorthmemories usa vintage wondersu201d\n",
            "2001 len: 617\n",
            "bargas bargasprocesioncristodelasala cristodelasala jmmg josemariamorenogarcia josemariamorenogarciatumblrcom madridejos madridejosfotoses migas picasawebgooglecomjosemariamorenogarcia procesion toledo www500pxcomjosemariamorenogarcia wwwfacebookcomjosemariamorenogarcia wwwflickrcomjosemariamorenogarcia wwwflickrivercomjosemariamorenogarcia wwwfluidrcomjosemariamorenogarcia wwwgigapanorgjosemariamorenogarcia wwwjosemariamorenogarciaes wwwmadridejosnet wwwmyspacecommadridejosnet wwwphotosynthnetmadridejos wwwtwittercomfotosmoreno wwwvimeocommadridejos wwwwordpresscomjosemariamorenogarcia wwwyoutubecommadridejos\n",
            "2009 len: 571\n",
            "athletes canon canoneos1dxmarkii collegevolleyball d1volleyball daveboos ef200400mmf4lisusm espn exactecharenaatthestephencoconnellcenter fl floridagators floridastate floridastateseminoles floridastateseminolesvsfloridagators fsu fsuvolleyball gainesville gators gatorsvb gogators headcoach itsgreatuf marywise mattpendleton mattpendletonphotography mattpphoto ncaa ncaavb photobymattpendleton sec secchampionship secnetwork secvolleyball seminoles shannonwells southeasternconference sports teamcanon uf unitedstates universityofflorida univoffla usa volleyball wechomp\n",
            "2021 len: 546\n",
            "ambiance architecture bar burjkhalifaview chic decor design dining downtowndubai dubai dubaimall events fashion finedining frenchelegance green honeymoon lifeismagnifique lounge magnifiqueopening meeting metro opart pastry patisserie pool rooms sheikhzayedroad shopping sofiteldubaidowntown spa steak suites thaicuisine uae unitedarabemirates victorvasarely weddings apartment bathroom bathtub cabinet contemporary family faucet furniture house indoors inside interior design lavatory minimalist mirror room shower trading floor washcloset window\n",
            "2026 len: 546\n",
            "animalxx artxx beakxx beautifulxx bestxx birdsxx birdxx bluexx boatxx canonxx catchycoloursxx closeupxx colorxx coloursxx colourxx duckxx exploredx eyexx familyxx feathersxx femalexx floridaxx flowersxx flowerxx flyingxx gardenxx geotaggedxx greenxx ibisxx insectxx lakexx landscapexx leavesxx livexx macroxx mandarinxx naturesfinestxx naturexx nikonxx oceanxx orangexx parkxx partyxx photographyxx photosxx photoxx redxx seagullxx seaxx skyxx specanimalxx sunsetxx swimmingxx tailxx topviewxx treesxx waterxx whiteibis whitexx wildlifexx wingsxx\n",
            "2207 len: 593\n",
            "16tharrondissement 550d amateurphotography blackandwhite boulognebillancourt boulognejeanjaurès boulognejeanjaurèsstation boulognejeanjauru00e8s boulognejeanjauru00e8sstation bw caerdydd caerdyddwales camera canon city dailygad eos flickr france geotagged image images islandplatform jeremy jeremysegrott laphoto line10 metro métro métrodeparis mu00e9tro mu00e9trodeparis noiretblanc paris parismetro parismu00e9tro people photo photograph photographs photography photos picture pictures platform segrott souterrain station subway transport u00eeledefrance ubahn underground urbain urban ville\n",
            "2317 len: 758\n",
            "グラナダ albardin albox almendro andalousie andalouzia andalucia andalusia andalusie andalusien andalusiya andaluzia andaluzio andaluzja bannuzannum barrancoprincipal benau00e7anu00f3n benazanu00f3 benesanon benizalon bereberes cerromagregorio climamediterraneo comarcadelosfilabres comarcadelosfilabrestabernas creencia cristianismo cristiano enriqueenriquezdeguzman esparto faith fe garcia hawaries iglesia josefinarubiogarcia marquesdeaguilafuente monteagud montepicachon nfu03bdu03b4u03b1u03bbu03bfu03c5u03c3u03afu03b1 olivo puebloandaluz rambladebenizalon resurrecciongarciacarrillo resurreciongarciacarrillo rioaguas rubio santuariodemonteagud sarqalandalus sierradelosfilabres templo vid vientodeelmorisco vientodelatramontana villadebenizalon 安达卢西亚 安達盧西亞\n",
            "2336 len: 727\n",
            "164automobile 164car 164diecast 164diorama 164police 164scale 164scalediecast 164scalehighway 164truck 164vehicle 1stpix 2008fordcrownvictoriapoliceinterceptor collectible cop dcp diecast diecastcar diecastcollectible diecastcollection diecastdiorama diecastmodel diecasttruck diecastvehicle diorama emergencydiorama ertl firstgear greenlightdiecast greenlighthotpursuit highwaydiorama highwaypatrol highwayscene hobby hotwheels interstatediorama johnnylightning lawenforcement maisto malibuinternational matchbox olympus olympuse600 police policecar policediecast policemodel racingchampions replica revell roaddiorama scalehighway scalemodel shelbycollectibles sheriff southdakotahighwaypatrol speccast trafficdiorama trooper\n",
            "2686 len: 416\n",
            "antique attractions boats bridge cabins cafes cottages excursion ferry ferryu201d harrisonu201d heritage history hotels logging lumber memories memoriesu201d michigan michpics motels parksu201d postcard puremichigan railroad restaurants rppc ships stopsu201d tourism trailer travel u201ccar u201cdon u201cnatural u201ctourist u201ctravel u201cupnorth u201d upnorth upnorthmemories usa uscg uslss vintage wondersu201d\n",
            "2749 len: 715\n",
            "aaronmuszalski ardentheavyindustries arlenabraham audreypenven beyondwonderland binx burningman:art=725 california camera:make=canon camera:model=canoneosdigitalrebelxsi exif:aperture=u019218 exif:focal_length=28mm exif:iso_speed=1600 exif:lens=ef28mmf18usm exif:make=canon exif:model=canoneosdigitalrebelxsi fireart frugalbinx geo:city=sanbernardino geo:countrys=unitedstates geo:lat=34089091666667 geo:lon=11729201388889 geo:state=california ianbaker interactiveart interpretivearson irislapalm laurakogler megabytemike michaeljuarez nicoleaptekar nicoles nicoletbn party raindrift rave reedkennedy sanbernardino sfslim showplace simonsutherland sofauxboho sterling syzygryd unitedstates us yerdua yoshioharaguchi\n",
            "2752 len: 896\n",
            "beltru00e3o byglassmann cafu00e9caligrafico caligrafia caligrafiacertificados caligrafiadiplomas caligrafiamedieval caligrafianoparanu00e1 caligrafias calígrafoparaná caligrafoparanaense caligraphy calligraphic calligraphiccoffee calligraphiccoffeeassociations calligraphy calu00edgrafo calu00edgrafobrasileiro calu00edgrafoparanaense calu00edgrafoparanu00e1 canson certificado certificados coffee convites convitesdecasamento cursiva diplomacaligrafia diplomacidadaniahonoraria diplomas diplomasartesanais escrita franciscobeltrão franciscobeltru00e3o glassmann glassmanncaligrafias glassmanncalígrafo glassmanncalu00edgrafo glassmanndesigner glassmannluis glassmannpergaminhos glassmannscriptorium gu00f3tica luis luiscarlosglassmann manuscriptsdiplom manuscritosiluminados medieval paraná paranu00e1 parchmentcalligraphy pergaminho pergaminhocasamento scriptorium scroll scrool sudoeste uncial\n",
            "2756 len: 458\n",
            "2011 2011open demos hardware newyorkcity newyorkhallofscience ohs ohs2011 ohsummit ohsummit2011 open openhardwaresummit openhardwaresummit2011 queens sourcecomputerselectronicsgeeksarduino summit summitopenhardwaresummitohsnysciscien summitopenhardwaresummitohsnyscisciencemuseumopen adult child education enjoyment facial expression five four friendship group group together indoors interaction laughing man people portrait teamwork three togetherness woman\n",
            "2857 len: 552\n",
            "adayinthelife aditl architecture art artist balloons beautiful boy building camera candid captured celebration city citycentre daily elderly everyday floor gbr girl green home imagery job ladsnight laughing life livelihood liverpool liverpudlian man musician news nightout peaceful people person photograph photographer photographers photography photos picoftheday potd presenter professional protest reallife road shopper signs skyscraper smiling social socialexperiment society stagdo streetart streetphotography town tv uk weather window woman women\n",
            "3007 len: 416\n",
            "antique attractions boats bridge cabins cafes cottages excursion ferry ferryu201d harrisonu201d heritage history hotels logging lumber memories memoriesu201d michigan michpics motels parksu201d postcard puremichigan railroad restaurants rppc ships stopsu201d tourism trailer travel u201ccar u201cdon u201cnatural u201ctourist u201ctravel u201cupnorth u201d upnorth upnorthmemories usa uscg uslss vintage wondersu201d\n",
            "3077 len: 967\n",
            "albardin alfredorubioguijarro andalousie andalouzia andalucia andalusia andalusianvillage andalusie andalusien andalusiu00eb andalusiya andaluzia andaluzio andaluzja bannuzannum barrancoprincipal belemina benau00e7anu00f3n benazanu00f3 benesanon benimia benizalon bereberes burialground camposanto cementeri cementerio cementeriodefuentelahiguera cementeriodelafuentedelahiguera cementiri cemeteries cemetery cemitu00e9rio cerromagregorio cimetiu00e8re cimitero climamediterraneo comarcadelosfilabres comarcadelosfilabrestabernas difunto eduardorubioprior endulus enriqueenriquezdeguzman esparto friedhof fuentedelahiguera fuentelahiguera fujifilmxpro1 graveyard hawaries hilerri josefinarubiogarcia marquesdeaguilafuente monteagud montepicachon muerto nacimiento necropolis panteon pedania puebloandaluz rambladebenizalon rioaguas sarqalandalus sepulcretum sepultura sharqalandalus sierradelosfilabres socorrovelascorubio tumba vientodeelmorisco vientodelatramontana\n",
            "3096 len: 434\n",
            "latvija latvijasmobilaistelefons latvijasprezidentraseiropassavienbaspadomssekretari latvijasprezidentu016braseiropassavienu012bbaspadomu0113ssekretariu0101t latvijasprezidentūraseiropassavienībaspadomēssekretariāt lgumaparakstana līgumaparakstīšana lu012bgumaparakstu012bu0161ana lva rga rgasrajons rīga rīgasrajons ru012bga ru012bgasrajons ziedojumalgumaparakstana ziedojumalīgumaparakstīšana ziedojumalu012bgumaparakstu012bu0161ana\n",
            "3160 len: 426\n",
            "2017 27mm alexandrelegrand angel belgique blackdiamond blackdiamonddefpintbhalexandrelegrandangelsammyvegas blackdiamondvstbhalexandrelegrandangelsammyvegas catch charleroi combatdelutte dampremy e18200mmf3563oss focallength27mm focallengthin35mmformat27mm highiso ilce6500 iso2500 lutte sammyvegas sony sonyilce6500 sonyilce6500e18200mmf3563oss sport tbh ultimateknockout wac wrestling wrestlingalliancecompany wrestlingmatch\n",
            "3288 len: 495\n",
            "adeca albacete asprona avenidadeespau00f1a ayudaaniu00f1os ayuntamientodealbacete carrerasolidaria cnp cruzroja cu00e1maradecomerciodealbacete cuerponacionaldepolicu00eda delegadodelgobierno diputaciu00f3nprovincialdealbacete feda franchotierraseca franciscotierraseca fundaciu00f3neurocajarural grupotelloalimentaciu00f3n jccm jefaturasuperiordepolicu00edadeclm migueljuanespinosa personasnecesitadas riesgodeexclusiu00f3n social solimat subdelegaciu00f3ndelgobierno subdelegadodelgobierno uclm\n",
            "3528 len: 444\n",
            "comicbookconvention comiccon comicon cosplay cosplayer cosplaying dannyrand halloweencostume halloweencostumeidea halloweenlewks ironfist marvelcomics newyorkcomicbookconvention newyorkcomiccon newyorkcomiccon2017cosplay newyorkcomiccon2017cosplayer newyorkcomicconcosplay newyorkcomicconcosplayer newyorkcomicon nycc nycc2017 nycc2017cosplay nycccosplay nycomiccon nycomicon sexyhalloween sexyhalloweencostume sexyhalloweencostumeidea sexynerd\n",
            "3558 len: 762\n",
            "acuu00e1tico acu\\xe1tico adventure agua angelsofthesea animal bali bbcearth bbcwildlife buceo canon coralreef dive divingphotography divingtrip fotografiasubmarina fotosub indonesia inon instadive keepondreaming kingsunderwater liveaboard macro mergulho natgeo natgeoesp natgeoyourshot nudibranch nudibranquio ocean oceanlove oceanlovers padi paditv picoftheday recsea reefporn s110 s2000 saga sagadive saveouroceans saveourplanet saveourseas scuba scubadive scubadiver scubadiving scubadivingmag scubadivingmagazine sea seafan sealovers submarinismo tauchen tauchernet totalunderwater travelgram travelphotography tulamben underwater underwaterislife underwaterlife underwaterphotography underwaterpics underwaterworld unterwasser uwphoto uwphotography wildlife\n",
            "3575 len: 698\n",
            "apron aprongirl bedienung bonnet bonnetgirl clothes daunenjacke dhimmi dhimmitude diaper diaperedgirl diapergirl downwear downweargirl dreiku00e4sehoch frenchmaid friesennerz gewindelt girl gummifetisch gummihose gummikleidung gummischu00fcrze gummisklavin gummizofe hausmu00e4dchen hood hooded hoodedgirl hosenscheiser hu00e4ubchen kapuze kapuzenmu00e4dchen kellnerin klofrau master muslim oilskin plastikhose plastikschu00fcrze raincape rainwear rainweargirl rainwearteen regencape regenhose regenjacke rubber rubberdoll rubberfetish rubbergirl schu00fcrze servantmaid sklavenhandel sklavenmarkt slavegirl slavemarket slavetrade submissive teen teeny toilet toilette toiletwoman zimmermu00e4dchen\n",
            "3688 len: 449\n",
            "16mmf14dcdn|contemporary017 2019 24mm alissink alternativeprowrestling antwerpen anvers bauer belgie belgique belgium bigfnjoe bigfnjoesbigfnxmasrumble catch combatdelutte crimsonthebutcher fightlikeitschristmas focallength24mm focallengthin35mmformat24mm genemunny ilce6500 iso1000 lutte mao mbm motvankunder relentlessalternativeprowrestling sony sonyilce6500 sonyilce650016mmf14dcdn|contemporary017 sport ultimasombra wrestling wrestlingmatch zad\n",
            "3753 len: 495\n",
            "2009 500d anglaterra anglicka autumn bortes bortescristian britain calatorie canon capital capitala city close closeup cristian cristianbortes digital england eos excursie grandebretagne great grosbritannien inglaterra kingdom kiss koninkrijk londen london londra londres londu00fdn metropol metropola natura nature october octombrie oras parc powershot rebel regne regno reino squirrel storbritannien t1i tamisa thames toamna travel tree trip uk unido unit united unito up verenigd veverita x3l\n",
            "3795 len: 460\n",
            "2018 202mm axxess catch chrisdijak chrisdijaknxt chrisdijakwwe combatdelutte e18135mmf3556oss focallength202mm focallengthin35mmformat202mm hideoitami highiso ilce6500 iso4000 lanouvelleorleans louisiana louisiane lutte neworleans nouvelleorleans nxt sony sonyilce6500 sonyilce6500e18135mmf3556oss sport unitedstates usa wrestlemania wrestlemania34 wrestlemaniaxxxiv wrestling wrestlingmatch wwe wweaxxess wwewrestlemania wwewrestlemania34 wwewrestlemaniaxxxiv\n"
          ],
          "name": "stdout"
        }
      ]
    },
    {
      "cell_type": "markdown",
      "metadata": {
        "id": "1zo8_rSXp9c_"
      },
      "source": [
        "Notice now the length of taglists is cut off by a lot and most unicodes are cut."
      ]
    },
    {
      "cell_type": "markdown",
      "metadata": {
        "id": "FzlDYyPS5zGD"
      },
      "source": [
        "# Vectorize Using sklearn"
      ]
    },
    {
      "cell_type": "markdown",
      "metadata": {
        "id": "e87Oyh155zGE"
      },
      "source": [
        "First import sklearn package"
      ]
    },
    {
      "cell_type": "code",
      "metadata": {
        "id": "PrG-E_Oh5zGE"
      },
      "source": [
        "from sklearn.feature_extraction.text import CountVectorizer"
      ],
      "execution_count": 315,
      "outputs": []
    },
    {
      "cell_type": "markdown",
      "metadata": {
        "id": "57up6whB5zGI"
      },
      "source": [
        "Use CountVectorizer feature to vectorize taglists."
      ]
    },
    {
      "cell_type": "code",
      "metadata": {
        "id": "9POAAzvH5zGJ"
      },
      "source": [
        "vectorizer = CountVectorizer()\n",
        "vectorized_tags = vectorizer.fit_transform(proper_tagStr)"
      ],
      "execution_count": 316,
      "outputs": []
    },
    {
      "cell_type": "markdown",
      "metadata": {
        "id": "pYenXIPQ5zGK"
      },
      "source": [
        "There are a lot of different tag names found, so the dimension of our matrix is too big to show any details."
      ]
    },
    {
      "cell_type": "code",
      "metadata": {
        "id": "vqS0HjKi5zGL",
        "colab": {
          "base_uri": "https://localhost:8080/"
        },
        "outputId": "1afacb89-33a3-4df8-d225-b6aecc542fa3"
      },
      "source": [
        "print('Number of different tag names: ', len(vectorizer.get_feature_names()))\n",
        "print('The matrix of token counts: \\n', vectorized_tags.toarray())"
      ],
      "execution_count": 317,
      "outputs": [
        {
          "output_type": "stream",
          "text": [
            "Number of different tag names:  16800\n",
            "The matrix of token counts: \n",
            " [[0 0 0 ... 0 0 0]\n",
            " [0 0 0 ... 0 0 0]\n",
            " [0 0 0 ... 0 0 0]\n",
            " ...\n",
            " [0 0 0 ... 0 0 0]\n",
            " [0 0 0 ... 0 0 0]\n",
            " [0 0 0 ... 0 0 0]]\n"
          ],
          "name": "stdout"
        }
      ]
    },
    {
      "cell_type": "markdown",
      "metadata": {
        "id": "V68LXrZF5zGM"
      },
      "source": [
        "# Vectorize Using Bert Embeddings Part 1\n"
      ]
    },
    {
      "cell_type": "code",
      "metadata": {
        "id": "mFHTuv3JQqNT",
        "colab": {
          "base_uri": "https://localhost:8080/"
        },
        "outputId": "6fc3dc65-a160-4fce-b466-c5143a497216"
      },
      "source": [
        "proper_tagStr[0:5]"
      ],
      "execution_count": 318,
      "outputs": [
        {
          "output_type": "execute_result",
          "data": {
            "text/plain": [
              "['okscotland',\n",
              " 'wa washington',\n",
              " 'june2015',\n",
              " 'nhadatvideo',\n",
              " 'by das der erde lied von']"
            ]
          },
          "metadata": {
            "tags": []
          },
          "execution_count": 318
        }
      ]
    },
    {
      "cell_type": "markdown",
      "metadata": {
        "id": "-HsfuxON5zGN"
      },
      "source": [
        "First install pytorch-pretrained-bert and import various Bert packages."
      ]
    },
    {
      "cell_type": "code",
      "metadata": {
        "id": "UtrcUPPm5zGN",
        "colab": {
          "base_uri": "https://localhost:8080/"
        },
        "outputId": "b4587cf2-52de-41eb-84b4-ce2e7083024e"
      },
      "source": [
        "!pip install pytorch-pretrained-bert\n",
        "!pip install urllib3==1.25.10\n",
        "import torch\n",
        "from pytorch_pretrained_bert import BertTokenizer, BertModel, BertForMaskedLM\n",
        "tokenizer = BertTokenizer.from_pretrained('bert-base-uncased')"
      ],
      "execution_count": 319,
      "outputs": [
        {
          "output_type": "stream",
          "text": [
            "Requirement already satisfied: pytorch-pretrained-bert in /usr/local/lib/python3.6/dist-packages (0.6.2)\n",
            "Requirement already satisfied: torch>=0.4.1 in /usr/local/lib/python3.6/dist-packages (from pytorch-pretrained-bert) (1.7.0+cu101)\n",
            "Requirement already satisfied: requests in /usr/local/lib/python3.6/dist-packages (from pytorch-pretrained-bert) (2.23.0)\n",
            "Requirement already satisfied: regex in /usr/local/lib/python3.6/dist-packages (from pytorch-pretrained-bert) (2019.12.20)\n",
            "Requirement already satisfied: tqdm in /usr/local/lib/python3.6/dist-packages (from pytorch-pretrained-bert) (4.41.1)\n",
            "Requirement already satisfied: numpy in /usr/local/lib/python3.6/dist-packages (from pytorch-pretrained-bert) (1.18.5)\n",
            "Requirement already satisfied: boto3 in /usr/local/lib/python3.6/dist-packages (from pytorch-pretrained-bert) (1.16.23)\n",
            "Requirement already satisfied: future in /usr/local/lib/python3.6/dist-packages (from torch>=0.4.1->pytorch-pretrained-bert) (0.16.0)\n",
            "Requirement already satisfied: dataclasses in /usr/local/lib/python3.6/dist-packages (from torch>=0.4.1->pytorch-pretrained-bert) (0.7)\n",
            "Requirement already satisfied: typing-extensions in /usr/local/lib/python3.6/dist-packages (from torch>=0.4.1->pytorch-pretrained-bert) (3.7.4.3)\n",
            "Requirement already satisfied: urllib3!=1.25.0,!=1.25.1,<1.26,>=1.21.1 in /usr/local/lib/python3.6/dist-packages (from requests->pytorch-pretrained-bert) (1.25.10)\n",
            "Requirement already satisfied: idna<3,>=2.5 in /usr/local/lib/python3.6/dist-packages (from requests->pytorch-pretrained-bert) (2.10)\n",
            "Requirement already satisfied: chardet<4,>=3.0.2 in /usr/local/lib/python3.6/dist-packages (from requests->pytorch-pretrained-bert) (3.0.4)\n",
            "Requirement already satisfied: certifi>=2017.4.17 in /usr/local/lib/python3.6/dist-packages (from requests->pytorch-pretrained-bert) (2020.6.20)\n",
            "Requirement already satisfied: jmespath<1.0.0,>=0.7.1 in /usr/local/lib/python3.6/dist-packages (from boto3->pytorch-pretrained-bert) (0.10.0)\n",
            "Requirement already satisfied: s3transfer<0.4.0,>=0.3.0 in /usr/local/lib/python3.6/dist-packages (from boto3->pytorch-pretrained-bert) (0.3.3)\n",
            "Requirement already satisfied: botocore<1.20.0,>=1.19.23 in /usr/local/lib/python3.6/dist-packages (from boto3->pytorch-pretrained-bert) (1.19.23)\n",
            "Requirement already satisfied: python-dateutil<3.0.0,>=2.1 in /usr/local/lib/python3.6/dist-packages (from botocore<1.20.0,>=1.19.23->boto3->pytorch-pretrained-bert) (2.8.1)\n",
            "Requirement already satisfied: six>=1.5 in /usr/local/lib/python3.6/dist-packages (from python-dateutil<3.0.0,>=2.1->botocore<1.20.0,>=1.19.23->boto3->pytorch-pretrained-bert) (1.15.0)\n",
            "Requirement already satisfied: urllib3==1.25.10 in /usr/local/lib/python3.6/dist-packages (1.25.10)\n"
          ],
          "name": "stdout"
        }
      ]
    },
    {
      "cell_type": "markdown",
      "metadata": {
        "id": "QVF2JfrvTqno"
      },
      "source": [
        "Now we check the type of GPU this colab is using. It is Tesla T4."
      ]
    },
    {
      "cell_type": "code",
      "metadata": {
        "id": "eqs3ykrGTeeP",
        "colab": {
          "base_uri": "https://localhost:8080/",
          "height": 0
        },
        "outputId": "6b587a1b-3a76-40fb-a311-b43eaeba79bd"
      },
      "source": [
        "torch.cuda.get_device_name(0)"
      ],
      "execution_count": 320,
      "outputs": [
        {
          "output_type": "execute_result",
          "data": {
            "application/vnd.google.colaboratory.intrinsic+json": {
              "type": "string"
            },
            "text/plain": [
              "'Tesla T4'"
            ]
          },
          "metadata": {
            "tags": []
          },
          "execution_count": 320
        }
      ]
    },
    {
      "cell_type": "markdown",
      "metadata": {
        "id": "U1H4VDvCAzzQ"
      },
      "source": [
        "Now we first evaluate the bert model."
      ]
    },
    {
      "cell_type": "code",
      "metadata": {
        "id": "33_16hazA26W",
        "colab": {
          "base_uri": "https://localhost:8080/"
        },
        "outputId": "60e13e4d-0d97-4809-9a6e-0dbea01c311b"
      },
      "source": [
        "# Load pre-trained model (weights)\n",
        "model = BertModel.from_pretrained('bert-base-uncased')\n",
        "\n",
        "# Put the model in \"evaluation\" mode, meaning feed-forward operation.\n",
        "model.eval()"
      ],
      "execution_count": 321,
      "outputs": [
        {
          "output_type": "execute_result",
          "data": {
            "text/plain": [
              "BertModel(\n",
              "  (embeddings): BertEmbeddings(\n",
              "    (word_embeddings): Embedding(30522, 768, padding_idx=0)\n",
              "    (position_embeddings): Embedding(512, 768)\n",
              "    (token_type_embeddings): Embedding(2, 768)\n",
              "    (LayerNorm): BertLayerNorm()\n",
              "    (dropout): Dropout(p=0.1, inplace=False)\n",
              "  )\n",
              "  (encoder): BertEncoder(\n",
              "    (layer): ModuleList(\n",
              "      (0): BertLayer(\n",
              "        (attention): BertAttention(\n",
              "          (self): BertSelfAttention(\n",
              "            (query): Linear(in_features=768, out_features=768, bias=True)\n",
              "            (key): Linear(in_features=768, out_features=768, bias=True)\n",
              "            (value): Linear(in_features=768, out_features=768, bias=True)\n",
              "            (dropout): Dropout(p=0.1, inplace=False)\n",
              "          )\n",
              "          (output): BertSelfOutput(\n",
              "            (dense): Linear(in_features=768, out_features=768, bias=True)\n",
              "            (LayerNorm): BertLayerNorm()\n",
              "            (dropout): Dropout(p=0.1, inplace=False)\n",
              "          )\n",
              "        )\n",
              "        (intermediate): BertIntermediate(\n",
              "          (dense): Linear(in_features=768, out_features=3072, bias=True)\n",
              "        )\n",
              "        (output): BertOutput(\n",
              "          (dense): Linear(in_features=3072, out_features=768, bias=True)\n",
              "          (LayerNorm): BertLayerNorm()\n",
              "          (dropout): Dropout(p=0.1, inplace=False)\n",
              "        )\n",
              "      )\n",
              "      (1): BertLayer(\n",
              "        (attention): BertAttention(\n",
              "          (self): BertSelfAttention(\n",
              "            (query): Linear(in_features=768, out_features=768, bias=True)\n",
              "            (key): Linear(in_features=768, out_features=768, bias=True)\n",
              "            (value): Linear(in_features=768, out_features=768, bias=True)\n",
              "            (dropout): Dropout(p=0.1, inplace=False)\n",
              "          )\n",
              "          (output): BertSelfOutput(\n",
              "            (dense): Linear(in_features=768, out_features=768, bias=True)\n",
              "            (LayerNorm): BertLayerNorm()\n",
              "            (dropout): Dropout(p=0.1, inplace=False)\n",
              "          )\n",
              "        )\n",
              "        (intermediate): BertIntermediate(\n",
              "          (dense): Linear(in_features=768, out_features=3072, bias=True)\n",
              "        )\n",
              "        (output): BertOutput(\n",
              "          (dense): Linear(in_features=3072, out_features=768, bias=True)\n",
              "          (LayerNorm): BertLayerNorm()\n",
              "          (dropout): Dropout(p=0.1, inplace=False)\n",
              "        )\n",
              "      )\n",
              "      (2): BertLayer(\n",
              "        (attention): BertAttention(\n",
              "          (self): BertSelfAttention(\n",
              "            (query): Linear(in_features=768, out_features=768, bias=True)\n",
              "            (key): Linear(in_features=768, out_features=768, bias=True)\n",
              "            (value): Linear(in_features=768, out_features=768, bias=True)\n",
              "            (dropout): Dropout(p=0.1, inplace=False)\n",
              "          )\n",
              "          (output): BertSelfOutput(\n",
              "            (dense): Linear(in_features=768, out_features=768, bias=True)\n",
              "            (LayerNorm): BertLayerNorm()\n",
              "            (dropout): Dropout(p=0.1, inplace=False)\n",
              "          )\n",
              "        )\n",
              "        (intermediate): BertIntermediate(\n",
              "          (dense): Linear(in_features=768, out_features=3072, bias=True)\n",
              "        )\n",
              "        (output): BertOutput(\n",
              "          (dense): Linear(in_features=3072, out_features=768, bias=True)\n",
              "          (LayerNorm): BertLayerNorm()\n",
              "          (dropout): Dropout(p=0.1, inplace=False)\n",
              "        )\n",
              "      )\n",
              "      (3): BertLayer(\n",
              "        (attention): BertAttention(\n",
              "          (self): BertSelfAttention(\n",
              "            (query): Linear(in_features=768, out_features=768, bias=True)\n",
              "            (key): Linear(in_features=768, out_features=768, bias=True)\n",
              "            (value): Linear(in_features=768, out_features=768, bias=True)\n",
              "            (dropout): Dropout(p=0.1, inplace=False)\n",
              "          )\n",
              "          (output): BertSelfOutput(\n",
              "            (dense): Linear(in_features=768, out_features=768, bias=True)\n",
              "            (LayerNorm): BertLayerNorm()\n",
              "            (dropout): Dropout(p=0.1, inplace=False)\n",
              "          )\n",
              "        )\n",
              "        (intermediate): BertIntermediate(\n",
              "          (dense): Linear(in_features=768, out_features=3072, bias=True)\n",
              "        )\n",
              "        (output): BertOutput(\n",
              "          (dense): Linear(in_features=3072, out_features=768, bias=True)\n",
              "          (LayerNorm): BertLayerNorm()\n",
              "          (dropout): Dropout(p=0.1, inplace=False)\n",
              "        )\n",
              "      )\n",
              "      (4): BertLayer(\n",
              "        (attention): BertAttention(\n",
              "          (self): BertSelfAttention(\n",
              "            (query): Linear(in_features=768, out_features=768, bias=True)\n",
              "            (key): Linear(in_features=768, out_features=768, bias=True)\n",
              "            (value): Linear(in_features=768, out_features=768, bias=True)\n",
              "            (dropout): Dropout(p=0.1, inplace=False)\n",
              "          )\n",
              "          (output): BertSelfOutput(\n",
              "            (dense): Linear(in_features=768, out_features=768, bias=True)\n",
              "            (LayerNorm): BertLayerNorm()\n",
              "            (dropout): Dropout(p=0.1, inplace=False)\n",
              "          )\n",
              "        )\n",
              "        (intermediate): BertIntermediate(\n",
              "          (dense): Linear(in_features=768, out_features=3072, bias=True)\n",
              "        )\n",
              "        (output): BertOutput(\n",
              "          (dense): Linear(in_features=3072, out_features=768, bias=True)\n",
              "          (LayerNorm): BertLayerNorm()\n",
              "          (dropout): Dropout(p=0.1, inplace=False)\n",
              "        )\n",
              "      )\n",
              "      (5): BertLayer(\n",
              "        (attention): BertAttention(\n",
              "          (self): BertSelfAttention(\n",
              "            (query): Linear(in_features=768, out_features=768, bias=True)\n",
              "            (key): Linear(in_features=768, out_features=768, bias=True)\n",
              "            (value): Linear(in_features=768, out_features=768, bias=True)\n",
              "            (dropout): Dropout(p=0.1, inplace=False)\n",
              "          )\n",
              "          (output): BertSelfOutput(\n",
              "            (dense): Linear(in_features=768, out_features=768, bias=True)\n",
              "            (LayerNorm): BertLayerNorm()\n",
              "            (dropout): Dropout(p=0.1, inplace=False)\n",
              "          )\n",
              "        )\n",
              "        (intermediate): BertIntermediate(\n",
              "          (dense): Linear(in_features=768, out_features=3072, bias=True)\n",
              "        )\n",
              "        (output): BertOutput(\n",
              "          (dense): Linear(in_features=3072, out_features=768, bias=True)\n",
              "          (LayerNorm): BertLayerNorm()\n",
              "          (dropout): Dropout(p=0.1, inplace=False)\n",
              "        )\n",
              "      )\n",
              "      (6): BertLayer(\n",
              "        (attention): BertAttention(\n",
              "          (self): BertSelfAttention(\n",
              "            (query): Linear(in_features=768, out_features=768, bias=True)\n",
              "            (key): Linear(in_features=768, out_features=768, bias=True)\n",
              "            (value): Linear(in_features=768, out_features=768, bias=True)\n",
              "            (dropout): Dropout(p=0.1, inplace=False)\n",
              "          )\n",
              "          (output): BertSelfOutput(\n",
              "            (dense): Linear(in_features=768, out_features=768, bias=True)\n",
              "            (LayerNorm): BertLayerNorm()\n",
              "            (dropout): Dropout(p=0.1, inplace=False)\n",
              "          )\n",
              "        )\n",
              "        (intermediate): BertIntermediate(\n",
              "          (dense): Linear(in_features=768, out_features=3072, bias=True)\n",
              "        )\n",
              "        (output): BertOutput(\n",
              "          (dense): Linear(in_features=3072, out_features=768, bias=True)\n",
              "          (LayerNorm): BertLayerNorm()\n",
              "          (dropout): Dropout(p=0.1, inplace=False)\n",
              "        )\n",
              "      )\n",
              "      (7): BertLayer(\n",
              "        (attention): BertAttention(\n",
              "          (self): BertSelfAttention(\n",
              "            (query): Linear(in_features=768, out_features=768, bias=True)\n",
              "            (key): Linear(in_features=768, out_features=768, bias=True)\n",
              "            (value): Linear(in_features=768, out_features=768, bias=True)\n",
              "            (dropout): Dropout(p=0.1, inplace=False)\n",
              "          )\n",
              "          (output): BertSelfOutput(\n",
              "            (dense): Linear(in_features=768, out_features=768, bias=True)\n",
              "            (LayerNorm): BertLayerNorm()\n",
              "            (dropout): Dropout(p=0.1, inplace=False)\n",
              "          )\n",
              "        )\n",
              "        (intermediate): BertIntermediate(\n",
              "          (dense): Linear(in_features=768, out_features=3072, bias=True)\n",
              "        )\n",
              "        (output): BertOutput(\n",
              "          (dense): Linear(in_features=3072, out_features=768, bias=True)\n",
              "          (LayerNorm): BertLayerNorm()\n",
              "          (dropout): Dropout(p=0.1, inplace=False)\n",
              "        )\n",
              "      )\n",
              "      (8): BertLayer(\n",
              "        (attention): BertAttention(\n",
              "          (self): BertSelfAttention(\n",
              "            (query): Linear(in_features=768, out_features=768, bias=True)\n",
              "            (key): Linear(in_features=768, out_features=768, bias=True)\n",
              "            (value): Linear(in_features=768, out_features=768, bias=True)\n",
              "            (dropout): Dropout(p=0.1, inplace=False)\n",
              "          )\n",
              "          (output): BertSelfOutput(\n",
              "            (dense): Linear(in_features=768, out_features=768, bias=True)\n",
              "            (LayerNorm): BertLayerNorm()\n",
              "            (dropout): Dropout(p=0.1, inplace=False)\n",
              "          )\n",
              "        )\n",
              "        (intermediate): BertIntermediate(\n",
              "          (dense): Linear(in_features=768, out_features=3072, bias=True)\n",
              "        )\n",
              "        (output): BertOutput(\n",
              "          (dense): Linear(in_features=3072, out_features=768, bias=True)\n",
              "          (LayerNorm): BertLayerNorm()\n",
              "          (dropout): Dropout(p=0.1, inplace=False)\n",
              "        )\n",
              "      )\n",
              "      (9): BertLayer(\n",
              "        (attention): BertAttention(\n",
              "          (self): BertSelfAttention(\n",
              "            (query): Linear(in_features=768, out_features=768, bias=True)\n",
              "            (key): Linear(in_features=768, out_features=768, bias=True)\n",
              "            (value): Linear(in_features=768, out_features=768, bias=True)\n",
              "            (dropout): Dropout(p=0.1, inplace=False)\n",
              "          )\n",
              "          (output): BertSelfOutput(\n",
              "            (dense): Linear(in_features=768, out_features=768, bias=True)\n",
              "            (LayerNorm): BertLayerNorm()\n",
              "            (dropout): Dropout(p=0.1, inplace=False)\n",
              "          )\n",
              "        )\n",
              "        (intermediate): BertIntermediate(\n",
              "          (dense): Linear(in_features=768, out_features=3072, bias=True)\n",
              "        )\n",
              "        (output): BertOutput(\n",
              "          (dense): Linear(in_features=3072, out_features=768, bias=True)\n",
              "          (LayerNorm): BertLayerNorm()\n",
              "          (dropout): Dropout(p=0.1, inplace=False)\n",
              "        )\n",
              "      )\n",
              "      (10): BertLayer(\n",
              "        (attention): BertAttention(\n",
              "          (self): BertSelfAttention(\n",
              "            (query): Linear(in_features=768, out_features=768, bias=True)\n",
              "            (key): Linear(in_features=768, out_features=768, bias=True)\n",
              "            (value): Linear(in_features=768, out_features=768, bias=True)\n",
              "            (dropout): Dropout(p=0.1, inplace=False)\n",
              "          )\n",
              "          (output): BertSelfOutput(\n",
              "            (dense): Linear(in_features=768, out_features=768, bias=True)\n",
              "            (LayerNorm): BertLayerNorm()\n",
              "            (dropout): Dropout(p=0.1, inplace=False)\n",
              "          )\n",
              "        )\n",
              "        (intermediate): BertIntermediate(\n",
              "          (dense): Linear(in_features=768, out_features=3072, bias=True)\n",
              "        )\n",
              "        (output): BertOutput(\n",
              "          (dense): Linear(in_features=3072, out_features=768, bias=True)\n",
              "          (LayerNorm): BertLayerNorm()\n",
              "          (dropout): Dropout(p=0.1, inplace=False)\n",
              "        )\n",
              "      )\n",
              "      (11): BertLayer(\n",
              "        (attention): BertAttention(\n",
              "          (self): BertSelfAttention(\n",
              "            (query): Linear(in_features=768, out_features=768, bias=True)\n",
              "            (key): Linear(in_features=768, out_features=768, bias=True)\n",
              "            (value): Linear(in_features=768, out_features=768, bias=True)\n",
              "            (dropout): Dropout(p=0.1, inplace=False)\n",
              "          )\n",
              "          (output): BertSelfOutput(\n",
              "            (dense): Linear(in_features=768, out_features=768, bias=True)\n",
              "            (LayerNorm): BertLayerNorm()\n",
              "            (dropout): Dropout(p=0.1, inplace=False)\n",
              "          )\n",
              "        )\n",
              "        (intermediate): BertIntermediate(\n",
              "          (dense): Linear(in_features=768, out_features=3072, bias=True)\n",
              "        )\n",
              "        (output): BertOutput(\n",
              "          (dense): Linear(in_features=3072, out_features=768, bias=True)\n",
              "          (LayerNorm): BertLayerNorm()\n",
              "          (dropout): Dropout(p=0.1, inplace=False)\n",
              "        )\n",
              "      )\n",
              "    )\n",
              "  )\n",
              "  (pooler): BertPooler(\n",
              "    (dense): Linear(in_features=768, out_features=768, bias=True)\n",
              "    (activation): Tanh()\n",
              "  )\n",
              ")"
            ]
          },
          "metadata": {
            "tags": []
          },
          "execution_count": 321
        }
      ]
    },
    {
      "cell_type": "markdown",
      "metadata": {
        "id": "6aOCDW5bHyVO"
      },
      "source": [
        "Here, we define a function that takes one sentence, in the format of a string, as an input and output the encoded layers of the sentence using bert model.\n",
        "(Feel free to command the printing statement)"
      ]
    },
    {
      "cell_type": "code",
      "metadata": {
        "id": "b0Pmnk4fSGG6"
      },
      "source": [
        "def get_encoded_layers(sentence):\n",
        "  # Tokenize our sentence with the BERT tokenizer.\n",
        "  tokenized_text = tokenizer.tokenize(sentence)\n",
        "\n",
        "  # Print out the tokens.\n",
        "  #print (tokenized_text)\n",
        "\n",
        "\n",
        "  # Map the token strings to their vocabulary indeces.\n",
        "  indexed_tokens = tokenizer.convert_tokens_to_ids(tokenized_text)\n",
        "\n",
        "  # Display the words with their indeces.\n",
        "  #for tup in zip(tokenized_text, indexed_tokens):\n",
        "  #  print('{:<12} {:>6,}'.format(tup[0], tup[1]))\n",
        "\n",
        "\n",
        "  # Mark each of the tokens as belonging to sentence \"1\".\n",
        "  segments_ids = [1] * len(tokenized_text)\n",
        "\n",
        "\n",
        "  # Convert inputs to PyTorch tensors\n",
        "  tokens_tensor = torch.tensor([indexed_tokens])\n",
        "  segments_tensors = torch.tensor([segments_ids])\n",
        "\n",
        "  # Predict hidden states features for each layer\n",
        "  with torch.no_grad():\n",
        "      encoded_layers, _ = model(tokens_tensor, segments_tensors)\n",
        "\n",
        "  # Display the shape of encoded_layers\n",
        "  #print_layer_shapes(encoded_layers)\n",
        "\n",
        "  return encoded_layers"
      ],
      "execution_count": 322,
      "outputs": []
    },
    {
      "cell_type": "markdown",
      "metadata": {
        "id": "uypMhQPqIp8H"
      },
      "source": [
        "The full set of hidden states for this model is stored in the object encoded_layers.\n",
        "This object has four dimensions, in the following order:\n",
        "\n",
        "1. The layer number\n",
        "\n",
        "2. The batch number (1 sentence)\n",
        "\n",
        "3. The word / token number\n",
        "\n",
        "4. The hidden unit / feature number\n",
        "\n",
        "The following function prints out the length of four dimensions of the encoded_layers object.\n"
      ]
    },
    {
      "cell_type": "code",
      "metadata": {
        "id": "snhK5ZumDnYR"
      },
      "source": [
        "def print_layer_shapes(encoded_layers):\n",
        "  print (\"Number of layers:\", len(encoded_layers))\n",
        "  layer_i = 0\n",
        "\n",
        "  print (\"Number of batches:\", len(encoded_layers[layer_i]))\n",
        "  batch_i = 0\n",
        "\n",
        "  print (\"Number of tokens:\", len(encoded_layers[layer_i][batch_i]))\n",
        "  token_i = 0\n",
        "\n",
        "  print (\"Number of hidden units:\", len(encoded_layers[layer_i][batch_i][token_i]))"
      ],
      "execution_count": 323,
      "outputs": []
    },
    {
      "cell_type": "code",
      "metadata": {
        "id": "Q4LCeGXiAjWI"
      },
      "source": [
        "def get_num_of_tokens(encoded_layers):\n",
        "  return len(encoded_layers[0][0])"
      ],
      "execution_count": 324,
      "outputs": []
    },
    {
      "cell_type": "markdown",
      "metadata": {
        "id": "VKWkIfSSKIPb"
      },
      "source": [
        "Now we can try embedding the first hundred \"tag sentences\" in proper_tagStr we defined before. We store each encoded layers object in the list list_of_encoded_layers."
      ]
    },
    {
      "cell_type": "code",
      "metadata": {
        "id": "WH-HA3JE-Vvd",
        "colab": {
          "base_uri": "https://localhost:8080/"
        },
        "outputId": "39d2e0a3-7216-47b3-ab1d-e37362bb566d"
      },
      "source": [
        "len(proper_tagStr)"
      ],
      "execution_count": 325,
      "outputs": [
        {
          "output_type": "execute_result",
          "data": {
            "text/plain": [
              "3854"
            ]
          },
          "metadata": {
            "tags": []
          },
          "execution_count": 325
        }
      ]
    },
    {
      "cell_type": "code",
      "metadata": {
        "id": "OrVIV6YaDX8x",
        "colab": {
          "base_uri": "https://localhost:8080/"
        },
        "outputId": "930a8199-8863-4800-dd0b-06e7a35e4b62"
      },
      "source": [
        "list_of_encoded_layers = []\n",
        "\n",
        "import time\n",
        "start = time.perf_counter()\n",
        "\n",
        "number_of_entry_to_encode = 400\n",
        "for sentence in proper_tagStr[:number_of_entry_to_encode]:\n",
        "  if not sentence == '':\n",
        "    list_of_encoded_layers.append(get_encoded_layers(sentence))\n",
        "  #print(\"\\n\")\n",
        "\n",
        "end = time.perf_counter()\n",
        "print(\"This cell takes \" + str(end-start) + \" seconds to run\")"
      ],
      "execution_count": 326,
      "outputs": [
        {
          "output_type": "stream",
          "text": [
            "This cell takes 41.51060521299951 seconds to run\n"
          ],
          "name": "stdout"
        }
      ]
    },
    {
      "cell_type": "code",
      "metadata": {
        "id": "BobU54-28fuT",
        "colab": {
          "base_uri": "https://localhost:8080/"
        },
        "outputId": "23d1f1a2-dc26-4376-ee0f-1e9773b9b350"
      },
      "source": [
        "len(list_of_encoded_layers) #should return value of number_of_entry_to_encode"
      ],
      "execution_count": 327,
      "outputs": [
        {
          "output_type": "execute_result",
          "data": {
            "text/plain": [
              "400"
            ]
          },
          "metadata": {
            "tags": []
          },
          "execution_count": 327
        }
      ]
    },
    {
      "cell_type": "markdown",
      "metadata": {
        "id": "9h6zr5HNCHPt"
      },
      "source": [
        "Notice that if we do 100 taglists, it take only 10ish seconds."
      ]
    },
    {
      "cell_type": "code",
      "metadata": {
        "id": "BrRJhXxaAKGh",
        "colab": {
          "base_uri": "https://localhost:8080/"
        },
        "outputId": "c535a533-aaf0-4972-df1c-67da3c6e0be3"
      },
      "source": [
        "ttl = 0\n",
        "for encoded_layer in list_of_encoded_layers:\n",
        "  ttl += get_num_of_tokens(encoded_layer)\n",
        "print(ttl)"
      ],
      "execution_count": 328,
      "outputs": [
        {
          "output_type": "stream",
          "text": [
            "7010\n"
          ],
          "name": "stdout"
        }
      ]
    },
    {
      "cell_type": "markdown",
      "metadata": {
        "id": "SpVYLvVwfob0"
      },
      "source": [
        "#[Deprecated] Feed Bert Model with Combined Sentences"
      ]
    },
    {
      "cell_type": "code",
      "metadata": {
        "id": "fgOXaoKM_F7X",
        "colab": {
          "base_uri": "https://localhost:8080/"
        },
        "outputId": "ba0f0507-3c7e-424d-9229-f1adb1fcb03a"
      },
      "source": [
        "#What if we combine all tags into one sentence and feed it into the model? Will it be faster?\n",
        "combined_sentence = \"\"\n",
        "for p in proper_tagStr[:10]:\n",
        "  combined_sentence += p\n",
        "  combined_sentence += \" \"\n",
        "print(combined_sentence)"
      ],
      "execution_count": 329,
      "outputs": [
        {
          "output_type": "stream",
          "text": [
            "okscotland wa washington june2015 nhadatvideo by das der erde lied von nhadatvideo dsg1 fiber yarn 60x confocal utah \n"
          ],
          "name": "stdout"
        }
      ]
    },
    {
      "cell_type": "code",
      "metadata": {
        "id": "vhHFZN_f_r1e",
        "colab": {
          "base_uri": "https://localhost:8080/"
        },
        "outputId": "d204cfee-c3fe-44da-bc6c-ea059dc1284c"
      },
      "source": [
        "combined_sentence_encoded = get_encoded_layers(combined_sentence)\n",
        "print_layer_shapes(combined_sentence_encoded)"
      ],
      "execution_count": 330,
      "outputs": [
        {
          "output_type": "stream",
          "text": [
            "Number of layers: 12\n",
            "Number of batches: 1\n",
            "Number of tokens: 36\n",
            "Number of hidden units: 768\n"
          ],
          "name": "stdout"
        }
      ]
    },
    {
      "cell_type": "markdown",
      "metadata": {
        "id": "fifgsUt6BEWT"
      },
      "source": [
        "This way is indeed faster. And we do get 343 tokens as expected. Now we need to remmeber to change mask text, add CLE SEP labels and maybe change the approach to single vector a little bit"
      ]
    },
    {
      "cell_type": "code",
      "metadata": {
        "id": "ewgp75bRBCD4",
        "colab": {
          "base_uri": "https://localhost:8080/",
          "height": 429
        },
        "outputId": "cf9e15f3-d16f-49df-8a7c-da78af03d700"
      },
      "source": [
        "import time\n",
        "start = time.perf_counter()\n",
        "all_sample_combined_sentence = proper_tagStr[0]\n",
        "for p in proper_tagStr[1:number_of_entry_to_encode]:\n",
        "  all_sample_combined_sentence += \" \"\n",
        "  all_sample_combined_sentence += p\n",
        "\n",
        "all_sample_combined_sentence_encoded = get_encoded_layers(all_sample_combined_sentence)\n",
        "print_layer_shapes(all_sample_combined_sentence_encoded)\n",
        "\n",
        "end = time.perf_counter()\n",
        "print(\"This cell takes \" + str(end-start) + \" seconds to run\")"
      ],
      "execution_count": 331,
      "outputs": [
        {
          "output_type": "stream",
          "text": [
            "Token indices sequence length is longer than the specified maximum  sequence length for this BERT model (7010 > 512). Running this sequence through BERT will result in indexing errors\n"
          ],
          "name": "stderr"
        },
        {
          "output_type": "error",
          "ename": "IndexError",
          "evalue": "ignored",
          "traceback": [
            "\u001b[0;31m---------------------------------------------------------------------------\u001b[0m",
            "\u001b[0;31mIndexError\u001b[0m                                Traceback (most recent call last)",
            "\u001b[0;32m<ipython-input-331-6c74d6069869>\u001b[0m in \u001b[0;36m<module>\u001b[0;34m()\u001b[0m\n\u001b[1;32m      6\u001b[0m   \u001b[0mall_sample_combined_sentence\u001b[0m \u001b[0;34m+=\u001b[0m \u001b[0mp\u001b[0m\u001b[0;34m\u001b[0m\u001b[0;34m\u001b[0m\u001b[0m\n\u001b[1;32m      7\u001b[0m \u001b[0;34m\u001b[0m\u001b[0m\n\u001b[0;32m----> 8\u001b[0;31m \u001b[0mall_sample_combined_sentence_encoded\u001b[0m \u001b[0;34m=\u001b[0m \u001b[0mget_encoded_layers\u001b[0m\u001b[0;34m(\u001b[0m\u001b[0mall_sample_combined_sentence\u001b[0m\u001b[0;34m)\u001b[0m\u001b[0;34m\u001b[0m\u001b[0;34m\u001b[0m\u001b[0m\n\u001b[0m\u001b[1;32m      9\u001b[0m \u001b[0mprint_layer_shapes\u001b[0m\u001b[0;34m(\u001b[0m\u001b[0mall_sample_combined_sentence_encoded\u001b[0m\u001b[0;34m)\u001b[0m\u001b[0;34m\u001b[0m\u001b[0;34m\u001b[0m\u001b[0m\n\u001b[1;32m     10\u001b[0m \u001b[0;34m\u001b[0m\u001b[0m\n",
            "\u001b[0;32m<ipython-input-322-4aaf2af474a3>\u001b[0m in \u001b[0;36mget_encoded_layers\u001b[0;34m(sentence)\u001b[0m\n\u001b[1;32m     25\u001b[0m   \u001b[0;31m# Predict hidden states features for each layer\u001b[0m\u001b[0;34m\u001b[0m\u001b[0;34m\u001b[0m\u001b[0;34m\u001b[0m\u001b[0m\n\u001b[1;32m     26\u001b[0m   \u001b[0;32mwith\u001b[0m \u001b[0mtorch\u001b[0m\u001b[0;34m.\u001b[0m\u001b[0mno_grad\u001b[0m\u001b[0;34m(\u001b[0m\u001b[0;34m)\u001b[0m\u001b[0;34m:\u001b[0m\u001b[0;34m\u001b[0m\u001b[0;34m\u001b[0m\u001b[0m\n\u001b[0;32m---> 27\u001b[0;31m       \u001b[0mencoded_layers\u001b[0m\u001b[0;34m,\u001b[0m \u001b[0m_\u001b[0m \u001b[0;34m=\u001b[0m \u001b[0mmodel\u001b[0m\u001b[0;34m(\u001b[0m\u001b[0mtokens_tensor\u001b[0m\u001b[0;34m,\u001b[0m \u001b[0msegments_tensors\u001b[0m\u001b[0;34m)\u001b[0m\u001b[0;34m\u001b[0m\u001b[0;34m\u001b[0m\u001b[0m\n\u001b[0m\u001b[1;32m     28\u001b[0m \u001b[0;34m\u001b[0m\u001b[0m\n\u001b[1;32m     29\u001b[0m   \u001b[0;31m# Display the shape of encoded_layers\u001b[0m\u001b[0;34m\u001b[0m\u001b[0;34m\u001b[0m\u001b[0;34m\u001b[0m\u001b[0m\n",
            "\u001b[0;32m/usr/local/lib/python3.6/dist-packages/torch/nn/modules/module.py\u001b[0m in \u001b[0;36m_call_impl\u001b[0;34m(self, *input, **kwargs)\u001b[0m\n\u001b[1;32m    725\u001b[0m             \u001b[0mresult\u001b[0m \u001b[0;34m=\u001b[0m \u001b[0mself\u001b[0m\u001b[0;34m.\u001b[0m\u001b[0m_slow_forward\u001b[0m\u001b[0;34m(\u001b[0m\u001b[0;34m*\u001b[0m\u001b[0minput\u001b[0m\u001b[0;34m,\u001b[0m \u001b[0;34m**\u001b[0m\u001b[0mkwargs\u001b[0m\u001b[0;34m)\u001b[0m\u001b[0;34m\u001b[0m\u001b[0;34m\u001b[0m\u001b[0m\n\u001b[1;32m    726\u001b[0m         \u001b[0;32melse\u001b[0m\u001b[0;34m:\u001b[0m\u001b[0;34m\u001b[0m\u001b[0;34m\u001b[0m\u001b[0m\n\u001b[0;32m--> 727\u001b[0;31m             \u001b[0mresult\u001b[0m \u001b[0;34m=\u001b[0m \u001b[0mself\u001b[0m\u001b[0;34m.\u001b[0m\u001b[0mforward\u001b[0m\u001b[0;34m(\u001b[0m\u001b[0;34m*\u001b[0m\u001b[0minput\u001b[0m\u001b[0;34m,\u001b[0m \u001b[0;34m**\u001b[0m\u001b[0mkwargs\u001b[0m\u001b[0;34m)\u001b[0m\u001b[0;34m\u001b[0m\u001b[0;34m\u001b[0m\u001b[0m\n\u001b[0m\u001b[1;32m    728\u001b[0m         for hook in itertools.chain(\n\u001b[1;32m    729\u001b[0m                 \u001b[0m_global_forward_hooks\u001b[0m\u001b[0;34m.\u001b[0m\u001b[0mvalues\u001b[0m\u001b[0;34m(\u001b[0m\u001b[0;34m)\u001b[0m\u001b[0;34m,\u001b[0m\u001b[0;34m\u001b[0m\u001b[0;34m\u001b[0m\u001b[0m\n",
            "\u001b[0;32m/usr/local/lib/python3.6/dist-packages/pytorch_pretrained_bert/modeling.py\u001b[0m in \u001b[0;36mforward\u001b[0;34m(self, input_ids, token_type_ids, attention_mask, output_all_encoded_layers)\u001b[0m\n\u001b[1;32m    728\u001b[0m         \u001b[0mextended_attention_mask\u001b[0m \u001b[0;34m=\u001b[0m \u001b[0;34m(\u001b[0m\u001b[0;36m1.0\u001b[0m \u001b[0;34m-\u001b[0m \u001b[0mextended_attention_mask\u001b[0m\u001b[0;34m)\u001b[0m \u001b[0;34m*\u001b[0m \u001b[0;34m-\u001b[0m\u001b[0;36m10000.0\u001b[0m\u001b[0;34m\u001b[0m\u001b[0;34m\u001b[0m\u001b[0m\n\u001b[1;32m    729\u001b[0m \u001b[0;34m\u001b[0m\u001b[0m\n\u001b[0;32m--> 730\u001b[0;31m         \u001b[0membedding_output\u001b[0m \u001b[0;34m=\u001b[0m \u001b[0mself\u001b[0m\u001b[0;34m.\u001b[0m\u001b[0membeddings\u001b[0m\u001b[0;34m(\u001b[0m\u001b[0minput_ids\u001b[0m\u001b[0;34m,\u001b[0m \u001b[0mtoken_type_ids\u001b[0m\u001b[0;34m)\u001b[0m\u001b[0;34m\u001b[0m\u001b[0;34m\u001b[0m\u001b[0m\n\u001b[0m\u001b[1;32m    731\u001b[0m         encoded_layers = self.encoder(embedding_output,\n\u001b[1;32m    732\u001b[0m                                       \u001b[0mextended_attention_mask\u001b[0m\u001b[0;34m,\u001b[0m\u001b[0;34m\u001b[0m\u001b[0;34m\u001b[0m\u001b[0m\n",
            "\u001b[0;32m/usr/local/lib/python3.6/dist-packages/torch/nn/modules/module.py\u001b[0m in \u001b[0;36m_call_impl\u001b[0;34m(self, *input, **kwargs)\u001b[0m\n\u001b[1;32m    725\u001b[0m             \u001b[0mresult\u001b[0m \u001b[0;34m=\u001b[0m \u001b[0mself\u001b[0m\u001b[0;34m.\u001b[0m\u001b[0m_slow_forward\u001b[0m\u001b[0;34m(\u001b[0m\u001b[0;34m*\u001b[0m\u001b[0minput\u001b[0m\u001b[0;34m,\u001b[0m \u001b[0;34m**\u001b[0m\u001b[0mkwargs\u001b[0m\u001b[0;34m)\u001b[0m\u001b[0;34m\u001b[0m\u001b[0;34m\u001b[0m\u001b[0m\n\u001b[1;32m    726\u001b[0m         \u001b[0;32melse\u001b[0m\u001b[0;34m:\u001b[0m\u001b[0;34m\u001b[0m\u001b[0;34m\u001b[0m\u001b[0m\n\u001b[0;32m--> 727\u001b[0;31m             \u001b[0mresult\u001b[0m \u001b[0;34m=\u001b[0m \u001b[0mself\u001b[0m\u001b[0;34m.\u001b[0m\u001b[0mforward\u001b[0m\u001b[0;34m(\u001b[0m\u001b[0;34m*\u001b[0m\u001b[0minput\u001b[0m\u001b[0;34m,\u001b[0m \u001b[0;34m**\u001b[0m\u001b[0mkwargs\u001b[0m\u001b[0;34m)\u001b[0m\u001b[0;34m\u001b[0m\u001b[0;34m\u001b[0m\u001b[0m\n\u001b[0m\u001b[1;32m    728\u001b[0m         for hook in itertools.chain(\n\u001b[1;32m    729\u001b[0m                 \u001b[0m_global_forward_hooks\u001b[0m\u001b[0;34m.\u001b[0m\u001b[0mvalues\u001b[0m\u001b[0;34m(\u001b[0m\u001b[0;34m)\u001b[0m\u001b[0;34m,\u001b[0m\u001b[0;34m\u001b[0m\u001b[0;34m\u001b[0m\u001b[0m\n",
            "\u001b[0;32m/usr/local/lib/python3.6/dist-packages/pytorch_pretrained_bert/modeling.py\u001b[0m in \u001b[0;36mforward\u001b[0;34m(self, input_ids, token_type_ids)\u001b[0m\n\u001b[1;32m    266\u001b[0m \u001b[0;34m\u001b[0m\u001b[0m\n\u001b[1;32m    267\u001b[0m         \u001b[0mwords_embeddings\u001b[0m \u001b[0;34m=\u001b[0m \u001b[0mself\u001b[0m\u001b[0;34m.\u001b[0m\u001b[0mword_embeddings\u001b[0m\u001b[0;34m(\u001b[0m\u001b[0minput_ids\u001b[0m\u001b[0;34m)\u001b[0m\u001b[0;34m\u001b[0m\u001b[0;34m\u001b[0m\u001b[0m\n\u001b[0;32m--> 268\u001b[0;31m         \u001b[0mposition_embeddings\u001b[0m \u001b[0;34m=\u001b[0m \u001b[0mself\u001b[0m\u001b[0;34m.\u001b[0m\u001b[0mposition_embeddings\u001b[0m\u001b[0;34m(\u001b[0m\u001b[0mposition_ids\u001b[0m\u001b[0;34m)\u001b[0m\u001b[0;34m\u001b[0m\u001b[0;34m\u001b[0m\u001b[0m\n\u001b[0m\u001b[1;32m    269\u001b[0m         \u001b[0mtoken_type_embeddings\u001b[0m \u001b[0;34m=\u001b[0m \u001b[0mself\u001b[0m\u001b[0;34m.\u001b[0m\u001b[0mtoken_type_embeddings\u001b[0m\u001b[0;34m(\u001b[0m\u001b[0mtoken_type_ids\u001b[0m\u001b[0;34m)\u001b[0m\u001b[0;34m\u001b[0m\u001b[0;34m\u001b[0m\u001b[0m\n\u001b[1;32m    270\u001b[0m \u001b[0;34m\u001b[0m\u001b[0m\n",
            "\u001b[0;32m/usr/local/lib/python3.6/dist-packages/torch/nn/modules/module.py\u001b[0m in \u001b[0;36m_call_impl\u001b[0;34m(self, *input, **kwargs)\u001b[0m\n\u001b[1;32m    725\u001b[0m             \u001b[0mresult\u001b[0m \u001b[0;34m=\u001b[0m \u001b[0mself\u001b[0m\u001b[0;34m.\u001b[0m\u001b[0m_slow_forward\u001b[0m\u001b[0;34m(\u001b[0m\u001b[0;34m*\u001b[0m\u001b[0minput\u001b[0m\u001b[0;34m,\u001b[0m \u001b[0;34m**\u001b[0m\u001b[0mkwargs\u001b[0m\u001b[0;34m)\u001b[0m\u001b[0;34m\u001b[0m\u001b[0;34m\u001b[0m\u001b[0m\n\u001b[1;32m    726\u001b[0m         \u001b[0;32melse\u001b[0m\u001b[0;34m:\u001b[0m\u001b[0;34m\u001b[0m\u001b[0;34m\u001b[0m\u001b[0m\n\u001b[0;32m--> 727\u001b[0;31m             \u001b[0mresult\u001b[0m \u001b[0;34m=\u001b[0m \u001b[0mself\u001b[0m\u001b[0;34m.\u001b[0m\u001b[0mforward\u001b[0m\u001b[0;34m(\u001b[0m\u001b[0;34m*\u001b[0m\u001b[0minput\u001b[0m\u001b[0;34m,\u001b[0m \u001b[0;34m**\u001b[0m\u001b[0mkwargs\u001b[0m\u001b[0;34m)\u001b[0m\u001b[0;34m\u001b[0m\u001b[0;34m\u001b[0m\u001b[0m\n\u001b[0m\u001b[1;32m    728\u001b[0m         for hook in itertools.chain(\n\u001b[1;32m    729\u001b[0m                 \u001b[0m_global_forward_hooks\u001b[0m\u001b[0;34m.\u001b[0m\u001b[0mvalues\u001b[0m\u001b[0;34m(\u001b[0m\u001b[0;34m)\u001b[0m\u001b[0;34m,\u001b[0m\u001b[0;34m\u001b[0m\u001b[0;34m\u001b[0m\u001b[0m\n",
            "\u001b[0;32m/usr/local/lib/python3.6/dist-packages/torch/nn/modules/sparse.py\u001b[0m in \u001b[0;36mforward\u001b[0;34m(self, input)\u001b[0m\n\u001b[1;32m    124\u001b[0m         return F.embedding(\n\u001b[1;32m    125\u001b[0m             \u001b[0minput\u001b[0m\u001b[0;34m,\u001b[0m \u001b[0mself\u001b[0m\u001b[0;34m.\u001b[0m\u001b[0mweight\u001b[0m\u001b[0;34m,\u001b[0m \u001b[0mself\u001b[0m\u001b[0;34m.\u001b[0m\u001b[0mpadding_idx\u001b[0m\u001b[0;34m,\u001b[0m \u001b[0mself\u001b[0m\u001b[0;34m.\u001b[0m\u001b[0mmax_norm\u001b[0m\u001b[0;34m,\u001b[0m\u001b[0;34m\u001b[0m\u001b[0;34m\u001b[0m\u001b[0m\n\u001b[0;32m--> 126\u001b[0;31m             self.norm_type, self.scale_grad_by_freq, self.sparse)\n\u001b[0m\u001b[1;32m    127\u001b[0m \u001b[0;34m\u001b[0m\u001b[0m\n\u001b[1;32m    128\u001b[0m     \u001b[0;32mdef\u001b[0m \u001b[0mextra_repr\u001b[0m\u001b[0;34m(\u001b[0m\u001b[0mself\u001b[0m\u001b[0;34m)\u001b[0m \u001b[0;34m->\u001b[0m \u001b[0mstr\u001b[0m\u001b[0;34m:\u001b[0m\u001b[0;34m\u001b[0m\u001b[0;34m\u001b[0m\u001b[0m\n",
            "\u001b[0;32m/usr/local/lib/python3.6/dist-packages/torch/nn/functional.py\u001b[0m in \u001b[0;36membedding\u001b[0;34m(input, weight, padding_idx, max_norm, norm_type, scale_grad_by_freq, sparse)\u001b[0m\n\u001b[1;32m   1850\u001b[0m         \u001b[0;31m# remove once script supports set_grad_enabled\u001b[0m\u001b[0;34m\u001b[0m\u001b[0;34m\u001b[0m\u001b[0;34m\u001b[0m\u001b[0m\n\u001b[1;32m   1851\u001b[0m         \u001b[0m_no_grad_embedding_renorm_\u001b[0m\u001b[0;34m(\u001b[0m\u001b[0mweight\u001b[0m\u001b[0;34m,\u001b[0m \u001b[0minput\u001b[0m\u001b[0;34m,\u001b[0m \u001b[0mmax_norm\u001b[0m\u001b[0;34m,\u001b[0m \u001b[0mnorm_type\u001b[0m\u001b[0;34m)\u001b[0m\u001b[0;34m\u001b[0m\u001b[0;34m\u001b[0m\u001b[0m\n\u001b[0;32m-> 1852\u001b[0;31m     \u001b[0;32mreturn\u001b[0m \u001b[0mtorch\u001b[0m\u001b[0;34m.\u001b[0m\u001b[0membedding\u001b[0m\u001b[0;34m(\u001b[0m\u001b[0mweight\u001b[0m\u001b[0;34m,\u001b[0m \u001b[0minput\u001b[0m\u001b[0;34m,\u001b[0m \u001b[0mpadding_idx\u001b[0m\u001b[0;34m,\u001b[0m \u001b[0mscale_grad_by_freq\u001b[0m\u001b[0;34m,\u001b[0m \u001b[0msparse\u001b[0m\u001b[0;34m)\u001b[0m\u001b[0;34m\u001b[0m\u001b[0;34m\u001b[0m\u001b[0m\n\u001b[0m\u001b[1;32m   1853\u001b[0m \u001b[0;34m\u001b[0m\u001b[0m\n\u001b[1;32m   1854\u001b[0m \u001b[0;34m\u001b[0m\u001b[0m\n",
            "\u001b[0;31mIndexError\u001b[0m: index out of range in self"
          ]
        }
      ]
    },
    {
      "cell_type": "markdown",
      "metadata": {
        "id": "y8HV9yNUDBf9"
      },
      "source": [
        "However if we increase samples, it will go over the max of tokens bert embedding can hold which is 512. Say we everytime, bert can handle 15 samples. Say we have 4.5 million entries. In current sample, we have 4000 entries. It takes at least 35 mins to calculate all 4000 entries. It takes around 28 days to process 4.5 million entries if we run uninterruptedly."
      ]
    },
    {
      "cell_type": "markdown",
      "metadata": {
        "id": "Y-b3GZumIyYK"
      },
      "source": [
        "Now let's compare the time difference between feed sentence one by one vs feed a combined sentence:"
      ]
    },
    {
      "cell_type": "code",
      "metadata": {
        "id": "mqx_nMZHI6R6"
      },
      "source": [
        "number_of_entry_to_encode=10\n",
        "import time\n",
        "start = time.perf_counter()\n",
        "for i in range(0, 10):\n",
        "  all_sample_combined_sentence = proper_tagStr[i*number_of_entry_to_encode]\n",
        "  for p in proper_tagStr[i*number_of_entry_to_encode+1:(i+1)*number_of_entry_to_encode]:\n",
        "    all_sample_combined_sentence += \" \"\n",
        "    all_sample_combined_sentence += p\n",
        "\n",
        "  all_sample_combined_sentence_encoded = get_encoded_layers(all_sample_combined_sentence)\n",
        "  print_layer_shapes(all_sample_combined_sentence_encoded)\n",
        "\n",
        "end = time.perf_counter()\n",
        "print(\"This cell takes \" + str(end-start) + \" seconds to run\")"
      ],
      "execution_count": null,
      "outputs": []
    },
    {
      "cell_type": "markdown",
      "metadata": {
        "id": "VmyvtHQgKDKm"
      },
      "source": [
        "This is faster than feed in one by one. However, to ensure this approach works we have to guarantee that total number of words in every 10 entries need to be lower than the upper limit (512) that Bert Model has. Moreover, we also need to pay more time on CLE and SEP and marking sentences and extract the mean vector. Therefore, it might not be very economic. I will reserve this method to be invoke when we hit another runtime bottleneck where one by one feeding approach doesn't work."
      ]
    },
    {
      "cell_type": "markdown",
      "metadata": {
        "id": "a1d4QuVYf3je"
      },
      "source": [
        "#Vectorize using Bert Model Part 2"
      ]
    },
    {
      "cell_type": "markdown",
      "metadata": {
        "id": "2Jf9XWX4P-XQ"
      },
      "source": [
        "To get a single vector for our entire sentence we have multiple application-dependent strategies, but a simple approach is to average the second to last hiden layer of each token producing a single 768 length vector.\n",
        "\n",
        "Here we put each sentence vector into the list list_of_sentence_embedding."
      ]
    },
    {
      "cell_type": "code",
      "metadata": {
        "id": "o9vfb9KxP_mq"
      },
      "source": [
        "list_of_sentence_embedding = []\n",
        "for encoded_layers in list_of_encoded_layers:\n",
        "  # `token_vecs` is a tensor with shape [Number of tokens x Number of hidden units]\n",
        "  token_vecs = encoded_layers[11][0]\n",
        "\n",
        "  # Calculate the average of all token vectors.\n",
        "  sentence_embedding = torch.mean(token_vecs, dim=0)\n",
        "\n",
        "  list_of_sentence_embedding.append(sentence_embedding)"
      ],
      "execution_count": 332,
      "outputs": []
    },
    {
      "cell_type": "markdown",
      "metadata": {
        "id": "x2XVjW_wSTJJ"
      },
      "source": [
        "The following shows an example of how the values embedding in the first tag lists look like."
      ]
    },
    {
      "cell_type": "code",
      "metadata": {
        "id": "MXEHMNfrQWot",
        "colab": {
          "base_uri": "https://localhost:8080/"
        },
        "outputId": "3c3e2c95-a1c7-411f-880c-b62952113a1d"
      },
      "source": [
        "print(list_of_sentence_embedding[0])"
      ],
      "execution_count": 333,
      "outputs": [
        {
          "output_type": "stream",
          "text": [
            "tensor([-2.7818e-01,  6.7193e-02,  6.0001e-01,  4.0286e-03,  1.4117e-02,\n",
            "         2.8052e-01, -5.1397e-01, -3.4226e-01,  4.3888e-01, -2.1767e-01,\n",
            "         2.0853e-02,  1.6242e-01,  1.4813e-01,  2.0162e-01, -1.3357e-01,\n",
            "         7.5658e-01, -2.7704e-01, -4.5248e-01, -3.1910e-01, -5.3740e-01,\n",
            "         4.0843e-01, -5.0926e-01, -1.3549e-01,  2.3052e-02,  5.0628e-01,\n",
            "        -1.3807e-01,  7.6384e-01, -2.6883e-01,  2.9147e-01,  4.9686e-01,\n",
            "         2.6273e-01, -4.2408e-02, -1.3139e-01,  3.4520e-01,  6.5523e-02,\n",
            "         5.2596e-01,  6.4495e-01,  1.8682e-01,  2.8612e-01, -2.2547e-01,\n",
            "        -1.2276e-01, -4.7425e-02,  2.0477e-01,  1.1897e-01,  2.4562e-01,\n",
            "        -2.6260e-01,  2.5796e-01, -3.2267e-01,  3.9810e-01, -2.0842e-01,\n",
            "        -1.6226e-01,  7.7824e-01,  8.1082e-01, -3.1426e-01,  3.1625e-03,\n",
            "         2.6762e-01,  4.7510e-01, -3.0724e-01, -2.8792e-01, -1.0501e-01,\n",
            "         2.1542e-01, -4.4441e-03,  1.0587e-01, -1.5250e-01, -2.7707e-02,\n",
            "        -3.1979e-01, -3.3084e-01,  2.1846e-01, -2.2220e-02, -2.4753e-01,\n",
            "        -1.9279e-01,  4.6809e-02,  1.9976e-01, -7.8410e-01,  1.1531e-01,\n",
            "        -7.6522e-02,  2.5881e-01,  1.4665e-01,  7.2244e-01,  2.9230e-01,\n",
            "         5.8439e-01,  2.1816e-01, -7.6686e-02,  2.2050e-01,  7.8446e-01,\n",
            "        -6.7217e-01, -1.1118e-01,  4.0775e-01, -1.4818e-01,  1.3071e-01,\n",
            "         2.3572e-02, -3.8389e-01, -1.8618e-01,  4.6609e-01, -2.3128e-01,\n",
            "         4.2435e-01, -7.4312e-03, -3.4644e-02,  2.7136e-01, -1.2135e-01,\n",
            "         5.0207e-01,  7.2835e-03, -1.1707e-01, -2.6324e-01, -3.8974e-01,\n",
            "         1.3550e-01, -1.2809e-01,  1.6013e-01, -1.0634e-01, -6.3888e-02,\n",
            "        -1.3293e-01,  9.0060e-02, -5.4499e-01,  1.3970e-02,  4.8841e-02,\n",
            "        -5.9720e-01,  3.7618e-02,  1.6805e-02,  1.1222e-01, -3.0872e-01,\n",
            "         4.8087e-01,  2.4402e-01, -2.1651e-01,  1.1064e+00,  4.5188e-01,\n",
            "         6.5922e-02, -4.8862e-01,  5.3832e-01, -4.3486e-01,  3.2289e-01,\n",
            "        -3.6722e-01,  1.2286e-01, -2.6967e-01,  1.0525e-01, -1.9888e-01,\n",
            "         3.1616e-01, -1.8918e-01, -3.2853e-02,  2.8889e-01,  1.4942e-01,\n",
            "        -6.8488e-01,  5.7620e-01, -2.0588e-01,  6.4892e-01, -2.4702e-01,\n",
            "        -4.8501e-01,  2.3012e-01, -3.2574e-01, -4.9695e-01,  3.7702e-01,\n",
            "         1.1051e-01,  6.9058e-01,  7.1183e-02, -1.5998e-01,  5.2406e-01,\n",
            "         2.5519e-01, -1.5794e-01, -4.8543e-01, -1.6601e-01, -3.0277e-01,\n",
            "        -1.2698e-02, -2.7307e-01, -2.5919e-01, -1.0409e+00,  6.9802e-01,\n",
            "        -9.0413e-01, -6.2131e-01, -3.9913e-01,  3.8402e-01, -4.9714e-02,\n",
            "         7.0768e-03, -1.0416e-01,  1.4887e-02,  1.2685e-01, -1.1469e-03,\n",
            "         7.5656e-02, -1.8511e-01, -4.3370e-02, -2.7799e-01,  2.0277e-01,\n",
            "        -3.0336e-01,  6.3233e-01, -2.4929e-01, -2.0130e-01, -1.1656e-01,\n",
            "         1.5129e-01,  3.1444e-02,  1.8203e-01,  2.8909e-01,  4.1682e-01,\n",
            "        -1.6851e-01, -2.2001e-01,  4.4061e-01,  4.2831e-02,  5.6001e-03,\n",
            "        -3.2584e-01, -1.2513e-01,  1.3421e-01,  3.2900e-02, -1.4934e-01,\n",
            "        -1.6035e-02,  1.6046e-01, -2.5530e-01, -8.2615e-01, -1.7748e-01,\n",
            "         4.3963e-01,  2.5915e-01, -4.4480e-01, -1.4403e-01, -5.3856e-01,\n",
            "        -3.6245e-01, -3.3845e-01,  8.9248e-02, -2.7716e-01,  1.4317e-01,\n",
            "        -1.0527e-01, -1.0314e-01, -1.8314e-01,  2.1973e-01,  4.9666e-01,\n",
            "        -4.9269e-03, -2.9172e-02,  5.4435e-01, -3.4623e-01,  1.5974e-01,\n",
            "         2.1217e-01,  5.2420e-01, -9.6771e-02, -2.6907e-01,  4.2631e-01,\n",
            "        -4.2619e-01, -3.8831e-01, -3.2130e-02, -1.8290e-01,  5.5999e-01,\n",
            "        -8.8442e-02,  3.2874e-01,  2.1078e-01,  3.2907e-01, -9.3871e-01,\n",
            "        -6.9619e-01, -7.6819e-03, -1.1048e-02,  2.7339e-01, -3.9171e-01,\n",
            "        -1.9888e-01,  5.2679e-02,  2.6374e-02,  1.5929e-01,  3.9274e-01,\n",
            "        -1.1599e+00, -1.1799e-01, -1.0858e-01, -2.6099e-01, -4.1691e-01,\n",
            "        -7.0105e-01,  3.8124e-01, -8.7654e-01, -2.1804e-01,  1.1795e-02,\n",
            "        -3.0294e-01,  4.2861e-01,  1.8462e-01, -1.8154e-01, -4.8943e-01,\n",
            "        -2.4296e-01, -4.6771e-01, -3.1858e-01,  4.0971e-01,  3.1863e-01,\n",
            "         4.5193e-01,  3.2985e-01, -2.1334e-01, -2.1984e-01, -4.5194e-01,\n",
            "         1.9246e-01,  1.5825e-01,  2.4087e-02,  1.1980e-01,  6.1287e-01,\n",
            "         1.2437e-01,  8.3972e-01,  7.3637e-01, -9.3116e-02, -2.7667e-01,\n",
            "         7.5538e-02, -6.7549e-02, -4.2192e-01, -4.0733e-01, -6.4245e-01,\n",
            "         1.8238e-01,  8.1113e-01, -1.0488e-01, -2.4590e-01, -6.7882e-02,\n",
            "        -1.0556e-01, -3.1956e-01,  3.2804e-02,  3.6810e-01,  1.4924e-02,\n",
            "        -7.1799e-01,  2.2721e-01,  5.0867e-01,  7.5030e-01,  6.2373e-01,\n",
            "         4.0971e-01, -1.0858e-01, -5.5448e-01, -5.6882e+00, -2.0663e-01,\n",
            "        -2.2975e-01,  7.9681e-02,  5.2952e-01,  4.8560e-02,  3.7475e-01,\n",
            "        -5.5209e-01, -6.7417e-01,  3.5891e-01, -1.1166e-02,  4.2697e-01,\n",
            "        -6.2050e-01,  1.1611e-01,  1.9022e-01, -3.8175e-01, -1.8432e-01,\n",
            "        -2.7703e-02, -2.1584e-01,  8.0581e-01,  1.7925e-01, -5.2609e-01,\n",
            "        -2.3155e-01, -8.2933e-03, -6.8906e-02,  5.5356e-02, -1.2680e-01,\n",
            "        -2.6257e-01, -6.9386e-01, -3.5734e-01,  1.5939e-01, -3.7493e-01,\n",
            "         1.3732e-01, -5.8330e-01,  2.8471e-01,  8.0770e-02,  2.8538e-01,\n",
            "        -1.0725e-01,  9.1634e-02, -2.7603e-01, -2.8544e-01,  7.6119e-02,\n",
            "         1.5572e-01,  2.4909e-01,  7.1323e-01,  2.7758e-01,  1.3365e+00,\n",
            "        -4.7204e-01, -7.9819e-01,  1.3038e-01,  6.1408e-01,  1.6200e-01,\n",
            "         3.3397e-01, -4.1967e-03,  4.6810e-01,  9.0632e-01, -3.8064e-01,\n",
            "         4.8863e-01,  5.3735e-01, -1.8175e-01, -4.9088e-02,  1.0467e-01,\n",
            "        -4.3566e-01, -4.0000e-01, -4.2812e-01, -2.4632e-02, -4.0849e-01,\n",
            "         5.3876e-01,  1.3941e-01, -1.2417e-02, -3.5114e-01,  1.3268e-01,\n",
            "         3.9518e-01, -7.5435e-01, -6.4997e-02, -4.0512e-01,  1.5106e-01,\n",
            "        -1.6598e-02,  9.1497e-02,  1.5924e-01, -4.4447e-01, -2.2165e-02,\n",
            "         4.9278e-01,  6.4129e-02, -8.8664e-02,  3.8463e-01, -2.2208e-01,\n",
            "        -2.7782e-01,  4.6538e-02, -1.1982e-01, -7.3895e-01, -3.2806e-01,\n",
            "        -8.6961e-02, -8.3983e-02,  5.0973e-01, -4.0242e-02, -9.4528e-02,\n",
            "         4.6283e-01, -1.6802e-01, -2.9759e-01, -1.0510e+00,  2.3094e-01,\n",
            "         3.6528e-02, -6.0776e-01, -3.6162e-01,  1.7618e-01,  7.6332e-02,\n",
            "         2.6921e-01, -3.0530e-01, -4.2255e-01,  1.4420e-01, -2.0169e-01,\n",
            "         1.4166e-01, -2.1622e-01,  5.7942e-01, -7.8453e-01, -2.2622e-01,\n",
            "        -3.4647e-01,  3.5914e-01, -4.8983e-01, -3.5955e-01,  6.6069e-01,\n",
            "         3.8802e-02, -1.1471e-01, -6.1319e-01, -2.9688e-01, -1.4095e-01,\n",
            "        -5.3783e-01, -2.2618e-01, -1.3126e-01,  5.9409e-02,  2.0903e-01,\n",
            "         7.6366e-01, -1.7706e-01, -5.3675e-01, -2.3504e-01, -2.2854e-01,\n",
            "         1.8112e-01, -2.2123e-01,  1.5598e-01, -8.1294e-02,  6.3754e-01,\n",
            "        -5.2301e-01,  3.1203e-01,  2.7723e-01,  1.2320e-01,  2.6422e-02,\n",
            "         2.2659e-01,  1.6751e-01, -3.3151e-01, -3.6471e-01,  5.7293e-01,\n",
            "         5.2817e-01, -7.4571e-01,  2.1840e-01, -1.3047e-01,  4.5472e-01,\n",
            "        -2.4137e-01,  5.9465e-01, -7.6682e-01,  1.6793e-01, -1.1274e-01,\n",
            "        -7.7882e-02,  3.0240e-01, -1.8482e-01,  3.3041e-01,  3.7779e-01,\n",
            "         2.3776e-01,  3.6784e-01,  3.9777e-02, -3.3817e-01, -5.8292e-02,\n",
            "        -1.7759e-01, -2.4119e-02,  1.0020e-01,  6.4264e-01, -5.1886e-01,\n",
            "        -6.4304e-01, -7.6549e-01,  4.4289e-01, -6.0864e-02,  7.8666e-01,\n",
            "        -2.2521e-01, -2.4362e-02,  2.7014e-01, -3.2690e-01, -3.4760e-01,\n",
            "         3.0868e-01, -2.5022e-01, -2.0185e-02, -1.8996e-01, -5.2812e-01,\n",
            "         5.6935e-01,  6.5624e-02, -7.8619e-02,  4.5075e-02,  8.6605e-01,\n",
            "        -5.1632e-01, -1.4818e-01,  1.9291e-01, -6.6819e-01, -2.7980e-01,\n",
            "        -4.2648e-01,  6.5976e-02,  5.7339e-01,  2.4646e-02, -1.5608e-01,\n",
            "        -1.7775e-01, -2.1763e-01, -5.7882e-01, -3.7820e-01, -1.5385e-01,\n",
            "        -1.6919e-01,  1.8142e-02,  7.5336e-02, -5.4010e-01,  1.4013e-01,\n",
            "         2.0545e-01,  9.4470e-02, -1.7257e-01, -4.1712e-01, -9.7253e-01,\n",
            "         7.2688e-02, -3.4890e-02, -1.3943e-01, -1.7654e-01, -2.8388e-01,\n",
            "        -4.5482e-01,  2.6400e-01,  6.4318e-01, -4.6438e-01, -7.8659e-01,\n",
            "        -2.7568e-01, -5.6536e-02,  1.5435e-01, -2.0324e-01,  7.4199e-02,\n",
            "        -5.5593e-01, -4.0064e-01,  5.1584e-01,  1.0052e-01,  6.6572e-01,\n",
            "         7.4269e-01,  4.7094e-01, -6.6173e-01, -6.9756e-01,  3.6593e-01,\n",
            "         9.6738e-02, -1.9865e-01,  3.1338e-01, -1.2188e-01, -7.4836e-01,\n",
            "        -1.7853e-02, -4.3432e-01, -2.9771e-03, -5.5431e-02,  3.7612e-01,\n",
            "         1.2994e-01,  3.1266e-01,  4.7855e-01,  5.7103e-02,  4.2237e-01,\n",
            "        -6.1106e-01, -5.4078e-01,  1.8848e-01,  1.4182e-01, -5.1767e-02,\n",
            "        -1.6630e-01,  7.3074e-01, -2.1542e-01,  3.1338e-01,  1.1439e-01,\n",
            "         1.4967e-01,  8.6104e-01,  5.2491e-01, -7.0210e-01, -4.8099e-01,\n",
            "         7.0046e-01,  9.0229e-03,  6.6665e-02,  3.1462e-01,  4.4100e-01,\n",
            "        -5.6421e-01, -1.4649e-01, -3.8355e-01, -3.6631e-02,  2.0619e-01,\n",
            "        -7.6563e-02, -2.1175e-01,  3.0731e-01,  5.1956e-01, -1.5598e-01,\n",
            "         6.2784e-01, -9.2870e-01, -4.3927e-01,  1.1238e-01, -1.6438e-01,\n",
            "        -1.3252e-01, -9.4673e-01,  9.6461e-02, -2.4212e-01, -6.4340e-01,\n",
            "        -2.3194e-01,  1.6613e-01,  1.9417e-01,  3.2387e-01, -2.2127e-01,\n",
            "        -1.0050e-01,  1.9175e-01,  5.1327e-01,  2.7823e-01, -1.5599e-01,\n",
            "        -7.7157e-02,  6.3616e-01, -4.1556e-01, -4.7432e-01,  4.7739e-01,\n",
            "         3.0394e-02,  6.1061e-01,  5.9254e-01, -3.6078e-01,  7.4573e-01,\n",
            "        -3.4629e-02,  2.7292e-01,  1.2424e-01, -1.6742e-01,  4.0917e-01,\n",
            "        -1.8912e-01,  1.5482e-01,  2.0761e-02,  2.4922e-01,  4.6707e-01,\n",
            "         4.9257e-01,  1.3669e-01, -7.5233e-01, -2.0607e-02,  5.5129e-01,\n",
            "         5.4943e-01, -8.5164e-02,  3.5074e-01,  1.8046e-01, -4.7872e-01,\n",
            "        -5.8555e-02,  6.7506e-01,  1.5180e-01, -3.9409e-02,  8.7620e-02,\n",
            "         3.3598e-01, -3.7228e-01,  5.6101e-01,  2.2701e-01,  8.0803e-02,\n",
            "        -4.1644e-02, -4.9012e-01, -5.0594e-01,  4.5992e-01,  3.3706e-01,\n",
            "        -2.7215e-01, -3.1968e-01, -2.5608e-01, -9.7157e-02,  5.6429e-01,\n",
            "         4.2730e-01, -2.3447e-01, -1.8245e-02, -2.1426e-01,  4.3213e-01,\n",
            "        -1.7894e-01,  7.2411e-02,  4.4394e-01,  2.3110e-02, -2.1859e-01,\n",
            "        -1.8803e-01,  1.2699e-01,  2.9792e-01, -4.4616e-01, -3.4027e-01,\n",
            "        -1.4891e-02,  2.6463e-01,  4.6352e-01,  1.6333e-01, -5.1091e-01,\n",
            "         1.3632e-01,  1.5198e-01,  7.1126e-01, -2.3733e-01, -1.0086e-01,\n",
            "        -2.6280e-02, -1.5549e-01, -1.9454e-01, -2.8679e-01,  3.0230e-01,\n",
            "         1.6432e-01, -4.2541e-02, -9.0882e-01, -1.1237e-01,  9.7443e-03,\n",
            "        -1.0435e-01,  2.1228e-01,  4.9719e-01,  8.8584e-02,  6.0054e-01,\n",
            "        -5.1776e-01,  8.3053e-02,  8.8473e-01, -7.3618e-02, -5.3139e-02,\n",
            "         2.3191e-01, -5.6803e-01,  1.3649e-01, -5.9737e-02,  6.4169e-02,\n",
            "         5.4088e-01,  6.2909e-01, -5.3852e-01, -2.1381e-01,  6.6101e-01,\n",
            "        -7.1665e-02, -1.7615e-02, -1.6537e-01, -3.9605e-01, -3.7069e-01,\n",
            "         2.0375e-01,  5.5392e-03, -1.1441e-02,  3.8427e-01, -1.9204e-01,\n",
            "         2.3420e-01, -2.9301e-01,  4.8827e-01, -4.4973e-03,  3.5458e-01,\n",
            "        -4.6803e-02,  1.2951e-01,  2.4208e-02,  2.0829e-01,  3.1935e-01,\n",
            "        -1.1392e-01,  3.8726e-01,  6.5030e-01,  1.7820e-01, -1.9432e-01,\n",
            "        -1.9188e-01,  1.6994e-01, -1.7008e-01, -1.0185e-01,  3.3024e-01,\n",
            "        -3.3600e-01, -6.9409e-02,  3.7800e-01,  2.2307e-01, -2.7732e-01,\n",
            "        -1.0679e-01, -3.2426e-01,  1.7604e-01, -6.4591e-01, -2.7786e-01,\n",
            "        -5.3619e-02, -5.6353e-02, -9.9816e-02])\n"
          ],
          "name": "stdout"
        }
      ]
    },
    {
      "cell_type": "code",
      "metadata": {
        "id": "YHLt5HVo9u-m",
        "colab": {
          "base_uri": "https://localhost:8080/"
        },
        "outputId": "c6dade29-a1a6-400d-d7a0-16ececd6c392"
      },
      "source": [
        "len(list_of_sentence_embedding) #should equal number of entry to process"
      ],
      "execution_count": 334,
      "outputs": [
        {
          "output_type": "execute_result",
          "data": {
            "text/plain": [
              "400"
            ]
          },
          "metadata": {
            "tags": []
          },
          "execution_count": 334
        }
      ]
    },
    {
      "cell_type": "markdown",
      "metadata": {
        "id": "vqJTYDu-D27v"
      },
      "source": [
        "# Predict Using sklearn MLPRegressor"
      ]
    },
    {
      "cell_type": "markdown",
      "metadata": {
        "id": "9LkMC_e5D7Te"
      },
      "source": [
        "We first take 100 encoded taglists as a data set for prediction, defined as X. The corresponding standardized popularity defined as y."
      ]
    },
    {
      "cell_type": "code",
      "metadata": {
        "id": "ITJMfFXnD8WU"
      },
      "source": [
        "X = list_of_sentence_embedding\n",
        "y = image_view_sp_defined['standardized_popularity'][:number_of_entry_to_encode].values"
      ],
      "execution_count": 335,
      "outputs": []
    },
    {
      "cell_type": "markdown",
      "metadata": {
        "id": "nJI88HY_D_q8"
      },
      "source": [
        "The following cells use onehot encoding on X to make sure it can be sent into Linear Models."
      ]
    },
    {
      "cell_type": "code",
      "metadata": {
        "id": "ZrilnQ-JEEfx",
        "colab": {
          "base_uri": "https://localhost:8080/",
          "height": 439
        },
        "outputId": "0d471f4f-9589-4282-b674-9f9067e839d1"
      },
      "source": [
        "X = pd.DataFrame(data=X)\n",
        "X"
      ],
      "execution_count": 336,
      "outputs": [
        {
          "output_type": "execute_result",
          "data": {
            "text/html": [
              "<div>\n",
              "<style scoped>\n",
              "    .dataframe tbody tr th:only-of-type {\n",
              "        vertical-align: middle;\n",
              "    }\n",
              "\n",
              "    .dataframe tbody tr th {\n",
              "        vertical-align: top;\n",
              "    }\n",
              "\n",
              "    .dataframe thead th {\n",
              "        text-align: right;\n",
              "    }\n",
              "</style>\n",
              "<table border=\"1\" class=\"dataframe\">\n",
              "  <thead>\n",
              "    <tr style=\"text-align: right;\">\n",
              "      <th></th>\n",
              "      <th>0</th>\n",
              "      <th>1</th>\n",
              "      <th>2</th>\n",
              "      <th>3</th>\n",
              "      <th>4</th>\n",
              "      <th>5</th>\n",
              "      <th>6</th>\n",
              "      <th>7</th>\n",
              "      <th>8</th>\n",
              "      <th>9</th>\n",
              "      <th>10</th>\n",
              "      <th>11</th>\n",
              "      <th>12</th>\n",
              "      <th>13</th>\n",
              "      <th>14</th>\n",
              "      <th>15</th>\n",
              "      <th>16</th>\n",
              "      <th>17</th>\n",
              "      <th>18</th>\n",
              "      <th>19</th>\n",
              "      <th>20</th>\n",
              "      <th>21</th>\n",
              "      <th>22</th>\n",
              "      <th>23</th>\n",
              "      <th>24</th>\n",
              "      <th>25</th>\n",
              "      <th>26</th>\n",
              "      <th>27</th>\n",
              "      <th>28</th>\n",
              "      <th>29</th>\n",
              "      <th>30</th>\n",
              "      <th>31</th>\n",
              "      <th>32</th>\n",
              "      <th>33</th>\n",
              "      <th>34</th>\n",
              "      <th>35</th>\n",
              "      <th>36</th>\n",
              "      <th>37</th>\n",
              "      <th>38</th>\n",
              "      <th>39</th>\n",
              "      <th>...</th>\n",
              "      <th>728</th>\n",
              "      <th>729</th>\n",
              "      <th>730</th>\n",
              "      <th>731</th>\n",
              "      <th>732</th>\n",
              "      <th>733</th>\n",
              "      <th>734</th>\n",
              "      <th>735</th>\n",
              "      <th>736</th>\n",
              "      <th>737</th>\n",
              "      <th>738</th>\n",
              "      <th>739</th>\n",
              "      <th>740</th>\n",
              "      <th>741</th>\n",
              "      <th>742</th>\n",
              "      <th>743</th>\n",
              "      <th>744</th>\n",
              "      <th>745</th>\n",
              "      <th>746</th>\n",
              "      <th>747</th>\n",
              "      <th>748</th>\n",
              "      <th>749</th>\n",
              "      <th>750</th>\n",
              "      <th>751</th>\n",
              "      <th>752</th>\n",
              "      <th>753</th>\n",
              "      <th>754</th>\n",
              "      <th>755</th>\n",
              "      <th>756</th>\n",
              "      <th>757</th>\n",
              "      <th>758</th>\n",
              "      <th>759</th>\n",
              "      <th>760</th>\n",
              "      <th>761</th>\n",
              "      <th>762</th>\n",
              "      <th>763</th>\n",
              "      <th>764</th>\n",
              "      <th>765</th>\n",
              "      <th>766</th>\n",
              "      <th>767</th>\n",
              "    </tr>\n",
              "  </thead>\n",
              "  <tbody>\n",
              "    <tr>\n",
              "      <th>0</th>\n",
              "      <td>tensor(-0.2782)</td>\n",
              "      <td>tensor(0.0672)</td>\n",
              "      <td>tensor(0.6000)</td>\n",
              "      <td>tensor(0.0040)</td>\n",
              "      <td>tensor(0.0141)</td>\n",
              "      <td>tensor(0.2805)</td>\n",
              "      <td>tensor(-0.5140)</td>\n",
              "      <td>tensor(-0.3423)</td>\n",
              "      <td>tensor(0.4389)</td>\n",
              "      <td>tensor(-0.2177)</td>\n",
              "      <td>tensor(0.0209)</td>\n",
              "      <td>tensor(0.1624)</td>\n",
              "      <td>tensor(0.1481)</td>\n",
              "      <td>tensor(0.2016)</td>\n",
              "      <td>tensor(-0.1336)</td>\n",
              "      <td>tensor(0.7566)</td>\n",
              "      <td>tensor(-0.2770)</td>\n",
              "      <td>tensor(-0.4525)</td>\n",
              "      <td>tensor(-0.3191)</td>\n",
              "      <td>tensor(-0.5374)</td>\n",
              "      <td>tensor(0.4084)</td>\n",
              "      <td>tensor(-0.5093)</td>\n",
              "      <td>tensor(-0.1355)</td>\n",
              "      <td>tensor(0.0231)</td>\n",
              "      <td>tensor(0.5063)</td>\n",
              "      <td>tensor(-0.1381)</td>\n",
              "      <td>tensor(0.7638)</td>\n",
              "      <td>tensor(-0.2688)</td>\n",
              "      <td>tensor(0.2915)</td>\n",
              "      <td>tensor(0.4969)</td>\n",
              "      <td>tensor(0.2627)</td>\n",
              "      <td>tensor(-0.0424)</td>\n",
              "      <td>tensor(-0.1314)</td>\n",
              "      <td>tensor(0.3452)</td>\n",
              "      <td>tensor(0.0655)</td>\n",
              "      <td>tensor(0.5260)</td>\n",
              "      <td>tensor(0.6450)</td>\n",
              "      <td>tensor(0.1868)</td>\n",
              "      <td>tensor(0.2861)</td>\n",
              "      <td>tensor(-0.2255)</td>\n",
              "      <td>...</td>\n",
              "      <td>tensor(-0.3961)</td>\n",
              "      <td>tensor(-0.3707)</td>\n",
              "      <td>tensor(0.2037)</td>\n",
              "      <td>tensor(0.0055)</td>\n",
              "      <td>tensor(-0.0114)</td>\n",
              "      <td>tensor(0.3843)</td>\n",
              "      <td>tensor(-0.1920)</td>\n",
              "      <td>tensor(0.2342)</td>\n",
              "      <td>tensor(-0.2930)</td>\n",
              "      <td>tensor(0.4883)</td>\n",
              "      <td>tensor(-0.0045)</td>\n",
              "      <td>tensor(0.3546)</td>\n",
              "      <td>tensor(-0.0468)</td>\n",
              "      <td>tensor(0.1295)</td>\n",
              "      <td>tensor(0.0242)</td>\n",
              "      <td>tensor(0.2083)</td>\n",
              "      <td>tensor(0.3194)</td>\n",
              "      <td>tensor(-0.1139)</td>\n",
              "      <td>tensor(0.3873)</td>\n",
              "      <td>tensor(0.6503)</td>\n",
              "      <td>tensor(0.1782)</td>\n",
              "      <td>tensor(-0.1943)</td>\n",
              "      <td>tensor(-0.1919)</td>\n",
              "      <td>tensor(0.1699)</td>\n",
              "      <td>tensor(-0.1701)</td>\n",
              "      <td>tensor(-0.1019)</td>\n",
              "      <td>tensor(0.3302)</td>\n",
              "      <td>tensor(-0.3360)</td>\n",
              "      <td>tensor(-0.0694)</td>\n",
              "      <td>tensor(0.3780)</td>\n",
              "      <td>tensor(0.2231)</td>\n",
              "      <td>tensor(-0.2773)</td>\n",
              "      <td>tensor(-0.1068)</td>\n",
              "      <td>tensor(-0.3243)</td>\n",
              "      <td>tensor(0.1760)</td>\n",
              "      <td>tensor(-0.6459)</td>\n",
              "      <td>tensor(-0.2779)</td>\n",
              "      <td>tensor(-0.0536)</td>\n",
              "      <td>tensor(-0.0564)</td>\n",
              "      <td>tensor(-0.0998)</td>\n",
              "    </tr>\n",
              "    <tr>\n",
              "      <th>1</th>\n",
              "      <td>tensor(0.0393)</td>\n",
              "      <td>tensor(-0.2368)</td>\n",
              "      <td>tensor(0.2503)</td>\n",
              "      <td>tensor(-0.5039)</td>\n",
              "      <td>tensor(0.1808)</td>\n",
              "      <td>tensor(0.6966)</td>\n",
              "      <td>tensor(-0.4055)</td>\n",
              "      <td>tensor(-0.4334)</td>\n",
              "      <td>tensor(-0.2500)</td>\n",
              "      <td>tensor(-0.3316)</td>\n",
              "      <td>tensor(0.3089)</td>\n",
              "      <td>tensor(-0.1361)</td>\n",
              "      <td>tensor(-0.0873)</td>\n",
              "      <td>tensor(0.1749)</td>\n",
              "      <td>tensor(-0.6321)</td>\n",
              "      <td>tensor(0.3115)</td>\n",
              "      <td>tensor(-0.0731)</td>\n",
              "      <td>tensor(0.1350)</td>\n",
              "      <td>tensor(0.3159)</td>\n",
              "      <td>tensor(0.1930)</td>\n",
              "      <td>tensor(-0.1062)</td>\n",
              "      <td>tensor(0.4577)</td>\n",
              "      <td>tensor(0.1892)</td>\n",
              "      <td>tensor(-0.1971)</td>\n",
              "      <td>tensor(0.3419)</td>\n",
              "      <td>tensor(-0.3674)</td>\n",
              "      <td>tensor(0.4105)</td>\n",
              "      <td>tensor(0.0698)</td>\n",
              "      <td>tensor(-0.3648)</td>\n",
              "      <td>tensor(-0.0246)</td>\n",
              "      <td>tensor(-0.1688)</td>\n",
              "      <td>tensor(-0.4201)</td>\n",
              "      <td>tensor(-0.2272)</td>\n",
              "      <td>tensor(-0.0672)</td>\n",
              "      <td>tensor(-0.1667)</td>\n",
              "      <td>tensor(0.1049)</td>\n",
              "      <td>tensor(0.7676)</td>\n",
              "      <td>tensor(0.2427)</td>\n",
              "      <td>tensor(-0.5182)</td>\n",
              "      <td>tensor(0.1976)</td>\n",
              "      <td>...</td>\n",
              "      <td>tensor(-0.0532)</td>\n",
              "      <td>tensor(0.2642)</td>\n",
              "      <td>tensor(0.0940)</td>\n",
              "      <td>tensor(0.1310)</td>\n",
              "      <td>tensor(-0.1681)</td>\n",
              "      <td>tensor(0.1085)</td>\n",
              "      <td>tensor(-0.3621)</td>\n",
              "      <td>tensor(0.5545)</td>\n",
              "      <td>tensor(0.1903)</td>\n",
              "      <td>tensor(0.4710)</td>\n",
              "      <td>tensor(-0.6212)</td>\n",
              "      <td>tensor(-0.6083)</td>\n",
              "      <td>tensor(0.3993)</td>\n",
              "      <td>tensor(0.1148)</td>\n",
              "      <td>tensor(0.3130)</td>\n",
              "      <td>tensor(0.3404)</td>\n",
              "      <td>tensor(-0.0439)</td>\n",
              "      <td>tensor(0.0142)</td>\n",
              "      <td>tensor(0.1586)</td>\n",
              "      <td>tensor(-0.0501)</td>\n",
              "      <td>tensor(0.3231)</td>\n",
              "      <td>tensor(-0.8994)</td>\n",
              "      <td>tensor(0.6853)</td>\n",
              "      <td>tensor(0.2608)</td>\n",
              "      <td>tensor(-0.4233)</td>\n",
              "      <td>tensor(-0.0380)</td>\n",
              "      <td>tensor(-0.1555)</td>\n",
              "      <td>tensor(-0.2415)</td>\n",
              "      <td>tensor(-0.2007)</td>\n",
              "      <td>tensor(-0.0558)</td>\n",
              "      <td>tensor(0.4825)</td>\n",
              "      <td>tensor(0.3185)</td>\n",
              "      <td>tensor(-0.3806)</td>\n",
              "      <td>tensor(-0.1698)</td>\n",
              "      <td>tensor(0.3194)</td>\n",
              "      <td>tensor(-0.1177)</td>\n",
              "      <td>tensor(-0.6743)</td>\n",
              "      <td>tensor(0.3078)</td>\n",
              "      <td>tensor(-0.0392)</td>\n",
              "      <td>tensor(0.3396)</td>\n",
              "    </tr>\n",
              "    <tr>\n",
              "      <th>2</th>\n",
              "      <td>tensor(-0.3033)</td>\n",
              "      <td>tensor(0.0165)</td>\n",
              "      <td>tensor(0.0793)</td>\n",
              "      <td>tensor(-0.4485)</td>\n",
              "      <td>tensor(0.4299)</td>\n",
              "      <td>tensor(-0.2167)</td>\n",
              "      <td>tensor(-0.0564)</td>\n",
              "      <td>tensor(-0.0574)</td>\n",
              "      <td>tensor(-0.7878)</td>\n",
              "      <td>tensor(0.1259)</td>\n",
              "      <td>tensor(-0.2373)</td>\n",
              "      <td>tensor(-0.4881)</td>\n",
              "      <td>tensor(-0.1216)</td>\n",
              "      <td>tensor(0.3267)</td>\n",
              "      <td>tensor(-0.0721)</td>\n",
              "      <td>tensor(0.6121)</td>\n",
              "      <td>tensor(0.4439)</td>\n",
              "      <td>tensor(-0.0842)</td>\n",
              "      <td>tensor(-0.2799)</td>\n",
              "      <td>tensor(0.8604)</td>\n",
              "      <td>tensor(0.8636)</td>\n",
              "      <td>tensor(0.0273)</td>\n",
              "      <td>tensor(0.1892)</td>\n",
              "      <td>tensor(0.6127)</td>\n",
              "      <td>tensor(0.1573)</td>\n",
              "      <td>tensor(-0.5559)</td>\n",
              "      <td>tensor(0.2494)</td>\n",
              "      <td>tensor(-0.1051)</td>\n",
              "      <td>tensor(-0.0322)</td>\n",
              "      <td>tensor(-0.1273)</td>\n",
              "      <td>tensor(-0.0059)</td>\n",
              "      <td>tensor(-0.5841)</td>\n",
              "      <td>tensor(0.2299)</td>\n",
              "      <td>tensor(0.5872)</td>\n",
              "      <td>tensor(-0.1923)</td>\n",
              "      <td>tensor(0.2408)</td>\n",
              "      <td>tensor(-0.3640)</td>\n",
              "      <td>tensor(-0.2214)</td>\n",
              "      <td>tensor(-0.5341)</td>\n",
              "      <td>tensor(-0.5736)</td>\n",
              "      <td>...</td>\n",
              "      <td>tensor(0.7225)</td>\n",
              "      <td>tensor(0.0744)</td>\n",
              "      <td>tensor(0.3035)</td>\n",
              "      <td>tensor(-0.5545)</td>\n",
              "      <td>tensor(-0.1838)</td>\n",
              "      <td>tensor(0.1672)</td>\n",
              "      <td>tensor(-0.4117)</td>\n",
              "      <td>tensor(-0.1127)</td>\n",
              "      <td>tensor(0.4881)</td>\n",
              "      <td>tensor(-0.0395)</td>\n",
              "      <td>tensor(-0.5774)</td>\n",
              "      <td>tensor(0.3193)</td>\n",
              "      <td>tensor(-0.4195)</td>\n",
              "      <td>tensor(0.0441)</td>\n",
              "      <td>tensor(-0.7495)</td>\n",
              "      <td>tensor(-0.3158)</td>\n",
              "      <td>tensor(1.0521)</td>\n",
              "      <td>tensor(-0.1896)</td>\n",
              "      <td>tensor(0.2478)</td>\n",
              "      <td>tensor(0.4933)</td>\n",
              "      <td>tensor(0.5436)</td>\n",
              "      <td>tensor(-0.1463)</td>\n",
              "      <td>tensor(-0.8473)</td>\n",
              "      <td>tensor(0.2017)</td>\n",
              "      <td>tensor(0.9348)</td>\n",
              "      <td>tensor(1.0575)</td>\n",
              "      <td>tensor(0.2639)</td>\n",
              "      <td>tensor(0.4406)</td>\n",
              "      <td>tensor(-0.3968)</td>\n",
              "      <td>tensor(-0.5561)</td>\n",
              "      <td>tensor(0.0028)</td>\n",
              "      <td>tensor(0.0111)</td>\n",
              "      <td>tensor(-0.4007)</td>\n",
              "      <td>tensor(-0.0323)</td>\n",
              "      <td>tensor(0.3189)</td>\n",
              "      <td>tensor(-0.8848)</td>\n",
              "      <td>tensor(-0.4833)</td>\n",
              "      <td>tensor(0.2625)</td>\n",
              "      <td>tensor(0.3346)</td>\n",
              "      <td>tensor(0.3719)</td>\n",
              "    </tr>\n",
              "    <tr>\n",
              "      <th>3</th>\n",
              "      <td>tensor(-0.0932)</td>\n",
              "      <td>tensor(-0.0788)</td>\n",
              "      <td>tensor(0.9045)</td>\n",
              "      <td>tensor(0.3358)</td>\n",
              "      <td>tensor(0.6983)</td>\n",
              "      <td>tensor(-0.1910)</td>\n",
              "      <td>tensor(-0.6651)</td>\n",
              "      <td>tensor(0.3664)</td>\n",
              "      <td>tensor(-0.3315)</td>\n",
              "      <td>tensor(0.0582)</td>\n",
              "      <td>tensor(-0.0159)</td>\n",
              "      <td>tensor(0.1320)</td>\n",
              "      <td>tensor(0.1880)</td>\n",
              "      <td>tensor(0.0103)</td>\n",
              "      <td>tensor(-0.1333)</td>\n",
              "      <td>tensor(0.7647)</td>\n",
              "      <td>tensor(0.3046)</td>\n",
              "      <td>tensor(0.3029)</td>\n",
              "      <td>tensor(0.1949)</td>\n",
              "      <td>tensor(-0.2485)</td>\n",
              "      <td>tensor(0.1448)</td>\n",
              "      <td>tensor(0.0808)</td>\n",
              "      <td>tensor(-0.0243)</td>\n",
              "      <td>tensor(0.0333)</td>\n",
              "      <td>tensor(-0.1225)</td>\n",
              "      <td>tensor(-0.3674)</td>\n",
              "      <td>tensor(0.3518)</td>\n",
              "      <td>tensor(-0.0827)</td>\n",
              "      <td>tensor(0.0249)</td>\n",
              "      <td>tensor(-0.1491)</td>\n",
              "      <td>tensor(0.3417)</td>\n",
              "      <td>tensor(-0.2082)</td>\n",
              "      <td>tensor(-0.0261)</td>\n",
              "      <td>tensor(0.2849)</td>\n",
              "      <td>tensor(0.0728)</td>\n",
              "      <td>tensor(0.0114)</td>\n",
              "      <td>tensor(-0.0283)</td>\n",
              "      <td>tensor(0.1794)</td>\n",
              "      <td>tensor(-0.0724)</td>\n",
              "      <td>tensor(-0.1539)</td>\n",
              "      <td>...</td>\n",
              "      <td>tensor(-0.2199)</td>\n",
              "      <td>tensor(0.3398)</td>\n",
              "      <td>tensor(-0.4720)</td>\n",
              "      <td>tensor(0.1508)</td>\n",
              "      <td>tensor(-0.4783)</td>\n",
              "      <td>tensor(-0.0253)</td>\n",
              "      <td>tensor(-0.1092)</td>\n",
              "      <td>tensor(0.3281)</td>\n",
              "      <td>tensor(0.0230)</td>\n",
              "      <td>tensor(0.6108)</td>\n",
              "      <td>tensor(-0.2701)</td>\n",
              "      <td>tensor(0.2292)</td>\n",
              "      <td>tensor(0.2970)</td>\n",
              "      <td>tensor(0.0669)</td>\n",
              "      <td>tensor(-0.4187)</td>\n",
              "      <td>tensor(-0.2469)</td>\n",
              "      <td>tensor(-0.2181)</td>\n",
              "      <td>tensor(-0.0902)</td>\n",
              "      <td>tensor(0.0468)</td>\n",
              "      <td>tensor(0.0815)</td>\n",
              "      <td>tensor(0.3656)</td>\n",
              "      <td>tensor(0.2089)</td>\n",
              "      <td>tensor(-0.5735)</td>\n",
              "      <td>tensor(0.2845)</td>\n",
              "      <td>tensor(0.0262)</td>\n",
              "      <td>tensor(-0.3075)</td>\n",
              "      <td>tensor(-0.0663)</td>\n",
              "      <td>tensor(-0.1949)</td>\n",
              "      <td>tensor(-0.4091)</td>\n",
              "      <td>tensor(-0.3122)</td>\n",
              "      <td>tensor(-0.0831)</td>\n",
              "      <td>tensor(-0.5125)</td>\n",
              "      <td>tensor(0.0264)</td>\n",
              "      <td>tensor(-0.2773)</td>\n",
              "      <td>tensor(-0.1009)</td>\n",
              "      <td>tensor(-0.2024)</td>\n",
              "      <td>tensor(-0.5452)</td>\n",
              "      <td>tensor(0.3910)</td>\n",
              "      <td>tensor(0.2719)</td>\n",
              "      <td>tensor(0.6313)</td>\n",
              "    </tr>\n",
              "    <tr>\n",
              "      <th>4</th>\n",
              "      <td>tensor(0.0256)</td>\n",
              "      <td>tensor(0.0995)</td>\n",
              "      <td>tensor(0.2364)</td>\n",
              "      <td>tensor(0.4811)</td>\n",
              "      <td>tensor(-0.1858)</td>\n",
              "      <td>tensor(0.0410)</td>\n",
              "      <td>tensor(-0.0293)</td>\n",
              "      <td>tensor(0.4297)</td>\n",
              "      <td>tensor(-0.1398)</td>\n",
              "      <td>tensor(-0.5428)</td>\n",
              "      <td>tensor(0.6252)</td>\n",
              "      <td>tensor(0.0254)</td>\n",
              "      <td>tensor(0.0774)</td>\n",
              "      <td>tensor(-0.1865)</td>\n",
              "      <td>tensor(-0.2647)</td>\n",
              "      <td>tensor(0.6000)</td>\n",
              "      <td>tensor(-0.5665)</td>\n",
              "      <td>tensor(-0.2961)</td>\n",
              "      <td>tensor(0.2409)</td>\n",
              "      <td>tensor(-0.6324)</td>\n",
              "      <td>tensor(0.6617)</td>\n",
              "      <td>tensor(-0.2280)</td>\n",
              "      <td>tensor(0.0947)</td>\n",
              "      <td>tensor(0.2852)</td>\n",
              "      <td>tensor(0.4698)</td>\n",
              "      <td>tensor(-0.6852)</td>\n",
              "      <td>tensor(0.5391)</td>\n",
              "      <td>tensor(-0.0249)</td>\n",
              "      <td>tensor(-0.4555)</td>\n",
              "      <td>tensor(0.0326)</td>\n",
              "      <td>tensor(0.3241)</td>\n",
              "      <td>tensor(-0.7834)</td>\n",
              "      <td>tensor(0.4519)</td>\n",
              "      <td>tensor(0.3371)</td>\n",
              "      <td>tensor(-0.0814)</td>\n",
              "      <td>tensor(0.0074)</td>\n",
              "      <td>tensor(-0.0664)</td>\n",
              "      <td>tensor(-0.4971)</td>\n",
              "      <td>tensor(-0.3319)</td>\n",
              "      <td>tensor(0.4094)</td>\n",
              "      <td>...</td>\n",
              "      <td>tensor(-0.2962)</td>\n",
              "      <td>tensor(0.5315)</td>\n",
              "      <td>tensor(-0.5278)</td>\n",
              "      <td>tensor(-0.2801)</td>\n",
              "      <td>tensor(-0.2731)</td>\n",
              "      <td>tensor(0.2121)</td>\n",
              "      <td>tensor(-0.0715)</td>\n",
              "      <td>tensor(0.1098)</td>\n",
              "      <td>tensor(-0.1885)</td>\n",
              "      <td>tensor(0.8563)</td>\n",
              "      <td>tensor(-0.3663)</td>\n",
              "      <td>tensor(-0.2409)</td>\n",
              "      <td>tensor(-0.0097)</td>\n",
              "      <td>tensor(-0.0646)</td>\n",
              "      <td>tensor(-0.6323)</td>\n",
              "      <td>tensor(0.6184)</td>\n",
              "      <td>tensor(0.4963)</td>\n",
              "      <td>tensor(0.0126)</td>\n",
              "      <td>tensor(0.1846)</td>\n",
              "      <td>tensor(0.2346)</td>\n",
              "      <td>tensor(0.1438)</td>\n",
              "      <td>tensor(0.1609)</td>\n",
              "      <td>tensor(-0.3337)</td>\n",
              "      <td>tensor(-0.7704)</td>\n",
              "      <td>tensor(0.3314)</td>\n",
              "      <td>tensor(0.6376)</td>\n",
              "      <td>tensor(0.1227)</td>\n",
              "      <td>tensor(0.0732)</td>\n",
              "      <td>tensor(-0.5262)</td>\n",
              "      <td>tensor(-0.0489)</td>\n",
              "      <td>tensor(-0.0464)</td>\n",
              "      <td>tensor(-0.3509)</td>\n",
              "      <td>tensor(-0.2694)</td>\n",
              "      <td>tensor(-0.3155)</td>\n",
              "      <td>tensor(0.2924)</td>\n",
              "      <td>tensor(-0.8456)</td>\n",
              "      <td>tensor(-0.2956)</td>\n",
              "      <td>tensor(0.0265)</td>\n",
              "      <td>tensor(1.0690)</td>\n",
              "      <td>tensor(0.0469)</td>\n",
              "    </tr>\n",
              "    <tr>\n",
              "      <th>...</th>\n",
              "      <td>...</td>\n",
              "      <td>...</td>\n",
              "      <td>...</td>\n",
              "      <td>...</td>\n",
              "      <td>...</td>\n",
              "      <td>...</td>\n",
              "      <td>...</td>\n",
              "      <td>...</td>\n",
              "      <td>...</td>\n",
              "      <td>...</td>\n",
              "      <td>...</td>\n",
              "      <td>...</td>\n",
              "      <td>...</td>\n",
              "      <td>...</td>\n",
              "      <td>...</td>\n",
              "      <td>...</td>\n",
              "      <td>...</td>\n",
              "      <td>...</td>\n",
              "      <td>...</td>\n",
              "      <td>...</td>\n",
              "      <td>...</td>\n",
              "      <td>...</td>\n",
              "      <td>...</td>\n",
              "      <td>...</td>\n",
              "      <td>...</td>\n",
              "      <td>...</td>\n",
              "      <td>...</td>\n",
              "      <td>...</td>\n",
              "      <td>...</td>\n",
              "      <td>...</td>\n",
              "      <td>...</td>\n",
              "      <td>...</td>\n",
              "      <td>...</td>\n",
              "      <td>...</td>\n",
              "      <td>...</td>\n",
              "      <td>...</td>\n",
              "      <td>...</td>\n",
              "      <td>...</td>\n",
              "      <td>...</td>\n",
              "      <td>...</td>\n",
              "      <td>...</td>\n",
              "      <td>...</td>\n",
              "      <td>...</td>\n",
              "      <td>...</td>\n",
              "      <td>...</td>\n",
              "      <td>...</td>\n",
              "      <td>...</td>\n",
              "      <td>...</td>\n",
              "      <td>...</td>\n",
              "      <td>...</td>\n",
              "      <td>...</td>\n",
              "      <td>...</td>\n",
              "      <td>...</td>\n",
              "      <td>...</td>\n",
              "      <td>...</td>\n",
              "      <td>...</td>\n",
              "      <td>...</td>\n",
              "      <td>...</td>\n",
              "      <td>...</td>\n",
              "      <td>...</td>\n",
              "      <td>...</td>\n",
              "      <td>...</td>\n",
              "      <td>...</td>\n",
              "      <td>...</td>\n",
              "      <td>...</td>\n",
              "      <td>...</td>\n",
              "      <td>...</td>\n",
              "      <td>...</td>\n",
              "      <td>...</td>\n",
              "      <td>...</td>\n",
              "      <td>...</td>\n",
              "      <td>...</td>\n",
              "      <td>...</td>\n",
              "      <td>...</td>\n",
              "      <td>...</td>\n",
              "      <td>...</td>\n",
              "      <td>...</td>\n",
              "      <td>...</td>\n",
              "      <td>...</td>\n",
              "      <td>...</td>\n",
              "      <td>...</td>\n",
              "    </tr>\n",
              "    <tr>\n",
              "      <th>395</th>\n",
              "      <td>tensor(0.0823)</td>\n",
              "      <td>tensor(0.0855)</td>\n",
              "      <td>tensor(0.3929)</td>\n",
              "      <td>tensor(0.0803)</td>\n",
              "      <td>tensor(0.0876)</td>\n",
              "      <td>tensor(-0.1185)</td>\n",
              "      <td>tensor(-0.1430)</td>\n",
              "      <td>tensor(0.0374)</td>\n",
              "      <td>tensor(-0.3788)</td>\n",
              "      <td>tensor(0.0164)</td>\n",
              "      <td>tensor(0.0758)</td>\n",
              "      <td>tensor(-0.4411)</td>\n",
              "      <td>tensor(-0.1843)</td>\n",
              "      <td>tensor(0.1547)</td>\n",
              "      <td>tensor(-0.6659)</td>\n",
              "      <td>tensor(0.3498)</td>\n",
              "      <td>tensor(0.3781)</td>\n",
              "      <td>tensor(-0.1201)</td>\n",
              "      <td>tensor(-0.2388)</td>\n",
              "      <td>tensor(-0.0893)</td>\n",
              "      <td>tensor(0.6425)</td>\n",
              "      <td>tensor(-0.0601)</td>\n",
              "      <td>tensor(0.1958)</td>\n",
              "      <td>tensor(-0.2731)</td>\n",
              "      <td>tensor(0.3972)</td>\n",
              "      <td>tensor(-0.3727)</td>\n",
              "      <td>tensor(-0.0620)</td>\n",
              "      <td>tensor(0.0723)</td>\n",
              "      <td>tensor(-0.3596)</td>\n",
              "      <td>tensor(0.4487)</td>\n",
              "      <td>tensor(0.0201)</td>\n",
              "      <td>tensor(-0.1613)</td>\n",
              "      <td>tensor(-0.1823)</td>\n",
              "      <td>tensor(0.1614)</td>\n",
              "      <td>tensor(0.3252)</td>\n",
              "      <td>tensor(-0.3435)</td>\n",
              "      <td>tensor(-0.0905)</td>\n",
              "      <td>tensor(0.0474)</td>\n",
              "      <td>tensor(0.2425)</td>\n",
              "      <td>tensor(-0.0249)</td>\n",
              "      <td>...</td>\n",
              "      <td>tensor(-0.2891)</td>\n",
              "      <td>tensor(-0.5535)</td>\n",
              "      <td>tensor(0.0819)</td>\n",
              "      <td>tensor(-0.5860)</td>\n",
              "      <td>tensor(-0.6290)</td>\n",
              "      <td>tensor(-0.1014)</td>\n",
              "      <td>tensor(-0.1185)</td>\n",
              "      <td>tensor(-0.0341)</td>\n",
              "      <td>tensor(0.1355)</td>\n",
              "      <td>tensor(0.3554)</td>\n",
              "      <td>tensor(-0.2536)</td>\n",
              "      <td>tensor(0.2161)</td>\n",
              "      <td>tensor(-0.0258)</td>\n",
              "      <td>tensor(0.2381)</td>\n",
              "      <td>tensor(0.0445)</td>\n",
              "      <td>tensor(-0.0955)</td>\n",
              "      <td>tensor(-0.1162)</td>\n",
              "      <td>tensor(0.4334)</td>\n",
              "      <td>tensor(0.3614)</td>\n",
              "      <td>tensor(0.2881)</td>\n",
              "      <td>tensor(0.1884)</td>\n",
              "      <td>tensor(-0.0305)</td>\n",
              "      <td>tensor(0.1257)</td>\n",
              "      <td>tensor(0.3255)</td>\n",
              "      <td>tensor(0.3008)</td>\n",
              "      <td>tensor(0.2957)</td>\n",
              "      <td>tensor(-0.1982)</td>\n",
              "      <td>tensor(-0.4403)</td>\n",
              "      <td>tensor(0.0259)</td>\n",
              "      <td>tensor(-0.3636)</td>\n",
              "      <td>tensor(-0.0124)</td>\n",
              "      <td>tensor(-0.3298)</td>\n",
              "      <td>tensor(-0.3818)</td>\n",
              "      <td>tensor(-0.2440)</td>\n",
              "      <td>tensor(-0.3685)</td>\n",
              "      <td>tensor(-0.4405)</td>\n",
              "      <td>tensor(-0.2389)</td>\n",
              "      <td>tensor(-0.4445)</td>\n",
              "      <td>tensor(-0.2049)</td>\n",
              "      <td>tensor(0.2684)</td>\n",
              "    </tr>\n",
              "    <tr>\n",
              "      <th>396</th>\n",
              "      <td>tensor(0.0753)</td>\n",
              "      <td>tensor(0.4480)</td>\n",
              "      <td>tensor(-0.2043)</td>\n",
              "      <td>tensor(-0.2709)</td>\n",
              "      <td>tensor(-0.3660)</td>\n",
              "      <td>tensor(-0.0885)</td>\n",
              "      <td>tensor(0.3733)</td>\n",
              "      <td>tensor(-0.5337)</td>\n",
              "      <td>tensor(-0.2692)</td>\n",
              "      <td>tensor(-0.0532)</td>\n",
              "      <td>tensor(-0.0747)</td>\n",
              "      <td>tensor(-0.1140)</td>\n",
              "      <td>tensor(0.0525)</td>\n",
              "      <td>tensor(0.3685)</td>\n",
              "      <td>tensor(-0.3436)</td>\n",
              "      <td>tensor(0.3687)</td>\n",
              "      <td>tensor(0.4070)</td>\n",
              "      <td>tensor(-0.4208)</td>\n",
              "      <td>tensor(-0.3215)</td>\n",
              "      <td>tensor(-0.3656)</td>\n",
              "      <td>tensor(-0.3583)</td>\n",
              "      <td>tensor(0.2649)</td>\n",
              "      <td>tensor(0.0267)</td>\n",
              "      <td>tensor(0.0343)</td>\n",
              "      <td>tensor(0.0021)</td>\n",
              "      <td>tensor(-0.2847)</td>\n",
              "      <td>tensor(0.4333)</td>\n",
              "      <td>tensor(0.0137)</td>\n",
              "      <td>tensor(-0.4128)</td>\n",
              "      <td>tensor(0.1056)</td>\n",
              "      <td>tensor(0.2861)</td>\n",
              "      <td>tensor(-0.5185)</td>\n",
              "      <td>tensor(0.0315)</td>\n",
              "      <td>tensor(0.0359)</td>\n",
              "      <td>tensor(0.3014)</td>\n",
              "      <td>tensor(-0.2729)</td>\n",
              "      <td>tensor(0.0201)</td>\n",
              "      <td>tensor(-0.3767)</td>\n",
              "      <td>tensor(0.1278)</td>\n",
              "      <td>tensor(0.2694)</td>\n",
              "      <td>...</td>\n",
              "      <td>tensor(-0.3324)</td>\n",
              "      <td>tensor(0.0474)</td>\n",
              "      <td>tensor(-0.0689)</td>\n",
              "      <td>tensor(-0.3486)</td>\n",
              "      <td>tensor(-0.4840)</td>\n",
              "      <td>tensor(0.2144)</td>\n",
              "      <td>tensor(-0.5484)</td>\n",
              "      <td>tensor(0.1409)</td>\n",
              "      <td>tensor(0.1318)</td>\n",
              "      <td>tensor(0.1644)</td>\n",
              "      <td>tensor(-0.2148)</td>\n",
              "      <td>tensor(-0.3124)</td>\n",
              "      <td>tensor(-0.2131)</td>\n",
              "      <td>tensor(0.2225)</td>\n",
              "      <td>tensor(0.5011)</td>\n",
              "      <td>tensor(-0.4540)</td>\n",
              "      <td>tensor(-0.0410)</td>\n",
              "      <td>tensor(-0.2536)</td>\n",
              "      <td>tensor(0.5589)</td>\n",
              "      <td>tensor(0.3534)</td>\n",
              "      <td>tensor(-0.0638)</td>\n",
              "      <td>tensor(-0.7654)</td>\n",
              "      <td>tensor(0.0220)</td>\n",
              "      <td>tensor(0.5716)</td>\n",
              "      <td>tensor(-0.3055)</td>\n",
              "      <td>tensor(0.0384)</td>\n",
              "      <td>tensor(-0.2678)</td>\n",
              "      <td>tensor(0.0146)</td>\n",
              "      <td>tensor(-0.3498)</td>\n",
              "      <td>tensor(-0.1753)</td>\n",
              "      <td>tensor(0.0998)</td>\n",
              "      <td>tensor(-0.5398)</td>\n",
              "      <td>tensor(-0.2777)</td>\n",
              "      <td>tensor(-0.1605)</td>\n",
              "      <td>tensor(0.0888)</td>\n",
              "      <td>tensor(-0.7489)</td>\n",
              "      <td>tensor(0.2343)</td>\n",
              "      <td>tensor(0.1350)</td>\n",
              "      <td>tensor(0.2055)</td>\n",
              "      <td>tensor(-0.0014)</td>\n",
              "    </tr>\n",
              "    <tr>\n",
              "      <th>397</th>\n",
              "      <td>tensor(-0.6881)</td>\n",
              "      <td>tensor(0.4372)</td>\n",
              "      <td>tensor(0.2316)</td>\n",
              "      <td>tensor(0.1545)</td>\n",
              "      <td>tensor(0.3646)</td>\n",
              "      <td>tensor(-0.8914)</td>\n",
              "      <td>tensor(0.6278)</td>\n",
              "      <td>tensor(-0.3376)</td>\n",
              "      <td>tensor(-0.1455)</td>\n",
              "      <td>tensor(-0.1529)</td>\n",
              "      <td>tensor(0.2070)</td>\n",
              "      <td>tensor(-0.1698)</td>\n",
              "      <td>tensor(0.2116)</td>\n",
              "      <td>tensor(0.3677)</td>\n",
              "      <td>tensor(-0.4393)</td>\n",
              "      <td>tensor(0.6782)</td>\n",
              "      <td>tensor(-0.0213)</td>\n",
              "      <td>tensor(0.0428)</td>\n",
              "      <td>tensor(0.1904)</td>\n",
              "      <td>tensor(-0.3809)</td>\n",
              "      <td>tensor(-0.2094)</td>\n",
              "      <td>tensor(-0.5479)</td>\n",
              "      <td>tensor(0.3294)</td>\n",
              "      <td>tensor(0.0773)</td>\n",
              "      <td>tensor(0.3891)</td>\n",
              "      <td>tensor(-0.1685)</td>\n",
              "      <td>tensor(0.1632)</td>\n",
              "      <td>tensor(0.3949)</td>\n",
              "      <td>tensor(0.3703)</td>\n",
              "      <td>tensor(0.0806)</td>\n",
              "      <td>tensor(0.3469)</td>\n",
              "      <td>tensor(-0.9999)</td>\n",
              "      <td>tensor(-0.5314)</td>\n",
              "      <td>tensor(0.4207)</td>\n",
              "      <td>tensor(0.0528)</td>\n",
              "      <td>tensor(0.0932)</td>\n",
              "      <td>tensor(-0.1002)</td>\n",
              "      <td>tensor(0.5630)</td>\n",
              "      <td>tensor(-0.7698)</td>\n",
              "      <td>tensor(-0.0607)</td>\n",
              "      <td>...</td>\n",
              "      <td>tensor(-0.2357)</td>\n",
              "      <td>tensor(0.2460)</td>\n",
              "      <td>tensor(0.5079)</td>\n",
              "      <td>tensor(-0.0634)</td>\n",
              "      <td>tensor(0.0138)</td>\n",
              "      <td>tensor(0.6114)</td>\n",
              "      <td>tensor(-0.2574)</td>\n",
              "      <td>tensor(0.0260)</td>\n",
              "      <td>tensor(-0.1527)</td>\n",
              "      <td>tensor(1.1773)</td>\n",
              "      <td>tensor(-0.6338)</td>\n",
              "      <td>tensor(-0.0559)</td>\n",
              "      <td>tensor(-0.0923)</td>\n",
              "      <td>tensor(0.3536)</td>\n",
              "      <td>tensor(-0.0690)</td>\n",
              "      <td>tensor(-0.0301)</td>\n",
              "      <td>tensor(-0.6804)</td>\n",
              "      <td>tensor(0.0080)</td>\n",
              "      <td>tensor(0.3723)</td>\n",
              "      <td>tensor(-0.0800)</td>\n",
              "      <td>tensor(0.4808)</td>\n",
              "      <td>tensor(0.0072)</td>\n",
              "      <td>tensor(0.0583)</td>\n",
              "      <td>tensor(0.2661)</td>\n",
              "      <td>tensor(0.2128)</td>\n",
              "      <td>tensor(0.5167)</td>\n",
              "      <td>tensor(-0.3115)</td>\n",
              "      <td>tensor(0.3086)</td>\n",
              "      <td>tensor(-0.3695)</td>\n",
              "      <td>tensor(-0.4627)</td>\n",
              "      <td>tensor(-0.0455)</td>\n",
              "      <td>tensor(-0.1588)</td>\n",
              "      <td>tensor(0.3441)</td>\n",
              "      <td>tensor(-0.6651)</td>\n",
              "      <td>tensor(0.0989)</td>\n",
              "      <td>tensor(-0.5197)</td>\n",
              "      <td>tensor(-0.1422)</td>\n",
              "      <td>tensor(0.1424)</td>\n",
              "      <td>tensor(0.7464)</td>\n",
              "      <td>tensor(-0.1013)</td>\n",
              "    </tr>\n",
              "    <tr>\n",
              "      <th>398</th>\n",
              "      <td>tensor(-0.3989)</td>\n",
              "      <td>tensor(0.0763)</td>\n",
              "      <td>tensor(0.1219)</td>\n",
              "      <td>tensor(-0.1123)</td>\n",
              "      <td>tensor(0.6283)</td>\n",
              "      <td>tensor(-0.2704)</td>\n",
              "      <td>tensor(-0.2239)</td>\n",
              "      <td>tensor(0.3683)</td>\n",
              "      <td>tensor(-0.3208)</td>\n",
              "      <td>tensor(-0.1287)</td>\n",
              "      <td>tensor(-0.0174)</td>\n",
              "      <td>tensor(-0.2327)</td>\n",
              "      <td>tensor(0.1645)</td>\n",
              "      <td>tensor(0.4655)</td>\n",
              "      <td>tensor(-0.3571)</td>\n",
              "      <td>tensor(0.5702)</td>\n",
              "      <td>tensor(-0.1780)</td>\n",
              "      <td>tensor(-0.0173)</td>\n",
              "      <td>tensor(0.1456)</td>\n",
              "      <td>tensor(0.1058)</td>\n",
              "      <td>tensor(0.3099)</td>\n",
              "      <td>tensor(-0.4611)</td>\n",
              "      <td>tensor(0.2926)</td>\n",
              "      <td>tensor(0.0569)</td>\n",
              "      <td>tensor(-0.0238)</td>\n",
              "      <td>tensor(-0.1959)</td>\n",
              "      <td>tensor(0.3494)</td>\n",
              "      <td>tensor(-0.0523)</td>\n",
              "      <td>tensor(-0.2702)</td>\n",
              "      <td>tensor(0.2522)</td>\n",
              "      <td>tensor(0.1508)</td>\n",
              "      <td>tensor(-0.5947)</td>\n",
              "      <td>tensor(-0.0606)</td>\n",
              "      <td>tensor(-0.0585)</td>\n",
              "      <td>tensor(-0.0456)</td>\n",
              "      <td>tensor(0.1425)</td>\n",
              "      <td>tensor(0.1029)</td>\n",
              "      <td>tensor(-0.3866)</td>\n",
              "      <td>tensor(0.1993)</td>\n",
              "      <td>tensor(-0.3826)</td>\n",
              "      <td>...</td>\n",
              "      <td>tensor(0.2123)</td>\n",
              "      <td>tensor(-0.3601)</td>\n",
              "      <td>tensor(0.2122)</td>\n",
              "      <td>tensor(-0.2317)</td>\n",
              "      <td>tensor(-0.4972)</td>\n",
              "      <td>tensor(0.0853)</td>\n",
              "      <td>tensor(-0.0890)</td>\n",
              "      <td>tensor(0.2098)</td>\n",
              "      <td>tensor(-0.0775)</td>\n",
              "      <td>tensor(0.7573)</td>\n",
              "      <td>tensor(-0.0904)</td>\n",
              "      <td>tensor(0.3487)</td>\n",
              "      <td>tensor(0.1216)</td>\n",
              "      <td>tensor(0.3213)</td>\n",
              "      <td>tensor(-0.9649)</td>\n",
              "      <td>tensor(-0.0836)</td>\n",
              "      <td>tensor(-0.0704)</td>\n",
              "      <td>tensor(-0.0318)</td>\n",
              "      <td>tensor(0.3761)</td>\n",
              "      <td>tensor(-0.0264)</td>\n",
              "      <td>tensor(0.0683)</td>\n",
              "      <td>tensor(0.4600)</td>\n",
              "      <td>tensor(0.0328)</td>\n",
              "      <td>tensor(0.1070)</td>\n",
              "      <td>tensor(0.3168)</td>\n",
              "      <td>tensor(-0.3169)</td>\n",
              "      <td>tensor(0.1262)</td>\n",
              "      <td>tensor(-0.1283)</td>\n",
              "      <td>tensor(-0.5827)</td>\n",
              "      <td>tensor(-0.2046)</td>\n",
              "      <td>tensor(-0.1668)</td>\n",
              "      <td>tensor(0.3597)</td>\n",
              "      <td>tensor(0.1279)</td>\n",
              "      <td>tensor(-0.0254)</td>\n",
              "      <td>tensor(0.0133)</td>\n",
              "      <td>tensor(-0.4397)</td>\n",
              "      <td>tensor(-0.3596)</td>\n",
              "      <td>tensor(-0.1069)</td>\n",
              "      <td>tensor(-0.0804)</td>\n",
              "      <td>tensor(0.5816)</td>\n",
              "    </tr>\n",
              "    <tr>\n",
              "      <th>399</th>\n",
              "      <td>tensor(-0.0855)</td>\n",
              "      <td>tensor(0.7583)</td>\n",
              "      <td>tensor(0.1801)</td>\n",
              "      <td>tensor(-0.2002)</td>\n",
              "      <td>tensor(-0.3810)</td>\n",
              "      <td>tensor(-0.2652)</td>\n",
              "      <td>tensor(0.6118)</td>\n",
              "      <td>tensor(-0.4347)</td>\n",
              "      <td>tensor(-0.1549)</td>\n",
              "      <td>tensor(-0.3138)</td>\n",
              "      <td>tensor(-0.2050)</td>\n",
              "      <td>tensor(-0.3497)</td>\n",
              "      <td>tensor(-0.6667)</td>\n",
              "      <td>tensor(-0.1318)</td>\n",
              "      <td>tensor(0.0931)</td>\n",
              "      <td>tensor(0.6916)</td>\n",
              "      <td>tensor(0.4381)</td>\n",
              "      <td>tensor(-0.1555)</td>\n",
              "      <td>tensor(-0.2413)</td>\n",
              "      <td>tensor(-0.0535)</td>\n",
              "      <td>tensor(-0.0600)</td>\n",
              "      <td>tensor(0.3078)</td>\n",
              "      <td>tensor(0.2186)</td>\n",
              "      <td>tensor(0.3306)</td>\n",
              "      <td>tensor(-0.0541)</td>\n",
              "      <td>tensor(-0.0669)</td>\n",
              "      <td>tensor(0.7610)</td>\n",
              "      <td>tensor(0.2026)</td>\n",
              "      <td>tensor(-0.1204)</td>\n",
              "      <td>tensor(-0.0467)</td>\n",
              "      <td>tensor(1.1281)</td>\n",
              "      <td>tensor(-0.2607)</td>\n",
              "      <td>tensor(-0.2707)</td>\n",
              "      <td>tensor(0.2493)</td>\n",
              "      <td>tensor(0.1285)</td>\n",
              "      <td>tensor(-0.3968)</td>\n",
              "      <td>tensor(0.3574)</td>\n",
              "      <td>tensor(-0.2579)</td>\n",
              "      <td>tensor(-0.0337)</td>\n",
              "      <td>tensor(0.1999)</td>\n",
              "      <td>...</td>\n",
              "      <td>tensor(-0.3593)</td>\n",
              "      <td>tensor(-0.5008)</td>\n",
              "      <td>tensor(0.0874)</td>\n",
              "      <td>tensor(0.1545)</td>\n",
              "      <td>tensor(0.1506)</td>\n",
              "      <td>tensor(-0.0935)</td>\n",
              "      <td>tensor(-0.1469)</td>\n",
              "      <td>tensor(-0.1226)</td>\n",
              "      <td>tensor(-0.2832)</td>\n",
              "      <td>tensor(-0.0434)</td>\n",
              "      <td>tensor(0.0652)</td>\n",
              "      <td>tensor(0.3373)</td>\n",
              "      <td>tensor(0.1290)</td>\n",
              "      <td>tensor(-0.1172)</td>\n",
              "      <td>tensor(-0.3657)</td>\n",
              "      <td>tensor(-0.3547)</td>\n",
              "      <td>tensor(0.5743)</td>\n",
              "      <td>tensor(0.0214)</td>\n",
              "      <td>tensor(0.1085)</td>\n",
              "      <td>tensor(0.5525)</td>\n",
              "      <td>tensor(0.6471)</td>\n",
              "      <td>tensor(0.6969)</td>\n",
              "      <td>tensor(-0.2842)</td>\n",
              "      <td>tensor(0.1311)</td>\n",
              "      <td>tensor(0.1726)</td>\n",
              "      <td>tensor(0.0185)</td>\n",
              "      <td>tensor(-0.4546)</td>\n",
              "      <td>tensor(-0.2378)</td>\n",
              "      <td>tensor(-0.8791)</td>\n",
              "      <td>tensor(-0.0269)</td>\n",
              "      <td>tensor(0.2036)</td>\n",
              "      <td>tensor(-0.5529)</td>\n",
              "      <td>tensor(0.2766)</td>\n",
              "      <td>tensor(-0.2983)</td>\n",
              "      <td>tensor(0.2169)</td>\n",
              "      <td>tensor(-0.5081)</td>\n",
              "      <td>tensor(-0.1298)</td>\n",
              "      <td>tensor(-0.1190)</td>\n",
              "      <td>tensor(0.5759)</td>\n",
              "      <td>tensor(0.2503)</td>\n",
              "    </tr>\n",
              "  </tbody>\n",
              "</table>\n",
              "<p>400 rows × 768 columns</p>\n",
              "</div>"
            ],
            "text/plain": [
              "                 0                1    ...              766              767\n",
              "0    tensor(-0.2782)   tensor(0.0672)  ...  tensor(-0.0564)  tensor(-0.0998)\n",
              "1     tensor(0.0393)  tensor(-0.2368)  ...  tensor(-0.0392)   tensor(0.3396)\n",
              "2    tensor(-0.3033)   tensor(0.0165)  ...   tensor(0.3346)   tensor(0.3719)\n",
              "3    tensor(-0.0932)  tensor(-0.0788)  ...   tensor(0.2719)   tensor(0.6313)\n",
              "4     tensor(0.0256)   tensor(0.0995)  ...   tensor(1.0690)   tensor(0.0469)\n",
              "..               ...              ...  ...              ...              ...\n",
              "395   tensor(0.0823)   tensor(0.0855)  ...  tensor(-0.2049)   tensor(0.2684)\n",
              "396   tensor(0.0753)   tensor(0.4480)  ...   tensor(0.2055)  tensor(-0.0014)\n",
              "397  tensor(-0.6881)   tensor(0.4372)  ...   tensor(0.7464)  tensor(-0.1013)\n",
              "398  tensor(-0.3989)   tensor(0.0763)  ...  tensor(-0.0804)   tensor(0.5816)\n",
              "399  tensor(-0.0855)   tensor(0.7583)  ...   tensor(0.5759)   tensor(0.2503)\n",
              "\n",
              "[400 rows x 768 columns]"
            ]
          },
          "metadata": {
            "tags": []
          },
          "execution_count": 336
        }
      ]
    },
    {
      "cell_type": "code",
      "metadata": {
        "id": "Dvha7D5UEHRg",
        "colab": {
          "base_uri": "https://localhost:8080/"
        },
        "outputId": "3d616d2c-56b4-4897-9e54-122ef1fd351c"
      },
      "source": [
        "from sklearn.feature_extraction import DictVectorizer\n",
        "\n",
        "rows = X[:].to_dict(orient='row')\n",
        "onehot = DictVectorizer(sparse=False).fit(rows)\n",
        "X = onehot.transform(rows)\n",
        "\n",
        "X.shape"
      ],
      "execution_count": 337,
      "outputs": [
        {
          "output_type": "stream",
          "text": [
            "/usr/local/lib/python3.6/dist-packages/pandas/core/frame.py:1490: FutureWarning: Using short name for 'orient' is deprecated. Only the options: ('dict', list, 'series', 'split', 'records', 'index') will be used in a future version. Use one of the above to silence this warning.\n",
            "  FutureWarning,\n"
          ],
          "name": "stderr"
        },
        {
          "output_type": "execute_result",
          "data": {
            "text/plain": [
              "(400, 768)"
            ]
          },
          "metadata": {
            "tags": []
          },
          "execution_count": 337
        }
      ]
    },
    {
      "cell_type": "markdown",
      "metadata": {
        "id": "KR_OjMtNEDiW"
      },
      "source": [
        "Then we split the data set to training set and test set."
      ]
    },
    {
      "cell_type": "code",
      "metadata": {
        "id": "gJR1t2DkEMI8",
        "colab": {
          "base_uri": "https://localhost:8080/"
        },
        "outputId": "b321d67d-2707-4a11-8751-e25a2a9a3ea8"
      },
      "source": [
        "from sklearn.model_selection import train_test_split\n",
        "\n",
        "X_train, X_test, y_train, y_test = train_test_split(\n",
        "    X, y, test_size=60, random_state=42\n",
        ")\n",
        "print(f'Training set size: {len(y_train)}')\n",
        "print(f'Test set size: {len(y_test)}')"
      ],
      "execution_count": 338,
      "outputs": [
        {
          "output_type": "stream",
          "text": [
            "Training set size: 340\n",
            "Test set size: 60\n"
          ],
          "name": "stdout"
        }
      ]
    },
    {
      "cell_type": "code",
      "metadata": {
        "id": "tzNLtBg-sfuR",
        "colab": {
          "base_uri": "https://localhost:8080/"
        },
        "outputId": "bf92db85-7e9e-4898-98f5-926c9e3aef06"
      },
      "source": [
        "X_train, y_train"
      ],
      "execution_count": 339,
      "outputs": [
        {
          "output_type": "execute_result",
          "data": {
            "text/plain": [
              "(array([[ 0.31619215,  0.32783967, -0.05268138, ..., -0.04533538,\n",
              "          0.20053144,  0.29683369],\n",
              "        [-0.51520461, -0.13220879,  0.22987819, ...,  0.49650186,\n",
              "          0.53514206,  0.22560355],\n",
              "        [-0.36692491,  0.04022446,  0.49573448, ..., -0.26008499,\n",
              "          0.08340998,  0.26359436],\n",
              "        ...,\n",
              "        [-0.41008472,  0.14512534, -0.33559385, ..., -0.39751983,\n",
              "          0.51795202, -0.32059214],\n",
              "        [ 0.04564663,  0.01253188,  0.92175925, ..., -0.21554798,\n",
              "         -0.39840257,  0.42682329],\n",
              "        [ 0.18019128, -0.22640783, -0.91210961, ...,  0.1098886 ,\n",
              "          0.45723128,  0.14925875]]),\n",
              " array([0.77885463, 0.57932961, 0.96414286, 0.99375813, 0.89308533,\n",
              "        0.84949031, 0.15298088, 0.21316614, 0.36078098, 0.30018587,\n",
              "        0.73523207, 0.71477273, 0.        , 0.84688898, 0.87940423,\n",
              "        0.76845018, 0.91965429, 0.76223555, 0.59098316, 0.06343284,\n",
              "        0.        , 0.15298088, 0.93807566, 0.6223671 , 0.15298088,\n",
              "        0.66004515, 0.53518519, 0.87097327, 0.9655913 , 0.77549195,\n",
              "        0.62869822, 0.71477273, 0.76223555, 0.69722557, 0.51481959,\n",
              "        0.57529611, 0.781041  , 0.38730675, 0.47452896, 0.40380048,\n",
              "        0.42694064, 0.77662415, 0.77549195, 0.7336399 , 0.08282582,\n",
              "        0.        , 0.96118957, 0.48670757, 0.18418202, 0.7287464 ,\n",
              "        0.84474227, 0.99159232, 0.22689938, 0.9938191 , 0.85770975,\n",
              "        0.28895184, 0.76965433, 0.66518453, 0.78836425, 0.91535522,\n",
              "        0.68427673, 0.72193501, 0.40380048, 0.75834403, 0.36987448,\n",
              "        0.53518519, 0.26536585, 0.79233315, 0.94352359, 0.32162162,\n",
              "        0.95387443, 0.94016687, 0.55835777, 0.87355164, 0.33185448,\n",
              "        0.61911988, 0.44139466, 0.89870864, 0.06343284, 0.13646789,\n",
              "        0.75701839, 0.96709923, 0.49833444, 0.95107212, 0.80512422,\n",
              "        0.38730675, 0.781041  , 0.59472551, 0.41171875, 0.15298088,\n",
              "        0.        , 0.40380048, 0.63178484, 0.10143198, 0.        ,\n",
              "        0.37871287, 0.90185089, 0.9555857 , 0.78836425, 0.04320203,\n",
              "        0.49833444, 0.77434822, 0.77319277, 0.21316614, 0.96477028,\n",
              "        0.85050625, 0.4925876 , 0.66518453, 0.13646789, 0.95329074,\n",
              "        0.45513748, 0.70915411, 0.91057007, 0.4617584 , 0.34178322,\n",
              "        0.68427673, 0.53025577, 0.88879043, 0.60555265, 0.45513748,\n",
              "        0.89385396, 0.42694064, 0.75567813, 0.76723338, 0.76223555,\n",
              "        0.69928115, 0.15298088, 0.38730675, 0.57932961, 0.34178322,\n",
              "        0.70915411, 0.26536585, 0.89359898, 0.94513261, 0.92246705,\n",
              "        0.48670757, 0.90965807, 0.68651124, 0.98565742, 0.50395257,\n",
              "        0.66769638, 0.69302894, 0.37871287, 0.35142119, 0.91268553,\n",
              "        0.66769638, 0.78318457, 0.        , 0.74439919, 0.60903427,\n",
              "        0.96244014, 0.9293886 , 0.45513748, 0.71292413, 0.98086064,\n",
              "        0.71292413, 0.71105142, 0.93167589, 0.50395257, 0.30018587,\n",
              "        0.83851598, 0.99581036, 0.64647887, 0.19893617, 0.04320203,\n",
              "        0.30018587, 0.89753708, 0.86466571, 0.        , 0.44139466,\n",
              "        0.87209105, 0.04320203, 0.10143198, 0.81411997, 0.57118451,\n",
              "        0.46822034, 0.77549195, 0.16887417, 0.66769638, 0.10143198,\n",
              "        0.8510091 , 0.85050625, 0.78632236, 0.16887417, 0.16887417,\n",
              "        0.57932961, 0.84635789, 0.32162162, 0.50395257, 0.41171875,\n",
              "        0.50395257, 0.04320203, 0.754323  , 0.66518453, 0.94506457,\n",
              "        0.754323  , 0.84419615, 0.81254668, 0.65474553, 0.36078098,\n",
              "        0.66769638, 0.65474553, 0.41942945, 0.78734821, 0.76723338,\n",
              "        0.35142119, 0.71477273, 0.6223671 , 0.30018587, 0.73039742,\n",
              "        0.90984195, 0.80426306, 0.53025577, 0.40380048, 0.9894344 ,\n",
              "        0.73680531, 0.45513748, 0.33185448, 0.82917423, 0.83851598,\n",
              "        0.        , 0.45513748, 0.36987448, 0.54001222, 0.84528457,\n",
              "        0.08282582, 0.04320203, 0.83240596, 0.26536585, 0.67017083,\n",
              "        0.56699252, 0.49833444, 0.39566613, 0.15298088, 0.27735125,\n",
              "        0.93114484, 0.70528376, 0.97382599, 0.36987448, 0.9470985 ,\n",
              "        0.30018587, 0.48068966, 0.64927806, 0.93555289, 0.97193545,\n",
              "        0.61581633, 0.41171875, 0.        , 0.70723173, 0.4925876 ,\n",
              "        0.56699252, 0.81566707, 0.78734821, 0.65203327, 0.90119407,\n",
              "        0.02207792, 0.60555265, 0.55390995, 0.41171875, 0.49833444,\n",
              "        0.70915411, 0.75965528, 0.31107045, 0.91503047, 0.13646789,\n",
              "        0.33185448, 0.7183994 , 0.72193501, 0.11929825, 0.77662415,\n",
              "        0.91075027, 0.71105142, 0.54001222, 0.84846045, 0.32162162,\n",
              "        0.37871287, 0.41171875, 0.        , 0.41942945, 0.9937992 ,\n",
              "        0.67971076, 0.89359898, 0.8016333 , 0.15298088, 0.81094652,\n",
              "        0.86548767, 0.59472551, 0.88038125, 0.78836425, 0.56699252,\n",
              "        0.6726087 , 0.87391159, 0.94587017, 0.7287464 , 0.89824324,\n",
              "        0.97373286, 0.57118451, 0.52522068, 0.27735125, 0.70528376,\n",
              "        0.5984    , 0.79330222, 0.26536585, 0.73835997, 0.77319277,\n",
              "        0.26536585, 0.21316614, 0.96149322, 0.70723173, 0.56699252,\n",
              "        0.90641312, 0.94151002, 0.30018587, 0.71659767, 0.51481959,\n",
              "        0.79708973, 0.879075  , 0.40380048, 0.89535853, 0.30018587,\n",
              "        0.88989618, 0.96105307, 0.91631474, 0.64927806, 0.48068966,\n",
              "        0.62555942, 0.69928115, 0.53025577, 0.5984    , 0.9050082 ,\n",
              "        0.73039742, 0.86040044, 0.82015763, 0.47452896, 0.87209105,\n",
              "        0.94553739, 0.62869822, 0.82512773, 0.50944625, 0.11929825]))"
            ]
          },
          "metadata": {
            "tags": []
          },
          "execution_count": 339
        }
      ]
    },
    {
      "cell_type": "markdown",
      "metadata": {
        "id": "WFQMLIPfEPGO"
      },
      "source": [
        "Fit our dataset onto the MLP Regressor Model."
      ]
    },
    {
      "cell_type": "code",
      "metadata": {
        "id": "pwUy2WReERYd",
        "colab": {
          "base_uri": "https://localhost:8080/"
        },
        "outputId": "c7b4b503-8d32-470f-dd87-a83ec56eabdf"
      },
      "source": [
        "from sklearn.neural_network import MLPRegressor\n",
        "regr = MLPRegressor(random_state=1, max_iter=500)\n",
        "regr.fit(X_train, y_train)\n",
        "print(f'Test set accuracy: {regr.score(X_test, y_test)}')"
      ],
      "execution_count": 340,
      "outputs": [
        {
          "output_type": "stream",
          "text": [
            "Test set accuracy: 0.176838989909747\n"
          ],
          "name": "stdout"
        }
      ]
    },
    {
      "cell_type": "markdown",
      "metadata": {
        "id": "QH-qw52MoBWf"
      },
      "source": [
        "After I cleaned most of the unicodes out of the data set, the accuracy went up significant. A 200 dataset's score goes up from 0.005 to 0.112."
      ]
    },
    {
      "cell_type": "markdown",
      "metadata": {
        "id": "e_KKAWnUEUSE"
      },
      "source": [
        "The result is good for a 400 dataset on MLPRegression, which is 0.176. But an 800 dataset's score is negative. This may due to overfitting."
      ]
    },
    {
      "cell_type": "markdown",
      "metadata": {
        "id": "eVi56tDbLi8H"
      },
      "source": [
        "# [Temporarily Skipped] Sort the tags and check duplicate"
      ]
    },
    {
      "cell_type": "code",
      "metadata": {
        "id": "KExvJ45eLnut",
        "colab": {
          "base_uri": "https://localhost:8080/",
          "height": 0
        },
        "outputId": "e617a891-de34-4ed4-c371-ae095189f93d"
      },
      "source": [
        "image_view_sp_defined"
      ],
      "execution_count": 341,
      "outputs": [
        {
          "output_type": "execute_result",
          "data": {
            "text/html": [
              "<div>\n",
              "<style scoped>\n",
              "    .dataframe tbody tr th:only-of-type {\n",
              "        vertical-align: middle;\n",
              "    }\n",
              "\n",
              "    .dataframe tbody tr th {\n",
              "        vertical-align: top;\n",
              "    }\n",
              "\n",
              "    .dataframe thead th {\n",
              "        text-align: right;\n",
              "    }\n",
              "</style>\n",
              "<table border=\"1\" class=\"dataframe\">\n",
              "  <thead>\n",
              "    <tr style=\"text-align: right;\">\n",
              "      <th></th>\n",
              "      <th>identifier</th>\n",
              "      <th>provider</th>\n",
              "      <th>title</th>\n",
              "      <th>meta_data</th>\n",
              "      <th>tags</th>\n",
              "      <th>standardized_popularity</th>\n",
              "      <th>name</th>\n",
              "      <th>accuracy</th>\n",
              "    </tr>\n",
              "  </thead>\n",
              "  <tbody>\n",
              "    <tr>\n",
              "      <th>0</th>\n",
              "      <td>0000d3d2-f84e-4a36-8b19-054f9a9a6435</td>\n",
              "      <td>flickr</td>\n",
              "      <td>OKScotland - 13th May 2010</td>\n",
              "      <td>{\"views\": \"0\", \"pub_date\": \"1273786159\", \"date...</td>\n",
              "      <td>[{\"name\": \"okscotland\", \"provider\": \"flickr\"}]</td>\n",
              "      <td>0.000000</td>\n",
              "      <td>[okscotland]</td>\n",
              "      <td>None</td>\n",
              "    </tr>\n",
              "    <tr>\n",
              "      <th>62</th>\n",
              "      <td>0000674a-67d0-4bc0-bdae-43941d334819</td>\n",
              "      <td>flickr</td>\n",
              "      <td>IMG_6984</td>\n",
              "      <td>{\"views\": \"0\", \"pub_date\": \"1499184677\", \"date...</td>\n",
              "      <td>[{\"name\": \"wa\", \"provider\": \"flickr\"}, {\"name\"...</td>\n",
              "      <td>0.000000</td>\n",
              "      <td>[wa, washington]</td>\n",
              "      <td>None</td>\n",
              "    </tr>\n",
              "    <tr>\n",
              "      <th>63</th>\n",
              "      <td>00003eb2-dfc0-4d02-b42a-dc305520227e</td>\n",
              "      <td>flickr</td>\n",
              "      <td>IMG_3597</td>\n",
              "      <td>{\"views\": \"0\", \"pub_date\": \"1437561179\", \"date...</td>\n",
              "      <td>[{\"name\": \"june2015\", \"provider\": \"flickr\"}]</td>\n",
              "      <td>0.000000</td>\n",
              "      <td>[june2015]</td>\n",
              "      <td>None</td>\n",
              "    </tr>\n",
              "    <tr>\n",
              "      <th>107</th>\n",
              "      <td>00009236-c5e4-4f9a-87ad-233df6a177c0</td>\n",
              "      <td>flickr</td>\n",
              "      <td>19022029_1289125634541866_1475748279_n.jpg</td>\n",
              "      <td>{\"views\": \"0\", \"pub_date\": \"1499830269\", \"date...</td>\n",
              "      <td>[{\"name\": \"nhadatvideo\", \"provider\": \"flickr\"}]</td>\n",
              "      <td>0.000000</td>\n",
              "      <td>[nhadatvideo]</td>\n",
              "      <td>None</td>\n",
              "    </tr>\n",
              "    <tr>\n",
              "      <th>108</th>\n",
              "      <td>0000f94c-e4dd-4937-9dbe-a4f0a5aa4c2a</td>\n",
              "      <td>flickr</td>\n",
              "      <td>Mahler: Das Lied von der Erde (Arranged by Sch...</td>\n",
              "      <td>{\"views\": \"0\", \"pub_date\": \"1574541824\", \"date...</td>\n",
              "      <td>[{\"name\": \"by\", \"provider\": \"flickr\"}, {\"name\"...</td>\n",
              "      <td>0.000000</td>\n",
              "      <td>[by, das, der, erde, lied, von]</td>\n",
              "      <td>None</td>\n",
              "    </tr>\n",
              "    <tr>\n",
              "      <th>...</th>\n",
              "      <td>...</td>\n",
              "      <td>...</td>\n",
              "      <td>...</td>\n",
              "      <td>...</td>\n",
              "      <td>...</td>\n",
              "      <td>...</td>\n",
              "      <td>...</td>\n",
              "      <td>...</td>\n",
              "    </tr>\n",
              "    <tr>\n",
              "      <th>4324</th>\n",
              "      <td>00005f45-402f-4cd5-93ae-789f65462ec7</td>\n",
              "      <td>flickr</td>\n",
              "      <td>IMG_9884</td>\n",
              "      <td>{\"views\": \"0\", \"pub_date\": \"1571405226\", \"date...</td>\n",
              "      <td>[{\"name\": \"on\", \"provider\": \"flickr\"}, {\"name\"...</td>\n",
              "      <td>0.000000</td>\n",
              "      <td>[on, ontario, porthope, porthopeontario]</td>\n",
              "      <td>None</td>\n",
              "    </tr>\n",
              "    <tr>\n",
              "      <th>4325</th>\n",
              "      <td>0000387b-6c09-42a3-893f-12997e820f72</td>\n",
              "      <td>flickr</td>\n",
              "      <td>DSC02647</td>\n",
              "      <td>{\"views\": \"29\", \"pub_date\": \"1541607835\", \"dat...</td>\n",
              "      <td>[{\"name\": \"1018\", \"provider\": \"flickr\"}, {\"nam...</td>\n",
              "      <td>0.395666</td>\n",
              "      <td>[1018, 1018mm, a6300, alkjhgfds33, anita, chen...</td>\n",
              "      <td>None</td>\n",
              "    </tr>\n",
              "    <tr>\n",
              "      <th>4326</th>\n",
              "      <td>0000c695-7340-416b-9efc-188c83a82810</td>\n",
              "      <td>flickr</td>\n",
              "      <td>photo 1063 was taken at 10:38:29</td>\n",
              "      <td>{\"views\": \"71\", \"pub_date\": \"1574004547\", \"dat...</td>\n",
              "      <td>[{\"name\": \"2019\", \"provider\": \"flickr\"}, {\"nam...</td>\n",
              "      <td>0.615816</td>\n",
              "      <td>[2019, 595k, barrycornelius, oxonraces, radnag...</td>\n",
              "      <td>None</td>\n",
              "    </tr>\n",
              "    <tr>\n",
              "      <th>4327</th>\n",
              "      <td>000045ea-556a-42da-b7a1-7186637a6b6c</td>\n",
              "      <td>flickr</td>\n",
              "      <td>20091024-IMG_1285</td>\n",
              "      <td>{\"views\": \"72\", \"pub_date\": \"1256511956\", \"dat...</td>\n",
              "      <td>[{\"name\": \"allsoulschurch\", \"provider\": \"flick...</td>\n",
              "      <td>0.619120</td>\n",
              "      <td>[allsoulschurch, jenniferdorn, kenambrose, was...</td>\n",
              "      <td>None</td>\n",
              "    </tr>\n",
              "    <tr>\n",
              "      <th>4328</th>\n",
              "      <td>0000e658-2e32-4a98-917d-39fa483ea5ad</td>\n",
              "      <td>flickr</td>\n",
              "      <td>IMGP0970</td>\n",
              "      <td>{\"views\": \"16\", \"pub_date\": \"1567554741\", \"dat...</td>\n",
              "      <td>[{\"name\": \"2019\", \"provider\": \"flickr\"}]</td>\n",
              "      <td>0.265366</td>\n",
              "      <td>[2019]</td>\n",
              "      <td>None</td>\n",
              "    </tr>\n",
              "  </tbody>\n",
              "</table>\n",
              "<p>3854 rows × 8 columns</p>\n",
              "</div>"
            ],
            "text/plain": [
              "                                identifier  ... accuracy\n",
              "0     0000d3d2-f84e-4a36-8b19-054f9a9a6435  ...     None\n",
              "62    0000674a-67d0-4bc0-bdae-43941d334819  ...     None\n",
              "63    00003eb2-dfc0-4d02-b42a-dc305520227e  ...     None\n",
              "107   00009236-c5e4-4f9a-87ad-233df6a177c0  ...     None\n",
              "108   0000f94c-e4dd-4937-9dbe-a4f0a5aa4c2a  ...     None\n",
              "...                                    ...  ...      ...\n",
              "4324  00005f45-402f-4cd5-93ae-789f65462ec7  ...     None\n",
              "4325  0000387b-6c09-42a3-893f-12997e820f72  ...     None\n",
              "4326  0000c695-7340-416b-9efc-188c83a82810  ...     None\n",
              "4327  000045ea-556a-42da-b7a1-7186637a6b6c  ...     None\n",
              "4328  0000e658-2e32-4a98-917d-39fa483ea5ad  ...     None\n",
              "\n",
              "[3854 rows x 8 columns]"
            ]
          },
          "metadata": {
            "tags": []
          },
          "execution_count": 341
        }
      ]
    },
    {
      "cell_type": "code",
      "metadata": {
        "id": "xkEXpPqwLs1p",
        "colab": {
          "base_uri": "https://localhost:8080/"
        },
        "outputId": "6814a212-2f09-401e-9d20-c1336f43aeb4"
      },
      "source": [
        "image_view_sp_defined_tags = image_view_sp_defined[\"name\"]\n",
        "image_view_sp_defined_tags"
      ],
      "execution_count": 342,
      "outputs": [
        {
          "output_type": "execute_result",
          "data": {
            "text/plain": [
              "0                                            [okscotland]\n",
              "62                                       [wa, washington]\n",
              "63                                             [june2015]\n",
              "107                                         [nhadatvideo]\n",
              "108                       [by, das, der, erde, lied, von]\n",
              "                              ...                        \n",
              "4324             [on, ontario, porthope, porthopeontario]\n",
              "4325    [1018, 1018mm, a6300, alkjhgfds33, anita, chen...\n",
              "4326    [2019, 595k, barrycornelius, oxonraces, radnag...\n",
              "4327    [allsoulschurch, jenniferdorn, kenambrose, was...\n",
              "4328                                               [2019]\n",
              "Name: name, Length: 3854, dtype: object"
            ]
          },
          "metadata": {
            "tags": []
          },
          "execution_count": 342
        }
      ]
    },
    {
      "cell_type": "code",
      "metadata": {
        "id": "VG5WOa4cLydC",
        "colab": {
          "base_uri": "https://localhost:8080/"
        },
        "outputId": "912566d2-d41a-446d-a9a8-b16e066156ea"
      },
      "source": [
        "image_view_sp_defined_tags.iloc[4]"
      ],
      "execution_count": 343,
      "outputs": [
        {
          "output_type": "execute_result",
          "data": {
            "text/plain": [
              "['by', 'das', 'der', 'erde', 'lied', 'von']"
            ]
          },
          "metadata": {
            "tags": []
          },
          "execution_count": 343
        }
      ]
    },
    {
      "cell_type": "code",
      "metadata": {
        "id": "w9oDwNf8L-3k",
        "colab": {
          "base_uri": "https://localhost:8080/"
        },
        "outputId": "6f47c004-2753-45b2-cbcb-246b34c053a6"
      },
      "source": [
        "sorted(image_view_sp_defined_tags.iloc[4])"
      ],
      "execution_count": 344,
      "outputs": [
        {
          "output_type": "execute_result",
          "data": {
            "text/plain": [
              "['by', 'das', 'der', 'erde', 'lied', 'von']"
            ]
          },
          "metadata": {
            "tags": []
          },
          "execution_count": 344
        }
      ]
    },
    {
      "cell_type": "markdown",
      "metadata": {
        "id": "Z9edQx2XNwij"
      },
      "source": [
        "I highly believe that names are already sorted.\n",
        "\n",
        "---\n",
        "\n"
      ]
    },
    {
      "cell_type": "code",
      "metadata": {
        "id": "R7pAVWeUO5Vl",
        "colab": {
          "base_uri": "https://localhost:8080/"
        },
        "outputId": "ec87b933-7033-47db-bd97-fca6b4385ddd"
      },
      "source": [
        "len(image_view_sp_defined_tags)"
      ],
      "execution_count": 345,
      "outputs": [
        {
          "output_type": "execute_result",
          "data": {
            "text/plain": [
              "3854"
            ]
          },
          "metadata": {
            "tags": []
          },
          "execution_count": 345
        }
      ]
    },
    {
      "cell_type": "code",
      "metadata": {
        "id": "2vfSVBuKMA5x",
        "colab": {
          "base_uri": "https://localhost:8080/"
        },
        "outputId": "6b067d49-3be6-44f3-eb55-69efa91545ca"
      },
      "source": [
        "tags_traversed = []\n",
        "tags_repeat = []\n",
        "tags_repeat_index = []\n",
        "repetition = 0\n",
        "for i in range(0, len(image_view_sp_defined_tags)):\n",
        "  t = image_view_sp_defined_tags.iloc[i]\n",
        "  if t in tags_traversed:\n",
        "    tags_repeat.append(t)\n",
        "    tags_repeat_index.append(i)\n",
        "    repetition += 1\n",
        "  tags_traversed.append(t)\n",
        "repetition"
      ],
      "execution_count": 346,
      "outputs": [
        {
          "output_type": "execute_result",
          "data": {
            "text/plain": [
              "153"
            ]
          },
          "metadata": {
            "tags": []
          },
          "execution_count": 346
        }
      ]
    },
    {
      "cell_type": "code",
      "metadata": {
        "id": "XmRutkuLPQQc",
        "colab": {
          "base_uri": "https://localhost:8080/"
        },
        "outputId": "03c95772-6f2c-4507-dff6-5d15d55987b9"
      },
      "source": [
        "repetition / len(image_view_sp_defined_tags)"
      ],
      "execution_count": 347,
      "outputs": [
        {
          "output_type": "execute_result",
          "data": {
            "text/plain": [
              "0.03969901401141671"
            ]
          },
          "metadata": {
            "tags": []
          },
          "execution_count": 347
        }
      ]
    },
    {
      "cell_type": "code",
      "metadata": {
        "id": "g_b6UBksN_1V",
        "colab": {
          "base_uri": "https://localhost:8080/"
        },
        "outputId": "e5ad9f85-0eeb-4984-b466-7ef706867225"
      },
      "source": [
        "tags_repeat"
      ],
      "execution_count": 348,
      "outputs": [
        {
          "output_type": "execute_result",
          "data": {
            "text/plain": [
              "[['nhadatvideo'],\n",
              " ['ifttt', 'instagram'],\n",
              " ['ifttt', 'instagram'],\n",
              " [],\n",
              " ['flickrandroidapp:filter=none'],\n",
              " ['wedding'],\n",
              " ['eyefi'],\n",
              " ['flickrandroidapp:filter=none'],\n",
              " ['flickriosapp:filter=nofilter', 'uploaded:by=flickrmobile'],\n",
              " [],\n",
              " ['flickrandroidapp:filter=none'],\n",
              " [],\n",
              " ['riskzoner', 'visitorart'],\n",
              " ['instagramapp',\n",
              "  'iphoneography',\n",
              "  'square',\n",
              "  'squareformat',\n",
              "  'uploaded:by=instagram'],\n",
              " ['instagramapp',\n",
              "  'iphoneography',\n",
              "  'square',\n",
              "  'squareformat',\n",
              "  'uploaded:by=instagram'],\n",
              " ['new', 'york'],\n",
              " ['copenhagen', 'denmark'],\n",
              " ['instagramapp',\n",
              "  'iphoneography',\n",
              "  'square',\n",
              "  'squareformat',\n",
              "  'uploaded:by=instagram'],\n",
              " [],\n",
              " [],\n",
              " ['singapore', 'singaporeskycam', 'sky'],\n",
              " ['photostream'],\n",
              " ['instagramapp',\n",
              "  'iphoneography',\n",
              "  'square',\n",
              "  'squareformat',\n",
              "  'uploaded:by=instagram'],\n",
              " [],\n",
              " ['6thavenue',\n",
              "  'atlanticavenue',\n",
              "  'atlanticyards',\n",
              "  'barclayscenterarena',\n",
              "  'brooklyn',\n",
              "  'forestcityratner',\n",
              "  'newyork',\n",
              "  'prospectheights'],\n",
              " ['eyefi'],\n",
              " ['on', 'ontario', 'toronto', 'torontoontario'],\n",
              " [],\n",
              " ['ontario', 'toronto'],\n",
              " ['seattle', 'seattlewashington', 'wa', 'washington'],\n",
              " ['iphone'],\n",
              " ['france', 'paris'],\n",
              " ['flickrandroidapp:filter=none'],\n",
              " ['amaro',\n",
              "  'instagramapp',\n",
              "  'iphoneography',\n",
              "  'square',\n",
              "  'squareformat',\n",
              "  'uploaded:by=instagram'],\n",
              " ['london'],\n",
              " ['wedding'],\n",
              " ['on', 'ontario', 'toronto', 'torontoontario'],\n",
              " ['wedding'],\n",
              " [],\n",
              " ['ifttt', 'instagram'],\n",
              " ['sanfrancisco'],\n",
              " ['moblog', 'cameraphone'],\n",
              " ['photostream'],\n",
              " ['japan', 'kyoto'],\n",
              " ['headline', 'news', 'schlagzeile', 'schreibmaschine', 'typewriter'],\n",
              " ['france', 'paris'],\n",
              " ['20142015', 'cvca', 'hockey', 'royals'],\n",
              " ['bird'],\n",
              " ['uzbekistan'],\n",
              " [2015],\n",
              " ['instagramapp',\n",
              "  'square',\n",
              "  'squareformat',\n",
              "  'iphoneography',\n",
              "  'uploaded:by=instagram'],\n",
              " ['wedding'],\n",
              " ['instagramapp',\n",
              "  'iphoneography',\n",
              "  'lomofi',\n",
              "  'square',\n",
              "  'squareformat',\n",
              "  'uploaded:by=instagram'],\n",
              " ['instagramapp',\n",
              "  'iphoneography',\n",
              "  'square',\n",
              "  'squareformat',\n",
              "  'uploaded:by=instagram',\n",
              "  'valencia'],\n",
              " ['6thavenue',\n",
              "  'atlanticavenue',\n",
              "  'atlanticyards',\n",
              "  'barclayscenterarena',\n",
              "  'brooklyn',\n",
              "  'forestcityratner',\n",
              "  'newyork',\n",
              "  'prospectheights'],\n",
              " [],\n",
              " ['flickroid'],\n",
              " [],\n",
              " ['autoupload'],\n",
              " ['flower'],\n",
              " ['flickrandroidapp:filter=none'],\n",
              " ['instagramapp',\n",
              "  'iphoneography',\n",
              "  'square',\n",
              "  'squareformat',\n",
              "  'uploaded:by=instagram'],\n",
              " ['20142015', 'cvca', 'hockey', 'royals'],\n",
              " ['biorhythms',\n",
              "  'biorytmy',\n",
              "  'cycle',\n",
              "  'cycles',\n",
              "  'diary',\n",
              "  'egzystencja',\n",
              "  'existence',\n",
              "  'lifeblog',\n",
              "  'lifeblogging',\n",
              "  'lifelog',\n",
              "  'monotonyoflife',\n",
              "  'pamiętnik',\n",
              "  'pamiu0119tnik',\n",
              "  'picasaimport'],\n",
              " ['japan', 'kyoto'],\n",
              " ['photostream'],\n",
              " ['instagramapp',\n",
              "  'iphoneography',\n",
              "  'square',\n",
              "  'squareformat',\n",
              "  'uploaded:by=instagram'],\n",
              " ['bc', 'britishcolumbia', 'vernon', 'vernonbritishcolumbia'],\n",
              " [],\n",
              " ['nhadatvideo'],\n",
              " ['nhadatvideo'],\n",
              " ['valencia'],\n",
              " ['nhadatvideo'],\n",
              " [],\n",
              " ['nhadatvideo'],\n",
              " [],\n",
              " ['hefe',\n",
              "  'instagramapp',\n",
              "  'iphoneography',\n",
              "  'square',\n",
              "  'squareformat',\n",
              "  'uploaded:by=instagram'],\n",
              " ['nhadatvideo'],\n",
              " ['instagram'],\n",
              " ['instagramapp',\n",
              "  'iphoneography',\n",
              "  'square',\n",
              "  'squareformat',\n",
              "  'uploaded:by=instagram'],\n",
              " [2011],\n",
              " ['roja'],\n",
              " ['flickriosapp:filter=nofilter', 'uploaded:by=flickrmobile'],\n",
              " ['bc', 'britishcolumbia', 'vernon', 'vernonbritishcolumbia'],\n",
              " ['amsterdam'],\n",
              " ['japan', 'kyoto'],\n",
              " ['nhadatvideo'],\n",
              " [2013],\n",
              " ['bc', 'britishcolumbia', 'vernon', 'vernonbritishcolumbia'],\n",
              " ['instagramapp',\n",
              "  'iphoneography',\n",
              "  'square',\n",
              "  'squareformat',\n",
              "  'uploaded:by=instagram'],\n",
              " ['seattle', 'seattlewashington', 'wa', 'washington'],\n",
              " ['instagramapp',\n",
              "  'iphoneography',\n",
              "  'square',\n",
              "  'squareformat',\n",
              "  'uploaded:by=instagram'],\n",
              " ['flower'],\n",
              " ['on', 'ontario', 'toronto', 'torontoontario'],\n",
              " ['antique',\n",
              "  'attractions',\n",
              "  'boats',\n",
              "  'bridge',\n",
              "  'cabins',\n",
              "  'cafes',\n",
              "  'cottages',\n",
              "  'excursion',\n",
              "  'ferry',\n",
              "  'ferryu201d',\n",
              "  'harrisonu201d',\n",
              "  'heritage',\n",
              "  'history',\n",
              "  'hotels',\n",
              "  'logging',\n",
              "  'lumber',\n",
              "  'memories',\n",
              "  'memoriesu201d',\n",
              "  'michigan',\n",
              "  'michpics',\n",
              "  'motels',\n",
              "  'parksu201d',\n",
              "  'postcard',\n",
              "  'puremichigan',\n",
              "  'railroad',\n",
              "  'restaurants',\n",
              "  'rppc',\n",
              "  'ships',\n",
              "  'stopsu201d',\n",
              "  'tourism',\n",
              "  'trailer',\n",
              "  'travel',\n",
              "  'u201ccar',\n",
              "  'u201cdon',\n",
              "  'u201cnatural',\n",
              "  'u201ctourist',\n",
              "  'u201ctravel',\n",
              "  'u201cupnorth',\n",
              "  'u201d',\n",
              "  'upnorth',\n",
              "  'upnorthmemories',\n",
              "  'usa',\n",
              "  'uscg',\n",
              "  'uslss',\n",
              "  'vintage',\n",
              "  'wondersu201d'],\n",
              " ['ifttt', 'instagram'],\n",
              " ['australia'],\n",
              " ['seattle', 'seattlewashington', 'wa', 'washington'],\n",
              " [],\n",
              " ['flickriosapp:filter=nofilter', 'uploaded:by=flickrmobile'],\n",
              " ['seattle', 'seattlewashington', 'wa', 'washington'],\n",
              " ['183mmf28'],\n",
              " ['nhadatvideo'],\n",
              " [],\n",
              " ['flickrandroidapp:filter=none'],\n",
              " ['ifttt', 'instagram'],\n",
              " ['amazing',\n",
              "  'beautiful',\n",
              "  'bestoftheday',\n",
              "  'blackwhite',\n",
              "  'cute',\n",
              "  'fashion',\n",
              "  'follow',\n",
              "  'followme',\n",
              "  'food',\n",
              "  'fun',\n",
              "  'girl',\n",
              "  'happy',\n",
              "  'instagood',\n",
              "  'landscape',\n",
              "  'love',\n",
              "  'marantoni2004',\n",
              "  'me',\n",
              "  'sales',\n",
              "  'smile',\n",
              "  'summer',\n",
              "  'sunset',\n",
              "  'swag',\n",
              "  'tagsforlikes',\n",
              "  'tbt',\n",
              "  'trieste'],\n",
              " ['6thavenue',\n",
              "  'atlanticavenue',\n",
              "  'atlanticyards',\n",
              "  'barclayscenterarena',\n",
              "  'brooklyn',\n",
              "  'forestcityratner',\n",
              "  'newyork',\n",
              "  'prospectheights'],\n",
              " ['flickriosapp:filter=nofilter', 'uploaded:by=flickrmobile'],\n",
              " ['flickriosapp:filter=nofilter', 'uploaded:by=flickrmobile'],\n",
              " [],\n",
              " ['nhadatvideo'],\n",
              " [],\n",
              " ['instagramapp',\n",
              "  'iphoneography',\n",
              "  'lomofi',\n",
              "  'square',\n",
              "  'squareformat',\n",
              "  'uploaded:by=instagram'],\n",
              " ['vermelho'],\n",
              " ['nhadatvideo'],\n",
              " ['flickrandroidapp:filter=none'],\n",
              " ['on', 'ontario', 'toronto', 'torontoontario'],\n",
              " ['nhadatvideo'],\n",
              " ['flickrandroidapp:filter=none'],\n",
              " ['nhadatvideo'],\n",
              " ['instagramapp',\n",
              "  'iphoneography',\n",
              "  'square',\n",
              "  'squareformat',\n",
              "  'uploaded:by=instagram'],\n",
              " ['photostream'],\n",
              " ['amazing',\n",
              "  'beautiful',\n",
              "  'bestoftheday',\n",
              "  'blackwhite',\n",
              "  'cute',\n",
              "  'fashion',\n",
              "  'follow',\n",
              "  'followme',\n",
              "  'food',\n",
              "  'fun',\n",
              "  'girl',\n",
              "  'happy',\n",
              "  'instagood',\n",
              "  'landscape',\n",
              "  'love',\n",
              "  'marantoni2004',\n",
              "  'me',\n",
              "  'sales',\n",
              "  'smile',\n",
              "  'summer',\n",
              "  'sunset',\n",
              "  'swag',\n",
              "  'tagsforlikes',\n",
              "  'tbt',\n",
              "  'trieste'],\n",
              " ['seattle', 'seattlewashington', 'wa', 'washington'],\n",
              " [],\n",
              " ['on', 'ontario', 'toronto', 'torontoontario'],\n",
              " ['nhadatvideo'],\n",
              " ['amazing',\n",
              "  'antoniomarano',\n",
              "  'beautiful',\n",
              "  'bestoftheday',\n",
              "  'blackwhite',\n",
              "  'cute',\n",
              "  'fashion',\n",
              "  'follow',\n",
              "  'followme',\n",
              "  'food',\n",
              "  'fun',\n",
              "  'girl',\n",
              "  'happy',\n",
              "  'instagood',\n",
              "  'landscape',\n",
              "  'love',\n",
              "  'marantoni2004',\n",
              "  'me',\n",
              "  'sales',\n",
              "  'smile',\n",
              "  'summer',\n",
              "  'sunset',\n",
              "  'swag',\n",
              "  'tagsforlikes',\n",
              "  'tbt',\n",
              "  'trieste'],\n",
              " ['nhadatvideo'],\n",
              " ['seleccionar'],\n",
              " ['seattle'],\n",
              " ['instagramapp',\n",
              "  'iphoneography',\n",
              "  'square',\n",
              "  'squareformat',\n",
              "  'uploaded:by=instagram'],\n",
              " ['nhadatvideo'],\n",
              " ['photostream'],\n",
              " ['instagramapp',\n",
              "  'iphoneography',\n",
              "  'square',\n",
              "  'squareformat',\n",
              "  'uploaded:by=instagram'],\n",
              " ['nhadatvideo'],\n",
              " ['photostream'],\n",
              " ['nhadatvideo'],\n",
              " ['clubdeplanlesouates', 'meetingnatation', 'vevey'],\n",
              " ['flickriosapp:filter=nofilter', 'uploaded:by=flickrmobile'],\n",
              " ['americana',\n",
              "  'anatomy',\n",
              "  'columbialongmhl',\n",
              "  'columbiauniversitylibraries',\n",
              "  'date1916',\n",
              "  'idhumananatomyincl19161pier',\n",
              "  'medicalheritagelibrary'],\n",
              " ['seattle', 'seattlewashington', 'wa', 'washington'],\n",
              " ['seattle'],\n",
              " ['nhadatvideo'],\n",
              " ['amazing',\n",
              "  'beautiful',\n",
              "  'bestoftheday',\n",
              "  'blackwhite',\n",
              "  'cute',\n",
              "  'fashion',\n",
              "  'follow',\n",
              "  'followme',\n",
              "  'food',\n",
              "  'fun',\n",
              "  'girl',\n",
              "  'happy',\n",
              "  'instagood',\n",
              "  'landscape',\n",
              "  'love',\n",
              "  'marantoni2004',\n",
              "  'me',\n",
              "  'sales',\n",
              "  'smile',\n",
              "  'summer',\n",
              "  'sunset',\n",
              "  'swag',\n",
              "  'tagsforlikes',\n",
              "  'tbt',\n",
              "  'trieste'],\n",
              " ['nhadatvideo'],\n",
              " ['instagramapp',\n",
              "  'iphoneography',\n",
              "  'square',\n",
              "  'squareformat',\n",
              "  'uploaded:by=instagram'],\n",
              " ['bc', 'britishcolumbia', 'vernon', 'vernonbritishcolumbia'],\n",
              " ['nhadatvideo'],\n",
              " ['instagram'],\n",
              " ['flickriosapp:filter=nofilter', 'uploaded:by=flickrmobile'],\n",
              " ['photostream']]"
            ]
          },
          "metadata": {
            "tags": []
          },
          "execution_count": 348
        }
      ]
    },
    {
      "cell_type": "code",
      "metadata": {
        "id": "K8DwDOslPBy7",
        "colab": {
          "base_uri": "https://localhost:8080/"
        },
        "outputId": "15096a64-f120-4913-c035-837522041011"
      },
      "source": [
        "repeated_tags_count = {}\n",
        "for e in tags_repeat:\n",
        "   # checking whether it is in the dict or not\n",
        "   element = \"\"\n",
        "   for sube in e:\n",
        "     element += str(sube)\n",
        "     element += \" \"\n",
        "   element = element[0:len(element)-1]\n",
        "   if element in repeated_tags_count:\n",
        "      # incerementing the count by 1\n",
        "      repeated_tags_count[element] += 1\n",
        "   else:\n",
        "      # setting the count to 1\n",
        "      repeated_tags_count[element] = 1\n",
        "for key, value in repeated_tags_count.items():\n",
        "   print(f\"{key}: {value}\")"
      ],
      "execution_count": 349,
      "outputs": [
        {
          "output_type": "stream",
          "text": [
            "nhadatvideo: 20\n",
            "ifttt instagram: 5\n",
            ": 18\n",
            "flickrandroidapp:filter=none: 8\n",
            "wedding: 4\n",
            "eyefi: 2\n",
            "flickriosapp:filter=nofilter uploaded:by=flickrmobile: 7\n",
            "riskzoner visitorart: 1\n",
            "instagramapp iphoneography square squareformat uploaded:by=instagram: 13\n",
            "new york: 1\n",
            "copenhagen denmark: 1\n",
            "singapore singaporeskycam sky: 1\n",
            "photostream: 7\n",
            "6thavenue atlanticavenue atlanticyards barclayscenterarena brooklyn forestcityratner newyork prospectheights: 3\n",
            "on ontario toronto torontoontario: 5\n",
            "ontario toronto: 1\n",
            "seattle seattlewashington wa washington: 6\n",
            "iphone: 1\n",
            "france paris: 2\n",
            "amaro instagramapp iphoneography square squareformat uploaded:by=instagram: 1\n",
            "london: 1\n",
            "sanfrancisco: 1\n",
            "moblog cameraphone: 1\n",
            "japan kyoto: 3\n",
            "headline news schlagzeile schreibmaschine typewriter: 1\n",
            "20142015 cvca hockey royals: 2\n",
            "bird: 1\n",
            "uzbekistan: 1\n",
            "2015: 1\n",
            "instagramapp square squareformat iphoneography uploaded:by=instagram: 1\n",
            "instagramapp iphoneography lomofi square squareformat uploaded:by=instagram: 2\n",
            "instagramapp iphoneography square squareformat uploaded:by=instagram valencia: 1\n",
            "flickroid: 1\n",
            "autoupload: 1\n",
            "flower: 2\n",
            "biorhythms biorytmy cycle cycles diary egzystencja existence lifeblog lifeblogging lifelog monotonyoflife pamiętnik pamiu0119tnik picasaimport: 1\n",
            "bc britishcolumbia vernon vernonbritishcolumbia: 4\n",
            "valencia: 1\n",
            "hefe instagramapp iphoneography square squareformat uploaded:by=instagram: 1\n",
            "instagram: 2\n",
            "2011: 1\n",
            "roja: 1\n",
            "amsterdam: 1\n",
            "2013: 1\n",
            "antique attractions boats bridge cabins cafes cottages excursion ferry ferryu201d harrisonu201d heritage history hotels logging lumber memories memoriesu201d michigan michpics motels parksu201d postcard puremichigan railroad restaurants rppc ships stopsu201d tourism trailer travel u201ccar u201cdon u201cnatural u201ctourist u201ctravel u201cupnorth u201d upnorth upnorthmemories usa uscg uslss vintage wondersu201d: 1\n",
            "australia: 1\n",
            "183mmf28: 1\n",
            "amazing beautiful bestoftheday blackwhite cute fashion follow followme food fun girl happy instagood landscape love marantoni2004 me sales smile summer sunset swag tagsforlikes tbt trieste: 3\n",
            "vermelho: 1\n",
            "amazing antoniomarano beautiful bestoftheday blackwhite cute fashion follow followme food fun girl happy instagood landscape love marantoni2004 me sales smile summer sunset swag tagsforlikes tbt trieste: 1\n",
            "seleccionar: 1\n",
            "seattle: 2\n",
            "clubdeplanlesouates meetingnatation vevey: 1\n",
            "americana anatomy columbialongmhl columbiauniversitylibraries date1916 idhumananatomyincl19161pier medicalheritagelibrary: 1\n"
          ],
          "name": "stdout"
        }
      ]
    },
    {
      "cell_type": "code",
      "metadata": {
        "id": "6fe_sLosTOLq",
        "colab": {
          "base_uri": "https://localhost:8080/"
        },
        "outputId": "0c287981-7700-4d5b-ae82-cb00bfa356e7"
      },
      "source": [
        "import operator\n",
        "sorted_repeated_tags_count = sorted(repeated_tags_count.items(), key=operator.itemgetter(1), reverse=True)\n",
        "for s in sorted_repeated_tags_count:\n",
        "  print(s)"
      ],
      "execution_count": 350,
      "outputs": [
        {
          "output_type": "stream",
          "text": [
            "('nhadatvideo', 20)\n",
            "('', 18)\n",
            "('instagramapp iphoneography square squareformat uploaded:by=instagram', 13)\n",
            "('flickrandroidapp:filter=none', 8)\n",
            "('flickriosapp:filter=nofilter uploaded:by=flickrmobile', 7)\n",
            "('photostream', 7)\n",
            "('seattle seattlewashington wa washington', 6)\n",
            "('ifttt instagram', 5)\n",
            "('on ontario toronto torontoontario', 5)\n",
            "('wedding', 4)\n",
            "('bc britishcolumbia vernon vernonbritishcolumbia', 4)\n",
            "('6thavenue atlanticavenue atlanticyards barclayscenterarena brooklyn forestcityratner newyork prospectheights', 3)\n",
            "('japan kyoto', 3)\n",
            "('amazing beautiful bestoftheday blackwhite cute fashion follow followme food fun girl happy instagood landscape love marantoni2004 me sales smile summer sunset swag tagsforlikes tbt trieste', 3)\n",
            "('eyefi', 2)\n",
            "('france paris', 2)\n",
            "('20142015 cvca hockey royals', 2)\n",
            "('instagramapp iphoneography lomofi square squareformat uploaded:by=instagram', 2)\n",
            "('flower', 2)\n",
            "('instagram', 2)\n",
            "('seattle', 2)\n",
            "('riskzoner visitorart', 1)\n",
            "('new york', 1)\n",
            "('copenhagen denmark', 1)\n",
            "('singapore singaporeskycam sky', 1)\n",
            "('ontario toronto', 1)\n",
            "('iphone', 1)\n",
            "('amaro instagramapp iphoneography square squareformat uploaded:by=instagram', 1)\n",
            "('london', 1)\n",
            "('sanfrancisco', 1)\n",
            "('moblog cameraphone', 1)\n",
            "('headline news schlagzeile schreibmaschine typewriter', 1)\n",
            "('bird', 1)\n",
            "('uzbekistan', 1)\n",
            "('2015', 1)\n",
            "('instagramapp square squareformat iphoneography uploaded:by=instagram', 1)\n",
            "('instagramapp iphoneography square squareformat uploaded:by=instagram valencia', 1)\n",
            "('flickroid', 1)\n",
            "('autoupload', 1)\n",
            "('biorhythms biorytmy cycle cycles diary egzystencja existence lifeblog lifeblogging lifelog monotonyoflife pamiętnik pamiu0119tnik picasaimport', 1)\n",
            "('valencia', 1)\n",
            "('hefe instagramapp iphoneography square squareformat uploaded:by=instagram', 1)\n",
            "('2011', 1)\n",
            "('roja', 1)\n",
            "('amsterdam', 1)\n",
            "('2013', 1)\n",
            "('antique attractions boats bridge cabins cafes cottages excursion ferry ferryu201d harrisonu201d heritage history hotels logging lumber memories memoriesu201d michigan michpics motels parksu201d postcard puremichigan railroad restaurants rppc ships stopsu201d tourism trailer travel u201ccar u201cdon u201cnatural u201ctourist u201ctravel u201cupnorth u201d upnorth upnorthmemories usa uscg uslss vintage wondersu201d', 1)\n",
            "('australia', 1)\n",
            "('183mmf28', 1)\n",
            "('vermelho', 1)\n",
            "('amazing antoniomarano beautiful bestoftheday blackwhite cute fashion follow followme food fun girl happy instagood landscape love marantoni2004 me sales smile summer sunset swag tagsforlikes tbt trieste', 1)\n",
            "('seleccionar', 1)\n",
            "('clubdeplanlesouates meetingnatation vevey', 1)\n",
            "('americana anatomy columbialongmhl columbiauniversitylibraries date1916 idhumananatomyincl19161pier medicalheritagelibrary', 1)\n"
          ],
          "name": "stdout"
        }
      ]
    },
    {
      "cell_type": "code",
      "metadata": {
        "id": "1H-_A2ElegYo"
      },
      "source": [
        ""
      ],
      "execution_count": 350,
      "outputs": []
    },
    {
      "cell_type": "markdown",
      "metadata": {
        "id": "cYK_p_1ugH9F"
      },
      "source": [
        "#Predict with full defined sp"
      ]
    },
    {
      "cell_type": "code",
      "metadata": {
        "id": "WoxJt0RJgMUL",
        "colab": {
          "base_uri": "https://localhost:8080/",
          "height": 0
        },
        "outputId": "959977b2-b806-4f85-874f-605b844253d7"
      },
      "source": [
        "image_view_sp_defined.head()"
      ],
      "execution_count": 351,
      "outputs": [
        {
          "output_type": "execute_result",
          "data": {
            "text/html": [
              "<div>\n",
              "<style scoped>\n",
              "    .dataframe tbody tr th:only-of-type {\n",
              "        vertical-align: middle;\n",
              "    }\n",
              "\n",
              "    .dataframe tbody tr th {\n",
              "        vertical-align: top;\n",
              "    }\n",
              "\n",
              "    .dataframe thead th {\n",
              "        text-align: right;\n",
              "    }\n",
              "</style>\n",
              "<table border=\"1\" class=\"dataframe\">\n",
              "  <thead>\n",
              "    <tr style=\"text-align: right;\">\n",
              "      <th></th>\n",
              "      <th>identifier</th>\n",
              "      <th>provider</th>\n",
              "      <th>title</th>\n",
              "      <th>meta_data</th>\n",
              "      <th>tags</th>\n",
              "      <th>standardized_popularity</th>\n",
              "      <th>name</th>\n",
              "      <th>accuracy</th>\n",
              "    </tr>\n",
              "  </thead>\n",
              "  <tbody>\n",
              "    <tr>\n",
              "      <th>0</th>\n",
              "      <td>0000d3d2-f84e-4a36-8b19-054f9a9a6435</td>\n",
              "      <td>flickr</td>\n",
              "      <td>OKScotland - 13th May 2010</td>\n",
              "      <td>{\"views\": \"0\", \"pub_date\": \"1273786159\", \"date...</td>\n",
              "      <td>[{\"name\": \"okscotland\", \"provider\": \"flickr\"}]</td>\n",
              "      <td>0.0</td>\n",
              "      <td>[okscotland]</td>\n",
              "      <td>None</td>\n",
              "    </tr>\n",
              "    <tr>\n",
              "      <th>62</th>\n",
              "      <td>0000674a-67d0-4bc0-bdae-43941d334819</td>\n",
              "      <td>flickr</td>\n",
              "      <td>IMG_6984</td>\n",
              "      <td>{\"views\": \"0\", \"pub_date\": \"1499184677\", \"date...</td>\n",
              "      <td>[{\"name\": \"wa\", \"provider\": \"flickr\"}, {\"name\"...</td>\n",
              "      <td>0.0</td>\n",
              "      <td>[wa, washington]</td>\n",
              "      <td>None</td>\n",
              "    </tr>\n",
              "    <tr>\n",
              "      <th>63</th>\n",
              "      <td>00003eb2-dfc0-4d02-b42a-dc305520227e</td>\n",
              "      <td>flickr</td>\n",
              "      <td>IMG_3597</td>\n",
              "      <td>{\"views\": \"0\", \"pub_date\": \"1437561179\", \"date...</td>\n",
              "      <td>[{\"name\": \"june2015\", \"provider\": \"flickr\"}]</td>\n",
              "      <td>0.0</td>\n",
              "      <td>[june2015]</td>\n",
              "      <td>None</td>\n",
              "    </tr>\n",
              "    <tr>\n",
              "      <th>107</th>\n",
              "      <td>00009236-c5e4-4f9a-87ad-233df6a177c0</td>\n",
              "      <td>flickr</td>\n",
              "      <td>19022029_1289125634541866_1475748279_n.jpg</td>\n",
              "      <td>{\"views\": \"0\", \"pub_date\": \"1499830269\", \"date...</td>\n",
              "      <td>[{\"name\": \"nhadatvideo\", \"provider\": \"flickr\"}]</td>\n",
              "      <td>0.0</td>\n",
              "      <td>[nhadatvideo]</td>\n",
              "      <td>None</td>\n",
              "    </tr>\n",
              "    <tr>\n",
              "      <th>108</th>\n",
              "      <td>0000f94c-e4dd-4937-9dbe-a4f0a5aa4c2a</td>\n",
              "      <td>flickr</td>\n",
              "      <td>Mahler: Das Lied von der Erde (Arranged by Sch...</td>\n",
              "      <td>{\"views\": \"0\", \"pub_date\": \"1574541824\", \"date...</td>\n",
              "      <td>[{\"name\": \"by\", \"provider\": \"flickr\"}, {\"name\"...</td>\n",
              "      <td>0.0</td>\n",
              "      <td>[by, das, der, erde, lied, von]</td>\n",
              "      <td>None</td>\n",
              "    </tr>\n",
              "  </tbody>\n",
              "</table>\n",
              "</div>"
            ],
            "text/plain": [
              "                               identifier  ... accuracy\n",
              "0    0000d3d2-f84e-4a36-8b19-054f9a9a6435  ...     None\n",
              "62   0000674a-67d0-4bc0-bdae-43941d334819  ...     None\n",
              "63   00003eb2-dfc0-4d02-b42a-dc305520227e  ...     None\n",
              "107  00009236-c5e4-4f9a-87ad-233df6a177c0  ...     None\n",
              "108  0000f94c-e4dd-4937-9dbe-a4f0a5aa4c2a  ...     None\n",
              "\n",
              "[5 rows x 8 columns]"
            ]
          },
          "metadata": {
            "tags": []
          },
          "execution_count": 351
        }
      ]
    },
    {
      "cell_type": "code",
      "metadata": {
        "id": "878o0GeNgQzT",
        "colab": {
          "base_uri": "https://localhost:8080/"
        },
        "outputId": "f2969f13-c2b8-40ce-d1b1-bc3f56c8d0d7"
      },
      "source": [
        "proper_tagStr[0:5]"
      ],
      "execution_count": 352,
      "outputs": [
        {
          "output_type": "execute_result",
          "data": {
            "text/plain": [
              "['okscotland',\n",
              " 'wa washington',\n",
              " 'june2015',\n",
              " 'nhadatvideo',\n",
              " 'by das der erde lied von']"
            ]
          },
          "metadata": {
            "tags": []
          },
          "execution_count": 352
        }
      ]
    },
    {
      "cell_type": "code",
      "metadata": {
        "id": "Q6KIHTlShcLb",
        "colab": {
          "base_uri": "https://localhost:8080/",
          "height": 0
        },
        "outputId": "a2746617-75da-4d70-df42-5a6004c9e287"
      },
      "source": [
        "image_view_sp_defined[\"proper str\"] = proper_tagStr\n",
        "image_view_sp_defined.head()"
      ],
      "execution_count": 353,
      "outputs": [
        {
          "output_type": "execute_result",
          "data": {
            "text/html": [
              "<div>\n",
              "<style scoped>\n",
              "    .dataframe tbody tr th:only-of-type {\n",
              "        vertical-align: middle;\n",
              "    }\n",
              "\n",
              "    .dataframe tbody tr th {\n",
              "        vertical-align: top;\n",
              "    }\n",
              "\n",
              "    .dataframe thead th {\n",
              "        text-align: right;\n",
              "    }\n",
              "</style>\n",
              "<table border=\"1\" class=\"dataframe\">\n",
              "  <thead>\n",
              "    <tr style=\"text-align: right;\">\n",
              "      <th></th>\n",
              "      <th>identifier</th>\n",
              "      <th>provider</th>\n",
              "      <th>title</th>\n",
              "      <th>meta_data</th>\n",
              "      <th>tags</th>\n",
              "      <th>standardized_popularity</th>\n",
              "      <th>name</th>\n",
              "      <th>accuracy</th>\n",
              "      <th>proper str</th>\n",
              "    </tr>\n",
              "  </thead>\n",
              "  <tbody>\n",
              "    <tr>\n",
              "      <th>0</th>\n",
              "      <td>0000d3d2-f84e-4a36-8b19-054f9a9a6435</td>\n",
              "      <td>flickr</td>\n",
              "      <td>OKScotland - 13th May 2010</td>\n",
              "      <td>{\"views\": \"0\", \"pub_date\": \"1273786159\", \"date...</td>\n",
              "      <td>[{\"name\": \"okscotland\", \"provider\": \"flickr\"}]</td>\n",
              "      <td>0.0</td>\n",
              "      <td>[okscotland]</td>\n",
              "      <td>None</td>\n",
              "      <td>okscotland</td>\n",
              "    </tr>\n",
              "    <tr>\n",
              "      <th>62</th>\n",
              "      <td>0000674a-67d0-4bc0-bdae-43941d334819</td>\n",
              "      <td>flickr</td>\n",
              "      <td>IMG_6984</td>\n",
              "      <td>{\"views\": \"0\", \"pub_date\": \"1499184677\", \"date...</td>\n",
              "      <td>[{\"name\": \"wa\", \"provider\": \"flickr\"}, {\"name\"...</td>\n",
              "      <td>0.0</td>\n",
              "      <td>[wa, washington]</td>\n",
              "      <td>None</td>\n",
              "      <td>wa washington</td>\n",
              "    </tr>\n",
              "    <tr>\n",
              "      <th>63</th>\n",
              "      <td>00003eb2-dfc0-4d02-b42a-dc305520227e</td>\n",
              "      <td>flickr</td>\n",
              "      <td>IMG_3597</td>\n",
              "      <td>{\"views\": \"0\", \"pub_date\": \"1437561179\", \"date...</td>\n",
              "      <td>[{\"name\": \"june2015\", \"provider\": \"flickr\"}]</td>\n",
              "      <td>0.0</td>\n",
              "      <td>[june2015]</td>\n",
              "      <td>None</td>\n",
              "      <td>june2015</td>\n",
              "    </tr>\n",
              "    <tr>\n",
              "      <th>107</th>\n",
              "      <td>00009236-c5e4-4f9a-87ad-233df6a177c0</td>\n",
              "      <td>flickr</td>\n",
              "      <td>19022029_1289125634541866_1475748279_n.jpg</td>\n",
              "      <td>{\"views\": \"0\", \"pub_date\": \"1499830269\", \"date...</td>\n",
              "      <td>[{\"name\": \"nhadatvideo\", \"provider\": \"flickr\"}]</td>\n",
              "      <td>0.0</td>\n",
              "      <td>[nhadatvideo]</td>\n",
              "      <td>None</td>\n",
              "      <td>nhadatvideo</td>\n",
              "    </tr>\n",
              "    <tr>\n",
              "      <th>108</th>\n",
              "      <td>0000f94c-e4dd-4937-9dbe-a4f0a5aa4c2a</td>\n",
              "      <td>flickr</td>\n",
              "      <td>Mahler: Das Lied von der Erde (Arranged by Sch...</td>\n",
              "      <td>{\"views\": \"0\", \"pub_date\": \"1574541824\", \"date...</td>\n",
              "      <td>[{\"name\": \"by\", \"provider\": \"flickr\"}, {\"name\"...</td>\n",
              "      <td>0.0</td>\n",
              "      <td>[by, das, der, erde, lied, von]</td>\n",
              "      <td>None</td>\n",
              "      <td>by das der erde lied von</td>\n",
              "    </tr>\n",
              "  </tbody>\n",
              "</table>\n",
              "</div>"
            ],
            "text/plain": [
              "                               identifier  ...                proper str\n",
              "0    0000d3d2-f84e-4a36-8b19-054f9a9a6435  ...                okscotland\n",
              "62   0000674a-67d0-4bc0-bdae-43941d334819  ...             wa washington\n",
              "63   00003eb2-dfc0-4d02-b42a-dc305520227e  ...                  june2015\n",
              "107  00009236-c5e4-4f9a-87ad-233df6a177c0  ...               nhadatvideo\n",
              "108  0000f94c-e4dd-4937-9dbe-a4f0a5aa4c2a  ...  by das der erde lied von\n",
              "\n",
              "[5 rows x 9 columns]"
            ]
          },
          "metadata": {
            "tags": []
          },
          "execution_count": 353
        }
      ]
    },
    {
      "cell_type": "code",
      "metadata": {
        "id": "DrzpTE9HkSnB",
        "colab": {
          "base_uri": "https://localhost:8080/"
        },
        "outputId": "37bef0a8-e9a5-4039-d386-429fba5bdea1"
      },
      "source": [
        "image_view_sp_defined.shape[0]"
      ],
      "execution_count": 354,
      "outputs": [
        {
          "output_type": "execute_result",
          "data": {
            "text/plain": [
              "3854"
            ]
          },
          "metadata": {
            "tags": []
          },
          "execution_count": 354
        }
      ]
    },
    {
      "cell_type": "code",
      "metadata": {
        "id": "Yvo5UDG_k2d4",
        "colab": {
          "base_uri": "https://localhost:8080/",
          "height": 0
        },
        "outputId": "b41fc27f-8ed8-4ef7-b6f5-653b80f51e3b"
      },
      "source": [
        "shuffled_image_view = image_view_sp_defined.sample(frac=1., random_state=88)\n",
        "\n",
        "# Here let's first do a simplified version\n",
        "shuffled_image_view = shuffled_image_view[0:50]\n",
        "\n",
        "shuffled_image_view.head()"
      ],
      "execution_count": 355,
      "outputs": [
        {
          "output_type": "execute_result",
          "data": {
            "text/html": [
              "<div>\n",
              "<style scoped>\n",
              "    .dataframe tbody tr th:only-of-type {\n",
              "        vertical-align: middle;\n",
              "    }\n",
              "\n",
              "    .dataframe tbody tr th {\n",
              "        vertical-align: top;\n",
              "    }\n",
              "\n",
              "    .dataframe thead th {\n",
              "        text-align: right;\n",
              "    }\n",
              "</style>\n",
              "<table border=\"1\" class=\"dataframe\">\n",
              "  <thead>\n",
              "    <tr style=\"text-align: right;\">\n",
              "      <th></th>\n",
              "      <th>identifier</th>\n",
              "      <th>provider</th>\n",
              "      <th>title</th>\n",
              "      <th>meta_data</th>\n",
              "      <th>tags</th>\n",
              "      <th>standardized_popularity</th>\n",
              "      <th>name</th>\n",
              "      <th>accuracy</th>\n",
              "      <th>proper str</th>\n",
              "    </tr>\n",
              "  </thead>\n",
              "  <tbody>\n",
              "    <tr>\n",
              "      <th>3865</th>\n",
              "      <td>0000ec48-55b1-4121-a10f-5d458b81ef64</td>\n",
              "      <td>flickr</td>\n",
              "      <td>stock fotografi Budha, Sakyamuni Buddha gambar...</td>\n",
              "      <td>{\"views\": \"4\", \"pub_date\": \"1553245463\", \"date...</td>\n",
              "      <td>[{\"name\": \"anulokaorgangambarbuddha\", \"provide...</td>\n",
              "      <td>0.082826</td>\n",
              "      <td>[anulokaorgangambarbuddha, gambartinabuddhaami...</td>\n",
              "      <td>None</td>\n",
              "      <td>anulokaorgangambarbuddha gambartinabuddhaamita...</td>\n",
              "    </tr>\n",
              "    <tr>\n",
              "      <th>1073</th>\n",
              "      <td>00008f98-76f7-4c3e-b8e7-59f19fb24d88</td>\n",
              "      <td>flickr</td>\n",
              "      <td>Yosemite</td>\n",
              "      <td>{\"views\": \"43\", \"pub_date\": \"1244354774\", \"dat...</td>\n",
              "      <td>[{\"name\": \"2009\", \"provider\": \"flickr\"}, {\"nam...</td>\n",
              "      <td>0.492588</td>\n",
              "      <td>[2009, ca, california, may, may09, may2009, na...</td>\n",
              "      <td>None</td>\n",
              "      <td>2009 ca california may may09 may2009 nationalp...</td>\n",
              "    </tr>\n",
              "    <tr>\n",
              "      <th>2958</th>\n",
              "      <td>0000b4fd-275f-4428-a182-46a9fdbe3647</td>\n",
              "      <td>flickr</td>\n",
              "      <td>TweetCamp #tck13 Wochenende 20</td>\n",
              "      <td>{\"views\": \"917\", \"pub_date\": \"1371621094\", \"da...</td>\n",
              "      <td>[{\"name\": \"barcamp\", \"provider\": \"flickr\"}, {\"...</td>\n",
              "      <td>0.953922</td>\n",
              "      <td>[barcamp, building, camp, chair, charis, colog...</td>\n",
              "      <td>None</td>\n",
              "      <td>barcamp building camp chair charis cologne col...</td>\n",
              "    </tr>\n",
              "    <tr>\n",
              "      <th>3711</th>\n",
              "      <td>0000b904-2741-479b-94bc-28c858120d5e</td>\n",
              "      <td>flickr</td>\n",
              "      <td>Encore Beauty and the Beast 05-06-2009 8-05-39 PM</td>\n",
              "      <td>{\"views\": \"79\", \"pub_date\": \"1316305599\", \"dat...</td>\n",
              "      <td>[{\"name\": \"beautyandthebeast\", \"provider\": \"fl...</td>\n",
              "      <td>0.640744</td>\n",
              "      <td>[beautyandthebeast]</td>\n",
              "      <td>None</td>\n",
              "      <td>beautyandthebeast</td>\n",
              "    </tr>\n",
              "    <tr>\n",
              "      <th>1206</th>\n",
              "      <td>0000bd69-55a5-4e4e-8acb-a93fa0c7865a</td>\n",
              "      <td>flickr</td>\n",
              "      <td>camping_2141</td>\n",
              "      <td>{\"views\": \"24\", \"pub_date\": \"1104771844\", \"dat...</td>\n",
              "      <td>[{\"name\": \"2004\", \"provider\": \"flickr\"}, {\"nam...</td>\n",
              "      <td>0.351421</td>\n",
              "      <td>[2004, camping, juniper, march, springs]</td>\n",
              "      <td>None</td>\n",
              "      <td>2004 camping juniper march springs</td>\n",
              "    </tr>\n",
              "  </tbody>\n",
              "</table>\n",
              "</div>"
            ],
            "text/plain": [
              "                                identifier  ...                                         proper str\n",
              "3865  0000ec48-55b1-4121-a10f-5d458b81ef64  ...  anulokaorgangambarbuddha gambartinabuddhaamita...\n",
              "1073  00008f98-76f7-4c3e-b8e7-59f19fb24d88  ...  2009 ca california may may09 may2009 nationalp...\n",
              "2958  0000b4fd-275f-4428-a182-46a9fdbe3647  ...  barcamp building camp chair charis cologne col...\n",
              "3711  0000b904-2741-479b-94bc-28c858120d5e  ...                                  beautyandthebeast\n",
              "1206  0000bd69-55a5-4e4e-8acb-a93fa0c7865a  ...                 2004 camping juniper march springs\n",
              "\n",
              "[5 rows x 9 columns]"
            ]
          },
          "metadata": {
            "tags": []
          },
          "execution_count": 355
        }
      ]
    },
    {
      "cell_type": "code",
      "metadata": {
        "id": "xB-QjjuIlvun",
        "colab": {
          "base_uri": "https://localhost:8080/"
        },
        "outputId": "598860f4-240f-469b-c71a-75d89c0fa95a"
      },
      "source": [
        "split_point = int(shuffled_image_view.shape[0]*0.80)\n",
        "split_point"
      ],
      "execution_count": 356,
      "outputs": [
        {
          "output_type": "execute_result",
          "data": {
            "text/plain": [
              "40"
            ]
          },
          "metadata": {
            "tags": []
          },
          "execution_count": 356
        }
      ]
    },
    {
      "cell_type": "code",
      "metadata": {
        "id": "x7JRRcCfl0S3",
        "colab": {
          "base_uri": "https://localhost:8080/"
        },
        "outputId": "487e012e-915e-4f27-cffd-ccc4bf9365cd"
      },
      "source": [
        "tr = shuffled_image_view.iloc[:split_point]\n",
        "te = shuffled_image_view.iloc[split_point:]\n",
        "print(tr.shape[0], te.shape[0], \"Does the length of train and test add up to original's length? \",\n",
        "        image_view_sp_defined.shape[0] == tr.shape[0] + te.shape[0])"
      ],
      "execution_count": 357,
      "outputs": [
        {
          "output_type": "stream",
          "text": [
            "40 10 Does the length of train and test add up to original's length?  False\n"
          ],
          "name": "stdout"
        }
      ]
    },
    {
      "cell_type": "code",
      "metadata": {
        "id": "0VWM4fKmmGdb",
        "colab": {
          "base_uri": "https://localhost:8080/",
          "height": 0
        },
        "outputId": "2272e6bd-a8ec-441a-f3bd-60f65d8c3dfb"
      },
      "source": [
        "tr.head()"
      ],
      "execution_count": 358,
      "outputs": [
        {
          "output_type": "execute_result",
          "data": {
            "text/html": [
              "<div>\n",
              "<style scoped>\n",
              "    .dataframe tbody tr th:only-of-type {\n",
              "        vertical-align: middle;\n",
              "    }\n",
              "\n",
              "    .dataframe tbody tr th {\n",
              "        vertical-align: top;\n",
              "    }\n",
              "\n",
              "    .dataframe thead th {\n",
              "        text-align: right;\n",
              "    }\n",
              "</style>\n",
              "<table border=\"1\" class=\"dataframe\">\n",
              "  <thead>\n",
              "    <tr style=\"text-align: right;\">\n",
              "      <th></th>\n",
              "      <th>identifier</th>\n",
              "      <th>provider</th>\n",
              "      <th>title</th>\n",
              "      <th>meta_data</th>\n",
              "      <th>tags</th>\n",
              "      <th>standardized_popularity</th>\n",
              "      <th>name</th>\n",
              "      <th>accuracy</th>\n",
              "      <th>proper str</th>\n",
              "    </tr>\n",
              "  </thead>\n",
              "  <tbody>\n",
              "    <tr>\n",
              "      <th>3865</th>\n",
              "      <td>0000ec48-55b1-4121-a10f-5d458b81ef64</td>\n",
              "      <td>flickr</td>\n",
              "      <td>stock fotografi Budha, Sakyamuni Buddha gambar...</td>\n",
              "      <td>{\"views\": \"4\", \"pub_date\": \"1553245463\", \"date...</td>\n",
              "      <td>[{\"name\": \"anulokaorgangambarbuddha\", \"provide...</td>\n",
              "      <td>0.082826</td>\n",
              "      <td>[anulokaorgangambarbuddha, gambartinabuddhaami...</td>\n",
              "      <td>None</td>\n",
              "      <td>anulokaorgangambarbuddha gambartinabuddhaamita...</td>\n",
              "    </tr>\n",
              "    <tr>\n",
              "      <th>1073</th>\n",
              "      <td>00008f98-76f7-4c3e-b8e7-59f19fb24d88</td>\n",
              "      <td>flickr</td>\n",
              "      <td>Yosemite</td>\n",
              "      <td>{\"views\": \"43\", \"pub_date\": \"1244354774\", \"dat...</td>\n",
              "      <td>[{\"name\": \"2009\", \"provider\": \"flickr\"}, {\"nam...</td>\n",
              "      <td>0.492588</td>\n",
              "      <td>[2009, ca, california, may, may09, may2009, na...</td>\n",
              "      <td>None</td>\n",
              "      <td>2009 ca california may may09 may2009 nationalp...</td>\n",
              "    </tr>\n",
              "    <tr>\n",
              "      <th>2958</th>\n",
              "      <td>0000b4fd-275f-4428-a182-46a9fdbe3647</td>\n",
              "      <td>flickr</td>\n",
              "      <td>TweetCamp #tck13 Wochenende 20</td>\n",
              "      <td>{\"views\": \"917\", \"pub_date\": \"1371621094\", \"da...</td>\n",
              "      <td>[{\"name\": \"barcamp\", \"provider\": \"flickr\"}, {\"...</td>\n",
              "      <td>0.953922</td>\n",
              "      <td>[barcamp, building, camp, chair, charis, colog...</td>\n",
              "      <td>None</td>\n",
              "      <td>barcamp building camp chair charis cologne col...</td>\n",
              "    </tr>\n",
              "    <tr>\n",
              "      <th>3711</th>\n",
              "      <td>0000b904-2741-479b-94bc-28c858120d5e</td>\n",
              "      <td>flickr</td>\n",
              "      <td>Encore Beauty and the Beast 05-06-2009 8-05-39 PM</td>\n",
              "      <td>{\"views\": \"79\", \"pub_date\": \"1316305599\", \"dat...</td>\n",
              "      <td>[{\"name\": \"beautyandthebeast\", \"provider\": \"fl...</td>\n",
              "      <td>0.640744</td>\n",
              "      <td>[beautyandthebeast]</td>\n",
              "      <td>None</td>\n",
              "      <td>beautyandthebeast</td>\n",
              "    </tr>\n",
              "    <tr>\n",
              "      <th>1206</th>\n",
              "      <td>0000bd69-55a5-4e4e-8acb-a93fa0c7865a</td>\n",
              "      <td>flickr</td>\n",
              "      <td>camping_2141</td>\n",
              "      <td>{\"views\": \"24\", \"pub_date\": \"1104771844\", \"dat...</td>\n",
              "      <td>[{\"name\": \"2004\", \"provider\": \"flickr\"}, {\"nam...</td>\n",
              "      <td>0.351421</td>\n",
              "      <td>[2004, camping, juniper, march, springs]</td>\n",
              "      <td>None</td>\n",
              "      <td>2004 camping juniper march springs</td>\n",
              "    </tr>\n",
              "  </tbody>\n",
              "</table>\n",
              "</div>"
            ],
            "text/plain": [
              "                                identifier  ...                                         proper str\n",
              "3865  0000ec48-55b1-4121-a10f-5d458b81ef64  ...  anulokaorgangambarbuddha gambartinabuddhaamita...\n",
              "1073  00008f98-76f7-4c3e-b8e7-59f19fb24d88  ...  2009 ca california may may09 may2009 nationalp...\n",
              "2958  0000b4fd-275f-4428-a182-46a9fdbe3647  ...  barcamp building camp chair charis cologne col...\n",
              "3711  0000b904-2741-479b-94bc-28c858120d5e  ...                                  beautyandthebeast\n",
              "1206  0000bd69-55a5-4e4e-8acb-a93fa0c7865a  ...                 2004 camping juniper march springs\n",
              "\n",
              "[5 rows x 9 columns]"
            ]
          },
          "metadata": {
            "tags": []
          },
          "execution_count": 358
        }
      ]
    },
    {
      "cell_type": "code",
      "metadata": {
        "id": "E0aBfXbPhnUT",
        "colab": {
          "base_uri": "https://localhost:8080/"
        },
        "outputId": "658ff2b4-530d-4aee-92a2-0488e835db39"
      },
      "source": [
        "list_of_encoded_layers = []\n",
        "\n",
        "import time\n",
        "start = time.perf_counter()\n",
        "\n",
        "for sentence in tr[\"proper str\"]:\n",
        "  list_of_encoded_layers.append(get_encoded_layers(sentence))\n",
        "  #print(\"\\n\")\n",
        "\n",
        "end = time.perf_counter()\n",
        "print(\"This cell takes \" + str(end-start) + \" seconds to run\")"
      ],
      "execution_count": 359,
      "outputs": [
        {
          "output_type": "stream",
          "text": [
            "This cell takes 4.529385589999947 seconds to run\n"
          ],
          "name": "stdout"
        }
      ]
    },
    {
      "cell_type": "code",
      "metadata": {
        "id": "YK84JUnHkwy_"
      },
      "source": [
        "list_of_sentence_embedding = []\n",
        "for encoded_layers in list_of_encoded_layers:\n",
        "  # `token_vecs` is a tensor with shape [Number of tokens x Number of hidden units]\n",
        "  token_vecs = encoded_layers[11][0]\n",
        "\n",
        "  # Calculate the average of all token vectors.\n",
        "  sentence_embedding = torch.mean(token_vecs, dim=0).numpy()\n",
        "\n",
        "  list_of_sentence_embedding.append(sentence_embedding)"
      ],
      "execution_count": 360,
      "outputs": []
    },
    {
      "cell_type": "code",
      "metadata": {
        "id": "YjE7GLPGoYqS",
        "colab": {
          "base_uri": "https://localhost:8080/",
          "height": 0
        },
        "outputId": "96d9725f-f8db-43f0-d2b5-1aa66ab4c59e"
      },
      "source": [
        "X_train = pd.DataFrame(data=list_of_sentence_embedding)\n",
        "X_train.head()"
      ],
      "execution_count": 361,
      "outputs": [
        {
          "output_type": "execute_result",
          "data": {
            "text/html": [
              "<div>\n",
              "<style scoped>\n",
              "    .dataframe tbody tr th:only-of-type {\n",
              "        vertical-align: middle;\n",
              "    }\n",
              "\n",
              "    .dataframe tbody tr th {\n",
              "        vertical-align: top;\n",
              "    }\n",
              "\n",
              "    .dataframe thead th {\n",
              "        text-align: right;\n",
              "    }\n",
              "</style>\n",
              "<table border=\"1\" class=\"dataframe\">\n",
              "  <thead>\n",
              "    <tr style=\"text-align: right;\">\n",
              "      <th></th>\n",
              "      <th>0</th>\n",
              "      <th>1</th>\n",
              "      <th>2</th>\n",
              "      <th>3</th>\n",
              "      <th>4</th>\n",
              "      <th>5</th>\n",
              "      <th>6</th>\n",
              "      <th>7</th>\n",
              "      <th>8</th>\n",
              "      <th>9</th>\n",
              "      <th>10</th>\n",
              "      <th>11</th>\n",
              "      <th>12</th>\n",
              "      <th>13</th>\n",
              "      <th>14</th>\n",
              "      <th>15</th>\n",
              "      <th>16</th>\n",
              "      <th>17</th>\n",
              "      <th>18</th>\n",
              "      <th>19</th>\n",
              "      <th>20</th>\n",
              "      <th>21</th>\n",
              "      <th>22</th>\n",
              "      <th>23</th>\n",
              "      <th>24</th>\n",
              "      <th>25</th>\n",
              "      <th>26</th>\n",
              "      <th>27</th>\n",
              "      <th>28</th>\n",
              "      <th>29</th>\n",
              "      <th>30</th>\n",
              "      <th>31</th>\n",
              "      <th>32</th>\n",
              "      <th>33</th>\n",
              "      <th>34</th>\n",
              "      <th>35</th>\n",
              "      <th>36</th>\n",
              "      <th>37</th>\n",
              "      <th>38</th>\n",
              "      <th>39</th>\n",
              "      <th>...</th>\n",
              "      <th>728</th>\n",
              "      <th>729</th>\n",
              "      <th>730</th>\n",
              "      <th>731</th>\n",
              "      <th>732</th>\n",
              "      <th>733</th>\n",
              "      <th>734</th>\n",
              "      <th>735</th>\n",
              "      <th>736</th>\n",
              "      <th>737</th>\n",
              "      <th>738</th>\n",
              "      <th>739</th>\n",
              "      <th>740</th>\n",
              "      <th>741</th>\n",
              "      <th>742</th>\n",
              "      <th>743</th>\n",
              "      <th>744</th>\n",
              "      <th>745</th>\n",
              "      <th>746</th>\n",
              "      <th>747</th>\n",
              "      <th>748</th>\n",
              "      <th>749</th>\n",
              "      <th>750</th>\n",
              "      <th>751</th>\n",
              "      <th>752</th>\n",
              "      <th>753</th>\n",
              "      <th>754</th>\n",
              "      <th>755</th>\n",
              "      <th>756</th>\n",
              "      <th>757</th>\n",
              "      <th>758</th>\n",
              "      <th>759</th>\n",
              "      <th>760</th>\n",
              "      <th>761</th>\n",
              "      <th>762</th>\n",
              "      <th>763</th>\n",
              "      <th>764</th>\n",
              "      <th>765</th>\n",
              "      <th>766</th>\n",
              "      <th>767</th>\n",
              "    </tr>\n",
              "  </thead>\n",
              "  <tbody>\n",
              "    <tr>\n",
              "      <th>0</th>\n",
              "      <td>-0.113719</td>\n",
              "      <td>0.192324</td>\n",
              "      <td>0.536427</td>\n",
              "      <td>-0.207298</td>\n",
              "      <td>0.575390</td>\n",
              "      <td>-0.035274</td>\n",
              "      <td>-0.324347</td>\n",
              "      <td>-0.086320</td>\n",
              "      <td>-0.284394</td>\n",
              "      <td>0.079800</td>\n",
              "      <td>-0.088466</td>\n",
              "      <td>0.097139</td>\n",
              "      <td>-0.005881</td>\n",
              "      <td>0.270982</td>\n",
              "      <td>0.070915</td>\n",
              "      <td>0.796865</td>\n",
              "      <td>-0.001034</td>\n",
              "      <td>-0.004090</td>\n",
              "      <td>0.249693</td>\n",
              "      <td>-0.069700</td>\n",
              "      <td>0.577396</td>\n",
              "      <td>-0.219281</td>\n",
              "      <td>0.190566</td>\n",
              "      <td>-0.102612</td>\n",
              "      <td>0.303688</td>\n",
              "      <td>-0.106404</td>\n",
              "      <td>0.571306</td>\n",
              "      <td>0.109738</td>\n",
              "      <td>-0.500083</td>\n",
              "      <td>-0.187067</td>\n",
              "      <td>0.264292</td>\n",
              "      <td>-0.318742</td>\n",
              "      <td>0.152867</td>\n",
              "      <td>0.174361</td>\n",
              "      <td>0.403546</td>\n",
              "      <td>-0.285975</td>\n",
              "      <td>0.182588</td>\n",
              "      <td>0.072058</td>\n",
              "      <td>0.285908</td>\n",
              "      <td>-0.270662</td>\n",
              "      <td>...</td>\n",
              "      <td>0.294350</td>\n",
              "      <td>0.142890</td>\n",
              "      <td>-0.199184</td>\n",
              "      <td>-0.267735</td>\n",
              "      <td>-0.621616</td>\n",
              "      <td>0.386544</td>\n",
              "      <td>-0.111747</td>\n",
              "      <td>0.166935</td>\n",
              "      <td>-0.225391</td>\n",
              "      <td>0.712651</td>\n",
              "      <td>0.064624</td>\n",
              "      <td>0.180756</td>\n",
              "      <td>0.167667</td>\n",
              "      <td>0.044248</td>\n",
              "      <td>-0.442752</td>\n",
              "      <td>-0.032428</td>\n",
              "      <td>0.353216</td>\n",
              "      <td>0.365368</td>\n",
              "      <td>0.476545</td>\n",
              "      <td>0.158623</td>\n",
              "      <td>-0.050457</td>\n",
              "      <td>-0.164269</td>\n",
              "      <td>0.041597</td>\n",
              "      <td>-0.310900</td>\n",
              "      <td>0.127404</td>\n",
              "      <td>0.020903</td>\n",
              "      <td>0.070733</td>\n",
              "      <td>-0.314556</td>\n",
              "      <td>-0.230953</td>\n",
              "      <td>0.211265</td>\n",
              "      <td>-0.004988</td>\n",
              "      <td>-0.026344</td>\n",
              "      <td>0.125577</td>\n",
              "      <td>0.114629</td>\n",
              "      <td>0.237037</td>\n",
              "      <td>-0.135411</td>\n",
              "      <td>-0.527600</td>\n",
              "      <td>-0.010909</td>\n",
              "      <td>-0.004346</td>\n",
              "      <td>0.475622</td>\n",
              "    </tr>\n",
              "    <tr>\n",
              "      <th>1</th>\n",
              "      <td>-0.124662</td>\n",
              "      <td>0.059717</td>\n",
              "      <td>0.666862</td>\n",
              "      <td>0.212069</td>\n",
              "      <td>0.618317</td>\n",
              "      <td>-0.421300</td>\n",
              "      <td>-0.420673</td>\n",
              "      <td>0.006674</td>\n",
              "      <td>0.037307</td>\n",
              "      <td>-0.055229</td>\n",
              "      <td>0.071714</td>\n",
              "      <td>-0.396257</td>\n",
              "      <td>-0.147306</td>\n",
              "      <td>-0.037291</td>\n",
              "      <td>-0.684624</td>\n",
              "      <td>0.297035</td>\n",
              "      <td>0.081451</td>\n",
              "      <td>-0.429097</td>\n",
              "      <td>0.056326</td>\n",
              "      <td>0.063199</td>\n",
              "      <td>0.402373</td>\n",
              "      <td>-0.343807</td>\n",
              "      <td>0.207388</td>\n",
              "      <td>-0.217872</td>\n",
              "      <td>-0.063878</td>\n",
              "      <td>-0.589144</td>\n",
              "      <td>0.197585</td>\n",
              "      <td>0.186514</td>\n",
              "      <td>-0.366124</td>\n",
              "      <td>0.189393</td>\n",
              "      <td>-0.105923</td>\n",
              "      <td>-0.367753</td>\n",
              "      <td>-0.203400</td>\n",
              "      <td>0.024095</td>\n",
              "      <td>0.366538</td>\n",
              "      <td>0.271568</td>\n",
              "      <td>-0.370566</td>\n",
              "      <td>0.047474</td>\n",
              "      <td>-0.206696</td>\n",
              "      <td>0.210549</td>\n",
              "      <td>...</td>\n",
              "      <td>-0.346365</td>\n",
              "      <td>-0.023720</td>\n",
              "      <td>-0.135997</td>\n",
              "      <td>-0.513189</td>\n",
              "      <td>-0.345966</td>\n",
              "      <td>0.204588</td>\n",
              "      <td>-0.159984</td>\n",
              "      <td>0.160363</td>\n",
              "      <td>0.523599</td>\n",
              "      <td>0.336134</td>\n",
              "      <td>0.253057</td>\n",
              "      <td>0.157147</td>\n",
              "      <td>0.104772</td>\n",
              "      <td>0.491122</td>\n",
              "      <td>-0.072260</td>\n",
              "      <td>-0.017838</td>\n",
              "      <td>0.004794</td>\n",
              "      <td>0.327688</td>\n",
              "      <td>0.043555</td>\n",
              "      <td>-0.283156</td>\n",
              "      <td>0.066908</td>\n",
              "      <td>0.282352</td>\n",
              "      <td>-0.067571</td>\n",
              "      <td>-0.055059</td>\n",
              "      <td>-0.217742</td>\n",
              "      <td>0.347043</td>\n",
              "      <td>-0.161231</td>\n",
              "      <td>-0.263049</td>\n",
              "      <td>-0.236862</td>\n",
              "      <td>-0.401663</td>\n",
              "      <td>0.367488</td>\n",
              "      <td>0.250648</td>\n",
              "      <td>-0.084616</td>\n",
              "      <td>-0.335913</td>\n",
              "      <td>-0.130654</td>\n",
              "      <td>-0.232378</td>\n",
              "      <td>-0.268646</td>\n",
              "      <td>-0.261925</td>\n",
              "      <td>-0.000448</td>\n",
              "      <td>0.372523</td>\n",
              "    </tr>\n",
              "    <tr>\n",
              "      <th>2</th>\n",
              "      <td>-0.249782</td>\n",
              "      <td>0.097349</td>\n",
              "      <td>0.656541</td>\n",
              "      <td>0.027424</td>\n",
              "      <td>0.273165</td>\n",
              "      <td>-0.065243</td>\n",
              "      <td>-0.250602</td>\n",
              "      <td>-0.139918</td>\n",
              "      <td>-0.229255</td>\n",
              "      <td>-0.317707</td>\n",
              "      <td>0.145178</td>\n",
              "      <td>-0.640699</td>\n",
              "      <td>-0.299165</td>\n",
              "      <td>0.210606</td>\n",
              "      <td>-0.686442</td>\n",
              "      <td>0.345926</td>\n",
              "      <td>-0.116362</td>\n",
              "      <td>-0.058989</td>\n",
              "      <td>-0.281222</td>\n",
              "      <td>-0.072354</td>\n",
              "      <td>0.634972</td>\n",
              "      <td>-0.031788</td>\n",
              "      <td>0.473036</td>\n",
              "      <td>0.105982</td>\n",
              "      <td>0.109792</td>\n",
              "      <td>-0.417569</td>\n",
              "      <td>-0.082723</td>\n",
              "      <td>0.090782</td>\n",
              "      <td>-0.072148</td>\n",
              "      <td>0.590613</td>\n",
              "      <td>-0.077248</td>\n",
              "      <td>-0.118163</td>\n",
              "      <td>-0.108999</td>\n",
              "      <td>-0.259416</td>\n",
              "      <td>0.246630</td>\n",
              "      <td>-0.067511</td>\n",
              "      <td>-0.000604</td>\n",
              "      <td>0.031579</td>\n",
              "      <td>0.391438</td>\n",
              "      <td>-0.299960</td>\n",
              "      <td>...</td>\n",
              "      <td>-0.182235</td>\n",
              "      <td>-0.338301</td>\n",
              "      <td>0.048336</td>\n",
              "      <td>-0.350727</td>\n",
              "      <td>-0.241721</td>\n",
              "      <td>-0.047560</td>\n",
              "      <td>-0.044814</td>\n",
              "      <td>0.050092</td>\n",
              "      <td>0.032184</td>\n",
              "      <td>0.406780</td>\n",
              "      <td>0.020218</td>\n",
              "      <td>0.236586</td>\n",
              "      <td>-0.013690</td>\n",
              "      <td>0.097371</td>\n",
              "      <td>-0.342451</td>\n",
              "      <td>0.042557</td>\n",
              "      <td>-0.152741</td>\n",
              "      <td>0.169795</td>\n",
              "      <td>0.350320</td>\n",
              "      <td>0.371545</td>\n",
              "      <td>0.066665</td>\n",
              "      <td>-0.033368</td>\n",
              "      <td>0.367496</td>\n",
              "      <td>0.248222</td>\n",
              "      <td>0.065992</td>\n",
              "      <td>0.354463</td>\n",
              "      <td>-0.023419</td>\n",
              "      <td>-0.178028</td>\n",
              "      <td>-0.025007</td>\n",
              "      <td>-0.368649</td>\n",
              "      <td>0.216661</td>\n",
              "      <td>0.020263</td>\n",
              "      <td>-0.274102</td>\n",
              "      <td>-0.052305</td>\n",
              "      <td>-0.085414</td>\n",
              "      <td>-0.312180</td>\n",
              "      <td>-0.176003</td>\n",
              "      <td>-0.131293</td>\n",
              "      <td>-0.013182</td>\n",
              "      <td>0.313138</td>\n",
              "    </tr>\n",
              "    <tr>\n",
              "      <th>3</th>\n",
              "      <td>-1.113351</td>\n",
              "      <td>0.901148</td>\n",
              "      <td>0.471123</td>\n",
              "      <td>0.361286</td>\n",
              "      <td>-0.720837</td>\n",
              "      <td>-0.711634</td>\n",
              "      <td>0.542470</td>\n",
              "      <td>-0.457297</td>\n",
              "      <td>-0.284577</td>\n",
              "      <td>-0.549853</td>\n",
              "      <td>0.012097</td>\n",
              "      <td>-0.053700</td>\n",
              "      <td>-0.086409</td>\n",
              "      <td>0.319729</td>\n",
              "      <td>-0.201718</td>\n",
              "      <td>1.015643</td>\n",
              "      <td>-0.306736</td>\n",
              "      <td>-0.826127</td>\n",
              "      <td>0.113193</td>\n",
              "      <td>-0.178291</td>\n",
              "      <td>0.472872</td>\n",
              "      <td>0.156756</td>\n",
              "      <td>0.317605</td>\n",
              "      <td>0.387120</td>\n",
              "      <td>0.082210</td>\n",
              "      <td>-0.456795</td>\n",
              "      <td>0.368319</td>\n",
              "      <td>0.114371</td>\n",
              "      <td>0.191109</td>\n",
              "      <td>0.447640</td>\n",
              "      <td>-0.006002</td>\n",
              "      <td>-0.144971</td>\n",
              "      <td>-0.348324</td>\n",
              "      <td>-0.248490</td>\n",
              "      <td>-0.337210</td>\n",
              "      <td>0.134514</td>\n",
              "      <td>0.302034</td>\n",
              "      <td>0.093350</td>\n",
              "      <td>0.169401</td>\n",
              "      <td>0.520851</td>\n",
              "      <td>...</td>\n",
              "      <td>-0.072950</td>\n",
              "      <td>-0.336556</td>\n",
              "      <td>-0.406530</td>\n",
              "      <td>-0.311724</td>\n",
              "      <td>-0.543461</td>\n",
              "      <td>0.071028</td>\n",
              "      <td>-0.005763</td>\n",
              "      <td>-0.136172</td>\n",
              "      <td>0.184618</td>\n",
              "      <td>0.325066</td>\n",
              "      <td>-0.215429</td>\n",
              "      <td>0.041879</td>\n",
              "      <td>0.302224</td>\n",
              "      <td>0.598416</td>\n",
              "      <td>0.113452</td>\n",
              "      <td>0.170571</td>\n",
              "      <td>-0.217309</td>\n",
              "      <td>-0.111188</td>\n",
              "      <td>-0.182499</td>\n",
              "      <td>0.176481</td>\n",
              "      <td>0.425803</td>\n",
              "      <td>-0.064166</td>\n",
              "      <td>-0.164628</td>\n",
              "      <td>0.306074</td>\n",
              "      <td>0.157107</td>\n",
              "      <td>0.015060</td>\n",
              "      <td>0.065791</td>\n",
              "      <td>-0.228644</td>\n",
              "      <td>-0.583341</td>\n",
              "      <td>-0.543167</td>\n",
              "      <td>-0.299684</td>\n",
              "      <td>-0.327325</td>\n",
              "      <td>-0.116125</td>\n",
              "      <td>-0.949696</td>\n",
              "      <td>0.226536</td>\n",
              "      <td>-0.360105</td>\n",
              "      <td>-0.986489</td>\n",
              "      <td>0.429227</td>\n",
              "      <td>-0.161129</td>\n",
              "      <td>0.014808</td>\n",
              "    </tr>\n",
              "    <tr>\n",
              "      <th>4</th>\n",
              "      <td>-0.800438</td>\n",
              "      <td>0.468447</td>\n",
              "      <td>0.744770</td>\n",
              "      <td>-0.176410</td>\n",
              "      <td>0.917896</td>\n",
              "      <td>-0.279721</td>\n",
              "      <td>0.178118</td>\n",
              "      <td>-0.260113</td>\n",
              "      <td>-0.054811</td>\n",
              "      <td>-0.273537</td>\n",
              "      <td>-0.273327</td>\n",
              "      <td>-0.552937</td>\n",
              "      <td>-0.171521</td>\n",
              "      <td>0.499733</td>\n",
              "      <td>-0.557609</td>\n",
              "      <td>0.796116</td>\n",
              "      <td>0.402321</td>\n",
              "      <td>-0.684991</td>\n",
              "      <td>0.394152</td>\n",
              "      <td>-0.277471</td>\n",
              "      <td>1.013913</td>\n",
              "      <td>0.008475</td>\n",
              "      <td>-0.127604</td>\n",
              "      <td>0.236688</td>\n",
              "      <td>0.476454</td>\n",
              "      <td>-0.082348</td>\n",
              "      <td>0.388493</td>\n",
              "      <td>0.630729</td>\n",
              "      <td>0.087207</td>\n",
              "      <td>0.184304</td>\n",
              "      <td>-0.416255</td>\n",
              "      <td>-0.317958</td>\n",
              "      <td>0.083000</td>\n",
              "      <td>-0.397185</td>\n",
              "      <td>-0.085165</td>\n",
              "      <td>0.317738</td>\n",
              "      <td>-0.119719</td>\n",
              "      <td>0.314276</td>\n",
              "      <td>-0.968075</td>\n",
              "      <td>-0.097553</td>\n",
              "      <td>...</td>\n",
              "      <td>-0.190555</td>\n",
              "      <td>0.209362</td>\n",
              "      <td>0.064988</td>\n",
              "      <td>-0.149102</td>\n",
              "      <td>-0.058265</td>\n",
              "      <td>-0.087427</td>\n",
              "      <td>-0.078455</td>\n",
              "      <td>0.200327</td>\n",
              "      <td>-0.142999</td>\n",
              "      <td>0.508279</td>\n",
              "      <td>-0.473470</td>\n",
              "      <td>-0.084761</td>\n",
              "      <td>-0.042134</td>\n",
              "      <td>0.189601</td>\n",
              "      <td>0.309463</td>\n",
              "      <td>-0.261614</td>\n",
              "      <td>0.319829</td>\n",
              "      <td>-0.369728</td>\n",
              "      <td>0.031100</td>\n",
              "      <td>-0.130776</td>\n",
              "      <td>0.756904</td>\n",
              "      <td>0.469408</td>\n",
              "      <td>-0.434858</td>\n",
              "      <td>-0.262619</td>\n",
              "      <td>-0.192783</td>\n",
              "      <td>-0.047238</td>\n",
              "      <td>-0.327444</td>\n",
              "      <td>-0.679993</td>\n",
              "      <td>-0.546050</td>\n",
              "      <td>0.114068</td>\n",
              "      <td>0.084517</td>\n",
              "      <td>-0.295017</td>\n",
              "      <td>-0.370726</td>\n",
              "      <td>-0.631545</td>\n",
              "      <td>-0.259538</td>\n",
              "      <td>-0.774857</td>\n",
              "      <td>0.224840</td>\n",
              "      <td>-0.329056</td>\n",
              "      <td>0.043903</td>\n",
              "      <td>0.195281</td>\n",
              "    </tr>\n",
              "  </tbody>\n",
              "</table>\n",
              "<p>5 rows × 768 columns</p>\n",
              "</div>"
            ],
            "text/plain": [
              "        0         1         2    ...       765       766       767\n",
              "0 -0.113719  0.192324  0.536427  ... -0.010909 -0.004346  0.475622\n",
              "1 -0.124662  0.059717  0.666862  ... -0.261925 -0.000448  0.372523\n",
              "2 -0.249782  0.097349  0.656541  ... -0.131293 -0.013182  0.313138\n",
              "3 -1.113351  0.901148  0.471123  ...  0.429227 -0.161129  0.014808\n",
              "4 -0.800438  0.468447  0.744770  ... -0.329056  0.043903  0.195281\n",
              "\n",
              "[5 rows x 768 columns]"
            ]
          },
          "metadata": {
            "tags": []
          },
          "execution_count": 361
        }
      ]
    },
    {
      "cell_type": "code",
      "metadata": {
        "id": "PbZurq7FodNU",
        "colab": {
          "base_uri": "https://localhost:8080/"
        },
        "outputId": "9b0fe99c-62cc-42ef-e705-76b3926a0f4f"
      },
      "source": [
        "Y_train = tr[\"standardized_popularity\"]\n",
        "Y_train.head()"
      ],
      "execution_count": 362,
      "outputs": [
        {
          "output_type": "execute_result",
          "data": {
            "text/plain": [
              "3865    0.082826\n",
              "1073    0.492588\n",
              "2958    0.953922\n",
              "3711    0.640744\n",
              "1206    0.351421\n",
              "Name: standardized_popularity, dtype: float64"
            ]
          },
          "metadata": {
            "tags": []
          },
          "execution_count": 362
        }
      ]
    },
    {
      "cell_type": "code",
      "metadata": {
        "id": "pW4Y9t3xpg4R",
        "colab": {
          "base_uri": "https://localhost:8080/"
        },
        "outputId": "b4e8e033-feb4-4333-a2a2-73fd5685fc5f"
      },
      "source": [
        "image_view_sp_defined.loc[3865]"
      ],
      "execution_count": 363,
      "outputs": [
        {
          "output_type": "execute_result",
          "data": {
            "text/plain": [
              "identifier                              0000ec48-55b1-4121-a10f-5d458b81ef64\n",
              "provider                                                              flickr\n",
              "title                      stock fotografi Budha, Sakyamuni Buddha gambar...\n",
              "meta_data                  {\"views\": \"4\", \"pub_date\": \"1553245463\", \"date...\n",
              "tags                       [{\"name\": \"anulokaorgangambarbuddha\", \"provide...\n",
              "standardized_popularity                                            0.0828258\n",
              "name                       [anulokaorgangambarbuddha, gambartinabuddhaami...\n",
              "accuracy                                                                None\n",
              "proper str                 anulokaorgangambarbuddha gambartinabuddhaamita...\n",
              "Name: 3865, dtype: object"
            ]
          },
          "metadata": {
            "tags": []
          },
          "execution_count": 363
        }
      ]
    },
    {
      "cell_type": "code",
      "metadata": {
        "id": "HtZIACuEqCur",
        "colab": {
          "base_uri": "https://localhost:8080/"
        },
        "outputId": "979f8e30-0002-4202-d484-507efc59cc11"
      },
      "source": [
        "list_of_encoded_layers = []\n",
        "\n",
        "import time\n",
        "start = time.perf_counter()\n",
        "\n",
        "for sentence in te[\"proper str\"]:\n",
        "  list_of_encoded_layers.append(get_encoded_layers(sentence))\n",
        "  #print(\"\\n\")\n",
        "\n",
        "list_of_sentence_embedding = []\n",
        "for encoded_layers in list_of_encoded_layers:\n",
        "  # `token_vecs` is a tensor with shape [Number of tokens x Number of hidden units]\n",
        "  token_vecs = encoded_layers[11][0]\n",
        "\n",
        "  # Calculate the average of all token vectors.\n",
        "  sentence_embedding = torch.mean(token_vecs, dim=0).numpy()\n",
        "\n",
        "  list_of_sentence_embedding.append(sentence_embedding)\n",
        "\n",
        "X_test = pd.DataFrame(data=list_of_sentence_embedding)\n",
        "Y_test = te[\"standardized_popularity\"]\n",
        "\n",
        "end = time.perf_counter()\n",
        "print(\"This cell takes \" + str(end-start) + \" seconds to run\")"
      ],
      "execution_count": 364,
      "outputs": [
        {
          "output_type": "stream",
          "text": [
            "This cell takes 0.9580831210005272 seconds to run\n"
          ],
          "name": "stdout"
        }
      ]
    },
    {
      "cell_type": "code",
      "metadata": {
        "id": "uMQc8Nteqi2P",
        "colab": {
          "base_uri": "https://localhost:8080/"
        },
        "outputId": "c3bdca12-0382-44d0-bdf1-941d795d4e19"
      },
      "source": [
        "Y_test.head()"
      ],
      "execution_count": 365,
      "outputs": [
        {
          "output_type": "execute_result",
          "data": {
            "text/plain": [
              "3478    0.896580\n",
              "2603    0.774348\n",
              "2541    0.814120\n",
              "2269    0.844196\n",
              "3560    0.660045\n",
              "Name: standardized_popularity, dtype: float64"
            ]
          },
          "metadata": {
            "tags": []
          },
          "execution_count": 365
        }
      ]
    },
    {
      "cell_type": "code",
      "metadata": {
        "id": "TErfrDyxqobl",
        "colab": {
          "base_uri": "https://localhost:8080/",
          "height": 0
        },
        "outputId": "1d6b630a-5a89-42b3-82d6-bb0f2fcb82dd"
      },
      "source": [
        "te.head()"
      ],
      "execution_count": 366,
      "outputs": [
        {
          "output_type": "execute_result",
          "data": {
            "text/html": [
              "<div>\n",
              "<style scoped>\n",
              "    .dataframe tbody tr th:only-of-type {\n",
              "        vertical-align: middle;\n",
              "    }\n",
              "\n",
              "    .dataframe tbody tr th {\n",
              "        vertical-align: top;\n",
              "    }\n",
              "\n",
              "    .dataframe thead th {\n",
              "        text-align: right;\n",
              "    }\n",
              "</style>\n",
              "<table border=\"1\" class=\"dataframe\">\n",
              "  <thead>\n",
              "    <tr style=\"text-align: right;\">\n",
              "      <th></th>\n",
              "      <th>identifier</th>\n",
              "      <th>provider</th>\n",
              "      <th>title</th>\n",
              "      <th>meta_data</th>\n",
              "      <th>tags</th>\n",
              "      <th>standardized_popularity</th>\n",
              "      <th>name</th>\n",
              "      <th>accuracy</th>\n",
              "      <th>proper str</th>\n",
              "    </tr>\n",
              "  </thead>\n",
              "  <tbody>\n",
              "    <tr>\n",
              "      <th>3478</th>\n",
              "      <td>00008a18-fce6-4e68-a030-44f37e25f2e5</td>\n",
              "      <td>flickr</td>\n",
              "      <td>UCSD Bear Sculpture by Tim Hawkinson</td>\n",
              "      <td>{\"views\": \"384\", \"pub_date\": \"1387140007\", \"da...</td>\n",
              "      <td>[{\"name\": \"sandiego\", \"provider\": \"flickr\"}, {...</td>\n",
              "      <td>0.896580</td>\n",
              "      <td>[sandiego, tedx, tedxsandiego, tedxsandiego2013]</td>\n",
              "      <td>None</td>\n",
              "      <td>sandiego tedx tedxsandiego tedxsandiego2013</td>\n",
              "    </tr>\n",
              "    <tr>\n",
              "      <th>2603</th>\n",
              "      <td>0000c616-d9dd-49c8-bd98-9c1859ef7eec</td>\n",
              "      <td>flickr</td>\n",
              "      <td>photo 0208 was taken at 19:48:19</td>\n",
              "      <td>{\"views\": \"152\", \"pub_date\": \"1400022667\", \"da...</td>\n",
              "      <td>[{\"name\": \"2014\", \"provider\": \"flickr\"}, {\"nam...</td>\n",
              "      <td>0.774348</td>\n",
              "      <td>[2014, 39k, barrycornelius, cottisford, cottis...</td>\n",
              "      <td>None</td>\n",
              "      <td>2014 39k barrycornelius cottisford cottisford5...</td>\n",
              "    </tr>\n",
              "    <tr>\n",
              "      <th>2541</th>\n",
              "      <td>00001aa3-ddc0-40be-9b1c-3a4ac537d161</td>\n",
              "      <td>flickr</td>\n",
              "      <td>DSC_9553</td>\n",
              "      <td>{\"views\": \"194\", \"pub_date\": \"1383479955\", \"da...</td>\n",
              "      <td>[{\"name\": \"20131102\", \"provider\": \"flickr\"}, {...</td>\n",
              "      <td>0.814120</td>\n",
              "      <td>[20131102, parkrun, strathclydepark]</td>\n",
              "      <td>None</td>\n",
              "      <td>20131102 parkrun strathclydepark</td>\n",
              "    </tr>\n",
              "    <tr>\n",
              "      <th>2269</th>\n",
              "      <td>00001aad-b74a-4e32-8183-079432ee120c</td>\n",
              "      <td>flickr</td>\n",
              "      <td>Rocky Road</td>\n",
              "      <td>{\"views\": \"240\", \"pub_date\": \"1342876122\", \"da...</td>\n",
              "      <td>[{\"name\": \"coolrides\", \"provider\": \"flickr\"}, ...</td>\n",
              "      <td>0.844196</td>\n",
              "      <td>[coolrides, dirtbikes, iphoneography, mtshasta...</td>\n",
              "      <td>None</td>\n",
              "      <td>coolrides dirtbikes iphoneography mtshasta sma...</td>\n",
              "    </tr>\n",
              "    <tr>\n",
              "      <th>3560</th>\n",
              "      <td>0000f541-0484-4da3-952b-085741a1d939</td>\n",
              "      <td>flickr</td>\n",
              "      <td>Max's Liquors BW</td>\n",
              "      <td>{\"views\": \"86\", \"pub_date\": \"1255500160\", \"dat...</td>\n",
              "      <td>[{\"name\": \"albany\", \"provider\": \"flickr\"}, {\"n...</td>\n",
              "      <td>0.660045</td>\n",
              "      <td>[albany, blackandwhite, california, liquors, m...</td>\n",
              "      <td>None</td>\n",
              "      <td>albany blackandwhite california liquors maxs n...</td>\n",
              "    </tr>\n",
              "  </tbody>\n",
              "</table>\n",
              "</div>"
            ],
            "text/plain": [
              "                                identifier  ...                                         proper str\n",
              "3478  00008a18-fce6-4e68-a030-44f37e25f2e5  ...        sandiego tedx tedxsandiego tedxsandiego2013\n",
              "2603  0000c616-d9dd-49c8-bd98-9c1859ef7eec  ...  2014 39k barrycornelius cottisford cottisford5...\n",
              "2541  00001aa3-ddc0-40be-9b1c-3a4ac537d161  ...                   20131102 parkrun strathclydepark\n",
              "2269  00001aad-b74a-4e32-8183-079432ee120c  ...  coolrides dirtbikes iphoneography mtshasta sma...\n",
              "3560  0000f541-0484-4da3-952b-085741a1d939  ...  albany blackandwhite california liquors maxs n...\n",
              "\n",
              "[5 rows x 9 columns]"
            ]
          },
          "metadata": {
            "tags": []
          },
          "execution_count": 366
        }
      ]
    },
    {
      "cell_type": "code",
      "metadata": {
        "id": "a_bVO5nOq7Te",
        "colab": {
          "base_uri": "https://localhost:8080/"
        },
        "outputId": "16b653d2-7efb-4a86-c650-5c782704f14a"
      },
      "source": [
        "print(\"X train len \", X_train.shape[0], \" Y train len \", Y_train.shape[0], \" X test len \", X_test.shape[0], \" Y test len \", Y_test.shape[0])"
      ],
      "execution_count": 367,
      "outputs": [
        {
          "output_type": "stream",
          "text": [
            "X train len  40  Y train len  40  X test len  10  Y test len  10\n"
          ],
          "name": "stdout"
        }
      ]
    },
    {
      "cell_type": "code",
      "metadata": {
        "id": "BPVDD-Q3prV8",
        "colab": {
          "base_uri": "https://localhost:8080/"
        },
        "outputId": "2fba271e-0819-481e-a15e-e10b4489d96b"
      },
      "source": [
        "from sklearn.linear_model import RidgeCV\n",
        "clf = RidgeCV(normalize=True)\n",
        "clf.fit(X_train, Y_train)\n",
        "print(clf.score(X_test, Y_test))\n",
        "print(\"When I was doing 400 tr 100 te, I got score as \", round(-2.110491773617629e+20))"
      ],
      "execution_count": 368,
      "outputs": [
        {
          "output_type": "stream",
          "text": [
            "-1.308308698173399\n",
            "When I was doing 400 tr 100 te, I got score as  -211049177361762910208\n"
          ],
          "name": "stdout"
        }
      ]
    },
    {
      "cell_type": "code",
      "metadata": {
        "id": "20PwS3c2vspJ"
      },
      "source": [
        ""
      ],
      "execution_count": 368,
      "outputs": []
    }
  ]
}